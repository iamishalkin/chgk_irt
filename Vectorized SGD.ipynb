{
 "cells": [
  {
   "cell_type": "code",
   "execution_count": 1,
   "metadata": {},
   "outputs": [
    {
     "data": {
      "application/vnd.jupyter.widget-view+json": {
       "model_id": "fb10624ff0a54216991bab9e73cef8a1",
       "version_major": 2,
       "version_minor": 0
      },
      "text/plain": [
       "HBox(children=(IntProgress(value=1, bar_style='info', max=1), HTML(value='')))"
      ]
     },
     "metadata": {},
     "output_type": "display_data"
    },
    {
     "name": "stdout",
     "output_type": "stream",
     "text": [
      "\n"
     ]
    }
   ],
   "source": [
    "import pandas as pd\n",
    "import random\n",
    "import numpy as np\n",
    "from tqdm import tqdm_notebook, tqdm\n",
    "tqdm_notebook().pandas()\n",
    "import pickle\n",
    "# from pandarallel import pandarallel # for linux and mac\n",
    "# pandarallel.initialize()"
   ]
  },
  {
   "cell_type": "code",
   "execution_count": 2,
   "metadata": {},
   "outputs": [],
   "source": [
    "results = pd.read_csv('results.csv')\n",
    "results.loc[:, 'mask'] = results.loc[:, 'mask'].str.replace('X', '')\n",
    "roster = pd.read_csv('roster.csv')#.set_index('idplayer')\n",
    "tournaments = pd.read_csv('tournaments.csv').set_index('idtournament')\n",
    "tournaments = tournaments.loc[~tournaments.questions_total.isnull(), :]\n",
    "common_tours = list(set(tournaments.index).intersection(set(results.idtournament)))\n",
    "results = results.loc[results.idtournament.isin(common_tours), :]\n",
    "tournaments = tournaments.loc[common_tours, :]\n",
    "\n",
    "q_total = pd.DataFrame(results.groupby('idtournament').first()\\\n",
    "                       .loc[:, 'mask'].str.len()).dropna().rename(columns={'mask': 'questions_total'})\n",
    "tournaments = pd.merge(tournaments.drop(columns=['questions_total']), q_total, left_index=True, right_index=True)"
   ]
  },
  {
   "cell_type": "code",
   "execution_count": 3,
   "metadata": {},
   "outputs": [],
   "source": [
    "ineligible_tournaments = [1521, 1526, 1531, 1534, 1780, 1817, 1849, 1854, 1858, 1885, 1893, 1902, 1925, 1926, 1928,\n",
    "                          1931, 1960, 2025, 2040, 2077, 2087, 2128, 2147, 2151, 2166, 2183, 2291, 2345, 2346, 2472,\n",
    "                          2479, 2512, 2521, 2578, 2611, 2707, 2732, 2763, 2783, 2833, 3130, 3162, 3231, 3510, 3589,\n",
    "                          3590, 3617, 4011, 4169, 4375, 4469, 4481, 4497, 4713, 4714, 4816, 4860, 4881, 4913, 4946,\n",
    "                          4969, 4983, 4984, 4989, 4990, 4992, 5032, 5054, 5097, 5102, 5106, 5121, 5126, 5160, 5178,\n",
    "                          5210, 5215, 5221, 5239, 5241, 5247, 5299, 5310,\n",
    "                          # nan tours\n",
    "                          1954, 1989, 1970, 1810, 1917, 2373, 2219, 1969,  314, 1824, 2102, 2241, 2249, 2014, 2220,\n",
    "                          2363, 2703, 2234, 2417, 2171, 2126, 1900, 2013, 2394, 1792, 1689, 1590, 1987, 1895, 1991,\n",
    "                          2119, 1951, 1899,1898, 2224, 1976, 2100\n",
    "                         ]\n",
    "results = results.loc[~results.idtournament.isin(ineligible_tournaments), :]\n",
    "results.loc[:, 'mask'] = results.loc[:, 'mask'].apply(lambda x: list(str(x)))\n",
    "roster = roster.loc[~roster.idtournament.isin(ineligible_tournaments), :]"
   ]
  },
  {
   "cell_type": "raw",
   "metadata": {},
   "source": [
    "results.loc[:, 'players'] = results.progress_apply(lambda row: np.sort(np.array(roster.loc[(roster.idteam == row['idteam']) & \n",
    "                                           (roster.idtournament == row['idtournament']), 'idplayer'].tolist())), axis=1)\n",
    "results = results.loc[results.players.str.len() != 0, :]"
   ]
  },
  {
   "cell_type": "code",
   "execution_count": 4,
   "metadata": {},
   "outputs": [],
   "source": [
    "READ=True\n",
    "if READ:\n",
    "    with open('results.pickle', 'rb') as f:\n",
    "        results = pickle.load(f)\n",
    "else:\n",
    "    with open('results.pickle', 'wb') as f:\n",
    "        pickle.dump(results, f)"
   ]
  },
  {
   "cell_type": "code",
   "execution_count": 5,
   "metadata": {},
   "outputs": [],
   "source": [
    "def explode(df, lst_cols, fill_value='', preserve_index=False):\n",
    "    # make sure `lst_cols` is list-alike\n",
    "    if (lst_cols is not None\n",
    "        and len(lst_cols) > 0\n",
    "        and not isinstance(lst_cols, (list, tuple, np.ndarray, pd.Series))):\n",
    "        lst_cols = [lst_cols]\n",
    "    # all columns except `lst_cols`\n",
    "    idx_cols = df.columns.difference(lst_cols)\n",
    "    # calculate lengths of lists\n",
    "    lens = df[lst_cols[0]].str.len()\n",
    "    # preserve original index values    \n",
    "    idx = np.repeat(df.index.values, lens)\n",
    "    orders = [num for range_len in lens for num in range(range_len)]\n",
    "    # create \"exploded\" DF\n",
    "    res = (pd.DataFrame({\n",
    "                col:np.repeat(df[col].values, lens)\n",
    "                for col in idx_cols},\n",
    "                index=idx)\n",
    "             .assign(**{col:np.concatenate(df.loc[lens>0, col].values)\n",
    "                            for col in lst_cols}))\n",
    "    # append those rows that have empty lists\n",
    "    if (lens == 0).any():\n",
    "        # at least one list in cells is empty\n",
    "        res = (res.append(df.loc[lens==0, idx_cols], sort=False)\n",
    "                  .fillna(fill_value))\n",
    "    # revert the original index order\n",
    "    res = res.sort_index()\n",
    "    # reset index if requested\n",
    "    if not preserve_index:        \n",
    "        res = res.reset_index(drop=True)\n",
    "    \n",
    "    res.loc[:, 'q_numb'] = orders\n",
    "    return res"
   ]
  },
  {
   "cell_type": "code",
   "execution_count": 6,
   "metadata": {},
   "outputs": [
    {
     "data": {
      "text/html": [
       "<div>\n",
       "<style scoped>\n",
       "    .dataframe tbody tr th:only-of-type {\n",
       "        vertical-align: middle;\n",
       "    }\n",
       "\n",
       "    .dataframe tbody tr th {\n",
       "        vertical-align: top;\n",
       "    }\n",
       "\n",
       "    .dataframe thead th {\n",
       "        text-align: right;\n",
       "    }\n",
       "</style>\n",
       "<table border=\"1\" class=\"dataframe\">\n",
       "  <thead>\n",
       "    <tr style=\"text-align: right;\">\n",
       "      <th></th>\n",
       "      <th>idteam</th>\n",
       "      <th>idtournament</th>\n",
       "      <th>players</th>\n",
       "      <th>q_taken</th>\n",
       "      <th>q_numb</th>\n",
       "    </tr>\n",
       "  </thead>\n",
       "  <tbody>\n",
       "    <tr>\n",
       "      <th>0</th>\n",
       "      <td>209</td>\n",
       "      <td>3236</td>\n",
       "      <td>[5974, 7474, 13601, 15624, 19298, 32017]</td>\n",
       "      <td>1</td>\n",
       "      <td>0</td>\n",
       "    </tr>\n",
       "  </tbody>\n",
       "</table>\n",
       "</div>"
      ],
      "text/plain": [
       "   idteam  idtournament                                   players q_taken  \\\n",
       "0     209          3236  [5974, 7474, 13601, 15624, 19298, 32017]       1   \n",
       "\n",
       "   q_numb  \n",
       "0       0  "
      ]
     },
     "execution_count": 6,
     "metadata": {},
     "output_type": "execute_result"
    }
   ],
   "source": [
    "exp = explode(results.loc[:, ['idteam', 'idtournament', 'mask', 'players']], ['mask'], fill_value='', preserve_index=False)\\\n",
    "            .rename(columns={'mask': 'q_taken'})\n",
    "exp.head(1)"
   ]
  },
  {
   "cell_type": "code",
   "execution_count": 7,
   "metadata": {},
   "outputs": [
    {
     "name": "stdout",
     "output_type": "stream",
     "text": [
      "1.24 s ± 0 ns per loop (mean ± std. dev. of 1 run, 1 loop each)\n"
     ]
    }
   ],
   "source": [
    "%%timeit -n1 -r1\n",
    "# exp.loc[:, 'q_id_old'] = exp.idtournament.map(str) + \"_\" + exp.idteam.map(str) + \"_\" + exp.q_numb.map(str)\n",
    "# exp.loc[:, 'q_id'] = (exp.idtournament.map(str) + \"0000\" + exp.idteam.map(str) + \"0000\" + exp.q_numb.map(str)).map(int)\n",
    "exp.loc[:, 'q_id'] = exp.idtournament * 1000000000 + exp.idteam * 1000 + exp.q_numb\n",
    "exp['q_taken'] = exp.q_taken.astype(int)\n",
    "# len(exp.q_id.unique()) == len(exp.q_id_old.unique()) check for losses"
   ]
  },
  {
   "cell_type": "code",
   "execution_count": 8,
   "metadata": {},
   "outputs": [
    {
     "data": {
      "text/html": [
       "<div>\n",
       "<style scoped>\n",
       "    .dataframe tbody tr th:only-of-type {\n",
       "        vertical-align: middle;\n",
       "    }\n",
       "\n",
       "    .dataframe tbody tr th {\n",
       "        vertical-align: top;\n",
       "    }\n",
       "\n",
       "    .dataframe thead th {\n",
       "        text-align: right;\n",
       "    }\n",
       "</style>\n",
       "<table border=\"1\" class=\"dataframe\">\n",
       "  <thead>\n",
       "    <tr style=\"text-align: right;\">\n",
       "      <th></th>\n",
       "      <th>idteam</th>\n",
       "      <th>idtournament</th>\n",
       "      <th>players</th>\n",
       "      <th>q_taken</th>\n",
       "      <th>q_numb</th>\n",
       "      <th>q_id</th>\n",
       "    </tr>\n",
       "  </thead>\n",
       "  <tbody>\n",
       "    <tr>\n",
       "      <th>0</th>\n",
       "      <td>209</td>\n",
       "      <td>3236</td>\n",
       "      <td>[5974, 7474, 13601, 15624, 19298, 32017]</td>\n",
       "      <td>1</td>\n",
       "      <td>0</td>\n",
       "      <td>3236000209000</td>\n",
       "    </tr>\n",
       "  </tbody>\n",
       "</table>\n",
       "</div>"
      ],
      "text/plain": [
       "   idteam  idtournament                                   players  q_taken  \\\n",
       "0     209          3236  [5974, 7474, 13601, 15624, 19298, 32017]        1   \n",
       "\n",
       "   q_numb           q_id  \n",
       "0       0  3236000209000  "
      ]
     },
     "execution_count": 8,
     "metadata": {},
     "output_type": "execute_result"
    }
   ],
   "source": [
    "exp.head(1)"
   ]
  },
  {
   "cell_type": "markdown",
   "metadata": {},
   "source": [
    "## Players skills and question difficulties as numpy arrays\n",
    "https://stackoverflow.com/questions/36652533/looking-up-large-sets-of-keys-dictionary-vs-numpy-array"
   ]
  },
  {
   "cell_type": "code",
   "execution_count": 9,
   "metadata": {},
   "outputs": [],
   "source": [
    "LOAD = True\n",
    "if LOAD:\n",
    "    with open('skills.pickle', 'rb') as f:\n",
    "        skills = pickle.load(f)\n",
    "    with open('difficulties.pickle', 'rb') as f:\n",
    "        difficulties = pickle.load(f)\n",
    "else:\n",
    "    skill_ids = roster.sort_values('idplayer').idplayer.unique()\n",
    "    skills = np.array(list(zip(skill_ids, np.random.uniform(0,1, len(skill_ids))))   )\n",
    "\n",
    "    dif_ids = np.sort(exp.q_id.unique())\n",
    "    difficulties = np.array(list(zip(dif_ids, np.random.uniform(0,1, len(dif_ids))))   )"
   ]
  },
  {
   "cell_type": "code",
   "execution_count": 10,
   "metadata": {},
   "outputs": [],
   "source": [
    "def team_performance(players):\n",
    "#     row_idx = np.searchsorted(skills[:,0], key_set)[key_set.argsort()]\n",
    "#     row_idx = np.searchsorted(skills[:,0], players)\n",
    "#     values = skills[row_idx, 1]\n",
    "    return np.mean(\n",
    "        skills[np.searchsorted(skills[:,0], players), 1] \n",
    "    )\n",
    "def get_difficulties_by_q_id(q_ids):\n",
    "    return difficulties[np.searchsorted(difficulties[:,0], q_ids), 1]#[q_ids.argsort()]\n",
    "def sigmoid(x):\n",
    "    return 1 / (1 + pd.np.exp(-x))"
   ]
  },
  {
   "cell_type": "markdown",
   "metadata": {},
   "source": [
    "## Learning"
   ]
  },
  {
   "cell_type": "markdown",
   "metadata": {},
   "source": [
    "**Model**<br>\n",
    "$p(y=1| S_{team}, \\theta) = \\sigma(S_{team} - \\theta)$ <br>\n",
    "$S_{team}$ - team skill<br>\n",
    "$S_{team} = S_{player\\_1} + S_{player\\_2} + ... + S_{player\\_N}$<br>\n",
    "$\\theta_j$ - difficulty of question j<br>\n",
    "y - team answer, 1 for correct, 2 for incorrect<br>\n",
    "$p(y_{hat}=y_{real}| S_{team}, \\theta) = \\sigma(S_{team} - \\theta)^{y_{real}} * (1-\\sigma(S_{team} - \\theta))^{(1-y_{real})}$<br>\n",
    "<br>\n",
    "$LikelyHood = \\frac{1}{N}\\prod_{i=1}^{N} p(y_{hat\\_i}=y_{real\\_i}| S_{team}, \\theta)$<br>\n",
    "$log(LikelyHood) = LL = \\frac{1}{N}\\sum_{i=1}^{N} log(p(y_{hat\\_i}=y_{real\\_i}| S_{team}, \\theta))=\n",
    "y_{real}*log(\\sigma(S_{team} - \\theta)) + (1-y_{real})* log(1-\\sigma(S_{team} - \\theta))$<br>\n",
    "<br>\n",
    "$-log(LikelyHood) \\rightarrow min$ w.r.t. $S_{player\\_i}$ and $\\theta_j$"
   ]
  },
  {
   "cell_type": "markdown",
   "metadata": {},
   "source": [
    "**Derivatives:**\n",
    "\n",
    "$\\sigma'(x) = \\sigma(x)*(1-\\sigma(x))$\n",
    "\n",
    "$\\frac{\\partial LL}{\\partial \\theta} = \\frac{y_{real}}{\\sigma(S_{team} - \\theta)} * \\sigma'(S_{team} - \\theta) * (-1) +\n",
    "\\frac{1-y_{real}}{1-\\sigma(S_{team} - \\theta)} * (-\\sigma'(S_{team} - \\theta)) * (-1) = \n",
    "-y_{real}*(1-\\sigma(S_{team} - \\theta)) + (1-y_{real})*\\sigma(S_{team} - \\theta)\n",
    "$<br>\n",
    "\n",
    "$\\frac{\\partial LL}{\\partial S_i} = \\frac{y_{real}}{\\sigma(S_{team} - \\theta)} * \\sigma'(S_{team} - \\theta) +\n",
    "\\frac{1-y_{real}}{1-\\sigma(S_{team} - \\theta)} * (-\\sigma'(S_{team} - \\theta)) = \n",
    "y_{real}*(1-\\sigma(S_{team} - \\theta)) - (1-y_{real})*\\sigma(S_{team} - \\theta)$<br>\n"
   ]
  },
  {
   "cell_type": "markdown",
   "metadata": {},
   "source": [
    "**Short derivatives:**\n",
    "\n",
    "$\\frac{\\partial -LL}{\\partial \\theta} = +y_{real}*(1-\\sigma(S_{team} - \\theta)) - (1-y_{real})*\\sigma(S_{team} - \\theta)\n",
    "$<br>\n",
    "\n",
    "$\\frac{\\partial -LL}{\\partial S_i} = -y_{real}*(1-\\sigma(S_{team} - \\theta)) + (1-y_{real})*\\sigma(S_{team} - \\theta)$<br>\n"
   ]
  },
  {
   "cell_type": "markdown",
   "metadata": {},
   "source": [
    "**Gradient update**<br>\n",
    "$S_{i\\_new} = S_{i\\_old} - learning\\_rate * \\frac{\\partial LL}{\\partial S_i}$<br>\n",
    "$\\theta_{new} = \\theta_{old} - learning\\_rate * \\frac{\\partial LL}{\\partial \\theta}$<br>"
   ]
  },
  {
   "cell_type": "code",
   "execution_count": 11,
   "metadata": {},
   "outputs": [],
   "source": [
    "def sgd(lr=0.01, epochs=10, batch_size=16):\n",
    "    for _ in tqdm_notebook(range(epochs)):\n",
    "        # get batch\n",
    "        batch = exp.sample(n=batch_size)\n",
    "        # calculate team performance\n",
    "        t_perf = batch['players'].apply(lambda members: team_performance(members))\n",
    "        # get question difficulty\n",
    "        q_dif = batch['q_id'].apply(lambda question: get_difficulties_by_q_id(question))\n",
    "        # calculate  result \n",
    "        team_sigmoid = sigmoid(t_perf - q_dif)\n",
    "        # update question difficulty\n",
    "        q_dif_update = lr * (batch['q_taken'] * (1-team_sigmoid) - (1-batch['q_taken'])*team_sigmoid)\n",
    "        difficulties[np.searchsorted(difficulties[:,0], batch['q_id']), 1] -= q_dif_update\n",
    "        # update player skills\n",
    "        skill_update = -(lr * (batch['q_taken'] * (1-team_sigmoid) - (1-batch['q_taken'])*team_sigmoid) /\n",
    "                     batch['players'].str.len())\n",
    "        for idx in range(batch_size):\n",
    "            skills[np.searchsorted(skills[:,0], batch['players'].iloc[idx]), 1] -= skill_update.iloc[idx]"
   ]
  },
  {
   "cell_type": "code",
   "execution_count": 13,
   "metadata": {},
   "outputs": [
    {
     "data": {
      "application/vnd.jupyter.widget-view+json": {
       "model_id": "7722dedd488942fe9c1b54f6084009de",
       "version_major": 2,
       "version_minor": 0
      },
      "text/plain": [
       "HBox(children=(IntProgress(value=0, max=20000), HTML(value='')))"
      ]
     },
     "metadata": {},
     "output_type": "display_data"
    },
    {
     "data": {
      "application/vnd.jupyter.widget-view+json": {
       "model_id": "3b5fca072fa848eaa751bf8de7dcf330",
       "version_major": 2,
       "version_minor": 0
      },
      "text/plain": [
       "HBox(children=(IntProgress(value=0, max=20000), HTML(value='')))"
      ]
     },
     "metadata": {},
     "output_type": "display_data"
    }
   ],
   "source": [
    "sgd(lr=0.3, epochs=20000, batch_size=5000) \n",
    "sgd(lr=0.1, epochs=20000, batch_size=5000)\n",
    "# epochs 20k, batch 5k ETA 4:20 hours\n",
    "\n",
    "# sgd(lr=0.05, epochs=50, batch_size=1000)"
   ]
  },
  {
   "cell_type": "code",
   "execution_count": 14,
   "metadata": {},
   "outputs": [],
   "source": [
    "DUMP=True\n",
    "if DUMP:\n",
    "    with open('skills.pickle', 'wb') as f:\n",
    "        pickle.dump(skills, f)\n",
    "    with open('difficulties.pickle', 'wb') as f:\n",
    "        pickle.dump(difficulties, f)"
   ]
  },
  {
   "cell_type": "code",
   "execution_count": 15,
   "metadata": {},
   "outputs": [],
   "source": [
    "def calculate_loss(copy=True):\n",
    "    if copy:\n",
    "        df = exp.copy(deep=True)\n",
    "        df = df.iloc[0:500]\n",
    "        #     df.loc[:, 't_sigm'] = df.progress_apply(lambda row: sigmoid(team_performance(row['players']) - get_difficulties_by_q_id(row['q_id']) ), axis=1)\n",
    "        df.loc[:, 't_sigm'] = df.apply(lambda row: sigmoid(team_performance(row['players']) - get_difficulties_by_q_id(row['q_id']) ), axis=1)\n",
    "        df.loc[:, 'one_loss'] = df['q_taken']*np.log(df['t_sigm']) + (1-df['q_taken'])*np.log(1-df['t_sigm'])\n",
    "        total_loss = -df['one_loss'].sum()\n",
    "        print(total_loss)\n",
    "    else:\n",
    "#         exp.loc[:, 't_sigm'] = exp.apply(lambda row: sigmoid(team_performance(row['players']) - get_difficulties_by_q_id(row['q_id']) ), axis=1)\n",
    "        exp.loc[:, 't_sigm'] = exp.progress_apply(lambda row: sigmoid(team_performance(row['players']) - get_difficulties_by_q_id(row['q_id']) ), axis=1)\n",
    "        exp.loc[:, 'one_loss'] = exp['q_taken']*np.log(exp['t_sigm']) + (1-exp['q_taken'])*np.log(1-exp['t_sigm'])\n",
    "        total_loss = -exp['one_loss'].sum()\n",
    "        print(total_loss)"
   ]
  },
  {
   "cell_type": "code",
   "execution_count": 16,
   "metadata": {},
   "outputs": [
    {
     "data": {
      "application/vnd.jupyter.widget-view+json": {
       "model_id": "33a12e0cd3114c2a89d7de52c6b4bf39",
       "version_major": 2,
       "version_minor": 0
      },
      "text/plain": [
       "HBox(children=(IntProgress(value=0, max=10961078), HTML(value='')))"
      ]
     },
     "metadata": {},
     "output_type": "display_data"
    },
    {
     "name": "stdout",
     "output_type": "stream",
     "text": [
      "2434248.120871657\n"
     ]
    }
   ],
   "source": [
    "calculate_loss(copy=False)"
   ]
  },
  {
   "cell_type": "markdown",
   "metadata": {},
   "source": [
    "## Exploit"
   ]
  },
  {
   "cell_type": "code",
   "execution_count": 17,
   "metadata": {},
   "outputs": [],
   "source": [
    "exp.loc[:, 'dev'] = np.abs(exp.q_taken - exp.t_sigm)"
   ]
  },
  {
   "cell_type": "code",
   "execution_count": 18,
   "metadata": {},
   "outputs": [],
   "source": [
    "deviations = exp.groupby(['idtournament', 'idteam']).dev.std()\\\n",
    "                .reset_index().sort_values(['idtournament', 'dev', 'idteam'], ascending=False)#\\\n",
    "#                 .set_index(['idtournament', 'idteam'])"
   ]
  },
  {
   "cell_type": "raw",
   "metadata": {},
   "source": [
    "deviations.set_index(['idtournament', 'idteam'])"
   ]
  },
  {
   "cell_type": "code",
   "execution_count": 19,
   "metadata": {},
   "outputs": [
    {
     "data": {
      "text/html": [
       "<div>\n",
       "<style scoped>\n",
       "    .dataframe tbody tr th:only-of-type {\n",
       "        vertical-align: middle;\n",
       "    }\n",
       "\n",
       "    .dataframe tbody tr th {\n",
       "        vertical-align: top;\n",
       "    }\n",
       "\n",
       "    .dataframe thead th {\n",
       "        text-align: right;\n",
       "    }\n",
       "</style>\n",
       "<table border=\"1\" class=\"dataframe\">\n",
       "  <thead>\n",
       "    <tr style=\"text-align: right;\">\n",
       "      <th></th>\n",
       "      <th></th>\n",
       "      <th>dev</th>\n",
       "    </tr>\n",
       "    <tr>\n",
       "      <th>idtournament</th>\n",
       "      <th>idteam</th>\n",
       "      <th></th>\n",
       "    </tr>\n",
       "  </thead>\n",
       "  <tbody>\n",
       "    <tr>\n",
       "      <th rowspan=\"7\" valign=\"top\">5378</th>\n",
       "      <th>42045</th>\n",
       "      <td>0.224991</td>\n",
       "    </tr>\n",
       "    <tr>\n",
       "      <th>2318</th>\n",
       "      <td>0.213719</td>\n",
       "    </tr>\n",
       "    <tr>\n",
       "      <th>59495</th>\n",
       "      <td>0.158115</td>\n",
       "    </tr>\n",
       "    <tr>\n",
       "      <th>67079</th>\n",
       "      <td>0.107639</td>\n",
       "    </tr>\n",
       "    <tr>\n",
       "      <th>1223</th>\n",
       "      <td>0.101812</td>\n",
       "    </tr>\n",
       "    <tr>\n",
       "      <th>2065</th>\n",
       "      <td>0.098758</td>\n",
       "    </tr>\n",
       "    <tr>\n",
       "      <th>53485</th>\n",
       "      <td>0.094966</td>\n",
       "    </tr>\n",
       "    <tr>\n",
       "      <th rowspan=\"23\" valign=\"top\">5362</th>\n",
       "      <th>62602</th>\n",
       "      <td>0.017321</td>\n",
       "    </tr>\n",
       "    <tr>\n",
       "      <th>68892</th>\n",
       "      <td>0.016726</td>\n",
       "    </tr>\n",
       "    <tr>\n",
       "      <th>68280</th>\n",
       "      <td>0.016116</td>\n",
       "    </tr>\n",
       "    <tr>\n",
       "      <th>68885</th>\n",
       "      <td>0.015947</td>\n",
       "    </tr>\n",
       "    <tr>\n",
       "      <th>54238</th>\n",
       "      <td>0.015557</td>\n",
       "    </tr>\n",
       "    <tr>\n",
       "      <th>68268</th>\n",
       "      <td>0.015364</td>\n",
       "    </tr>\n",
       "    <tr>\n",
       "      <th>65746</th>\n",
       "      <td>0.015203</td>\n",
       "    </tr>\n",
       "    <tr>\n",
       "      <th>60299</th>\n",
       "      <td>0.014850</td>\n",
       "    </tr>\n",
       "    <tr>\n",
       "      <th>65230</th>\n",
       "      <td>0.014678</td>\n",
       "    </tr>\n",
       "    <tr>\n",
       "      <th>587</th>\n",
       "      <td>0.014640</td>\n",
       "    </tr>\n",
       "    <tr>\n",
       "      <th>62821</th>\n",
       "      <td>0.014499</td>\n",
       "    </tr>\n",
       "    <tr>\n",
       "      <th>65467</th>\n",
       "      <td>0.014320</td>\n",
       "    </tr>\n",
       "    <tr>\n",
       "      <th>57534</th>\n",
       "      <td>0.014304</td>\n",
       "    </tr>\n",
       "    <tr>\n",
       "      <th>63405</th>\n",
       "      <td>0.014117</td>\n",
       "    </tr>\n",
       "    <tr>\n",
       "      <th>65266</th>\n",
       "      <td>0.013878</td>\n",
       "    </tr>\n",
       "    <tr>\n",
       "      <th>57074</th>\n",
       "      <td>0.013858</td>\n",
       "    </tr>\n",
       "    <tr>\n",
       "      <th>51995</th>\n",
       "      <td>0.013764</td>\n",
       "    </tr>\n",
       "    <tr>\n",
       "      <th>65733</th>\n",
       "      <td>0.013513</td>\n",
       "    </tr>\n",
       "    <tr>\n",
       "      <th>65764</th>\n",
       "      <td>0.013502</td>\n",
       "    </tr>\n",
       "    <tr>\n",
       "      <th>51710</th>\n",
       "      <td>0.013470</td>\n",
       "    </tr>\n",
       "    <tr>\n",
       "      <th>65741</th>\n",
       "      <td>0.013411</td>\n",
       "    </tr>\n",
       "    <tr>\n",
       "      <th>68888</th>\n",
       "      <td>0.013405</td>\n",
       "    </tr>\n",
       "    <tr>\n",
       "      <th>56134</th>\n",
       "      <td>0.013300</td>\n",
       "    </tr>\n",
       "    <tr>\n",
       "      <th>...</th>\n",
       "      <th>...</th>\n",
       "      <td>...</td>\n",
       "    </tr>\n",
       "    <tr>\n",
       "      <th rowspan=\"26\" valign=\"top\">3</th>\n",
       "      <th>257</th>\n",
       "      <td>0.114532</td>\n",
       "    </tr>\n",
       "    <tr>\n",
       "      <th>175</th>\n",
       "      <td>0.103811</td>\n",
       "    </tr>\n",
       "    <tr>\n",
       "      <th>188</th>\n",
       "      <td>0.087920</td>\n",
       "    </tr>\n",
       "    <tr>\n",
       "      <th>700</th>\n",
       "      <td>0.065469</td>\n",
       "    </tr>\n",
       "    <tr>\n",
       "      <th>313</th>\n",
       "      <td>0.064914</td>\n",
       "    </tr>\n",
       "    <tr>\n",
       "      <th>299</th>\n",
       "      <td>0.064862</td>\n",
       "    </tr>\n",
       "    <tr>\n",
       "      <th>670</th>\n",
       "      <td>0.050232</td>\n",
       "    </tr>\n",
       "    <tr>\n",
       "      <th>173</th>\n",
       "      <td>0.045504</td>\n",
       "    </tr>\n",
       "    <tr>\n",
       "      <th>312</th>\n",
       "      <td>0.043717</td>\n",
       "    </tr>\n",
       "    <tr>\n",
       "      <th>243</th>\n",
       "      <td>0.038201</td>\n",
       "    </tr>\n",
       "    <tr>\n",
       "      <th>35</th>\n",
       "      <td>0.035969</td>\n",
       "    </tr>\n",
       "    <tr>\n",
       "      <th>10428</th>\n",
       "      <td>0.032673</td>\n",
       "    </tr>\n",
       "    <tr>\n",
       "      <th>5</th>\n",
       "      <td>0.032090</td>\n",
       "    </tr>\n",
       "    <tr>\n",
       "      <th>200</th>\n",
       "      <td>0.028416</td>\n",
       "    </tr>\n",
       "    <tr>\n",
       "      <th>53</th>\n",
       "      <td>0.027656</td>\n",
       "    </tr>\n",
       "    <tr>\n",
       "      <th>14</th>\n",
       "      <td>0.026471</td>\n",
       "    </tr>\n",
       "    <tr>\n",
       "      <th>3158</th>\n",
       "      <td>0.026035</td>\n",
       "    </tr>\n",
       "    <tr>\n",
       "      <th>240</th>\n",
       "      <td>0.023726</td>\n",
       "    </tr>\n",
       "    <tr>\n",
       "      <th>10279</th>\n",
       "      <td>0.017743</td>\n",
       "    </tr>\n",
       "    <tr>\n",
       "      <th>540</th>\n",
       "      <td>0.016882</td>\n",
       "    </tr>\n",
       "    <tr>\n",
       "      <th>703</th>\n",
       "      <td>0.013859</td>\n",
       "    </tr>\n",
       "    <tr>\n",
       "      <th>1</th>\n",
       "      <td>0.012935</td>\n",
       "    </tr>\n",
       "    <tr>\n",
       "      <th>551</th>\n",
       "      <td>0.009928</td>\n",
       "    </tr>\n",
       "    <tr>\n",
       "      <th>55</th>\n",
       "      <td>0.009047</td>\n",
       "    </tr>\n",
       "    <tr>\n",
       "      <th>1733</th>\n",
       "      <td>0.006359</td>\n",
       "    </tr>\n",
       "    <tr>\n",
       "      <th>194</th>\n",
       "      <td>0.001046</td>\n",
       "    </tr>\n",
       "    <tr>\n",
       "      <th rowspan=\"4\" valign=\"top\">2</th>\n",
       "      <th>264</th>\n",
       "      <td>0.482803</td>\n",
       "    </tr>\n",
       "    <tr>\n",
       "      <th>510</th>\n",
       "      <td>0.247962</td>\n",
       "    </tr>\n",
       "    <tr>\n",
       "      <th>689</th>\n",
       "      <td>0.136683</td>\n",
       "    </tr>\n",
       "    <tr>\n",
       "      <th>246</th>\n",
       "      <td>0.132551</td>\n",
       "    </tr>\n",
       "  </tbody>\n",
       "</table>\n",
       "<p>290979 rows × 1 columns</p>\n",
       "</div>"
      ],
      "text/plain": [
       "                          dev\n",
       "idtournament idteam          \n",
       "5378         42045   0.224991\n",
       "             2318    0.213719\n",
       "             59495   0.158115\n",
       "             67079   0.107639\n",
       "             1223    0.101812\n",
       "             2065    0.098758\n",
       "             53485   0.094966\n",
       "5362         62602   0.017321\n",
       "             68892   0.016726\n",
       "             68280   0.016116\n",
       "             68885   0.015947\n",
       "             54238   0.015557\n",
       "             68268   0.015364\n",
       "             65746   0.015203\n",
       "             60299   0.014850\n",
       "             65230   0.014678\n",
       "             587     0.014640\n",
       "             62821   0.014499\n",
       "             65467   0.014320\n",
       "             57534   0.014304\n",
       "             63405   0.014117\n",
       "             65266   0.013878\n",
       "             57074   0.013858\n",
       "             51995   0.013764\n",
       "             65733   0.013513\n",
       "             65764   0.013502\n",
       "             51710   0.013470\n",
       "             65741   0.013411\n",
       "             68888   0.013405\n",
       "             56134   0.013300\n",
       "...                       ...\n",
       "3            257     0.114532\n",
       "             175     0.103811\n",
       "             188     0.087920\n",
       "             700     0.065469\n",
       "             313     0.064914\n",
       "             299     0.064862\n",
       "             670     0.050232\n",
       "             173     0.045504\n",
       "             312     0.043717\n",
       "             243     0.038201\n",
       "             35      0.035969\n",
       "             10428   0.032673\n",
       "             5       0.032090\n",
       "             200     0.028416\n",
       "             53      0.027656\n",
       "             14      0.026471\n",
       "             3158    0.026035\n",
       "             240     0.023726\n",
       "             10279   0.017743\n",
       "             540     0.016882\n",
       "             703     0.013859\n",
       "             1       0.012935\n",
       "             551     0.009928\n",
       "             55      0.009047\n",
       "             1733    0.006359\n",
       "             194     0.001046\n",
       "2            264     0.482803\n",
       "             510     0.247962\n",
       "             689     0.136683\n",
       "             246     0.132551\n",
       "\n",
       "[290979 rows x 1 columns]"
      ]
     },
     "execution_count": 19,
     "metadata": {},
     "output_type": "execute_result"
    }
   ],
   "source": [
    "df1 = deviations.groupby(['idtournament', 'idteam']).dev.sum()\n",
    "df2 = deviations.groupby(['idtournament']).dev.sum()\n",
    "df1.div(df2, level='idtournament').reset_index().sort_values(['idtournament', 'dev', 'idteam'], ascending=False)\\\n",
    "                .set_index(['idtournament', 'idteam'])"
   ]
  },
  {
   "cell_type": "code",
   "execution_count": null,
   "metadata": {},
   "outputs": [],
   "source": []
  }
 ],
 "metadata": {
  "kernelspec": {
   "display_name": "Python 3",
   "language": "python",
   "name": "python3"
  },
  "language_info": {
   "codemirror_mode": {
    "name": "ipython",
    "version": 3
   },
   "file_extension": ".py",
   "mimetype": "text/x-python",
   "name": "python",
   "nbconvert_exporter": "python",
   "pygments_lexer": "ipython3",
   "version": "3.7.1"
  }
 },
 "nbformat": 4,
 "nbformat_minor": 2
}
