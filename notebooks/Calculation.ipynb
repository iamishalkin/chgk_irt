{
 "cells": [
  {
   "cell_type": "code",
   "execution_count": 1,
   "id": "49d376ac",
   "metadata": {},
   "outputs": [
    {
     "name": "stderr",
     "output_type": "stream",
     "text": [
      "c:\\contests\\chgk_irt_new\\.venv\\lib\\site-packages\\ipykernel_launcher.py:6: TqdmExperimentalWarning: Using `tqdm.autonotebook.tqdm` in notebook mode. Use `tqdm.tqdm` instead to force console mode (e.g. in jupyter console)\n",
      "  \n"
     ]
    }
   ],
   "source": [
    "import pandas as pd\n",
    "import numpy as np\n",
    "import json\n",
    "from sklearn.model_selection import train_test_split\n",
    "import random\n",
    "from tqdm.autonotebook import tqdm\n",
    "from sklearn.metrics import roc_auc_score, roc_curve, auc\n",
    "\n",
    "np.random.seed(42)"
   ]
  },
  {
   "cell_type": "code",
   "execution_count": 2,
   "id": "cd2e7bd0",
   "metadata": {},
   "outputs": [],
   "source": [
    "with open('online.json') as f:\n",
    "    online = json.load(f)\n",
    "    online = pd.DataFrame(online).dropna()\n",
    "    online.loc[:, 'IsOnline'] = 1\n",
    "with open('offline.json') as f:\n",
    "    offline = json.load(f)\n",
    "    offline = pd.DataFrame(offline).dropna()\n",
    "    offline.loc[:, 'IsOnline'] = 0"
   ]
  },
  {
   "cell_type": "markdown",
   "id": "76de9c85",
   "metadata": {},
   "source": [
    "## Test/train split"
   ]
  },
  {
   "cell_type": "code",
   "execution_count": 3,
   "id": "9c40b1f3",
   "metadata": {},
   "outputs": [],
   "source": [
    "on_train, on_test = train_test_split(online, test_size=0.3, random_state=42)\n",
    "off_train, off_test = train_test_split(offline, test_size=0.3, random_state=42)\n",
    "train = pd.concat([on_train, off_train], ignore_index=True)\n",
    "test = pd.concat([on_test, off_test], ignore_index=True)"
   ]
  },
  {
   "cell_type": "code",
   "execution_count": 4,
   "id": "61477972",
   "metadata": {},
   "outputs": [
    {
     "data": {
      "text/html": [
       "<div>\n",
       "<style scoped>\n",
       "    .dataframe tbody tr th:only-of-type {\n",
       "        vertical-align: middle;\n",
       "    }\n",
       "\n",
       "    .dataframe tbody tr th {\n",
       "        vertical-align: top;\n",
       "    }\n",
       "\n",
       "    .dataframe thead th {\n",
       "        text-align: right;\n",
       "    }\n",
       "</style>\n",
       "<table border=\"1\" class=\"dataframe\">\n",
       "  <thead>\n",
       "    <tr style=\"text-align: right;\">\n",
       "      <th></th>\n",
       "      <th>mask</th>\n",
       "      <th>TourId</th>\n",
       "      <th>teamIdList</th>\n",
       "      <th>teamId</th>\n",
       "      <th>teamName</th>\n",
       "      <th>IsOnline</th>\n",
       "    </tr>\n",
       "  </thead>\n",
       "  <tbody>\n",
       "    <tr>\n",
       "      <th>0</th>\n",
       "      <td>000100001100100101111001011100111011</td>\n",
       "      <td>6728</td>\n",
       "      <td>[59326, 110092, 167055, 110326, 221402]</td>\n",
       "      <td>51249</td>\n",
       "      <td>Два пальца в нёбо</td>\n",
       "      <td>1</td>\n",
       "    </tr>\n",
       "    <tr>\n",
       "      <th>1</th>\n",
       "      <td>111111001011110111101010100011110000011</td>\n",
       "      <td>6555</td>\n",
       "      <td>[24593, 133148, 9485, 78282, 23386, 12631]</td>\n",
       "      <td>45365</td>\n",
       "      <td>Бахус crew</td>\n",
       "      <td>1</td>\n",
       "    </tr>\n",
       "  </tbody>\n",
       "</table>\n",
       "</div>"
      ],
      "text/plain": [
       "                                      mask TourId  \\\n",
       "0     000100001100100101111001011100111011   6728   \n",
       "1  111111001011110111101010100011110000011   6555   \n",
       "\n",
       "                                   teamIdList  teamId           teamName  \\\n",
       "0     [59326, 110092, 167055, 110326, 221402]   51249  Два пальца в нёбо   \n",
       "1  [24593, 133148, 9485, 78282, 23386, 12631]   45365         Бахус crew   \n",
       "\n",
       "   IsOnline  \n",
       "0         1  \n",
       "1         1  "
      ]
     },
     "execution_count": 4,
     "metadata": {},
     "output_type": "execute_result"
    }
   ],
   "source": [
    "train.head(2)"
   ]
  },
  {
   "cell_type": "code",
   "execution_count": 5,
   "id": "68044083",
   "metadata": {},
   "outputs": [
    {
     "data": {
      "text/plain": [
       "(34430, 6)"
      ]
     },
     "execution_count": 5,
     "metadata": {},
     "output_type": "execute_result"
    }
   ],
   "source": [
    "train.shape"
   ]
  },
  {
   "cell_type": "code",
   "execution_count": 6,
   "id": "587723ac",
   "metadata": {},
   "outputs": [
    {
     "data": {
      "text/plain": [
       "(38591, 6)"
      ]
     },
     "execution_count": 6,
     "metadata": {},
     "output_type": "execute_result"
    }
   ],
   "source": [
    "offline.shape"
   ]
  },
  {
   "cell_type": "code",
   "execution_count": 24,
   "id": "abd1bbe2",
   "metadata": {},
   "outputs": [
    {
     "data": {
      "text/plain": [
       "(14758, 6)"
      ]
     },
     "execution_count": 24,
     "metadata": {},
     "output_type": "execute_result"
    }
   ],
   "source": [
    "test.shape"
   ]
  },
  {
   "cell_type": "code",
   "execution_count": 23,
   "id": "0f881eba",
   "metadata": {},
   "outputs": [
    {
     "data": {
      "text/plain": [
       "13401"
      ]
     },
     "execution_count": 23,
     "metadata": {},
     "output_type": "execute_result"
    }
   ],
   "source": [
    "test.teamId.isin(train.teamId).sum()"
   ]
  },
  {
   "cell_type": "code",
   "execution_count": 13,
   "id": "3266a237",
   "metadata": {},
   "outputs": [],
   "source": [
    "def sigmoid(x):\n",
    "    return 1 / (1 + np.exp(-x))\n",
    "    \n",
    "def at_least_same_taken_prob(probabilities, taken):\n",
    "    ques_amount = len(probabilities)\n",
    "    prob_matrix = np.zeros(shape=(ques_amount+1, ques_amount+1))\n",
    "    prob_matrix[0, 0] = 1\n",
    "    for i in range(ques_amount+1):\n",
    "        for j in range(1, ques_amount+1):\n",
    "            prob_matrix[i, j] = prob_matrix[i, j-1] * (1 - probabilities[j-1]) + \\\n",
    "                                prob_matrix[i-1, j-1] * probabilities[j-1]\n",
    "    return prob_matrix[taken:, -1].sum()\n",
    "    \n",
    "class IRT_Model:\n",
    "    def __init__(self, data):\n",
    "        self.seed = 42\n",
    "        self.init_value = 0.5\n",
    "        self.prepared_data = self.prepare_data(data)\n",
    "        self.init_question_difficulties()\n",
    "        self.init_team_online_pref()\n",
    "        self.init_players_skills()\n",
    "        self.losses = list()\n",
    "        self.rocaucs = list()\n",
    "        self.probs = None\n",
    "        pass\n",
    "    \n",
    "    def prepare_data(self, data):\n",
    "        df = data.copy(deep=True)\n",
    "        df.loc[:, 'Mask'] = df.loc[:, 'mask'].apply(lambda x: list(x))\n",
    "        df = df.explode('Mask')\n",
    "        df.loc[:, 'QuestionNumber'] = df.reset_index().groupby('index').cumcount().values\n",
    "        df = df.sort_values(['TourId', 'QuestionNumber']).reset_index(drop=True)\n",
    "        df.TourId = df.TourId.astype(int)\n",
    "        df.QuestionNumber = df.QuestionNumber.astype(int)\n",
    "        df = df.loc[df.Mask.isin(['0', '1']), :]\n",
    "        df.Mask = df.Mask.astype(int)        \n",
    "        df.loc[:, 'QuestionId'] = df.TourId * 1000 + df.QuestionNumber\n",
    "        df.drop(['QuestionNumber', 'mask'], axis=1, inplace=True)\n",
    "        return df\n",
    "    \n",
    "    def init_question_difficulties(self):\n",
    "        # construc question difficulties df\n",
    "        self.question_difficulties = pd.DataFrame(self.prepared_data.QuestionId.unique(),\n",
    "                                                  columns=['QuestionId']).set_index('QuestionId')\n",
    "        self.question_difficulties.loc[:, 'Difficulty'] = self.init_value\n",
    "    \n",
    "    def init_team_online_pref(self):\n",
    "        # Construct team prefference to online df\n",
    "        self.team_online_pref = pd.DataFrame(self.prepared_data.teamId.unique(),\n",
    "                                                  columns=['TeamId']).sort_values('TeamId').set_index('TeamId')\n",
    "        self.team_online_pref.loc[:, 'OnlinePref'] = self.init_value\n",
    "    \n",
    "    def init_players_skills(self):\n",
    "        # Construct players' skills df\n",
    "        self.players_skills = pd.DataFrame(self.prepared_data.teamIdList.explode().unique(),\n",
    "                                           columns=['PlayerId']).sort_values('PlayerId').set_index('PlayerId')\n",
    "        self.players_skills.loc[:, 'Skill'] = self.init_value\n",
    "    \n",
    "    def team_performance(self, players: list):\n",
    "        # one possible measure of team performance\n",
    "        return self.players_skills.loc[players, 'Skill'].mean()\n",
    "        \n",
    "    def fit(self, lr=0.01, epochs=10, batch_size=16):\n",
    "        for i in tqdm(range(epochs)):\n",
    "            batch = self.prepared_data.sample(n=batch_size)\n",
    "            # calculate teams' performance\n",
    "            team_performance = batch.loc[:, 'teamIdList'].apply(\n",
    "                lambda members: self.team_performance(members)).values\n",
    "            # get question difficulty\n",
    "            q_dif = self.question_difficulties.loc[batch.loc[:, 'QuestionId'], 'Difficulty'].values\n",
    "            # get team online preferrability\n",
    "            team_online_pref = self.team_online_pref.loc[batch.loc[:, 'teamId'], 'OnlinePref'].values\n",
    "            # get isOnline\n",
    "            isOnline = batch.loc[:, 'IsOnline'].values\n",
    "            \n",
    "            # calculate  result \n",
    "            team_sigmoid = sigmoid(team_performance - q_dif + isOnline * team_online_pref)\n",
    "            \n",
    "            # update question difficulty\n",
    "            q_dif_update = lr * (batch.loc[:, 'Mask'].values * (1-team_sigmoid) - \n",
    "                                 (1 - batch.loc[:, 'Mask'].values) * team_sigmoid)\n",
    "            self.question_difficulties.loc[batch.loc[:, 'QuestionId'], 'Difficulty'] -= q_dif_update\n",
    "            \n",
    "            # update player skills\n",
    "            skill_update = -lr * (batch.loc[:, 'Mask'].values * (1 - team_sigmoid) -\n",
    "                                  (1 - batch.loc[:, 'Mask'].values) * team_sigmoid)\n",
    "            skill_update_array = pd.DataFrame({0: batch.loc[:, 'teamIdList'].values, 1: skill_update}) \\\n",
    "                                   .explode(0).values\n",
    "            self.players_skills.loc[skill_update_array[:, 0], 'Skill'] -= skill_update_array[:, 1]\n",
    "            \n",
    "            # update team prefferability to online (maybe should be player-related )\n",
    "            online_pref_update = -lr * batch.loc[:, 'IsOnline'].values * \\\n",
    "                                 (batch.loc[:, 'Mask'].values * (1-team_sigmoid) - \n",
    "                                 (1 - batch.loc[:, 'Mask'].values) * team_sigmoid)\n",
    "            self.team_online_pref.loc[batch.loc[:, 'teamId'].values, 'OnlinePref'] -= online_pref_update\n",
    "            \n",
    "            if i % 5 == 0:\n",
    "                self.calculate_loss_and_rocauc()\n",
    "            \n",
    "        self.calculate_team_sigmoid()\n",
    "            \n",
    "    def calculate_team_sigmoid(self):\n",
    "        self.prepared_data.loc[:, 'TeamPerformance'] = self.prepared_data.teamIdList.apply(self.team_performance)\n",
    "        self.prepared_data.loc[:, 'TeamSigmoid'] = sigmoid(\n",
    "            self.prepared_data.loc[:, 'TeamPerformance'].values - \n",
    "            self.question_difficulties.loc[self.prepared_data.loc[:, 'QuestionId'].values, 'Difficulty'].values +\n",
    "            self.prepared_data.loc[:, 'IsOnline'].values *\n",
    "            self.team_online_pref.loc[self.prepared_data.loc[:, 'teamId'].values, 'OnlinePref'].values\n",
    "        )\n",
    "    \n",
    "    def calculate_loss_and_rocauc(self):\n",
    "        self.calculate_team_sigmoid()\n",
    "        tmp = self.prepared_data.copy(deep=True)\n",
    "        tmp.loc[:, 'OneLoss'] = tmp.loc[:, 'Mask'].values * np.log(tmp.loc[:, 'TeamSigmoid'].values) + \\\n",
    "                                (1 - tmp.loc[:, 'Mask'].values) * np.log(1 - tmp.loc[:, 'TeamSigmoid'].values)\n",
    "        total_loss = -tmp.loc[:, 'OneLoss'].values.sum()\n",
    "        self.losses.append(total_loss)\n",
    "        print(total_loss)\n",
    "        # roc auc\n",
    "        roc = roc_auc_score(tmp.loc[:, 'Mask'].values, tmp.loc[:, 'TeamSigmoid'].values)\n",
    "        self.rocaucs.append(roc)\n",
    "        print(roc)\n",
    "        print('-'*15)\n",
    "        \n",
    "    def calculate_probs(self):\n",
    "        if 'TeamSigmoid' not in self.prepared_data.columns:\n",
    "            self.calculate_team_sigmoid()\n",
    "        result = self.prepared_data.groupby(['TourId', 'teamId'])\\\n",
    "                 .apply(lambda row: \n",
    "                                 at_least_same_taken_prob(row['TeamSigmoid'].values, row['Mask'].sum()))\\\n",
    "                 .reset_index()\\\n",
    "                 .rename(columns={0: 'prob'})\\\n",
    "                 .sort_values('prob')\\\n",
    "                 .reset_index(drop=True)\n",
    "        self.probs = result\n",
    "    \n",
    "        return result\n",
    "        \n",
    "    def get_test_instance(self, test_data):\n",
    "        test = IRT_Model(test_data)\n",
    "        # copy known question difficulties\n",
    "        common_question_ids = test.question_difficulties.index.intersection(self.question_difficulties.index)\n",
    "        test.question_difficulties.loc[:, 'Difficulty'] = self.question_difficulties.loc[:, 'Difficulty'].mean()\n",
    "        test.question_difficulties.loc[common_question_ids, 'Difficulty'] = \\\n",
    "                                            self.question_difficulties.loc[common_question_ids, 'Difficulty']\n",
    "        # copy known online prefference\n",
    "        common_online_pref_ids = test.team_online_pref.index.intersection(self.team_online_pref.index)\n",
    "        test.team_online_pref.loc[:, 'OnlinePref'] = self.team_online_pref.loc[:, 'OnlinePref'].mean()\n",
    "        test.team_online_pref.loc[common_online_pref_ids, 'OnlinePref'] = \\\n",
    "                                            self.team_online_pref.loc[common_online_pref_ids, 'OnlinePref']\n",
    "        # compy known skills\n",
    "        common_skills_id = test.players_skills.index.intersection(self.players_skills.index)\n",
    "        test.players_skills.loc[:, 'Skill'] = self.players_skills.loc[:, 'Skill'].mean()\n",
    "        test.players_skills.loc[common_skills_id, 'Skill'] = self.players_skills.loc[common_skills_id, 'Skill']\n",
    "        return test\n",
    "        "
   ]
  },
  {
   "cell_type": "code",
   "execution_count": 15,
   "id": "7191cb51",
   "metadata": {},
   "outputs": [],
   "source": [
    "irt = IRT_Model(train)"
   ]
  },
  {
   "cell_type": "code",
   "execution_count": 17,
   "id": "cac2959e",
   "metadata": {},
   "outputs": [
    {
     "data": {
      "application/vnd.jupyter.widget-view+json": {
       "model_id": "d5de06b3cace4a39ab1b6177925c7a0c",
       "version_major": 2,
       "version_minor": 0
      },
      "text/plain": [
       "  0%|          | 0/20 [00:00<?, ?it/s]"
      ]
     },
     "metadata": {},
     "output_type": "display_data"
    },
    {
     "name": "stdout",
     "output_type": "stream",
     "text": [
      "897920.1901353\n",
      "0.5974195419911875\n",
      "---------------\n",
      "826820.6083815583\n",
      "0.7083027817479745\n",
      "---------------\n",
      "784494.317691766\n",
      "0.7476664121299325\n",
      "---------------\n",
      "759193.5374721423\n",
      "0.7673358720767708\n",
      "---------------\n"
     ]
    }
   ],
   "source": [
    "irt.fit(epochs=20, lr=0.4, batch_size=10000)"
   ]
  },
  {
   "cell_type": "code",
   "execution_count": 18,
   "id": "0c382ef2",
   "metadata": {},
   "outputs": [
    {
     "data": {
      "application/vnd.jupyter.widget-view+json": {
       "model_id": "a64c1c81a6f84a9497353e777ac6fa8a",
       "version_major": 2,
       "version_minor": 0
      },
      "text/plain": [
       "  0%|          | 0/20 [00:00<?, ?it/s]"
      ]
     },
     "metadata": {},
     "output_type": "display_data"
    },
    {
     "name": "stdout",
     "output_type": "stream",
     "text": [
      "742992.026603494\n",
      "0.7792225034099626\n",
      "---------------\n",
      "730583.3667156642\n",
      "0.7892166933062028\n",
      "---------------\n",
      "720378.8998921954\n",
      "0.7969554489012342\n",
      "---------------\n",
      "712313.5754853426\n",
      "0.8026372172709251\n",
      "---------------\n"
     ]
    }
   ],
   "source": [
    "irt.fit(epochs=20, lr=0.2, batch_size=10000)"
   ]
  },
  {
   "cell_type": "code",
   "execution_count": 19,
   "id": "94479f11",
   "metadata": {},
   "outputs": [
    {
     "data": {
      "application/vnd.jupyter.widget-view+json": {
       "model_id": "f45c2887af10432a85395ec3d56d6ac6",
       "version_major": 2,
       "version_minor": 0
      },
      "text/plain": [
       "  0%|          | 0/30 [00:00<?, ?it/s]"
      ]
     },
     "metadata": {},
     "output_type": "display_data"
    },
    {
     "name": "stdout",
     "output_type": "stream",
     "text": [
      "707098.6947665502\n",
      "0.8060148868864684\n",
      "---------------\n",
      "704632.2481249991\n",
      "0.8078236542100661\n",
      "---------------\n",
      "702294.7210925573\n",
      "0.8095864042071934\n",
      "---------------\n",
      "699956.8526539801\n",
      "0.8113421978000165\n",
      "---------------\n",
      "697819.041410895\n",
      "0.8129140115596601\n",
      "---------------\n",
      "695812.3079701685\n",
      "0.814321195853258\n",
      "---------------\n"
     ]
    }
   ],
   "source": [
    "irt.fit(epochs=30, lr=0.05, batch_size=10000)"
   ]
  },
  {
   "cell_type": "code",
   "execution_count": 25,
   "id": "3c9968f0",
   "metadata": {},
   "outputs": [],
   "source": [
    "test_irt = irt.get_test_instance(test.loc[test.teamId.isin(train.teamId), :])"
   ]
  },
  {
   "cell_type": "code",
   "execution_count": 26,
   "id": "6abed416",
   "metadata": {},
   "outputs": [
    {
     "name": "stdout",
     "output_type": "stream",
     "text": [
      "280646.43919767666\n",
      "0.7966009160394709\n",
      "---------------\n"
     ]
    }
   ],
   "source": [
    "test_irt.calculate_loss_and_rocauc()"
   ]
  },
  {
   "cell_type": "code",
   "execution_count": 21,
   "id": "7ad2bb98",
   "metadata": {},
   "outputs": [],
   "source": [
    "import pickle\n",
    "\n",
    "with open('irt_model.pkl', 'wb') as f:\n",
    "    pickle.dump(irt, f, pickle.HIGHEST_PROTOCOL)"
   ]
  },
  {
   "cell_type": "markdown",
   "id": "d58446b4",
   "metadata": {},
   "source": [
    "**Model**<br>\n",
    "$p(y=1| S_{team}, \\theta) = \\sigma(S_{team} - \\theta)$ <br>\n",
    "$S_{team}$ - team skill<br>\n",
    "$S_{team} = S_{player\\_1} + S_{player\\_2} + ... + S_{player\\_N}$<br>\n",
    "$\\theta_j$ - difficulty of question j<br>\n",
    "y - team answer, 1 for correct, 2 for incorrect<br>\n",
    "$p(y_{hat}=y_{real}| S_{team}, \\theta) = \\sigma(S_{team} - \\theta)^{y_{real}} * (1-\\sigma(S_{team} - \\theta))^{(1-y_{real})}$<br>\n",
    "<br>\n",
    "$LikelyHood = \\frac{1}{N}\\prod_{i=1}^{N} p(y_{hat\\_i}=y_{real\\_i}| S_{team}, \\theta)$<br>\n",
    "$log(LikelyHood) = LL = \\frac{1}{N}\\sum_{i=1}^{N} log(p(y_{hat\\_i}=y_{real\\_i}| S_{team}, \\theta))=\n",
    "y_{real}*log(\\sigma(S_{team} - \\theta)) + (1-y_{real})* log(1-\\sigma(S_{team} - \\theta))$<br>\n",
    "<br>\n",
    "$-log(LikelyHood) \\rightarrow min$ w.r.t. $S_{player\\_i}$ and $\\theta_j$"
   ]
  },
  {
   "cell_type": "markdown",
   "id": "5bca05ed",
   "metadata": {},
   "source": [
    "**Model**<br>\n",
    "$p(y=1| S_{team}, \\theta, \\gamma) = \\sigma(S_{team} - \\theta + \\mathrm{isOnline} \\cdot \\gamma)$ <br>\n",
    "$S_{team}$ - team skill<br>\n",
    "$S_{team} = S_{player\\_1} + S_{player\\_2} + ... + S_{player\\_N}$<br>\n",
    "$\\theta_j$ - difficulty of question j<br>\n",
    "$\\gamma$ - the prefferabily of the team to online games\n",
    "y - team answer, 1 for correct, 0 for incorrect<br>\n",
    "\n",
    "$p(y_{hat}=y_{real}| S_{team}, \\theta) = \\sigma(S_{team} - \\theta + \\mathrm{isOnline} \\cdot \\gamma)^{y_{real}} * (1-\\sigma(S_{team} - \\theta + \\mathrm{isOnline} \\cdot \\gamma))^{(1-y_{real})}$<br>\n",
    "<br>\n",
    "\n",
    "$LikelyHood = \\frac{1}{N}\\prod_{i=1}^{N} p(y_{hat\\_i}=y_{real\\_i}| S_{team}, \\theta, \\gamma)$<br>\n",
    "\n",
    "$log(LikelyHood) = LL = \\frac{1}{N}\\sum_{i=1}^{N} log(p(y_{hat\\_i}=y_{real\\_i}| S_{team}, \\theta, \\gamma))=\n",
    "y_{real}*log(\\sigma(S_{team} - \\theta + \\mathrm{isOnline} \\cdot \\gamma)) + (1-y_{real})* log(1-\\sigma(S_{team} - \\theta + \\mathrm{isOnline} \\cdot \\gamma))$<br>\n",
    "<br>\n",
    "\n",
    "$-log(LikelyHood) \\rightarrow min$ w.r.t. $S_{player\\_i}$,  $\\theta_j$, and $\\gamma$"
   ]
  },
  {
   "cell_type": "markdown",
   "id": "94a5cdb8",
   "metadata": {},
   "source": [
    "**Derivatives:**\n",
    "\n",
    "$\\sigma'(x) = \\sigma(x)*(1-\\sigma(x))$\n",
    "\n",
    "$\\frac{\\partial LL}{\\partial \\theta} = \\frac{y_{real}}{\\sigma(S_{team} - \\theta)} * \\sigma'(S_{team} - \\theta) * (-1) +\n",
    "\\frac{1-y_{real}}{1-\\sigma(S_{team} - \\theta)} * (-\\sigma'(S_{team} - \\theta)) * (-1) = \n",
    "-y_{real}*(1-\\sigma(S_{team} - \\theta)) + (1-y_{real})*\\sigma(S_{team} - \\theta)\n",
    "$<br>\n",
    "\n",
    "$\\frac{\\partial LL}{\\partial S_i} = \\frac{y_{real}}{\\sigma(S_{team} - \\theta)} * \\sigma'(S_{team} - \\theta) +\n",
    "\\frac{1-y_{real}}{1-\\sigma(S_{team} - \\theta)} * (-\\sigma'(S_{team} - \\theta)) = \n",
    "y_{real}*(1-\\sigma(S_{team} - \\theta)) - (1-y_{real})*\\sigma(S_{team} - \\theta)$<br>"
   ]
  },
  {
   "cell_type": "markdown",
   "id": "15da28a0",
   "metadata": {},
   "source": [
    "**Derivatives:** NOT DONE!\n",
    "\n",
    "$\\sigma'(x) = \\sigma(x)*(1-\\sigma(x))$\n",
    "\n",
    "$\\frac{\\partial LL}{\\partial \\theta} = \\frac{y_{real}}{\\sigma(S_{team} - \\theta + \\mathrm{isOnline} \\cdot \\gamma)} * \\sigma'(S_{team} - \\theta + \\mathrm{isOnline} \\cdot \\gamma) * (-1) +\n",
    "\\frac{1-y_{real}}{1-\\sigma(S_{team} - \\theta + \\mathrm{isOnline} \\cdot \\gamma)} * (-\\sigma'(S_{team} - \\theta + \\mathrm{isOnline} \\cdot \\gamma)) * (-1) = \n",
    "-y_{real}*(1-\\sigma(S_{team} - \\theta)) + (1-y_{real})*\\sigma(S_{team} - \\theta)\n",
    "$<br>\n",
    "\n",
    "$\\frac{\\partial LL}{\\partial S_i} = \\frac{y_{real}}{\\sigma(S_{team} - \\theta)} * \\sigma'(S_{team} - \\theta) +\n",
    "\\frac{1-y_{real}}{1-\\sigma(S_{team} - \\theta)} * (-\\sigma'(S_{team} - \\theta)) = \n",
    "y_{real}*(1-\\sigma(S_{team} - \\theta)) - (1-y_{real})*\\sigma(S_{team} - \\theta)$<br>\n",
    "\n",
    "$\\frac{\\partial LL}{\\partial \\gamma_i} = \\frac{y_{real}}{\\sigma(S_{team} - \\theta)} * \\sigma'(S_{team} - \\theta) +\n",
    "\\frac{1-y_{real}}{1-\\sigma(S_{team} - \\theta)} * (-\\sigma'(S_{team} - \\theta)) = \n",
    "y_{real}*(1-\\sigma(S_{team} - \\theta)) - (1-y_{real})*\\sigma(S_{team} - \\theta)$<br>"
   ]
  },
  {
   "cell_type": "markdown",
   "id": "19c059e4",
   "metadata": {},
   "source": [
    "**Short derivatives:**\n",
    "\n",
    "$\\frac{\\partial -LL}{\\partial \\theta} = +y_{real}*(1-\\sigma(S_{team} - \\theta + \\mathrm{isOnline} \\cdot \\gamma)) - (1-y_{real})*\\sigma(S_{team} - \\theta + \\mathrm{isOnline} \\cdot \\gamma)\n",
    "$<br>\n",
    "\n",
    "$\\frac{\\partial -LL}{\\partial S_i} = -y_{real}*(1-\\sigma(S_{team} - \\theta + \\mathrm{isOnline} \\cdot \\gamma)) + (1-y_{real})*\\sigma(S_{team} - \\theta + \\mathrm{isOnline} \\cdot \\gamma)$<br>\n",
    "\n",
    "$\\frac{\\partial -LL}{\\partial \\gamma} = +y_{real}* \\mathrm{isOnline} * (1-\\sigma(S_{team} - \\theta + \\mathrm{isOnline} \\cdot \\gamma)) - (1-y_{real}) * \\mathrm{isOnline} *\\sigma(S_{team} - \\theta + \\mathrm{isOnline} \\cdot \\gamma)\n",
    "$<br>\n",
    "\n",
    "**Gradient update**<br>\n",
    "$S_{i\\_new} = S_{i\\_old} - learning\\_rate * \\frac{\\partial LL}{\\partial S_i}$<br>\n",
    "$\\theta_{new} = \\theta_{old} - learning\\_rate * \\frac{\\partial LL}{\\partial \\theta}$<br>"
   ]
  },
  {
   "cell_type": "code",
   "execution_count": null,
   "id": "a108246a",
   "metadata": {},
   "outputs": [],
   "source": []
  }
 ],
 "metadata": {
  "kernelspec": {
   "display_name": "Python 3",
   "language": "python",
   "name": "python3"
  },
  "language_info": {
   "codemirror_mode": {
    "name": "ipython",
    "version": 3
   },
   "file_extension": ".py",
   "mimetype": "text/x-python",
   "name": "python",
   "nbconvert_exporter": "python",
   "pygments_lexer": "ipython3",
   "version": "3.7.3"
  }
 },
 "nbformat": 4,
 "nbformat_minor": 5
}
