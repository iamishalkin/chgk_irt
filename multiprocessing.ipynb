{
 "cells": [
  {
   "cell_type": "code",
   "execution_count": 1,
   "metadata": {},
   "outputs": [
    {
     "data": {
      "application/vnd.jupyter.widget-view+json": {
       "model_id": "b401d8a96ba54c3fbf90eaecda46e279",
       "version_major": 2,
       "version_minor": 0
      },
      "text/plain": [
       "HBox(children=(IntProgress(value=1, bar_style='info', max=1), HTML(value='')))"
      ]
     },
     "metadata": {},
     "output_type": "display_data"
    },
    {
     "name": "stdout",
     "output_type": "stream",
     "text": [
      "\n",
      "Vars loaded!\n"
     ]
    }
   ],
   "source": [
    "import random\n",
    "from tqdm import tqdm_notebook, tqdm\n",
    "tqdm_notebook().pandas()\n",
    "import pickle\n",
    "import numpy as np \n",
    "import pandas as pd\n",
    "# from pandarallel import pandarallel # for linux and mac\n",
    "# pandarallel.initialize()\n",
    "from sklearn.model_selection import train_test_split\n",
    "from utils import *\n",
    "# import shared_vars"
   ]
  },
  {
   "cell_type": "raw",
   "metadata": {},
   "source": [
    "READ=True\n",
    "if READ:\n",
    "    with open('results.pickle', 'rb') as f:\n",
    "        results = pickle.load(f)\n",
    "else:\n",
    "    with open('results.pickle', 'wb') as f:\n",
    "        pickle.dump(results, f)"
   ]
  },
  {
   "cell_type": "raw",
   "metadata": {},
   "source": [
    "results.columns"
   ]
  },
  {
   "cell_type": "raw",
   "metadata": {},
   "source": [
    "def explode(df, lst_cols, fill_value='', preserve_index=False):\n",
    "    # func to make long table\n",
    "    # make sure `lst_cols` is list-alike\n",
    "    if (lst_cols is not None\n",
    "        and len(lst_cols) > 0\n",
    "        and not isinstance(lst_cols, (list, tuple, np.ndarray, pd.Series))):\n",
    "        lst_cols = [lst_cols]\n",
    "    # all columns except `lst_cols`\n",
    "    idx_cols = df.columns.difference(lst_cols)\n",
    "    # calculate lengths of lists\n",
    "    lens = df[lst_cols[0]].str.len()\n",
    "    # preserve original index values    \n",
    "    idx = np.repeat(df.index.values, lens)\n",
    "    orders = [num for range_len in lens for num in range(range_len)]\n",
    "    # create \"exploded\" DF\n",
    "    res = (pd.DataFrame({\n",
    "                col:np.repeat(df[col].values, lens)\n",
    "                for col in idx_cols},\n",
    "                index=idx)\n",
    "             .assign(**{col:np.concatenate(df.loc[lens>0, col].values)\n",
    "                            for col in lst_cols}))\n",
    "    # append those rows that have empty lists\n",
    "    if (lens == 0).any():\n",
    "        # at least one list in cells is empty\n",
    "        res = (res.append(df.loc[lens==0, idx_cols], sort=False)\n",
    "                  .fillna(fill_value))\n",
    "    # revert the original index order\n",
    "    res = res.sort_index()\n",
    "    # reset index if requested\n",
    "    if not preserve_index:        \n",
    "        res = res.reset_index(drop=True)\n",
    "    \n",
    "    res.loc[:, 'q_numb'] = orders\n",
    "    return res"
   ]
  },
  {
   "cell_type": "raw",
   "metadata": {},
   "source": [
    "exp = explode(results.loc[:, ['idteam', 'idtournament', 'mask', 'players']], ['mask'], fill_value='', preserve_index=False)\\\n",
    "            .rename(columns={'mask': 'q_taken'})\n",
    "exp.head(1)"
   ]
  },
  {
   "cell_type": "raw",
   "metadata": {},
   "source": [
    "%%timeit -n1 -r1\n",
    "exp.loc[:, 'q_id'] = exp.idtournament * 1000 + exp.q_numb\n",
    "exp['q_taken'] = exp.q_taken.astype(int)"
   ]
  },
  {
   "cell_type": "code",
   "execution_count": 3,
   "metadata": {},
   "outputs": [
    {
     "data": {
      "text/html": [
       "<div>\n",
       "<style scoped>\n",
       "    .dataframe tbody tr th:only-of-type {\n",
       "        vertical-align: middle;\n",
       "    }\n",
       "\n",
       "    .dataframe tbody tr th {\n",
       "        vertical-align: top;\n",
       "    }\n",
       "\n",
       "    .dataframe thead th {\n",
       "        text-align: right;\n",
       "    }\n",
       "</style>\n",
       "<table border=\"1\" class=\"dataframe\">\n",
       "  <thead>\n",
       "    <tr style=\"text-align: right;\">\n",
       "      <th></th>\n",
       "      <th>idteam</th>\n",
       "      <th>idtournament</th>\n",
       "      <th>players</th>\n",
       "      <th>q_taken</th>\n",
       "      <th>q_numb</th>\n",
       "      <th>q_id</th>\n",
       "    </tr>\n",
       "  </thead>\n",
       "  <tbody>\n",
       "    <tr>\n",
       "      <th>0</th>\n",
       "      <td>209</td>\n",
       "      <td>3236</td>\n",
       "      <td>[5974, 7474, 13601, 15624, 19298, 32017]</td>\n",
       "      <td>1</td>\n",
       "      <td>0</td>\n",
       "      <td>3236000</td>\n",
       "    </tr>\n",
       "  </tbody>\n",
       "</table>\n",
       "</div>"
      ],
      "text/plain": [
       "   idteam  idtournament                                   players  q_taken  \\\n",
       "0     209          3236  [5974, 7474, 13601, 15624, 19298, 32017]        1   \n",
       "\n",
       "   q_numb     q_id  \n",
       "0       0  3236000  "
      ]
     },
     "execution_count": 3,
     "metadata": {},
     "output_type": "execute_result"
    }
   ],
   "source": [
    "shared_vars.exp.head(1)"
   ]
  },
  {
   "cell_type": "markdown",
   "metadata": {},
   "source": [
    "## Train test split"
   ]
  },
  {
   "cell_type": "code",
   "execution_count": 4,
   "metadata": {},
   "outputs": [],
   "source": [
    "train, test = train_test_split(shared_vars.exp, test_size=0.3, random_state=42)"
   ]
  },
  {
   "cell_type": "markdown",
   "metadata": {},
   "source": [
    "## Players skills and question difficulties as numpy arrays\n",
    "https://stackoverflow.com/questions/36652533/looking-up-large-sets-of-keys-dictionary-vs-numpy-array"
   ]
  },
  {
   "cell_type": "raw",
   "metadata": {},
   "source": [
    "LOAD = True\n",
    "if LOAD:\n",
    "    with open('skills.pickle', 'rb') as f:\n",
    "        skills = pickle.load(f)\n",
    "    with open('difficulties.pickle', 'rb') as f:\n",
    "        difficulties = pickle.load(f)\n",
    "else:\n",
    "    skill_ids = roster.sort_values('idplayer').idplayer.unique()\n",
    "    skills = np.array(list(zip(skill_ids, np.random.uniform(0,1, len(skill_ids))))   )\n",
    "\n",
    "    dif_ids = np.sort(exp.q_id.unique())\n",
    "    difficulties = np.array(list(zip(dif_ids, np.random.uniform(0,1, len(dif_ids))))   )"
   ]
  },
  {
   "cell_type": "code",
   "execution_count": null,
   "metadata": {},
   "outputs": [],
   "source": []
  },
  {
   "cell_type": "markdown",
   "metadata": {},
   "source": [
    "## Learning"
   ]
  },
  {
   "cell_type": "markdown",
   "metadata": {},
   "source": [
    "**Model**<br>\n",
    "$p(y=1| S_{team}, \\theta) = \\sigma(S_{team} - \\theta)$ <br>\n",
    "$S_{team}$ - team skill<br>\n",
    "$S_{team} = S_{player\\_1} + S_{player\\_2} + ... + S_{player\\_N}$<br>\n",
    "$\\theta_j$ - difficulty of question j<br>\n",
    "y - team answer, 1 for correct, 2 for incorrect<br>\n",
    "$p(y_{hat}=y_{real}| S_{team}, \\theta) = \\sigma(S_{team} - \\theta)^{y_{real}} * (1-\\sigma(S_{team} - \\theta))^{(1-y_{real})}$<br>\n",
    "<br>\n",
    "$LikelyHood = \\frac{1}{N}\\prod_{i=1}^{N} p(y_{hat\\_i}=y_{real\\_i}| S_{team}, \\theta)$<br>\n",
    "$log(LikelyHood) = LL = \\frac{1}{N}\\sum_{i=1}^{N} log(p(y_{hat\\_i}=y_{real\\_i}| S_{team}, \\theta))=\n",
    "y_{real}*log(\\sigma(S_{team} - \\theta)) + (1-y_{real})* log(1-\\sigma(S_{team} - \\theta))$<br>\n",
    "<br>\n",
    "$-log(LikelyHood) \\rightarrow min$ w.r.t. $S_{player\\_i}$ and $\\theta_j$"
   ]
  },
  {
   "cell_type": "markdown",
   "metadata": {},
   "source": [
    "**Derivatives:**\n",
    "\n",
    "$\\sigma'(x) = \\sigma(x)*(1-\\sigma(x))$\n",
    "\n",
    "$\\frac{\\partial LL}{\\partial \\theta} = \\frac{y_{real}}{\\sigma(S_{team} - \\theta)} * \\sigma'(S_{team} - \\theta) * (-1) +\n",
    "\\frac{1-y_{real}}{1-\\sigma(S_{team} - \\theta)} * (-\\sigma'(S_{team} - \\theta)) * (-1) = \n",
    "-y_{real}*(1-\\sigma(S_{team} - \\theta)) + (1-y_{real})*\\sigma(S_{team} - \\theta)\n",
    "$<br>\n",
    "\n",
    "$\\frac{\\partial LL}{\\partial S_i} = \\frac{y_{real}}{\\sigma(S_{team} - \\theta)} * \\sigma'(S_{team} - \\theta) +\n",
    "\\frac{1-y_{real}}{1-\\sigma(S_{team} - \\theta)} * (-\\sigma'(S_{team} - \\theta)) = \n",
    "y_{real}*(1-\\sigma(S_{team} - \\theta)) - (1-y_{real})*\\sigma(S_{team} - \\theta)$<br>\n"
   ]
  },
  {
   "cell_type": "markdown",
   "metadata": {},
   "source": [
    "**Short derivatives:**\n",
    "\n",
    "$\\frac{\\partial -LL}{\\partial \\theta} = +y_{real}*(1-\\sigma(S_{team} - \\theta)) - (1-y_{real})*\\sigma(S_{team} - \\theta)\n",
    "$<br>\n",
    "\n",
    "$\\frac{\\partial -LL}{\\partial S_i} = -y_{real}*(1-\\sigma(S_{team} - \\theta)) + (1-y_{real})*\\sigma(S_{team} - \\theta)$<br>\n"
   ]
  },
  {
   "cell_type": "markdown",
   "metadata": {},
   "source": [
    "**Gradient update**<br>\n",
    "$S_{i\\_new} = S_{i\\_old} - learning\\_rate * \\frac{\\partial LL}{\\partial S_i}$<br>\n",
    "$\\theta_{new} = \\theta_{old} - learning\\_rate * \\frac{\\partial LL}{\\partial \\theta}$<br>"
   ]
  },
  {
   "cell_type": "code",
   "execution_count": 8,
   "metadata": {},
   "outputs": [
    {
     "data": {
      "application/vnd.jupyter.widget-view+json": {
       "model_id": "c99ef968fd6246aa87366e663df88d09",
       "version_major": 2,
       "version_minor": 0
      },
      "text/plain": [
       "HBox(children=(IntProgress(value=0, max=200), HTML(value='')))"
      ]
     },
     "metadata": {},
     "output_type": "display_data"
    },
    {
     "name": "stdout",
     "output_type": "stream",
     "text": [
      "\n"
     ]
    },
    {
     "data": {
      "application/vnd.jupyter.widget-view+json": {
       "model_id": "0a895ce5b5b842aab3250dc08d090cd7",
       "version_major": 2,
       "version_minor": 0
      },
      "text/plain": [
       "HBox(children=(IntProgress(value=0, max=200), HTML(value='')))"
      ]
     },
     "metadata": {},
     "output_type": "display_data"
    },
    {
     "name": "stdout",
     "output_type": "stream",
     "text": [
      "\n"
     ]
    },
    {
     "data": {
      "application/vnd.jupyter.widget-view+json": {
       "model_id": "b31c744eeb054048a20a969d64f6b6f1",
       "version_major": 2,
       "version_minor": 0
      },
      "text/plain": [
       "HBox(children=(IntProgress(value=0, max=200), HTML(value='')))"
      ]
     },
     "metadata": {},
     "output_type": "display_data"
    },
    {
     "name": "stdout",
     "output_type": "stream",
     "text": [
      "\n",
      "8min 33s ± 0 ns per loop (mean ± std. dev. of 1 run, 1 loop each)\n"
     ]
    }
   ],
   "source": [
    "%%timeit -n1 -r1\n",
    "sgd(df = train, lr=0.5, epochs=200, batch_size=5000)\n",
    "sgd(df = train, lr=0.5, epochs=200, batch_size=5000)\n",
    "sgd(df = train, lr=0.5, epochs=200, batch_size=5000)"
   ]
  },
  {
   "cell_type": "code",
   "execution_count": null,
   "metadata": {},
   "outputs": [],
   "source": [
    "from multiprocessing import Pool\n",
    "from functools import partial"
   ]
  },
  {
   "cell_type": "code",
   "execution_count": 26,
   "metadata": {},
   "outputs": [],
   "source": [
    "df1 = shared_vars.difficulties.copy()"
   ]
  },
  {
   "cell_type": "code",
   "execution_count": 27,
   "metadata": {},
   "outputs": [],
   "source": [
    "processes = 3\n",
    "if __name__ ==  '__main__':\n",
    "    num_processors = 3\n",
    "    p=Pool(processes = num_processors)\n",
    "    sgd_part = partial(sgd, df=train, epochs=20, batch_size=5000)\n",
    "    p.map(sgd_part,[0.3]*processes)\n",
    " "
   ]
  },
  {
   "cell_type": "code",
   "execution_count": null,
   "metadata": {},
   "outputs": [],
   "source": [
    "shared_vars.difficulties == df1"
   ]
  },
  {
   "cell_type": "raw",
   "metadata": {},
   "source": [
    "sgd(df = train, lr=0.5, epochs=20000, batch_size=5000)\n",
    "sgd(df = train, lr=0.4, epochs=20000, batch_size=5000)\n",
    "sgd(df = train, lr=0.4, epochs=20000, batch_size=5000)\n",
    "# sgd(df = train, lr=0.5, epochs=20000, batch_size=5000)\n",
    "# sgd(lr=0.05, epochs=2000, batch_size=5000)\n",
    "# epochs 20k, batch 5k ETA 4:20 hours\n",
    "\n",
    "# sgd(lr=0.05, epochs=50, batch_size=1000)"
   ]
  },
  {
   "cell_type": "raw",
   "metadata": {},
   "source": [
    "DUMP=True\n",
    "if DUMP:\n",
    "    with open('skills.pickle', 'wb') as f:\n",
    "        pickle.dump(skills, f)\n",
    "    with open('difficulties.pickle', 'wb') as f:\n",
    "        pickle.dump(difficulties, f)"
   ]
  },
  {
   "cell_type": "code",
   "execution_count": 10,
   "metadata": {},
   "outputs": [],
   "source": [
    "def add_model_prob(df):\n",
    "    df.loc[:, 't_sigm'] = df.progress_apply(lambda row: sigmoid(team_performance(row['players']) -\n",
    "                                                                get_difficulties_by_q_id(row['q_id']) ), axis=1)\n",
    "    return df"
   ]
  },
  {
   "cell_type": "code",
   "execution_count": 23,
   "metadata": {},
   "outputs": [
    {
     "data": {
      "application/vnd.jupyter.widget-view+json": {
       "model_id": "d5bca7e3ca234769a1439ef28a864ebb",
       "version_major": 2,
       "version_minor": 0
      },
      "text/plain": [
       "HBox(children=(IntProgress(value=0, max=7184560), HTML(value='')))"
      ]
     },
     "metadata": {},
     "output_type": "display_data"
    },
    {
     "name": "stdout",
     "output_type": "stream",
     "text": [
      "\n"
     ]
    }
   ],
   "source": [
    "train = add_model_prob(train).copy(deep=True)"
   ]
  },
  {
   "cell_type": "code",
   "execution_count": 12,
   "metadata": {},
   "outputs": [],
   "source": [
    "def calculate_loss(df):\n",
    "    df.loc[:, 'one_loss'] = df['q_taken']*np.log(df['t_sigm']) + (1-df['q_taken'])*np.log(1-df['t_sigm'])\n",
    "    total_loss = -df['one_loss'].sum()\n",
    "    print(total_loss)"
   ]
  },
  {
   "cell_type": "code",
   "execution_count": 24,
   "metadata": {},
   "outputs": [
    {
     "name": "stdout",
     "output_type": "stream",
     "text": [
      "3542555.7185248444\n"
     ]
    }
   ],
   "source": [
    "calculate_loss(train)"
   ]
  },
  {
   "cell_type": "code",
   "execution_count": 13,
   "metadata": {},
   "outputs": [
    {
     "name": "stdout",
     "output_type": "stream",
     "text": [
      "3542555.7185248444\n"
     ]
    }
   ],
   "source": []
  },
  {
   "cell_type": "markdown",
   "metadata": {},
   "source": [
    "## ROC AUC"
   ]
  },
  {
   "cell_type": "code",
   "execution_count": 14,
   "metadata": {},
   "outputs": [
    {
     "data": {
      "application/vnd.jupyter.widget-view+json": {
       "model_id": "2d25668d245b4d009b34bca7690a3391",
       "version_major": 2,
       "version_minor": 0
      },
      "text/plain": [
       "HBox(children=(IntProgress(value=0, max=3079098), HTML(value='')))"
      ]
     },
     "metadata": {},
     "output_type": "display_data"
    },
    {
     "name": "stdout",
     "output_type": "stream",
     "text": [
      "\n"
     ]
    }
   ],
   "source": [
    "test = add_model_prob(test)"
   ]
  },
  {
   "cell_type": "code",
   "execution_count": 15,
   "metadata": {},
   "outputs": [],
   "source": [
    "from sklearn.metrics import roc_auc_score, roc_curve, auc"
   ]
  },
  {
   "cell_type": "code",
   "execution_count": 16,
   "metadata": {},
   "outputs": [
    {
     "data": {
      "text/plain": [
       "0.817588161125707"
      ]
     },
     "execution_count": 16,
     "metadata": {},
     "output_type": "execute_result"
    }
   ],
   "source": [
    "roc_auc_score(test.q_taken, test.t_sigm)"
   ]
  },
  {
   "cell_type": "code",
   "execution_count": 17,
   "metadata": {},
   "outputs": [],
   "source": [
    "import matplotlib.pyplot as plt\n",
    "fpr, tpr, thresholds = roc_curve(test.q_taken, test.t_sigm)\n",
    "roc_auc = auc(fpr, tpr)"
   ]
  },
  {
   "cell_type": "code",
   "execution_count": 18,
   "metadata": {},
   "outputs": [
    {
     "data": {
      "text/plain": [
       "[<matplotlib.lines.Line2D at 0x26030f27470>]"
      ]
     },
     "execution_count": 18,
     "metadata": {},
     "output_type": "execute_result"
    },
    {
     "data": {
      "image/png": "[encoded data removed]",
      "text/plain": [
       "<Figure size 432x288 with 1 Axes>"
      ]
     },
     "metadata": {
      "needs_background": "light"
     },
     "output_type": "display_data"
    }
   ],
   "source": [
    "plt.plot(fpr, tpr, lw=1, alpha=1)"
   ]
  },
  {
   "cell_type": "markdown",
   "metadata": {},
   "source": [
    "## Exploit"
   ]
  },
  {
   "cell_type": "code",
   "execution_count": null,
   "metadata": {},
   "outputs": [],
   "source": [
    "def at_least_same_taken_prob(probabilities, taken):\n",
    "    ques_amount = len(probabilities)\n",
    "    prob_matrix = np.zeros(shape=(ques_amount+1, ques_amount+1))\n",
    "    prob_matrix[0, 0] = 1\n",
    "    for i in range(ques_amount+1):\n",
    "        for j in range(1, ques_amount+1):\n",
    "            prob_matrix[i, j] = prob_matrix[i, j-1] * (1 - probabilities[j-1]) +\\\n",
    "                                prob_matrix[i-1, j-1] * probabilities[j-1]\n",
    "    return prob_matrix[taken:, -1].sum()"
   ]
  },
  {
   "cell_type": "code",
   "execution_count": null,
   "metadata": {},
   "outputs": [],
   "source": [
    "result_tr = train.groupby(['idtournament', 'idteam'])\\\n",
    "                 .progress_apply(lambda row: at_least_same_taken_prob(row['t_sigm'].tolist(), row['q_taken'].sum()))\\\n",
    "                 .reset_index()\\\n",
    "                 .rename(columns={0: 'prob'})\\\n",
    "                 .sort_values('prob')\\\n",
    "                 .reset_index(drop=True)"
   ]
  },
  {
   "cell_type": "code",
   "execution_count": null,
   "metadata": {},
   "outputs": [],
   "source": [
    "result_te = test.groupby(['idtournament', 'idteam'])\\\n",
    "                .progress_apply(lambda row: at_least_same_taken_prob(row['t_sigm'].tolist(), row['q_taken'].sum()))\\\n",
    "                .reset_index()\\\n",
    "                .rename(columns={0: 'prob'})\\\n",
    "                .sort_values('prob')\\\n",
    "                .reset_index(drop=True)"
   ]
  },
  {
   "cell_type": "code",
   "execution_count": null,
   "metadata": {},
   "outputs": [],
   "source": [
    "result_tr.head(20)"
   ]
  },
  {
   "cell_type": "code",
   "execution_count": null,
   "metadata": {},
   "outputs": [],
   "source": []
  },
  {
   "cell_type": "code",
   "execution_count": null,
   "metadata": {},
   "outputs": [],
   "source": []
  },
  {
   "cell_type": "code",
   "execution_count": null,
   "metadata": {},
   "outputs": [],
   "source": [
    "# zip(results.loc[results.questions_total == 0, ['idteam', 'idtournament']])\n",
    "# results.loc[results.questions_total == 0, 'idtournament'].tolist()\n",
    "res = pd.merge( result, results.loc[results.questions_total != 0, ['idteam', 'idtournament']], on=['idteam', 'idtournament'])"
   ]
  },
  {
   "cell_type": "code",
   "execution_count": null,
   "metadata": {},
   "outputs": [],
   "source": [
    "res.iloc[1000:1010]"
   ]
  },
  {
   "cell_type": "code",
   "execution_count": null,
   "metadata": {},
   "outputs": [],
   "source": [
    "def susp_team_res(team, tour):\n",
    "    susp_team = results.loc[(results.idteam == team) & (results.idtournament == tour), 'players'].item()\n",
    "    return results.loc[results.players.astype(str) == str(susp_team), :]"
   ]
  },
  {
   "cell_type": "code",
   "execution_count": null,
   "metadata": {},
   "outputs": [],
   "source": [
    "team = 4967\n",
    "tour = 4385"
   ]
  },
  {
   "cell_type": "code",
   "execution_count": null,
   "metadata": {},
   "outputs": [],
   "source": [
    "p=0.3\n",
    "i=0\n",
    "tmp = res.loc[res.prob > p, :]\n",
    "tmp = tmp.reset_index(drop=True)"
   ]
  },
  {
   "cell_type": "code",
   "execution_count": null,
   "metadata": {},
   "outputs": [],
   "source": [
    "i += 10\n",
    "team = tmp.idteam[i]\n",
    "tour = tmp.idtournament[i]\n",
    "tmp.prob[i]"
   ]
  },
  {
   "cell_type": "code",
   "execution_count": null,
   "metadata": {},
   "outputs": [],
   "source": [
    "susp_res = susp_team_res(team, tour)\n",
    "susp_res"
   ]
  },
  {
   "cell_type": "code",
   "execution_count": null,
   "metadata": {},
   "outputs": [],
   "source": [
    "tour"
   ]
  },
  {
   "cell_type": "code",
   "execution_count": null,
   "metadata": {},
   "outputs": [],
   "source": [
    "res.loc[(res.idteam == team) & (res.idtournament == tour), :]"
   ]
  },
  {
   "cell_type": "code",
   "execution_count": null,
   "metadata": {},
   "outputs": [],
   "source": [
    "len(susp_res['mask'].iloc[1])\n"
   ]
  },
  {
   "cell_type": "code",
   "execution_count": null,
   "metadata": {},
   "outputs": [],
   "source": [
    "results.loc[results.idtournament == tour, :]"
   ]
  },
  {
   "cell_type": "code",
   "execution_count": null,
   "metadata": {},
   "outputs": [],
   "source": [
    "grouped_t_res = exp.loc[exp.idtournament == tour, :]. groupby('idteam').q_taken.apply(lambda x: sum(x) / len(x)).reset_index()"
   ]
  },
  {
   "cell_type": "code",
   "execution_count": null,
   "metadata": {},
   "outputs": [],
   "source": [
    "grouped_t_res.loc[grouped_t_res.idteam == team]"
   ]
  },
  {
   "cell_type": "code",
   "execution_count": null,
   "metadata": {},
   "outputs": [],
   "source": [
    "grouped_t_res.q_taken.mean()"
   ]
  },
  {
   "cell_type": "code",
   "execution_count": null,
   "metadata": {},
   "outputs": [],
   "source": [
    "roster\n"
   ]
  }
 ],
 "metadata": {
  "kernelspec": {
   "display_name": "Python 3",
   "language": "python",
   "name": "python3"
  },
  "language_info": {
   "codemirror_mode": {
    "name": "ipython",
    "version": 3
   },
   "file_extension": ".py",
   "mimetype": "text/x-python",
   "name": "python",
   "nbconvert_exporter": "python",
   "pygments_lexer": "ipython3",
   "version": "3.7.1"
  }
 },
 "nbformat": 4,
 "nbformat_minor": 2
}
