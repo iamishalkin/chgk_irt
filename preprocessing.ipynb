{
 "cells": [
  {
   "cell_type": "code",
   "execution_count": 1,
   "metadata": {},
   "outputs": [],
   "source": [
    "import pandas as pd\n",
    "import random\n",
    "import numpy as np\n",
    "from tqdm import tqdm_notebook, tqdm\n",
    "tqdm.pandas()\n",
    "import pickle\n",
    "# from pandarallel import pandarallel # for linux and mac\n",
    "# pandarallel.initialize()"
   ]
  },
  {
   "cell_type": "code",
   "execution_count": 2,
   "metadata": {},
   "outputs": [],
   "source": [
    "results = pd.read_csv('results.csv')\n",
    "results.loc[:, 'mask'] = results.loc[:, 'mask'].str.replace('X', '')\n",
    "roster = pd.read_csv('roster.csv')#.set_index('idplayer')\n",
    "tournaments = pd.read_csv('tournaments.csv').set_index('idtournament')\n",
    "tournaments = tournaments.loc[~tournaments.questions_total.isnull(), :]\n",
    "common_tours = list(set(tournaments.index).intersection(set(results.idtournament)))\n",
    "results = results.loc[results.idtournament.isin(common_tours), :]\n",
    "tournaments = tournaments.loc[common_tours, :]\n",
    "\n",
    "q_total = pd.DataFrame(results.groupby('idtournament').first()\\\n",
    "                       .loc[:, 'mask'].str.len()).dropna().rename(columns={'mask': 'questions_total'})\n",
    "tournaments = pd.merge(tournaments.drop(columns=['questions_total']), q_total, left_index=True, right_index=True)"
   ]
  },
  {
   "cell_type": "code",
   "execution_count": 3,
   "metadata": {},
   "outputs": [],
   "source": [
    "ineligible_tournaments = [1521, 1526, 1531, 1534, 1780, 1817, 1849, 1854, 1858, 1885, 1893, 1902, 1925, 1926, 1928,\n",
    "                          1931, 1960, 2025, 2040, 2077, 2087, 2128, 2147, 2151, 2166, 2183, 2291, 2345, 2346, 2472,\n",
    "                          2479, 2512, 2521, 2578, 2611, 2707, 2732, 2763, 2783, 2833, 3130, 3162, 3231, 3510, 3589,\n",
    "                          3590, 3617, 4011, 4169, 4375, 4469, 4481, 4497, 4713, 4714, 4816, 4860, 4881, 4913, 4946,\n",
    "                          4969, 4983, 4984, 4989, 4990, 4992, 5032, 5054, 5097, 5102, 5106, 5121, 5126, 5160, 5178,\n",
    "                          5210, 5215, 5221, 5239, 5241, 5247, 5299, 5310,\n",
    "                          # nan tours\n",
    "                          1954, 1989, 1970, 1810, 1917, 2373, 2219, 1969,  314, 1824, 2102, 2241, 2249, 2014, 2220,\n",
    "                          2363, 2703, 2234, 2417, 2171, 2126, 1900, 2013, 2394, 1792, 1689, 1590, 1987, 1895, 1991,\n",
    "                          2119, 1951, 1899,1898, 2224, 1976, 2100\n",
    "                         ]\n",
    "results = results.loc[~results.idtournament.isin(ineligible_tournaments), :]\n",
    "results.loc[:, 'mask'] = results.loc[:, 'mask'].apply(lambda x: list(str(x)))\n",
    "roster = roster.loc[~roster.idtournament.isin(ineligible_tournaments), :]"
   ]
  },
  {
   "cell_type": "code",
   "execution_count": 4,
   "metadata": {},
   "outputs": [
    {
     "name": "stderr",
     "output_type": "stream",
     "text": [
      "100%|████████████████████████████████████████████████████████████████████████████████████████████████████████████████████████████████████████████████| 303277/303277 [47:10<00:00, 107.14it/s]\n"
     ]
    }
   ],
   "source": [
    "results.loc[:, 'players'] = results.progress_apply(lambda row: np.sort(np.array(roster.loc[(roster.idteam == row['idteam']) & \n",
    "                                           (roster.idtournament == row['idtournament']), 'idplayer'].tolist())), axis=1)\n",
    "results = results.loc[results.players.str.len() != 0, :]"
   ]
  },
  {
   "cell_type": "code",
   "execution_count": 5,
   "metadata": {},
   "outputs": [],
   "source": [
    "READ=True\n",
    "if READ:\n",
    "    with open('results.pickle', 'rb') as f:\n",
    "        results = pickle.load(f)\n",
    "else:\n",
    "    with open('results.pickle', 'wb') as f:\n",
    "        pickle.dump(results, f)"
   ]
  },
  {
   "cell_type": "code",
   "execution_count": 6,
   "metadata": {},
   "outputs": [],
   "source": [
    "def explode(df, lst_cols, fill_value='', preserve_index=False):\n",
    "    # make sure `lst_cols` is list-alike\n",
    "    if (lst_cols is not None\n",
    "        and len(lst_cols) > 0\n",
    "        and not isinstance(lst_cols, (list, tuple, np.ndarray, pd.Series))):\n",
    "        lst_cols = [lst_cols]\n",
    "    # all columns except `lst_cols`\n",
    "    idx_cols = df.columns.difference(lst_cols)\n",
    "    # calculate lengths of lists\n",
    "    lens = df[lst_cols[0]].str.len()\n",
    "    # preserve original index values    \n",
    "    idx = np.repeat(df.index.values, lens)\n",
    "    orders = [num for range_len in lens for num in range(range_len)]\n",
    "    # create \"exploded\" DF\n",
    "    res = (pd.DataFrame({\n",
    "                col:np.repeat(df[col].values, lens)\n",
    "                for col in idx_cols},\n",
    "                index=idx)\n",
    "             .assign(**{col:np.concatenate(df.loc[lens>0, col].values)\n",
    "                            for col in lst_cols}))\n",
    "    # append those rows that have empty lists\n",
    "    if (lens == 0).any():\n",
    "        # at least one list in cells is empty\n",
    "        res = (res.append(df.loc[lens==0, idx_cols], sort=False)\n",
    "                  .fillna(fill_value))\n",
    "    # revert the original index order\n",
    "    res = res.sort_index()\n",
    "    # reset index if requested\n",
    "    if not preserve_index:        \n",
    "        res = res.reset_index(drop=True)\n",
    "    \n",
    "    res.loc[:, 'q_numb'] = orders\n",
    "    return res"
   ]
  },
  {
   "cell_type": "code",
   "execution_count": 7,
   "metadata": {},
   "outputs": [
    {
     "data": {
      "text/html": [
       "<div>\n",
       "<style scoped>\n",
       "    .dataframe tbody tr th:only-of-type {\n",
       "        vertical-align: middle;\n",
       "    }\n",
       "\n",
       "    .dataframe tbody tr th {\n",
       "        vertical-align: top;\n",
       "    }\n",
       "\n",
       "    .dataframe thead th {\n",
       "        text-align: right;\n",
       "    }\n",
       "</style>\n",
       "<table border=\"1\" class=\"dataframe\">\n",
       "  <thead>\n",
       "    <tr style=\"text-align: right;\">\n",
       "      <th></th>\n",
       "      <th>idteam</th>\n",
       "      <th>idtournament</th>\n",
       "      <th>players</th>\n",
       "      <th>q_taken</th>\n",
       "      <th>q_numb</th>\n",
       "    </tr>\n",
       "  </thead>\n",
       "  <tbody>\n",
       "    <tr>\n",
       "      <th>0</th>\n",
       "      <td>209</td>\n",
       "      <td>3236</td>\n",
       "      <td>[5974, 7474, 13601, 15624, 19298, 32017]</td>\n",
       "      <td>1</td>\n",
       "      <td>0</td>\n",
       "    </tr>\n",
       "  </tbody>\n",
       "</table>\n",
       "</div>"
      ],
      "text/plain": [
       "   idteam  idtournament                                   players q_taken  \\\n",
       "0     209          3236  [5974, 7474, 13601, 15624, 19298, 32017]       1   \n",
       "\n",
       "   q_numb  \n",
       "0       0  "
      ]
     },
     "execution_count": 7,
     "metadata": {},
     "output_type": "execute_result"
    }
   ],
   "source": [
    "exp = explode(results.loc[:, ['idteam', 'idtournament', 'mask', 'players']], ['mask'], fill_value='', preserve_index=False)\\\n",
    "            .rename(columns={'mask': 'q_taken'})\n",
    "exp.head(1)"
   ]
  },
  {
   "cell_type": "code",
   "execution_count": 8,
   "metadata": {},
   "outputs": [
    {
     "name": "stdout",
     "output_type": "stream",
     "text": [
      "1.22 s ± 0 ns per loop (mean ± std. dev. of 1 run, 1 loop each)\n"
     ]
    }
   ],
   "source": [
    "%%timeit -n1 -r1\n",
    "# exp.loc[:, 'q_id_old'] = exp.idtournament.map(str) + \"_\" + exp.idteam.map(str) + \"_\" + exp.q_numb.map(str)\n",
    "# exp.loc[:, 'q_id'] = (exp.idtournament.map(str) + \"0000\" + exp.idteam.map(str) + \"0000\" + exp.q_numb.map(str)).map(int)\n",
    "exp.loc[:, 'q_id'] = exp.idtournament * 1000000000 + exp.idteam * 1000 + exp.q_numb\n",
    "exp['q_taken'] = exp.q_taken.astype(int)\n",
    "# len(exp.q_id.unique()) == len(exp.q_id_old.unique()) check for losses"
   ]
  },
  {
   "cell_type": "code",
   "execution_count": 9,
   "metadata": {},
   "outputs": [
    {
     "data": {
      "text/html": [
       "<div>\n",
       "<style scoped>\n",
       "    .dataframe tbody tr th:only-of-type {\n",
       "        vertical-align: middle;\n",
       "    }\n",
       "\n",
       "    .dataframe tbody tr th {\n",
       "        vertical-align: top;\n",
       "    }\n",
       "\n",
       "    .dataframe thead th {\n",
       "        text-align: right;\n",
       "    }\n",
       "</style>\n",
       "<table border=\"1\" class=\"dataframe\">\n",
       "  <thead>\n",
       "    <tr style=\"text-align: right;\">\n",
       "      <th></th>\n",
       "      <th>idteam</th>\n",
       "      <th>idtournament</th>\n",
       "      <th>players</th>\n",
       "      <th>q_taken</th>\n",
       "      <th>q_numb</th>\n",
       "      <th>q_id</th>\n",
       "    </tr>\n",
       "  </thead>\n",
       "  <tbody>\n",
       "    <tr>\n",
       "      <th>0</th>\n",
       "      <td>209</td>\n",
       "      <td>3236</td>\n",
       "      <td>[5974, 7474, 13601, 15624, 19298, 32017]</td>\n",
       "      <td>1</td>\n",
       "      <td>0</td>\n",
       "      <td>3236000209000</td>\n",
       "    </tr>\n",
       "  </tbody>\n",
       "</table>\n",
       "</div>"
      ],
      "text/plain": [
       "   idteam  idtournament                                   players  q_taken  \\\n",
       "0     209          3236  [5974, 7474, 13601, 15624, 19298, 32017]        1   \n",
       "\n",
       "   q_numb           q_id  \n",
       "0       0  3236000209000  "
      ]
     },
     "execution_count": 9,
     "metadata": {},
     "output_type": "execute_result"
    }
   ],
   "source": [
    "exp.head(1)"
   ]
  },
  {
   "cell_type": "markdown",
   "metadata": {},
   "source": [
    "## Players skills and question difficulties as numpy arrays\n",
    "https://stackoverflow.com/questions/36652533/looking-up-large-sets-of-keys-dictionary-vs-numpy-array"
   ]
  },
  {
   "cell_type": "code",
   "execution_count": 10,
   "metadata": {},
   "outputs": [],
   "source": [
    "skill_ids = roster.sort_values('idplayer').idplayer.unique()\n",
    "skills = np.array(list(zip(skill_ids, np.random.uniform(0,1, len(skill_ids))))   )\n",
    "\n",
    "# key_set = np.array([15,17,19])\n",
    "# row_idx = np.searchsorted(skills[:,0],key_set)[key_set.argsort()]\n",
    "# values = skills[row_idx, :]"
   ]
  },
  {
   "cell_type": "code",
   "execution_count": null,
   "metadata": {},
   "outputs": [],
   "source": [
    "dif_ids = np.sort(exp.q_id.unique())\n",
    "difficulties = np.array(list(zip(dif_ids, np.random.uniform(0,1, len(dif_ids))))   )"
   ]
  },
  {
   "cell_type": "code",
   "execution_count": 11,
   "metadata": {},
   "outputs": [],
   "source": [
    "# row_idx = np.searchsorted(skills[:,0], key_set)[key_set.argsort()]\n",
    "# values = skills[row_idx, :]\n",
    "def team_performance(players):\n",
    "#     row_idx = np.searchsorted(skills[:,0], key_set)[key_set.argsort()]\n",
    "#     row_idx = np.searchsorted(skills[:,0], players)\n",
    "#     values = skills[row_idx, 1]\n",
    "    return np.mean(\n",
    "        skills[np.searchsorted(skills[:,0], players), 1] \n",
    "    )\n",
    "def get_difficulties_by_q_id(q_ids):\n",
    "    return difficulties[np.searchsorted(difficulties[:,0], q_ids), 1]#[q_ids.argsort()]\n",
    "def sigmoid(x):\n",
    "    return 1 / (1 + pd.np.exp(-x))"
   ]
  },
  {
   "cell_type": "markdown",
   "metadata": {},
   "source": [
    "## Learning"
   ]
  },
  {
   "cell_type": "markdown",
   "metadata": {},
   "source": [
    "**Model**<br>\n",
    "$p(y=1| S_{team}, \\theta) = \\sigma(S_{team} - \\theta)$ <br>\n",
    "$S_{team}$ - team skill<br>\n",
    "$S_{team} = S_{player\\_1} + S_{player\\_2} + ... + S_{player\\_N}$<br>\n",
    "$\\theta_j$ - difficulty of question j<br>\n",
    "y - team answer, 1 for correct, 2 for incorrect<br>\n",
    "$p(y_{hat}=y_{real}| S_{team}, \\theta) = \\sigma(S_{team} - \\theta)^{y_{real}} * (1-\\sigma(S_{team} - \\theta))^{(1-y_{real})}$<br>\n",
    "<br>\n",
    "$LikelyHood = \\frac{1}{N}\\prod_{i=1}^{N} p(y_{hat\\_i}=y_{real\\_i}| S_{team}, \\theta)$<br>\n",
    "$log(LikelyHood) = LL = \\frac{1}{N}\\sum_{i=1}^{N} log(p(y_{hat\\_i}=y_{real\\_i}| S_{team}, \\theta))=\n",
    "y_{real}*log(\\sigma(S_{team} - \\theta)) + (1-y_{real})* log(1-\\sigma(S_{team} - \\theta))$<br>\n",
    "<br>\n",
    "$-log(LikelyHood) \\rightarrow min$ w.r.t. $S_{player\\_i}$ and $\\theta_j$"
   ]
  },
  {
   "cell_type": "markdown",
   "metadata": {},
   "source": [
    "**Derivatives:**\n",
    "\n",
    "$\\sigma'(x) = \\sigma(x)*(1-\\sigma(x))$\n",
    "\n",
    "$\\frac{\\partial LL}{\\partial \\theta} = \\frac{y_{real}}{\\sigma(S_{team} - \\theta)} * \\sigma'(S_{team} - \\theta) * (-1) +\n",
    "\\frac{1-y_{real}}{1-\\sigma(S_{team} - \\theta)} * (-\\sigma'(S_{team} - \\theta)) * (-1) = \n",
    "-y_{real}*(1-\\sigma(S_{team} - \\theta)) + (1-y_{real})*\\sigma(S_{team} - \\theta)\n",
    "$<br>\n",
    "\n",
    "$\\frac{\\partial LL}{\\partial S_i} = \\frac{y_{real}}{\\sigma(S_{team} - \\theta)} * \\sigma'(S_{team} - \\theta) +\n",
    "\\frac{1-y_{real}}{1-\\sigma(S_{team} - \\theta)} * (-\\sigma'(S_{team} - \\theta)) = \n",
    "y_{real}*(1-\\sigma(S_{team} - \\theta)) - (1-y_{real})*\\sigma(S_{team} - \\theta)$<br>\n"
   ]
  },
  {
   "cell_type": "markdown",
   "metadata": {},
   "source": [
    "**Short derivatives:**\n",
    "\n",
    "$\\frac{\\partial -LL}{\\partial \\theta} = +y_{real}*(1-\\sigma(S_{team} - \\theta)) - (1-y_{real})*\\sigma(S_{team} - \\theta)\n",
    "$<br>\n",
    "\n",
    "$\\frac{\\partial -LL}{\\partial S_i} = -y_{real}*(1-\\sigma(S_{team} - \\theta)) + (1-y_{real})*\\sigma(S_{team} - \\theta)$<br>\n"
   ]
  },
  {
   "cell_type": "markdown",
   "metadata": {},
   "source": [
    "**Gradient update**<br>\n",
    "$S_{i\\_new} = S_{i\\_old} - learning\\_rate * \\frac{\\partial LL}{\\partial S_i}$<br>\n",
    "$\\theta_{new} = \\theta_{old} - learning\\_rate * \\frac{\\partial LL}{\\partial \\theta}$<br>"
   ]
  },
  {
   "cell_type": "code",
   "execution_count": null,
   "metadata": {},
   "outputs": [],
   "source": [
    "def sgd(lr=0.01, epochs=10, batch_size=16):\n",
    "    batch = exp.sample(n=batch_size)\n",
    "    "
   ]
  },
  {
   "cell_type": "raw",
   "metadata": {},
   "source": [
    "batch_size = 16\n",
    "batch = exp.sample(n=batch_size)\n",
    "batch.head()"
   ]
  },
  {
   "cell_type": "code",
   "execution_count": 17,
   "metadata": {},
   "outputs": [],
   "source": [
    "t_perf = batch['players'].apply(lambda members: team_performance(members))"
   ]
  },
  {
   "cell_type": "code",
   "execution_count": 18,
   "metadata": {},
   "outputs": [],
   "source": [
    "q_dif = batch['q_id'].apply(lambda question: get_difficulties_by_q_id(question))"
   ]
  },
  {
   "cell_type": "code",
   "execution_count": 19,
   "metadata": {},
   "outputs": [],
   "source": []
  },
  {
   "cell_type": "code",
   "execution_count": 20,
   "metadata": {},
   "outputs": [],
   "source": [
    "team_sigmoid = sigmoid(t_perf - q_dif)"
   ]
  },
  {
   "cell_type": "code",
   "execution_count": 22,
   "metadata": {},
   "outputs": [],
   "source": [
    "lr = 0.1\n",
    "q_dif_update = lr * (batch['q_taken'] * (1-team_sigmoid) - (1-batch['q_taken'])*team_sigmoid)\n",
    "difficulties[np.searchsorted(difficulties[:,0], batch['q_id']), 1] -= q_dif_update"
   ]
  },
  {
   "cell_type": "code",
   "execution_count": 23,
   "metadata": {},
   "outputs": [],
   "source": [
    "skill_update = -(lr * (batch['q_taken'] * (1-team_sigmoid) - (1-batch['q_taken'])*team_sigmoid) /\n",
    "                 batch['players'].str.len())"
   ]
  },
  {
   "cell_type": "raw",
   "metadata": {},
   "source": [
    "skills[np.searchsorted(skills[:,0], ), 1]"
   ]
  },
  {
   "cell_type": "code",
   "execution_count": 29,
   "metadata": {},
   "outputs": [],
   "source": [
    "zeroes = np.zeros((batch_size,batch['players'].str.len().max()))"
   ]
  },
  {
   "cell_type": "code",
   "execution_count": null,
   "metadata": {},
   "outputs": [],
   "source": [
    "for idx in range(batch_size):\n",
    "    print(skills[np.searchsorted(skills[:,0], batch['players'].iloc[idx]), 1])"
   ]
  },
  {
   "cell_type": "code",
   "execution_count": 41,
   "metadata": {},
   "outputs": [
    {
     "name": "stdout",
     "output_type": "stream",
     "text": [
      "[0.55964895 0.6910353  0.15193916 0.64960539 0.04649038]\n",
      "[0.54773597 0.67912232 0.14002618 0.63769241 0.0345774 ]\n",
      "[0.79463551 0.47940093 0.16241016 0.4066088  0.5953737  0.80056105]\n",
      "[0.80125594 0.48602136 0.16903059 0.41322923 0.60199413 0.80718148]\n",
      "[0.76841001 0.62753037 0.23634695 0.28896515 0.16351539]\n",
      "[0.75725232 0.61637269 0.22518927 0.27780746 0.15235771]\n",
      "[0.25935486 0.95127482 0.79299102 0.95562479]\n",
      "[0.24439126 0.93631122 0.77802742 0.94066119]\n",
      "[0.08876256 0.90818403 0.01307916 0.59447537 0.8869077  0.27444528]\n",
      "[0.07892583 0.8983473  0.00324243 0.58463864 0.87707097 0.26460855]\n",
      "[0.13741839 0.86195292 0.31794043 0.31840741 0.84746763 0.23598064]\n",
      "[0.1451696  0.86970413 0.32569164 0.32615862 0.85521884 0.24373185]\n",
      "[0.04594022 0.75717589 0.37879565 0.68536547 0.71140926 0.17251788\n",
      " 0.95235363 0.00291672]\n",
      "[ 0.03873937  0.74997505  0.37159481  0.67816463  0.70420841  0.16531703\n",
      "  0.94515278 -0.00428413]\n",
      "[0.08724148 0.1451696  0.52572232 0.60972037 0.36352078 0.86857864\n",
      " 0.47049376 0.90759374]\n",
      "[0.09488976 0.15281788 0.5333706  0.61736865 0.37116906 0.87622692\n",
      " 0.47814204 0.91524202]\n",
      "[0.15753523 0.59162246 0.12241179 0.21480343 0.29587997 0.72871497]\n",
      "[0.14780034 0.58188758 0.11267691 0.20506855 0.28614509 0.71898009]\n",
      "[0.57270453 0.04118509 0.23373336 0.31316743 0.92464986 0.11612513]\n",
      "[0.5835863  0.05206685 0.24461512 0.32404919 0.93553162 0.1270069 ]\n",
      "[0.55900712 0.73775081 0.6344171  0.77849402 0.11294397 0.90538605\n",
      " 0.59821569]\n",
      "[0.56712503 0.74586872 0.64253501 0.78661193 0.12106188 0.91350396\n",
      " 0.60633359]\n",
      "[0.4143861  0.46776216 0.69018621 0.97236028 0.70286621 0.2321522 ]\n",
      "[0.40625649 0.45963255 0.68205661 0.96423068 0.6947366  0.2240226 ]\n",
      "[0.10940029 0.37567707 0.33036051 0.61135173 0.40459066]\n",
      "[0.10071722 0.36699401 0.32167744 0.60266866 0.39590759]\n",
      "[0.98092243 0.58633014 0.12791244 0.14364887 0.84335633 0.56535097]\n",
      "[0.98886466 0.59427237 0.13585467 0.15159109 0.85129856 0.5732932 ]\n",
      "[0.3459549  0.52108832 0.46471784 0.7625955  0.57183915 0.91705487]\n",
      "[0.35353503 0.52866845 0.47229797 0.77017563 0.57941928 0.92463501]\n",
      "[0.78118028 0.74840505 0.55505682 0.3168236 ]\n",
      "[0.76573354 0.73295831 0.53961008 0.30137686]\n"
     ]
    }
   ],
   "source": [
    "for idx in range(batch_size):\n",
    "    skills[np.searchsorted(skills[:,0], batch['players'].iloc[idx]), 1] -= skill_update.iloc[idx]"
   ]
  },
  {
   "cell_type": "code",
   "execution_count": 35,
   "metadata": {},
   "outputs": [
    {
     "data": {
      "text/plain": [
       "array([ 79580,  84041, 108140, 108781, 108782])"
      ]
     },
     "execution_count": 35,
     "metadata": {},
     "output_type": "execute_result"
    }
   ],
   "source": [
    "batch['players'].iloc[0]"
   ]
  },
  {
   "cell_type": "code",
   "execution_count": null,
   "metadata": {},
   "outputs": [],
   "source": []
  },
  {
   "cell_type": "code",
   "execution_count": 26,
   "metadata": {},
   "outputs": [
    {
     "data": {
      "text/plain": [
       "(16,)"
      ]
     },
     "execution_count": 26,
     "metadata": {},
     "output_type": "execute_result"
    }
   ],
   "source": [
    "np.array(batch['players'].tolist()).shape\n"
   ]
  },
  {
   "cell_type": "code",
   "execution_count": null,
   "metadata": {},
   "outputs": [],
   "source": [
    "batch['players'].str.len().max()"
   ]
  },
  {
   "cell_type": "code",
   "execution_count": null,
   "metadata": {},
   "outputs": [],
   "source": [
    "batch['players'].apply(lambda x: x)"
   ]
  },
  {
   "cell_type": "code",
   "execution_count": null,
   "metadata": {},
   "outputs": [],
   "source": []
  },
  {
   "cell_type": "code",
   "execution_count": null,
   "metadata": {},
   "outputs": [],
   "source": []
  },
  {
   "cell_type": "code",
   "execution_count": null,
   "metadata": {},
   "outputs": [],
   "source": [
    "sum(exp.players.str.len() == 0)"
   ]
  },
  {
   "cell_type": "code",
   "execution_count": null,
   "metadata": {},
   "outputs": [],
   "source": [
    "batch['players'].str.len()"
   ]
  },
  {
   "cell_type": "code",
   "execution_count": null,
   "metadata": {},
   "outputs": [],
   "source": [
    "batch['players']"
   ]
  },
  {
   "cell_type": "code",
   "execution_count": null,
   "metadata": {},
   "outputs": [],
   "source": []
  },
  {
   "cell_type": "code",
   "execution_count": null,
   "metadata": {},
   "outputs": [],
   "source": []
  },
  {
   "cell_type": "code",
   "execution_count": null,
   "metadata": {},
   "outputs": [],
   "source": []
  }
 ],
 "metadata": {
  "kernelspec": {
   "display_name": "Python 3",
   "language": "python",
   "name": "python3"
  },
  "language_info": {
   "codemirror_mode": {
    "name": "ipython",
    "version": 3
   },
   "file_extension": ".py",
   "mimetype": "text/x-python",
   "name": "python",
   "nbconvert_exporter": "python",
   "pygments_lexer": "ipython3",
   "version": "3.7.1"
  }
 },
 "nbformat": 4,
 "nbformat_minor": 2
}
