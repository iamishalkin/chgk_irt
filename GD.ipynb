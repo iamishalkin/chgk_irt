{
 "cells": [
  {
   "cell_type": "code",
   "execution_count": 1,
   "metadata": {},
   "outputs": [],
   "source": [
    "import pandas as pd\n",
    "import random"
   ]
  },
  {
   "cell_type": "code",
   "execution_count": 2,
   "metadata": {},
   "outputs": [],
   "source": [
    "TRAIN=False"
   ]
  },
  {
   "cell_type": "code",
   "execution_count": 3,
   "metadata": {},
   "outputs": [],
   "source": [
    "results = pd.read_csv('results.csv')\n",
    "results.loc[:, 'mask'] = results.loc[:, 'mask'].str.replace('X', '')\n",
    "roster = pd.read_csv('roster.csv').set_index('idplayer')\n",
    "tournaments = pd.read_csv('tournaments.csv').set_index('idtournament')\n",
    "tournaments = tournaments.loc[~tournaments.questions_total.isnull(), :]\n",
    "common_tours = list(set(tournaments.index).intersection(set(results.idtournament)))\n",
    "results = results.loc[results.idtournament.isin(common_tours), :]\n",
    "tournaments = tournaments.loc[common_tours, :]\n",
    "\n",
    "q_total = pd.DataFrame(results.groupby('idtournament').first()\\\n",
    "                       .loc[:, 'mask'].str.len()).dropna().rename(columns={'mask': 'questions_total'})\n",
    "tournaments = pd.merge(tournaments.drop(columns=['questions_total']), q_total, left_index=True, right_index=True)"
   ]
  },
  {
   "cell_type": "code",
   "execution_count": 4,
   "metadata": {},
   "outputs": [
    {
     "data": {
      "text/html": [
       "<div>\n",
       "<style scoped>\n",
       "    .dataframe tbody tr th:only-of-type {\n",
       "        vertical-align: middle;\n",
       "    }\n",
       "\n",
       "    .dataframe tbody tr th {\n",
       "        vertical-align: top;\n",
       "    }\n",
       "\n",
       "    .dataframe thead th {\n",
       "        text-align: right;\n",
       "    }\n",
       "</style>\n",
       "<table border=\"1\" class=\"dataframe\">\n",
       "  <thead>\n",
       "    <tr style=\"text-align: right;\">\n",
       "      <th></th>\n",
       "      <th>name</th>\n",
       "      <th>town</th>\n",
       "      <th>long_name</th>\n",
       "      <th>date_start</th>\n",
       "      <th>date_end</th>\n",
       "      <th>tour_count</th>\n",
       "      <th>tour_questions</th>\n",
       "      <th>tour_ques_per_tour</th>\n",
       "      <th>type_name</th>\n",
       "      <th>main_payment_value</th>\n",
       "      <th>discounted_payment_value</th>\n",
       "      <th>discounted_payment_reason</th>\n",
       "      <th>date_requests_allowed_to</th>\n",
       "      <th>comment</th>\n",
       "      <th>site_url</th>\n",
       "      <th>main_payment_currency</th>\n",
       "      <th>discounted_payment_currency</th>\n",
       "      <th>questions_total</th>\n",
       "    </tr>\n",
       "    <tr>\n",
       "      <th>idtournament</th>\n",
       "      <th></th>\n",
       "      <th></th>\n",
       "      <th></th>\n",
       "      <th></th>\n",
       "      <th></th>\n",
       "      <th></th>\n",
       "      <th></th>\n",
       "      <th></th>\n",
       "      <th></th>\n",
       "      <th></th>\n",
       "      <th></th>\n",
       "      <th></th>\n",
       "      <th></th>\n",
       "      <th></th>\n",
       "      <th></th>\n",
       "      <th></th>\n",
       "      <th></th>\n",
       "      <th></th>\n",
       "    </tr>\n",
       "  </thead>\n",
       "  <tbody>\n",
       "    <tr>\n",
       "      <th>2</th>\n",
       "      <td>Летние зори</td>\n",
       "      <td>Саранск</td>\n",
       "      <td>NaN</td>\n",
       "      <td>2003-08-09 00:00:00</td>\n",
       "      <td>2003-08-09 00:00:00</td>\n",
       "      <td>3.0</td>\n",
       "      <td>15.0</td>\n",
       "      <td>NaN</td>\n",
       "      <td>Обычный</td>\n",
       "      <td>NaN</td>\n",
       "      <td>NaN</td>\n",
       "      <td>NaN</td>\n",
       "      <td>NaN</td>\n",
       "      <td>NaN</td>\n",
       "      <td>NaN</td>\n",
       "      <td>NaN</td>\n",
       "      <td>NaN</td>\n",
       "      <td>15.0</td>\n",
       "    </tr>\n",
       "  </tbody>\n",
       "</table>\n",
       "</div>"
      ],
      "text/plain": [
       "                     name     town long_name           date_start  \\\n",
       "idtournament                                                        \n",
       "2             Летние зори  Саранск       NaN  2003-08-09 00:00:00   \n",
       "\n",
       "                         date_end  tour_count  tour_questions  \\\n",
       "idtournament                                                    \n",
       "2             2003-08-09 00:00:00         3.0            15.0   \n",
       "\n",
       "             tour_ques_per_tour type_name  main_payment_value  \\\n",
       "idtournament                                                    \n",
       "2                           NaN   Обычный                 NaN   \n",
       "\n",
       "              discounted_payment_value discounted_payment_reason  \\\n",
       "idtournament                                                       \n",
       "2                                  NaN                       NaN   \n",
       "\n",
       "             date_requests_allowed_to comment site_url main_payment_currency  \\\n",
       "idtournament                                                                   \n",
       "2                                 NaN     NaN      NaN                   NaN   \n",
       "\n",
       "             discounted_payment_currency  questions_total  \n",
       "idtournament                                               \n",
       "2                                    NaN             15.0  "
      ]
     },
     "execution_count": 4,
     "metadata": {},
     "output_type": "execute_result"
    }
   ],
   "source": [
    "tournaments.head(1)"
   ]
  },
  {
   "cell_type": "code",
   "execution_count": 5,
   "metadata": {},
   "outputs": [
    {
     "data": {
      "text/html": [
       "<div>\n",
       "<style scoped>\n",
       "    .dataframe tbody tr th:only-of-type {\n",
       "        vertical-align: middle;\n",
       "    }\n",
       "\n",
       "    .dataframe tbody tr th {\n",
       "        vertical-align: top;\n",
       "    }\n",
       "\n",
       "    .dataframe thead th {\n",
       "        text-align: right;\n",
       "    }\n",
       "</style>\n",
       "<table border=\"1\" class=\"dataframe\">\n",
       "  <thead>\n",
       "    <tr style=\"text-align: right;\">\n",
       "      <th></th>\n",
       "      <th>idteam</th>\n",
       "      <th>current_name</th>\n",
       "      <th>base_name</th>\n",
       "      <th>position</th>\n",
       "      <th>questions_total</th>\n",
       "      <th>mask</th>\n",
       "      <th>bonus_a</th>\n",
       "      <th>bonus_b</th>\n",
       "      <th>tech_rating</th>\n",
       "      <th>predicted_position</th>\n",
       "      <th>d_bonus_a</th>\n",
       "      <th>d_bonus_b</th>\n",
       "      <th>d_diff_bonus</th>\n",
       "      <th>included_in_rating</th>\n",
       "      <th>idtournament</th>\n",
       "      <th>diff_bonus</th>\n",
       "    </tr>\n",
       "  </thead>\n",
       "  <tbody>\n",
       "    <tr>\n",
       "      <th>0</th>\n",
       "      <td>209</td>\n",
       "      <td>Команда Коваленко</td>\n",
       "      <td>Команда Коваленко</td>\n",
       "      <td>11.0</td>\n",
       "      <td>34</td>\n",
       "      <td>1111101000101111001100011000111101001111001110...</td>\n",
       "      <td>2230.0</td>\n",
       "      <td>-87.0</td>\n",
       "      <td>4509.0</td>\n",
       "      <td>7.0</td>\n",
       "      <td>2230</td>\n",
       "      <td>663</td>\n",
       "      <td>-87.0</td>\n",
       "      <td>1.0</td>\n",
       "      <td>3236</td>\n",
       "      <td>NaN</td>\n",
       "    </tr>\n",
       "    <tr>\n",
       "      <th>1</th>\n",
       "      <td>270</td>\n",
       "      <td>Синоп</td>\n",
       "      <td>Синоп</td>\n",
       "      <td>14.5</td>\n",
       "      <td>31</td>\n",
       "      <td>1110110000101100001100101101101101010011010000...</td>\n",
       "      <td>2189.0</td>\n",
       "      <td>119.0</td>\n",
       "      <td>2567.0</td>\n",
       "      <td>20.0</td>\n",
       "      <td>2189</td>\n",
       "      <td>618</td>\n",
       "      <td>119.0</td>\n",
       "      <td>1.0</td>\n",
       "      <td>3236</td>\n",
       "      <td>NaN</td>\n",
       "    </tr>\n",
       "  </tbody>\n",
       "</table>\n",
       "</div>"
      ],
      "text/plain": [
       "   idteam       current_name          base_name  position  questions_total  \\\n",
       "0     209  Команда Коваленко  Команда Коваленко      11.0               34   \n",
       "1     270              Синоп              Синоп      14.5               31   \n",
       "\n",
       "                                                mask  bonus_a  bonus_b  \\\n",
       "0  1111101000101111001100011000111101001111001110...   2230.0    -87.0   \n",
       "1  1110110000101100001100101101101101010011010000...   2189.0    119.0   \n",
       "\n",
       "   tech_rating  predicted_position  d_bonus_a  d_bonus_b  d_diff_bonus  \\\n",
       "0       4509.0                 7.0       2230        663         -87.0   \n",
       "1       2567.0                20.0       2189        618         119.0   \n",
       "\n",
       "   included_in_rating  idtournament  diff_bonus  \n",
       "0                 1.0          3236         NaN  \n",
       "1                 1.0          3236         NaN  "
      ]
     },
     "execution_count": 5,
     "metadata": {},
     "output_type": "execute_result"
    }
   ],
   "source": [
    "results.head(2)"
   ]
  },
  {
   "cell_type": "code",
   "execution_count": 6,
   "metadata": {},
   "outputs": [
    {
     "data": {
      "text/html": [
       "<div>\n",
       "<style scoped>\n",
       "    .dataframe tbody tr th:only-of-type {\n",
       "        vertical-align: middle;\n",
       "    }\n",
       "\n",
       "    .dataframe tbody tr th {\n",
       "        vertical-align: top;\n",
       "    }\n",
       "\n",
       "    .dataframe thead th {\n",
       "        text-align: right;\n",
       "    }\n",
       "</style>\n",
       "<table border=\"1\" class=\"dataframe\">\n",
       "  <thead>\n",
       "    <tr style=\"text-align: right;\">\n",
       "      <th></th>\n",
       "      <th>is_captain</th>\n",
       "      <th>is_base</th>\n",
       "      <th>is_foreign</th>\n",
       "      <th>idteam</th>\n",
       "      <th>idtournament</th>\n",
       "    </tr>\n",
       "    <tr>\n",
       "      <th>idplayer</th>\n",
       "      <th></th>\n",
       "      <th></th>\n",
       "      <th></th>\n",
       "      <th></th>\n",
       "      <th></th>\n",
       "    </tr>\n",
       "  </thead>\n",
       "  <tbody>\n",
       "    <tr>\n",
       "      <th>19298</th>\n",
       "      <td>1</td>\n",
       "      <td>1</td>\n",
       "      <td>0</td>\n",
       "      <td>209</td>\n",
       "      <td>3236</td>\n",
       "    </tr>\n",
       "  </tbody>\n",
       "</table>\n",
       "</div>"
      ],
      "text/plain": [
       "          is_captain  is_base  is_foreign  idteam  idtournament\n",
       "idplayer                                                       \n",
       "19298              1        1           0     209          3236"
      ]
     },
     "execution_count": 6,
     "metadata": {},
     "output_type": "execute_result"
    }
   ],
   "source": [
    "roster.head(1)"
   ]
  },
  {
   "cell_type": "code",
   "execution_count": 7,
   "metadata": {},
   "outputs": [],
   "source": [
    "def skill_init():\n",
    "    return random.uniform(0, 1)\n",
    "if TRAIN:\n",
    "    roster.loc[:, 'skill'] = None\n",
    "    roster.loc[:, 'skill'] = roster.loc[:, 'skill'].apply(lambda x: skill_init())\n",
    "    roster.head(1)\n",
    "else:\n",
    "    roster = pd.read_csv('skills.csv')\n",
    "# player_skills_dict = {id: skill_init() for id in roster.idplayer}\n",
    "# pd.DataFrame(player_skills_dict, index=[0]).T.head()"
   ]
  },
  {
   "cell_type": "code",
   "execution_count": 9,
   "metadata": {},
   "outputs": [
    {
     "data": {
      "text/html": [
       "<div>\n",
       "<style scoped>\n",
       "    .dataframe tbody tr th:only-of-type {\n",
       "        vertical-align: middle;\n",
       "    }\n",
       "\n",
       "    .dataframe tbody tr th {\n",
       "        vertical-align: top;\n",
       "    }\n",
       "\n",
       "    .dataframe thead th {\n",
       "        text-align: right;\n",
       "    }\n",
       "</style>\n",
       "<table border=\"1\" class=\"dataframe\">\n",
       "  <thead>\n",
       "    <tr style=\"text-align: right;\">\n",
       "      <th></th>\n",
       "      <th>idplayer</th>\n",
       "      <th>is_captain</th>\n",
       "      <th>is_base</th>\n",
       "      <th>is_foreign</th>\n",
       "      <th>idteam</th>\n",
       "      <th>idtournament</th>\n",
       "      <th>skill</th>\n",
       "    </tr>\n",
       "  </thead>\n",
       "  <tbody>\n",
       "    <tr>\n",
       "      <th>0</th>\n",
       "      <td>19298</td>\n",
       "      <td>1</td>\n",
       "      <td>1</td>\n",
       "      <td>0</td>\n",
       "      <td>209</td>\n",
       "      <td>3236</td>\n",
       "      <td>-0.600313</td>\n",
       "    </tr>\n",
       "  </tbody>\n",
       "</table>\n",
       "</div>"
      ],
      "text/plain": [
       "   idplayer  is_captain  is_base  is_foreign  idteam  idtournament     skill\n",
       "0     19298           1        1           0     209          3236 -0.600313"
      ]
     },
     "execution_count": 9,
     "metadata": {},
     "output_type": "execute_result"
    }
   ],
   "source": [
    "roster.head(1)"
   ]
  },
  {
   "cell_type": "code",
   "execution_count": 10,
   "metadata": {},
   "outputs": [],
   "source": [
    "def difficulty_init():\n",
    "    return random.uniform(0, 1)\n",
    "if TRAIN:\n",
    "    question_difficulty = {f\"{str(tourn)}_{str(ques)}\": difficulty_init() for tourn in tournaments.index \n",
    "                       for ques in range(int(tournaments.loc[tourn, 'questions_total']))}\n",
    "else:\n",
    "    question_difficulty = pd.read_csv('qus_dif.csv')\n",
    "    question_difficulty = dict(zip(question_difficulty.iloc[:, 0], question_difficulty.iloc[:, 1]))\n",
    "pd.DataFrame(question_difficulty, index=[0]).T.head()"
   ]
  },
  {
   "cell_type": "code",
   "execution_count": 13,
   "metadata": {},
   "outputs": [],
   "source": []
  },
  {
   "cell_type": "code",
   "execution_count": 15,
   "metadata": {},
   "outputs": [],
   "source": [
    "def sigmoid(x):\n",
    "    return 1 / (1 + pd.np.exp(-x))    "
   ]
  },
  {
   "cell_type": "markdown",
   "metadata": {},
   "source": [
    "**Model**<br>\n",
    "$p(y=1| S_{team}, \\theta) = \\sigma(S_{team} - \\theta)$ <br>\n",
    "$S_{team}$ - team skill<br>\n",
    "$S_{team} = S_{player\\_1} + S_{player\\_2} + ... + S_{player\\_N}$<br>\n",
    "$\\theta_j$ - difficulty of question j<br>\n",
    "y - team answer, 1 for correct, 2 for incorrect<br>\n",
    "$p(y_{hat}=y_{real}| S_{team}, \\theta) = \\sigma(S_{team} - \\theta)^{y_{real}} * (1-\\sigma(S_{team} - \\theta))^{(1-y_{real})}$<br>\n",
    "<br>\n",
    "$LikelyHood = \\frac{1}{N}\\prod_{i=1}^{N} p(y_{hat\\_i}=y_{real\\_i}| S_{team}, \\theta)$<br>\n",
    "$log(LikelyHood) = LL = \\frac{1}{N}\\sum_{i=1}^{N} log(p(y_{hat\\_i}=y_{real\\_i}| S_{team}, \\theta))=\n",
    "y_{real}*log(\\sigma(S_{team} - \\theta)) + (1-y_{real})* log(1-\\sigma(S_{team} - \\theta))$<br>\n",
    "<br>\n",
    "$-log(LikelyHood) \\rightarrow min$ w.r.t. $S_{player\\_i}$ and $\\theta_j$"
   ]
  },
  {
   "cell_type": "markdown",
   "metadata": {},
   "source": [
    "**Derivatives:**\n",
    "\n",
    "$\\sigma'(x) = \\sigma(x)*(1-\\sigma(x))$\n",
    "\n",
    "$\\frac{\\partial LL}{\\partial \\theta} = \\frac{y_{real}}{\\sigma(S_{team} - \\theta)} * \\sigma'(S_{team} - \\theta) * (-1) +\n",
    "\\frac{1-y_{real}}{1-\\sigma(S_{team} - \\theta)} * (-\\sigma'(S_{team} - \\theta)) * (-1) = \n",
    "-y_{real}*(1-\\sigma(S_{team} - \\theta)) + (1-y_{real})*\\sigma(S_{team} - \\theta)\n",
    "$<br>\n",
    "\n",
    "$\\frac{\\partial LL}{\\partial S_i} = \\frac{y_{real}}{\\sigma(S_{team} - \\theta)} * \\sigma'(S_{team} - \\theta) +\n",
    "\\frac{1-y_{real}}{1-\\sigma(S_{team} - \\theta)} * (-\\sigma'(S_{team} - \\theta)) = \n",
    "y_{real}*(1-\\sigma(S_{team} - \\theta)) - (1-y_{real})*\\sigma(S_{team} - \\theta)$<br>\n"
   ]
  },
  {
   "cell_type": "markdown",
   "metadata": {},
   "source": [
    "**Short derivatives:**\n",
    "\n",
    "$\\frac{\\partial -LL}{\\partial \\theta} = +y_{real}*(1-\\sigma(S_{team} - \\theta)) - (1-y_{real})*\\sigma(S_{team} - \\theta)\n",
    "$<br>\n",
    "\n",
    "$\\frac{\\partial -LL}{\\partial S_i} = -y_{real}*(1-\\sigma(S_{team} - \\theta)) + (1-y_{real})*\\sigma(S_{team} - \\theta)$<br>\n"
   ]
  },
  {
   "cell_type": "markdown",
   "metadata": {},
   "source": [
    "**Gradient update**<br>\n",
    "$S_{i\\_new} = S_{i\\_old} - learning\\_rate * \\frac{\\partial LL}{\\partial S_i}$<br>\n",
    "$\\theta_{new} = \\theta_{old} - learning\\_rate * \\frac{\\partial LL}{\\partial \\theta}$<br>"
   ]
  },
  {
   "cell_type": "code",
   "execution_count": 27,
   "metadata": {},
   "outputs": [],
   "source": [
    "from tqdm import tqdm_notebook, tqdm\n",
    "tqdm.pandas()"
   ]
  },
  {
   "cell_type": "code",
   "execution_count": 62,
   "metadata": {},
   "outputs": [],
   "source": [
    "def gd(lr=0.01, epochs=10, steps_per_tour = 10, certain_tour=None):\n",
    "    fails=0\n",
    "    fail_list = []\n",
    "    for _ in tqdm_notebook(range(epochs)):\n",
    "#     for _ in range(epochs):\n",
    "        # get random tournament, team and question\n",
    "\n",
    "        if certain_tour:\n",
    "            tour = certain_tour\n",
    "        else:\n",
    "            tour = random.sample(tournaments.index.tolist(), 1)[0]\n",
    "\n",
    "        t_subset = results.loc[results.idtournament == tour, ['idteam', 'mask']]\n",
    "        for _ in tqdm_notebook(range(steps_per_tour)):\n",
    "#         for _ in range(steps_per_tour):\n",
    "            team = random.sample(t_subset.idteam.tolist(), 1)[0]\n",
    "            players = roster.loc[(roster.idteam == team) & (roster.idtournament == tour), :].index.tolist()\n",
    "            quest = random.randint(0, int(tournaments.loc[tour, 'questions_total'])-1)\n",
    "\n",
    "            # get question difficulty\n",
    "            quest_dif_key = f\"{str(tour)}_{str(quest)}\"\n",
    "            try:\n",
    "                difficulty = question_difficulty[quest_dif_key]\n",
    "            except:\n",
    "                print('!', end='')\n",
    "                fails+=1\n",
    "                fail_list.append(quest_dif_key)\n",
    "                continue\n",
    "\n",
    "            skills = roster.loc[(roster.index.isin(players)) &\n",
    "                                (roster.idteam == team) &\n",
    "                                (roster.idtournament == tour), 'skill'].tolist()\n",
    "            team_skill = sum(skills)\n",
    "            team_sigmoid = sigmoid(team_skill - difficulty)\n",
    "\n",
    "            # get y (1 for correct answer, 0 for incorrect)\n",
    "            try:\n",
    "                y_true = int(t_subset.loc[t_subset.idteam == team, 'mask'].values[0][quest])\n",
    "            except:\n",
    "                print(f'Fail for tour {tour}, team {team}, question {quest}')\n",
    "                continue\n",
    "\n",
    "            # weights update\n",
    "            question_difficulty[quest_dif_key] -= lr * (y_true * (1-team_sigmoid) - (1-y_true)*team_sigmoid)\n",
    "            roster.loc[players, 'skill'] -= lr * (-y_true * (1-team_sigmoid) + (1-y_true)*team_sigmoid) / 6\n",
    "    print(f\"Fails: {fails}\")\n",
    "    return fail_list"
   ]
  },
  {
   "cell_type": "code",
   "execution_count": 63,
   "metadata": {},
   "outputs": [],
   "source": [
    "def score_one_answer(tour, team, quest):\n",
    "    quest_dif_key = f\"{str(tour)}_{str(quest)}\"\n",
    "    difficulty = question_difficulty[quest_dif_key]\n",
    "    players = roster.loc[(roster.idteam == team) & (roster.idtournament == tour), :].index.tolist()\n",
    "    skills = roster.loc[(roster.index.isin(players)) &\n",
    "                                (roster.idteam == team) &\n",
    "                                (roster.idtournament == tour), 'skill'].tolist()\n",
    "    team_skill = sum(skills)\n",
    "    team_sigmoid = sigmoid(team_skill - difficulty)\n",
    "    \n",
    "    y_true = int(results.loc[(results.idtournament == tour) &\n",
    "                             (results.idteam == team), 'mask'].values[0][quest])\n",
    "    print(f\"Y: {y_true}\\nSigmoid: {team_sigmoid}\")"
   ]
  },
  {
   "cell_type": "code",
   "execution_count": 84,
   "metadata": {},
   "outputs": [
    {
     "data": {
      "application/vnd.jupyter.widget-view+json": {
       "model_id": "44048fa8e94e4f75bea1bdc5073d7d26",
       "version_major": 2,
       "version_minor": 0
      },
      "text/plain": [
       "HBox(children=(IntProgress(value=0, max=500), HTML(value='')))"
      ]
     },
     "metadata": {},
     "output_type": "display_data"
    },
    {
     "data": {
      "application/vnd.jupyter.widget-view+json": {
       "model_id": "e6144fac10674840b65fb166458a4fc0",
       "version_major": 2,
       "version_minor": 0
      },
      "text/plain": [
       "HBox(children=(IntProgress(value=0), HTML(value='')))"
      ]
     },
     "metadata": {},
     "output_type": "display_data"
    },
    {
     "data": {
      "application/vnd.jupyter.widget-view+json": {
       "model_id": "d8bab9c36cda4db3af7bbd0cb8658159",
       "version_major": 2,
       "version_minor": 0
      },
      "text/plain": [
       "HBox(children=(IntProgress(value=0), HTML(value='')))"
      ]
     },
     "metadata": {},
     "output_type": "display_data"
    },
    {
     "data": {
      "application/vnd.jupyter.widget-view+json": {
       "model_id": "b071549fbf4942cb84b92cd638322cd3",
       "version_major": 2,
       "version_minor": 0
      },
      "text/plain": [
       "HBox(children=(IntProgress(value=0), HTML(value='')))"
      ]
     },
     "metadata": {},
     "output_type": "display_data"
    },
    {
     "data": {
      "application/vnd.jupyter.widget-view+json": {
       "model_id": "65170447ced04c30b9d31c245c9b11c9",
       "version_major": 2,
       "version_minor": 0
      },
      "text/plain": [
       "HBox(children=(IntProgress(value=0), HTML(value='')))"
      ]
     },
     "metadata": {},
     "output_type": "display_data"
    },
    {
     "data": {
      "application/vnd.jupyter.widget-view+json": {
       "model_id": "210f0e77919c4456a9c28e988606b515",
       "version_major": 2,
       "version_minor": 0
      },
      "text/plain": [
       "HBox(children=(IntProgress(value=0), HTML(value='')))"
      ]
     },
     "metadata": {},
     "output_type": "display_data"
    },
    {
     "data": {
      "application/vnd.jupyter.widget-view+json": {
       "model_id": "8111e119ed674e67ba22358f076f679e",
       "version_major": 2,
       "version_minor": 0
      },
      "text/plain": [
       "HBox(children=(IntProgress(value=0), HTML(value='')))"
      ]
     },
     "metadata": {},
     "output_type": "display_data"
    },
    {
     "data": {
      "application/vnd.jupyter.widget-view+json": {
       "model_id": "1c8a83fbdedd4ce39dfb88dadade05d7",
       "version_major": 2,
       "version_minor": 0
      },
      "text/plain": [
       "HBox(children=(IntProgress(value=0), HTML(value='')))"
      ]
     },
     "metadata": {},
     "output_type": "display_data"
    },
    {
     "data": {
      "application/vnd.jupyter.widget-view+json": {
       "model_id": "fd4ea1691a804ba3a11614b397faef7f",
       "version_major": 2,
       "version_minor": 0
      },
      "text/plain": [
       "HBox(children=(IntProgress(value=0), HTML(value='')))"
      ]
     },
     "metadata": {},
     "output_type": "display_data"
    },
    {
     "name": "stdout",
     "output_type": "stream",
     "text": [
      "Fail for tour 5221, team 67284, question 24\n",
      "Fail for tour 5221, team 67284, question 34\n",
      "Fail for tour 5221, team 67284, question 18\n",
      "Fail for tour 5221, team 53456, question 28\n"
     ]
    },
    {
     "data": {
      "application/vnd.jupyter.widget-view+json": {
       "model_id": "2c7848a903f3450da873da52a4184511",
       "version_major": 2,
       "version_minor": 0
      },
      "text/plain": [
       "HBox(children=(IntProgress(value=0), HTML(value='')))"
      ]
     },
     "metadata": {},
     "output_type": "display_data"
    },
    {
     "data": {
      "application/vnd.jupyter.widget-view+json": {
       "model_id": "f5609c4289b640c3aa096fe79753fc93",
       "version_major": 2,
       "version_minor": 0
      },
      "text/plain": [
       "HBox(children=(IntProgress(value=0), HTML(value='')))"
      ]
     },
     "metadata": {},
     "output_type": "display_data"
    },
    {
     "data": {
      "application/vnd.jupyter.widget-view+json": {
       "model_id": "a917bb0020a7411abeb68fe786f47816",
       "version_major": 2,
       "version_minor": 0
      },
      "text/plain": [
       "HBox(children=(IntProgress(value=0), HTML(value='')))"
      ]
     },
     "metadata": {},
     "output_type": "display_data"
    },
    {
     "data": {
      "application/vnd.jupyter.widget-view+json": {
       "model_id": "b7e25e817ea04b08902c28e0cfbe9d09",
       "version_major": 2,
       "version_minor": 0
      },
      "text/plain": [
       "HBox(children=(IntProgress(value=0), HTML(value='')))"
      ]
     },
     "metadata": {},
     "output_type": "display_data"
    },
    {
     "data": {
      "application/vnd.jupyter.widget-view+json": {
       "model_id": "50c69e52d5984fe2bf59ff9d2a05ffdd",
       "version_major": 2,
       "version_minor": 0
      },
      "text/plain": [
       "HBox(children=(IntProgress(value=0), HTML(value='')))"
      ]
     },
     "metadata": {},
     "output_type": "display_data"
    },
    {
     "data": {
      "application/vnd.jupyter.widget-view+json": {
       "model_id": "a59f6e6bdb804765af27bf02453ca3cb",
       "version_major": 2,
       "version_minor": 0
      },
      "text/plain": [
       "HBox(children=(IntProgress(value=0), HTML(value='')))"
      ]
     },
     "metadata": {},
     "output_type": "display_data"
    },
    {
     "data": {
      "application/vnd.jupyter.widget-view+json": {
       "model_id": "37d773e3583e40e8a715b06395cb3bcd",
       "version_major": 2,
       "version_minor": 0
      },
      "text/plain": [
       "HBox(children=(IntProgress(value=0), HTML(value='')))"
      ]
     },
     "metadata": {},
     "output_type": "display_data"
    },
    {
     "data": {
      "application/vnd.jupyter.widget-view+json": {
       "model_id": "16c3784129f44017acea68a75c59f8dc",
       "version_major": 2,
       "version_minor": 0
      },
      "text/plain": [
       "HBox(children=(IntProgress(value=0), HTML(value='')))"
      ]
     },
     "metadata": {},
     "output_type": "display_data"
    },
    {
     "data": {
      "application/vnd.jupyter.widget-view+json": {
       "model_id": "eb12fc952be7458ab7f492c775ec8321",
       "version_major": 2,
       "version_minor": 0
      },
      "text/plain": [
       "HBox(children=(IntProgress(value=0), HTML(value='')))"
      ]
     },
     "metadata": {},
     "output_type": "display_data"
    },
    {
     "data": {
      "application/vnd.jupyter.widget-view+json": {
       "model_id": "a5dd072283244d5cb93f127736cf6256",
       "version_major": 2,
       "version_minor": 0
      },
      "text/plain": [
       "HBox(children=(IntProgress(value=0), HTML(value='')))"
      ]
     },
     "metadata": {},
     "output_type": "display_data"
    },
    {
     "data": {
      "application/vnd.jupyter.widget-view+json": {
       "model_id": "043aca12cd0f4bdc852086466b3f9ae7",
       "version_major": 2,
       "version_minor": 0
      },
      "text/plain": [
       "HBox(children=(IntProgress(value=0), HTML(value='')))"
      ]
     },
     "metadata": {},
     "output_type": "display_data"
    },
    {
     "data": {
      "application/vnd.jupyter.widget-view+json": {
       "model_id": "30d3680e8a3040a7b415f89d5c10a8a9",
       "version_major": 2,
       "version_minor": 0
      },
      "text/plain": [
       "HBox(children=(IntProgress(value=0), HTML(value='')))"
      ]
     },
     "metadata": {},
     "output_type": "display_data"
    },
    {
     "data": {
      "application/vnd.jupyter.widget-view+json": {
       "model_id": "0d0627d513f3445a932369a3cebf78f6",
       "version_major": 2,
       "version_minor": 0
      },
      "text/plain": [
       "HBox(children=(IntProgress(value=0), HTML(value='')))"
      ]
     },
     "metadata": {},
     "output_type": "display_data"
    },
    {
     "data": {
      "application/vnd.jupyter.widget-view+json": {
       "model_id": "f99a693ae81d47cb846b21a045144d1b",
       "version_major": 2,
       "version_minor": 0
      },
      "text/plain": [
       "HBox(children=(IntProgress(value=0), HTML(value='')))"
      ]
     },
     "metadata": {},
     "output_type": "display_data"
    },
    {
     "data": {
      "application/vnd.jupyter.widget-view+json": {
       "model_id": "b01e49730a124a8e89eed8795ccb8978",
       "version_major": 2,
       "version_minor": 0
      },
      "text/plain": [
       "HBox(children=(IntProgress(value=0), HTML(value='')))"
      ]
     },
     "metadata": {},
     "output_type": "display_data"
    },
    {
     "data": {
      "application/vnd.jupyter.widget-view+json": {
       "model_id": "98e2aef137eb4172acd50618fc4def8c",
       "version_major": 2,
       "version_minor": 0
      },
      "text/plain": [
       "HBox(children=(IntProgress(value=0), HTML(value='')))"
      ]
     },
     "metadata": {},
     "output_type": "display_data"
    },
    {
     "data": {
      "application/vnd.jupyter.widget-view+json": {
       "model_id": "8234a6205fd7499d96bb374e640cf353",
       "version_major": 2,
       "version_minor": 0
      },
      "text/plain": [
       "HBox(children=(IntProgress(value=0), HTML(value='')))"
      ]
     },
     "metadata": {},
     "output_type": "display_data"
    },
    {
     "data": {
      "application/vnd.jupyter.widget-view+json": {
       "model_id": "55f3ff6ba9c648bd9d3ed2bfefbe3646",
       "version_major": 2,
       "version_minor": 0
      },
      "text/plain": [
       "HBox(children=(IntProgress(value=0), HTML(value='')))"
      ]
     },
     "metadata": {},
     "output_type": "display_data"
    },
    {
     "data": {
      "application/vnd.jupyter.widget-view+json": {
       "model_id": "2ecbaf25f258496999b2a5735d784f44",
       "version_major": 2,
       "version_minor": 0
      },
      "text/plain": [
       "HBox(children=(IntProgress(value=0), HTML(value='')))"
      ]
     },
     "metadata": {},
     "output_type": "display_data"
    },
    {
     "data": {
      "application/vnd.jupyter.widget-view+json": {
       "model_id": "ac285b7215834827a80ef690c7a98b1d",
       "version_major": 2,
       "version_minor": 0
      },
      "text/plain": [
       "HBox(children=(IntProgress(value=0), HTML(value='')))"
      ]
     },
     "metadata": {},
     "output_type": "display_data"
    },
    {
     "data": {
      "application/vnd.jupyter.widget-view+json": {
       "model_id": "925b8fcbca754fcdb2c9d0b4b41d9265",
       "version_major": 2,
       "version_minor": 0
      },
      "text/plain": [
       "HBox(children=(IntProgress(value=0), HTML(value='')))"
      ]
     },
     "metadata": {},
     "output_type": "display_data"
    },
    {
     "data": {
      "application/vnd.jupyter.widget-view+json": {
       "model_id": "ad0598b0965e46e4b249794cea831c18",
       "version_major": 2,
       "version_minor": 0
      },
      "text/plain": [
       "HBox(children=(IntProgress(value=0), HTML(value='')))"
      ]
     },
     "metadata": {},
     "output_type": "display_data"
    },
    {
     "data": {
      "application/vnd.jupyter.widget-view+json": {
       "model_id": "9ee5a43adbfb475a9f13226cad2fd745",
       "version_major": 2,
       "version_minor": 0
      },
      "text/plain": [
       "HBox(children=(IntProgress(value=0), HTML(value='')))"
      ]
     },
     "metadata": {},
     "output_type": "display_data"
    },
    {
     "data": {
      "application/vnd.jupyter.widget-view+json": {
       "model_id": "913da5c733084d028f52c33de45d3023",
       "version_major": 2,
       "version_minor": 0
      },
      "text/plain": [
       "HBox(children=(IntProgress(value=0), HTML(value='')))"
      ]
     },
     "metadata": {},
     "output_type": "display_data"
    },
    {
     "data": {
      "application/vnd.jupyter.widget-view+json": {
       "model_id": "ba66bec9ad72469889463fbef48d71a1",
       "version_major": 2,
       "version_minor": 0
      },
      "text/plain": [
       "HBox(children=(IntProgress(value=0), HTML(value='')))"
      ]
     },
     "metadata": {},
     "output_type": "display_data"
    },
    {
     "data": {
      "application/vnd.jupyter.widget-view+json": {
       "model_id": "e5e8272826ae44968c85c61fb0a417b9",
       "version_major": 2,
       "version_minor": 0
      },
      "text/plain": [
       "HBox(children=(IntProgress(value=0), HTML(value='')))"
      ]
     },
     "metadata": {},
     "output_type": "display_data"
    },
    {
     "data": {
      "application/vnd.jupyter.widget-view+json": {
       "model_id": "3d58fb6eceb04d5eb907694d1d5f7cc9",
       "version_major": 2,
       "version_minor": 0
      },
      "text/plain": [
       "HBox(children=(IntProgress(value=0), HTML(value='')))"
      ]
     },
     "metadata": {},
     "output_type": "display_data"
    },
    {
     "data": {
      "application/vnd.jupyter.widget-view+json": {
       "model_id": "c6057d231fc24887b60172c632337a14",
       "version_major": 2,
       "version_minor": 0
      },
      "text/plain": [
       "HBox(children=(IntProgress(value=0), HTML(value='')))"
      ]
     },
     "metadata": {},
     "output_type": "display_data"
    },
    {
     "data": {
      "application/vnd.jupyter.widget-view+json": {
       "model_id": "9ecff8e33981428fb2fdc2d20ff7e134",
       "version_major": 2,
       "version_minor": 0
      },
      "text/plain": [
       "HBox(children=(IntProgress(value=0), HTML(value='')))"
      ]
     },
     "metadata": {},
     "output_type": "display_data"
    },
    {
     "data": {
      "application/vnd.jupyter.widget-view+json": {
       "model_id": "2fe49e7336f04022a68dac309f40bca3",
       "version_major": 2,
       "version_minor": 0
      },
      "text/plain": [
       "HBox(children=(IntProgress(value=0), HTML(value='')))"
      ]
     },
     "metadata": {},
     "output_type": "display_data"
    },
    {
     "data": {
      "application/vnd.jupyter.widget-view+json": {
       "model_id": "d08f3463792046d08f87119b6ae737ef",
       "version_major": 2,
       "version_minor": 0
      },
      "text/plain": [
       "HBox(children=(IntProgress(value=0), HTML(value='')))"
      ]
     },
     "metadata": {},
     "output_type": "display_data"
    },
    {
     "data": {
      "application/vnd.jupyter.widget-view+json": {
       "model_id": "7e2a377b4cae42d588d33e0bf22ea501",
       "version_major": 2,
       "version_minor": 0
      },
      "text/plain": [
       "HBox(children=(IntProgress(value=0), HTML(value='')))"
      ]
     },
     "metadata": {},
     "output_type": "display_data"
    },
    {
     "data": {
      "application/vnd.jupyter.widget-view+json": {
       "model_id": "51a6147bc61c460c993890a5a21c9065",
       "version_major": 2,
       "version_minor": 0
      },
      "text/plain": [
       "HBox(children=(IntProgress(value=0), HTML(value='')))"
      ]
     },
     "metadata": {},
     "output_type": "display_data"
    },
    {
     "data": {
      "application/vnd.jupyter.widget-view+json": {
       "model_id": "ee67e6b9b8454790914ed5ad7c4bc4d2",
       "version_major": 2,
       "version_minor": 0
      },
      "text/plain": [
       "HBox(children=(IntProgress(value=0), HTML(value='')))"
      ]
     },
     "metadata": {},
     "output_type": "display_data"
    },
    {
     "data": {
      "application/vnd.jupyter.widget-view+json": {
       "model_id": "406204aabe364966b6a7a18a02c3124c",
       "version_major": 2,
       "version_minor": 0
      },
      "text/plain": [
       "HBox(children=(IntProgress(value=0), HTML(value='')))"
      ]
     },
     "metadata": {},
     "output_type": "display_data"
    },
    {
     "data": {
      "application/vnd.jupyter.widget-view+json": {
       "model_id": "48e521badac944d4a8ac4028254ac500",
       "version_major": 2,
       "version_minor": 0
      },
      "text/plain": [
       "HBox(children=(IntProgress(value=0), HTML(value='')))"
      ]
     },
     "metadata": {},
     "output_type": "display_data"
    },
    {
     "data": {
      "application/vnd.jupyter.widget-view+json": {
       "model_id": "7a19acdae3f940e9ab2871962d336d2d",
       "version_major": 2,
       "version_minor": 0
      },
      "text/plain": [
       "HBox(children=(IntProgress(value=0), HTML(value='')))"
      ]
     },
     "metadata": {},
     "output_type": "display_data"
    },
    {
     "data": {
      "application/vnd.jupyter.widget-view+json": {
       "model_id": "19b2bce416a444ecae58cd93c9754ec9",
       "version_major": 2,
       "version_minor": 0
      },
      "text/plain": [
       "HBox(children=(IntProgress(value=0), HTML(value='')))"
      ]
     },
     "metadata": {},
     "output_type": "display_data"
    },
    {
     "data": {
      "application/vnd.jupyter.widget-view+json": {
       "model_id": "69a76e8352fb4199919dc429af31cee1",
       "version_major": 2,
       "version_minor": 0
      },
      "text/plain": [
       "HBox(children=(IntProgress(value=0), HTML(value='')))"
      ]
     },
     "metadata": {},
     "output_type": "display_data"
    },
    {
     "data": {
      "application/vnd.jupyter.widget-view+json": {
       "model_id": "184d1ac3042849498112431708b97953",
       "version_major": 2,
       "version_minor": 0
      },
      "text/plain": [
       "HBox(children=(IntProgress(value=0), HTML(value='')))"
      ]
     },
     "metadata": {},
     "output_type": "display_data"
    },
    {
     "data": {
      "application/vnd.jupyter.widget-view+json": {
       "model_id": "6a56c13d9f3444eb89bd011409ea915d",
       "version_major": 2,
       "version_minor": 0
      },
      "text/plain": [
       "HBox(children=(IntProgress(value=0), HTML(value='')))"
      ]
     },
     "metadata": {},
     "output_type": "display_data"
    },
    {
     "data": {
      "application/vnd.jupyter.widget-view+json": {
       "model_id": "c6f6c085efa740cf89b4803497beb7ae",
       "version_major": 2,
       "version_minor": 0
      },
      "text/plain": [
       "HBox(children=(IntProgress(value=0), HTML(value='')))"
      ]
     },
     "metadata": {},
     "output_type": "display_data"
    },
    {
     "data": {
      "application/vnd.jupyter.widget-view+json": {
       "model_id": "cab7ef52ad3c4411b74e694939d5b402",
       "version_major": 2,
       "version_minor": 0
      },
      "text/plain": [
       "HBox(children=(IntProgress(value=0), HTML(value='')))"
      ]
     },
     "metadata": {},
     "output_type": "display_data"
    },
    {
     "data": {
      "application/vnd.jupyter.widget-view+json": {
       "model_id": "5a4c6abb151f46cdaeec66788825c29a",
       "version_major": 2,
       "version_minor": 0
      },
      "text/plain": [
       "HBox(children=(IntProgress(value=0), HTML(value='')))"
      ]
     },
     "metadata": {},
     "output_type": "display_data"
    },
    {
     "data": {
      "application/vnd.jupyter.widget-view+json": {
       "model_id": "a973dffe823849f28dd55aeb30e8190a",
       "version_major": 2,
       "version_minor": 0
      },
      "text/plain": [
       "HBox(children=(IntProgress(value=0), HTML(value='')))"
      ]
     },
     "metadata": {},
     "output_type": "display_data"
    },
    {
     "data": {
      "application/vnd.jupyter.widget-view+json": {
       "model_id": "decb0f1a965648939800d66ecb3759b6",
       "version_major": 2,
       "version_minor": 0
      },
      "text/plain": [
       "HBox(children=(IntProgress(value=0), HTML(value='')))"
      ]
     },
     "metadata": {},
     "output_type": "display_data"
    },
    {
     "data": {
      "application/vnd.jupyter.widget-view+json": {
       "model_id": "9d425abed12d46c9b76e35d07b3907b5",
       "version_major": 2,
       "version_minor": 0
      },
      "text/plain": [
       "HBox(children=(IntProgress(value=0), HTML(value='')))"
      ]
     },
     "metadata": {},
     "output_type": "display_data"
    },
    {
     "data": {
      "application/vnd.jupyter.widget-view+json": {
       "model_id": "9e5933e2a8214e37a115b1a675bb8353",
       "version_major": 2,
       "version_minor": 0
      },
      "text/plain": [
       "HBox(children=(IntProgress(value=0), HTML(value='')))"
      ]
     },
     "metadata": {},
     "output_type": "display_data"
    },
    {
     "data": {
      "application/vnd.jupyter.widget-view+json": {
       "model_id": "d146568e1e8b49b580c836bf90a6e131",
       "version_major": 2,
       "version_minor": 0
      },
      "text/plain": [
       "HBox(children=(IntProgress(value=0), HTML(value='')))"
      ]
     },
     "metadata": {},
     "output_type": "display_data"
    },
    {
     "data": {
      "application/vnd.jupyter.widget-view+json": {
       "model_id": "b17063d91577483490308feef8708e3b",
       "version_major": 2,
       "version_minor": 0
      },
      "text/plain": [
       "HBox(children=(IntProgress(value=0), HTML(value='')))"
      ]
     },
     "metadata": {},
     "output_type": "display_data"
    },
    {
     "data": {
      "application/vnd.jupyter.widget-view+json": {
       "model_id": "6aeb2768c4c048ef8bd838a5a21584d2",
       "version_major": 2,
       "version_minor": 0
      },
      "text/plain": [
       "HBox(children=(IntProgress(value=0), HTML(value='')))"
      ]
     },
     "metadata": {},
     "output_type": "display_data"
    },
    {
     "data": {
      "application/vnd.jupyter.widget-view+json": {
       "model_id": "866ba68efb4b43d4b4ea09db41387e93",
       "version_major": 2,
       "version_minor": 0
      },
      "text/plain": [
       "HBox(children=(IntProgress(value=0), HTML(value='')))"
      ]
     },
     "metadata": {},
     "output_type": "display_data"
    },
    {
     "data": {
      "application/vnd.jupyter.widget-view+json": {
       "model_id": "0344d48d3b0243bba560c7b15e3bf3be",
       "version_major": 2,
       "version_minor": 0
      },
      "text/plain": [
       "HBox(children=(IntProgress(value=0), HTML(value='')))"
      ]
     },
     "metadata": {},
     "output_type": "display_data"
    },
    {
     "data": {
      "application/vnd.jupyter.widget-view+json": {
       "model_id": "f928fb11774247f0bc928d940acc59dd",
       "version_major": 2,
       "version_minor": 0
      },
      "text/plain": [
       "HBox(children=(IntProgress(value=0), HTML(value='')))"
      ]
     },
     "metadata": {},
     "output_type": "display_data"
    },
    {
     "data": {
      "application/vnd.jupyter.widget-view+json": {
       "model_id": "93b3e53a3a1d41d6a46b70609a60db7b",
       "version_major": 2,
       "version_minor": 0
      },
      "text/plain": [
       "HBox(children=(IntProgress(value=0), HTML(value='')))"
      ]
     },
     "metadata": {},
     "output_type": "display_data"
    },
    {
     "data": {
      "application/vnd.jupyter.widget-view+json": {
       "model_id": "24f30de0848649df81a0393e1e8e6b6a",
       "version_major": 2,
       "version_minor": 0
      },
      "text/plain": [
       "HBox(children=(IntProgress(value=0), HTML(value='')))"
      ]
     },
     "metadata": {},
     "output_type": "display_data"
    },
    {
     "data": {
      "application/vnd.jupyter.widget-view+json": {
       "model_id": "66d3cca025cb45d3a6d6c7921cee9287",
       "version_major": 2,
       "version_minor": 0
      },
      "text/plain": [
       "HBox(children=(IntProgress(value=0), HTML(value='')))"
      ]
     },
     "metadata": {},
     "output_type": "display_data"
    },
    {
     "data": {
      "application/vnd.jupyter.widget-view+json": {
       "model_id": "3d8d45a62ba04cbba79f4e08b4567924",
       "version_major": 2,
       "version_minor": 0
      },
      "text/plain": [
       "HBox(children=(IntProgress(value=0), HTML(value='')))"
      ]
     },
     "metadata": {},
     "output_type": "display_data"
    },
    {
     "data": {
      "application/vnd.jupyter.widget-view+json": {
       "model_id": "bc9e818a976a4e13bd11299b016bb501",
       "version_major": 2,
       "version_minor": 0
      },
      "text/plain": [
       "HBox(children=(IntProgress(value=0), HTML(value='')))"
      ]
     },
     "metadata": {},
     "output_type": "display_data"
    },
    {
     "data": {
      "application/vnd.jupyter.widget-view+json": {
       "model_id": "35b8153484ce4097b48610bcfc9d187d",
       "version_major": 2,
       "version_minor": 0
      },
      "text/plain": [
       "HBox(children=(IntProgress(value=0), HTML(value='')))"
      ]
     },
     "metadata": {},
     "output_type": "display_data"
    },
    {
     "data": {
      "application/vnd.jupyter.widget-view+json": {
       "model_id": "2c62a2f271b44061af4acd6447579692",
       "version_major": 2,
       "version_minor": 0
      },
      "text/plain": [
       "HBox(children=(IntProgress(value=0), HTML(value='')))"
      ]
     },
     "metadata": {},
     "output_type": "display_data"
    },
    {
     "data": {
      "application/vnd.jupyter.widget-view+json": {
       "model_id": "01c594c785bb45e29669a5597c690cd0",
       "version_major": 2,
       "version_minor": 0
      },
      "text/plain": [
       "HBox(children=(IntProgress(value=0), HTML(value='')))"
      ]
     },
     "metadata": {},
     "output_type": "display_data"
    },
    {
     "data": {
      "application/vnd.jupyter.widget-view+json": {
       "model_id": "4e8d22a1509a4ed8b3e5f243b8d59908",
       "version_major": 2,
       "version_minor": 0
      },
      "text/plain": [
       "HBox(children=(IntProgress(value=0), HTML(value='')))"
      ]
     },
     "metadata": {},
     "output_type": "display_data"
    },
    {
     "name": "stdout",
     "output_type": "stream",
     "text": [
      "Fail for tour 5097, team 53216, question 13\n",
      "Fail for tour 5097, team 58738, question 12\n"
     ]
    },
    {
     "data": {
      "application/vnd.jupyter.widget-view+json": {
       "model_id": "d7ed47c1c42748a588cb4deee255ff6d",
       "version_major": 2,
       "version_minor": 0
      },
      "text/plain": [
       "HBox(children=(IntProgress(value=0), HTML(value='')))"
      ]
     },
     "metadata": {},
     "output_type": "display_data"
    },
    {
     "data": {
      "application/vnd.jupyter.widget-view+json": {
       "model_id": "6bbc5673d250422a910fd072c6616d86",
       "version_major": 2,
       "version_minor": 0
      },
      "text/plain": [
       "HBox(children=(IntProgress(value=0), HTML(value='')))"
      ]
     },
     "metadata": {},
     "output_type": "display_data"
    },
    {
     "data": {
      "application/vnd.jupyter.widget-view+json": {
       "model_id": "a1fb667f84414b92aa01b3f6c997cc6d",
       "version_major": 2,
       "version_minor": 0
      },
      "text/plain": [
       "HBox(children=(IntProgress(value=0), HTML(value='')))"
      ]
     },
     "metadata": {},
     "output_type": "display_data"
    },
    {
     "data": {
      "application/vnd.jupyter.widget-view+json": {
       "model_id": "f12665756b954e0bb7ced58e7d82ed03",
       "version_major": 2,
       "version_minor": 0
      },
      "text/plain": [
       "HBox(children=(IntProgress(value=0), HTML(value='')))"
      ]
     },
     "metadata": {},
     "output_type": "display_data"
    },
    {
     "data": {
      "application/vnd.jupyter.widget-view+json": {
       "model_id": "75f0d1f72b704e92afad954722620686",
       "version_major": 2,
       "version_minor": 0
      },
      "text/plain": [
       "HBox(children=(IntProgress(value=0), HTML(value='')))"
      ]
     },
     "metadata": {},
     "output_type": "display_data"
    },
    {
     "data": {
      "application/vnd.jupyter.widget-view+json": {
       "model_id": "e4d702a55291468090f6f41ef8f933a8",
       "version_major": 2,
       "version_minor": 0
      },
      "text/plain": [
       "HBox(children=(IntProgress(value=0), HTML(value='')))"
      ]
     },
     "metadata": {},
     "output_type": "display_data"
    },
    {
     "data": {
      "application/vnd.jupyter.widget-view+json": {
       "model_id": "5f1c35db0d4643d193dea45dc753bdc8",
       "version_major": 2,
       "version_minor": 0
      },
      "text/plain": [
       "HBox(children=(IntProgress(value=0), HTML(value='')))"
      ]
     },
     "metadata": {},
     "output_type": "display_data"
    },
    {
     "data": {
      "application/vnd.jupyter.widget-view+json": {
       "model_id": "2d5f0fa7ac65438ba37df9996652e84e",
       "version_major": 2,
       "version_minor": 0
      },
      "text/plain": [
       "HBox(children=(IntProgress(value=0), HTML(value='')))"
      ]
     },
     "metadata": {},
     "output_type": "display_data"
    },
    {
     "data": {
      "application/vnd.jupyter.widget-view+json": {
       "model_id": "7e8c89aa88964dbaa14174c5caec0248",
       "version_major": 2,
       "version_minor": 0
      },
      "text/plain": [
       "HBox(children=(IntProgress(value=0), HTML(value='')))"
      ]
     },
     "metadata": {},
     "output_type": "display_data"
    },
    {
     "data": {
      "application/vnd.jupyter.widget-view+json": {
       "model_id": "94012cb7974640238f9b5b2c558474fb",
       "version_major": 2,
       "version_minor": 0
      },
      "text/plain": [
       "HBox(children=(IntProgress(value=0), HTML(value='')))"
      ]
     },
     "metadata": {},
     "output_type": "display_data"
    },
    {
     "data": {
      "application/vnd.jupyter.widget-view+json": {
       "model_id": "a1f69570a4cf4d54817b5ebfcb13c95c",
       "version_major": 2,
       "version_minor": 0
      },
      "text/plain": [
       "HBox(children=(IntProgress(value=0), HTML(value='')))"
      ]
     },
     "metadata": {},
     "output_type": "display_data"
    },
    {
     "data": {
      "application/vnd.jupyter.widget-view+json": {
       "model_id": "0b73152553634f4486bab85c06c03ca4",
       "version_major": 2,
       "version_minor": 0
      },
      "text/plain": [
       "HBox(children=(IntProgress(value=0), HTML(value='')))"
      ]
     },
     "metadata": {},
     "output_type": "display_data"
    },
    {
     "data": {
      "application/vnd.jupyter.widget-view+json": {
       "model_id": "63569b37645144479a2cc502e43b883c",
       "version_major": 2,
       "version_minor": 0
      },
      "text/plain": [
       "HBox(children=(IntProgress(value=0), HTML(value='')))"
      ]
     },
     "metadata": {},
     "output_type": "display_data"
    },
    {
     "data": {
      "application/vnd.jupyter.widget-view+json": {
       "model_id": "bbb633907eeb4e0abe08af78be2f5a5c",
       "version_major": 2,
       "version_minor": 0
      },
      "text/plain": [
       "HBox(children=(IntProgress(value=0), HTML(value='')))"
      ]
     },
     "metadata": {},
     "output_type": "display_data"
    },
    {
     "name": "stdout",
     "output_type": "stream",
     "text": [
      "Fail for tour 5121, team 53456, question 32\n"
     ]
    },
    {
     "data": {
      "application/vnd.jupyter.widget-view+json": {
       "model_id": "ab17146e5df24fcba4a0c4fcaa8e0745",
       "version_major": 2,
       "version_minor": 0
      },
      "text/plain": [
       "HBox(children=(IntProgress(value=0), HTML(value='')))"
      ]
     },
     "metadata": {},
     "output_type": "display_data"
    },
    {
     "data": {
      "application/vnd.jupyter.widget-view+json": {
       "model_id": "faa3f37b52dc4690b94b3fbe9481193e",
       "version_major": 2,
       "version_minor": 0
      },
      "text/plain": [
       "HBox(children=(IntProgress(value=0), HTML(value='')))"
      ]
     },
     "metadata": {},
     "output_type": "display_data"
    },
    {
     "data": {
      "application/vnd.jupyter.widget-view+json": {
       "model_id": "36070af089794fc680e38d5ba8d44f6c",
       "version_major": 2,
       "version_minor": 0
      },
      "text/plain": [
       "HBox(children=(IntProgress(value=0), HTML(value='')))"
      ]
     },
     "metadata": {},
     "output_type": "display_data"
    },
    {
     "name": "stdout",
     "output_type": "stream",
     "text": [
      "Fail for tour 3589, team 27161, question 103\n",
      "Fail for tour 3589, team 40247, question 171\n",
      "Fail for tour 3589, team 27161, question 123\n",
      "Fail for tour 3589, team 27161, question 179\n"
     ]
    },
    {
     "data": {
      "application/vnd.jupyter.widget-view+json": {
       "model_id": "c44fbbb5c7094b0a9015fee344983a36",
       "version_major": 2,
       "version_minor": 0
      },
      "text/plain": [
       "HBox(children=(IntProgress(value=0), HTML(value='')))"
      ]
     },
     "metadata": {},
     "output_type": "display_data"
    },
    {
     "data": {
      "application/vnd.jupyter.widget-view+json": {
       "model_id": "71cb178ff7d4431b98aba15d0fd20872",
       "version_major": 2,
       "version_minor": 0
      },
      "text/plain": [
       "HBox(children=(IntProgress(value=0), HTML(value='')))"
      ]
     },
     "metadata": {},
     "output_type": "display_data"
    },
    {
     "data": {
      "application/vnd.jupyter.widget-view+json": {
       "model_id": "f3329d1a38d74d74ba244ec10a92a7ae",
       "version_major": 2,
       "version_minor": 0
      },
      "text/plain": [
       "HBox(children=(IntProgress(value=0), HTML(value='')))"
      ]
     },
     "metadata": {},
     "output_type": "display_data"
    },
    {
     "data": {
      "application/vnd.jupyter.widget-view+json": {
       "model_id": "36a2ee2bec2541b890d419c506c7787f",
       "version_major": 2,
       "version_minor": 0
      },
      "text/plain": [
       "HBox(children=(IntProgress(value=0), HTML(value='')))"
      ]
     },
     "metadata": {},
     "output_type": "display_data"
    },
    {
     "data": {
      "application/vnd.jupyter.widget-view+json": {
       "model_id": "ba2f6252b6bd4219a19e77379d66671b",
       "version_major": 2,
       "version_minor": 0
      },
      "text/plain": [
       "HBox(children=(IntProgress(value=0), HTML(value='')))"
      ]
     },
     "metadata": {},
     "output_type": "display_data"
    },
    {
     "data": {
      "application/vnd.jupyter.widget-view+json": {
       "model_id": "0d4e7e22b97a4238b60c6bf5be301e79",
       "version_major": 2,
       "version_minor": 0
      },
      "text/plain": [
       "HBox(children=(IntProgress(value=0), HTML(value='')))"
      ]
     },
     "metadata": {},
     "output_type": "display_data"
    },
    {
     "data": {
      "application/vnd.jupyter.widget-view+json": {
       "model_id": "bb9cf2214ae843f486c5d1f58192a445",
       "version_major": 2,
       "version_minor": 0
      },
      "text/plain": [
       "HBox(children=(IntProgress(value=0), HTML(value='')))"
      ]
     },
     "metadata": {},
     "output_type": "display_data"
    },
    {
     "data": {
      "application/vnd.jupyter.widget-view+json": {
       "model_id": "55786af08036437ba8400fbc2788fb08",
       "version_major": 2,
       "version_minor": 0
      },
      "text/plain": [
       "HBox(children=(IntProgress(value=0), HTML(value='')))"
      ]
     },
     "metadata": {},
     "output_type": "display_data"
    },
    {
     "data": {
      "application/vnd.jupyter.widget-view+json": {
       "model_id": "1415d434395a4a57b668389a7ae5409e",
       "version_major": 2,
       "version_minor": 0
      },
      "text/plain": [
       "HBox(children=(IntProgress(value=0), HTML(value='')))"
      ]
     },
     "metadata": {},
     "output_type": "display_data"
    },
    {
     "data": {
      "application/vnd.jupyter.widget-view+json": {
       "model_id": "3e9060ebcdcb414c969f556eef47d4a8",
       "version_major": 2,
       "version_minor": 0
      },
      "text/plain": [
       "HBox(children=(IntProgress(value=0), HTML(value='')))"
      ]
     },
     "metadata": {},
     "output_type": "display_data"
    },
    {
     "data": {
      "application/vnd.jupyter.widget-view+json": {
       "model_id": "5f1d54b609c24d11b08e13a79c006f63",
       "version_major": 2,
       "version_minor": 0
      },
      "text/plain": [
       "HBox(children=(IntProgress(value=0), HTML(value='')))"
      ]
     },
     "metadata": {},
     "output_type": "display_data"
    },
    {
     "data": {
      "application/vnd.jupyter.widget-view+json": {
       "model_id": "a51c81059c274c52a9a013f17f7a755d",
       "version_major": 2,
       "version_minor": 0
      },
      "text/plain": [
       "HBox(children=(IntProgress(value=0), HTML(value='')))"
      ]
     },
     "metadata": {},
     "output_type": "display_data"
    },
    {
     "data": {
      "application/vnd.jupyter.widget-view+json": {
       "model_id": "66cf9048ce1245e48f2b808b9e92dd6f",
       "version_major": 2,
       "version_minor": 0
      },
      "text/plain": [
       "HBox(children=(IntProgress(value=0), HTML(value='')))"
      ]
     },
     "metadata": {},
     "output_type": "display_data"
    },
    {
     "data": {
      "application/vnd.jupyter.widget-view+json": {
       "model_id": "bd7d8828c8634b45a08585c878871a9c",
       "version_major": 2,
       "version_minor": 0
      },
      "text/plain": [
       "HBox(children=(IntProgress(value=0), HTML(value='')))"
      ]
     },
     "metadata": {},
     "output_type": "display_data"
    },
    {
     "data": {
      "application/vnd.jupyter.widget-view+json": {
       "model_id": "664b89b94cf34fee923110589fcc87dd",
       "version_major": 2,
       "version_minor": 0
      },
      "text/plain": [
       "HBox(children=(IntProgress(value=0), HTML(value='')))"
      ]
     },
     "metadata": {},
     "output_type": "display_data"
    },
    {
     "data": {
      "application/vnd.jupyter.widget-view+json": {
       "model_id": "bf300aa9057e4376afee4bebab1e59dd",
       "version_major": 2,
       "version_minor": 0
      },
      "text/plain": [
       "HBox(children=(IntProgress(value=0), HTML(value='')))"
      ]
     },
     "metadata": {},
     "output_type": "display_data"
    },
    {
     "data": {
      "application/vnd.jupyter.widget-view+json": {
       "model_id": "4a157ae8963542f4bfdb380bb9c6017c",
       "version_major": 2,
       "version_minor": 0
      },
      "text/plain": [
       "HBox(children=(IntProgress(value=0), HTML(value='')))"
      ]
     },
     "metadata": {},
     "output_type": "display_data"
    },
    {
     "data": {
      "application/vnd.jupyter.widget-view+json": {
       "model_id": "b3ce4addc6c64f76a591d6011665a575",
       "version_major": 2,
       "version_minor": 0
      },
      "text/plain": [
       "HBox(children=(IntProgress(value=0), HTML(value='')))"
      ]
     },
     "metadata": {},
     "output_type": "display_data"
    },
    {
     "data": {
      "application/vnd.jupyter.widget-view+json": {
       "model_id": "d00d8f46cd1e40d9912876ebcc62b550",
       "version_major": 2,
       "version_minor": 0
      },
      "text/plain": [
       "HBox(children=(IntProgress(value=0), HTML(value='')))"
      ]
     },
     "metadata": {},
     "output_type": "display_data"
    },
    {
     "data": {
      "application/vnd.jupyter.widget-view+json": {
       "model_id": "c010f4a753a842f88f07dcb593f7274d",
       "version_major": 2,
       "version_minor": 0
      },
      "text/plain": [
       "HBox(children=(IntProgress(value=0), HTML(value='')))"
      ]
     },
     "metadata": {},
     "output_type": "display_data"
    },
    {
     "data": {
      "application/vnd.jupyter.widget-view+json": {
       "model_id": "08ef08eba0804f64baef6ada4c3197f5",
       "version_major": 2,
       "version_minor": 0
      },
      "text/plain": [
       "HBox(children=(IntProgress(value=0), HTML(value='')))"
      ]
     },
     "metadata": {},
     "output_type": "display_data"
    },
    {
     "name": "stdout",
     "output_type": "stream",
     "text": [
      "Fail for tour 4469, team 46049, question 76\n",
      "Fail for tour 4469, team 48412, question 72\n"
     ]
    },
    {
     "data": {
      "application/vnd.jupyter.widget-view+json": {
       "model_id": "ded3cdb7902b4461808d9dd319a3525d",
       "version_major": 2,
       "version_minor": 0
      },
      "text/plain": [
       "HBox(children=(IntProgress(value=0), HTML(value='')))"
      ]
     },
     "metadata": {},
     "output_type": "display_data"
    },
    {
     "data": {
      "application/vnd.jupyter.widget-view+json": {
       "model_id": "09e5f9cc6a3541bb8b8c7b332a8acb13",
       "version_major": 2,
       "version_minor": 0
      },
      "text/plain": [
       "HBox(children=(IntProgress(value=0), HTML(value='')))"
      ]
     },
     "metadata": {},
     "output_type": "display_data"
    },
    {
     "data": {
      "application/vnd.jupyter.widget-view+json": {
       "model_id": "06077630e185497faef3e4953b459215",
       "version_major": 2,
       "version_minor": 0
      },
      "text/plain": [
       "HBox(children=(IntProgress(value=0), HTML(value='')))"
      ]
     },
     "metadata": {},
     "output_type": "display_data"
    },
    {
     "data": {
      "application/vnd.jupyter.widget-view+json": {
       "model_id": "4d55934b7e68401bab582c658e7c553a",
       "version_major": 2,
       "version_minor": 0
      },
      "text/plain": [
       "HBox(children=(IntProgress(value=0), HTML(value='')))"
      ]
     },
     "metadata": {},
     "output_type": "display_data"
    },
    {
     "data": {
      "application/vnd.jupyter.widget-view+json": {
       "model_id": "048169159d05451bb6a399eb1a5e1e47",
       "version_major": 2,
       "version_minor": 0
      },
      "text/plain": [
       "HBox(children=(IntProgress(value=0), HTML(value='')))"
      ]
     },
     "metadata": {},
     "output_type": "display_data"
    },
    {
     "data": {
      "application/vnd.jupyter.widget-view+json": {
       "model_id": "59ea60f20d0246018471baf2b1d042c4",
       "version_major": 2,
       "version_minor": 0
      },
      "text/plain": [
       "HBox(children=(IntProgress(value=0), HTML(value='')))"
      ]
     },
     "metadata": {},
     "output_type": "display_data"
    },
    {
     "data": {
      "application/vnd.jupyter.widget-view+json": {
       "model_id": "afe1f22a5bcb423995b3ee268520ef94",
       "version_major": 2,
       "version_minor": 0
      },
      "text/plain": [
       "HBox(children=(IntProgress(value=0), HTML(value='')))"
      ]
     },
     "metadata": {},
     "output_type": "display_data"
    },
    {
     "data": {
      "application/vnd.jupyter.widget-view+json": {
       "model_id": "508d4865a4834678b3a0500b9f97d2ee",
       "version_major": 2,
       "version_minor": 0
      },
      "text/plain": [
       "HBox(children=(IntProgress(value=0), HTML(value='')))"
      ]
     },
     "metadata": {},
     "output_type": "display_data"
    },
    {
     "data": {
      "application/vnd.jupyter.widget-view+json": {
       "model_id": "af374f33f37b4c89b64c85c89115130e",
       "version_major": 2,
       "version_minor": 0
      },
      "text/plain": [
       "HBox(children=(IntProgress(value=0), HTML(value='')))"
      ]
     },
     "metadata": {},
     "output_type": "display_data"
    },
    {
     "data": {
      "application/vnd.jupyter.widget-view+json": {
       "model_id": "d6546c08dd7a4ed487c3c8cc99440673",
       "version_major": 2,
       "version_minor": 0
      },
      "text/plain": [
       "HBox(children=(IntProgress(value=0), HTML(value='')))"
      ]
     },
     "metadata": {},
     "output_type": "display_data"
    },
    {
     "data": {
      "application/vnd.jupyter.widget-view+json": {
       "model_id": "e53a476271ec420aab1e647c3b38cb2f",
       "version_major": 2,
       "version_minor": 0
      },
      "text/plain": [
       "HBox(children=(IntProgress(value=0), HTML(value='')))"
      ]
     },
     "metadata": {},
     "output_type": "display_data"
    },
    {
     "data": {
      "application/vnd.jupyter.widget-view+json": {
       "model_id": "2b0da8599e12450ea8e37557e2924a96",
       "version_major": 2,
       "version_minor": 0
      },
      "text/plain": [
       "HBox(children=(IntProgress(value=0), HTML(value='')))"
      ]
     },
     "metadata": {},
     "output_type": "display_data"
    },
    {
     "data": {
      "application/vnd.jupyter.widget-view+json": {
       "model_id": "e83a13f6a8b34cb690984fa0b8dabe4a",
       "version_major": 2,
       "version_minor": 0
      },
      "text/plain": [
       "HBox(children=(IntProgress(value=0), HTML(value='')))"
      ]
     },
     "metadata": {},
     "output_type": "display_data"
    },
    {
     "name": "stdout",
     "output_type": "stream",
     "text": [
      "Fail for tour 1926, team 39141, question 40\n",
      "Fail for tour 1926, team 28365, question 40\n"
     ]
    },
    {
     "data": {
      "application/vnd.jupyter.widget-view+json": {
       "model_id": "e386e6472dd14ea0824ea85de4cf74fc",
       "version_major": 2,
       "version_minor": 0
      },
      "text/plain": [
       "HBox(children=(IntProgress(value=0), HTML(value='')))"
      ]
     },
     "metadata": {},
     "output_type": "display_data"
    },
    {
     "data": {
      "application/vnd.jupyter.widget-view+json": {
       "model_id": "0ff59d520eb44e4aae846c0434f6d250",
       "version_major": 2,
       "version_minor": 0
      },
      "text/plain": [
       "HBox(children=(IntProgress(value=0), HTML(value='')))"
      ]
     },
     "metadata": {},
     "output_type": "display_data"
    },
    {
     "data": {
      "application/vnd.jupyter.widget-view+json": {
       "model_id": "c9a59fed497c4381a11d4275d265551c",
       "version_major": 2,
       "version_minor": 0
      },
      "text/plain": [
       "HBox(children=(IntProgress(value=0), HTML(value='')))"
      ]
     },
     "metadata": {},
     "output_type": "display_data"
    },
    {
     "data": {
      "application/vnd.jupyter.widget-view+json": {
       "model_id": "6699950c69a0492d96aaba816868f1f5",
       "version_major": 2,
       "version_minor": 0
      },
      "text/plain": [
       "HBox(children=(IntProgress(value=0), HTML(value='')))"
      ]
     },
     "metadata": {},
     "output_type": "display_data"
    },
    {
     "data": {
      "application/vnd.jupyter.widget-view+json": {
       "model_id": "bc07b00ed3f74b598002a759b76f9309",
       "version_major": 2,
       "version_minor": 0
      },
      "text/plain": [
       "HBox(children=(IntProgress(value=0), HTML(value='')))"
      ]
     },
     "metadata": {},
     "output_type": "display_data"
    },
    {
     "data": {
      "application/vnd.jupyter.widget-view+json": {
       "model_id": "2d0704c5187142faa64b4b60779fd597",
       "version_major": 2,
       "version_minor": 0
      },
      "text/plain": [
       "HBox(children=(IntProgress(value=0), HTML(value='')))"
      ]
     },
     "metadata": {},
     "output_type": "display_data"
    },
    {
     "data": {
      "application/vnd.jupyter.widget-view+json": {
       "model_id": "3ed30add940c46f19c1299bfd2bcd990",
       "version_major": 2,
       "version_minor": 0
      },
      "text/plain": [
       "HBox(children=(IntProgress(value=0), HTML(value='')))"
      ]
     },
     "metadata": {},
     "output_type": "display_data"
    },
    {
     "data": {
      "application/vnd.jupyter.widget-view+json": {
       "model_id": "f7935c548e9f4446b8bf60f305cde039",
       "version_major": 2,
       "version_minor": 0
      },
      "text/plain": [
       "HBox(children=(IntProgress(value=0), HTML(value='')))"
      ]
     },
     "metadata": {},
     "output_type": "display_data"
    },
    {
     "data": {
      "application/vnd.jupyter.widget-view+json": {
       "model_id": "c550348a4feb4bdab608ef11466c78cc",
       "version_major": 2,
       "version_minor": 0
      },
      "text/plain": [
       "HBox(children=(IntProgress(value=0), HTML(value='')))"
      ]
     },
     "metadata": {},
     "output_type": "display_data"
    },
    {
     "data": {
      "application/vnd.jupyter.widget-view+json": {
       "model_id": "55e2ce1a93a940d89ab786ab26e5a7a6",
       "version_major": 2,
       "version_minor": 0
      },
      "text/plain": [
       "HBox(children=(IntProgress(value=0), HTML(value='')))"
      ]
     },
     "metadata": {},
     "output_type": "display_data"
    },
    {
     "data": {
      "application/vnd.jupyter.widget-view+json": {
       "model_id": "080e87ee9e7049cbb0d56a611566ff6e",
       "version_major": 2,
       "version_minor": 0
      },
      "text/plain": [
       "HBox(children=(IntProgress(value=0), HTML(value='')))"
      ]
     },
     "metadata": {},
     "output_type": "display_data"
    },
    {
     "data": {
      "application/vnd.jupyter.widget-view+json": {
       "model_id": "c2d8842f7ce54b51a06c47ee669ea719",
       "version_major": 2,
       "version_minor": 0
      },
      "text/plain": [
       "HBox(children=(IntProgress(value=0), HTML(value='')))"
      ]
     },
     "metadata": {},
     "output_type": "display_data"
    },
    {
     "data": {
      "application/vnd.jupyter.widget-view+json": {
       "model_id": "c61c636d9f3b4f0d88127d5afa88b7cd",
       "version_major": 2,
       "version_minor": 0
      },
      "text/plain": [
       "HBox(children=(IntProgress(value=0), HTML(value='')))"
      ]
     },
     "metadata": {},
     "output_type": "display_data"
    },
    {
     "data": {
      "application/vnd.jupyter.widget-view+json": {
       "model_id": "a10176ae34a14194b0a4134f31b9a8fc",
       "version_major": 2,
       "version_minor": 0
      },
      "text/plain": [
       "HBox(children=(IntProgress(value=0), HTML(value='')))"
      ]
     },
     "metadata": {},
     "output_type": "display_data"
    },
    {
     "data": {
      "application/vnd.jupyter.widget-view+json": {
       "model_id": "0131c591e2484f08883fc63a55b61cf7",
       "version_major": 2,
       "version_minor": 0
      },
      "text/plain": [
       "HBox(children=(IntProgress(value=0), HTML(value='')))"
      ]
     },
     "metadata": {},
     "output_type": "display_data"
    },
    {
     "data": {
      "application/vnd.jupyter.widget-view+json": {
       "model_id": "16fb130d55ec474ba1f2fbd19a871162",
       "version_major": 2,
       "version_minor": 0
      },
      "text/plain": [
       "HBox(children=(IntProgress(value=0), HTML(value='')))"
      ]
     },
     "metadata": {},
     "output_type": "display_data"
    },
    {
     "data": {
      "application/vnd.jupyter.widget-view+json": {
       "model_id": "a1e301be40c04d568c3365ad89dcef40",
       "version_major": 2,
       "version_minor": 0
      },
      "text/plain": [
       "HBox(children=(IntProgress(value=0), HTML(value='')))"
      ]
     },
     "metadata": {},
     "output_type": "display_data"
    },
    {
     "data": {
      "application/vnd.jupyter.widget-view+json": {
       "model_id": "199dc8ccd055441f81ed226607d605f9",
       "version_major": 2,
       "version_minor": 0
      },
      "text/plain": [
       "HBox(children=(IntProgress(value=0), HTML(value='')))"
      ]
     },
     "metadata": {},
     "output_type": "display_data"
    },
    {
     "data": {
      "application/vnd.jupyter.widget-view+json": {
       "model_id": "8a4612efb29d4073a8fc7d4ea61e7f74",
       "version_major": 2,
       "version_minor": 0
      },
      "text/plain": [
       "HBox(children=(IntProgress(value=0), HTML(value='')))"
      ]
     },
     "metadata": {},
     "output_type": "display_data"
    },
    {
     "data": {
      "application/vnd.jupyter.widget-view+json": {
       "model_id": "57a7cea3b914405b8d2519654cf56e8f",
       "version_major": 2,
       "version_minor": 0
      },
      "text/plain": [
       "HBox(children=(IntProgress(value=0), HTML(value='')))"
      ]
     },
     "metadata": {},
     "output_type": "display_data"
    },
    {
     "data": {
      "application/vnd.jupyter.widget-view+json": {
       "model_id": "29c926f270374d02af01ef140d7792db",
       "version_major": 2,
       "version_minor": 0
      },
      "text/plain": [
       "HBox(children=(IntProgress(value=0), HTML(value='')))"
      ]
     },
     "metadata": {},
     "output_type": "display_data"
    },
    {
     "data": {
      "application/vnd.jupyter.widget-view+json": {
       "model_id": "791a5595ac9d4db3849bc8294899bd3d",
       "version_major": 2,
       "version_minor": 0
      },
      "text/plain": [
       "HBox(children=(IntProgress(value=0), HTML(value='')))"
      ]
     },
     "metadata": {},
     "output_type": "display_data"
    },
    {
     "data": {
      "application/vnd.jupyter.widget-view+json": {
       "model_id": "6938ee65475043ea963e019ee1b3416b",
       "version_major": 2,
       "version_minor": 0
      },
      "text/plain": [
       "HBox(children=(IntProgress(value=0), HTML(value='')))"
      ]
     },
     "metadata": {},
     "output_type": "display_data"
    },
    {
     "data": {
      "application/vnd.jupyter.widget-view+json": {
       "model_id": "deb56c3457214d6e80fcf0413b3e3ddb",
       "version_major": 2,
       "version_minor": 0
      },
      "text/plain": [
       "HBox(children=(IntProgress(value=0), HTML(value='')))"
      ]
     },
     "metadata": {},
     "output_type": "display_data"
    },
    {
     "data": {
      "application/vnd.jupyter.widget-view+json": {
       "model_id": "9920ad86de2d45dabfe31b5e29826fbc",
       "version_major": 2,
       "version_minor": 0
      },
      "text/plain": [
       "HBox(children=(IntProgress(value=0), HTML(value='')))"
      ]
     },
     "metadata": {},
     "output_type": "display_data"
    },
    {
     "data": {
      "application/vnd.jupyter.widget-view+json": {
       "model_id": "3c709afbd7334e6d8e87dfbde31071a9",
       "version_major": 2,
       "version_minor": 0
      },
      "text/plain": [
       "HBox(children=(IntProgress(value=0), HTML(value='')))"
      ]
     },
     "metadata": {},
     "output_type": "display_data"
    },
    {
     "data": {
      "application/vnd.jupyter.widget-view+json": {
       "model_id": "db25e6a85e314e3ea81066ac0252e517",
       "version_major": 2,
       "version_minor": 0
      },
      "text/plain": [
       "HBox(children=(IntProgress(value=0), HTML(value='')))"
      ]
     },
     "metadata": {},
     "output_type": "display_data"
    },
    {
     "data": {
      "application/vnd.jupyter.widget-view+json": {
       "model_id": "b2ab6f0ed2554909a37ca71a933ffc85",
       "version_major": 2,
       "version_minor": 0
      },
      "text/plain": [
       "HBox(children=(IntProgress(value=0), HTML(value='')))"
      ]
     },
     "metadata": {},
     "output_type": "display_data"
    },
    {
     "data": {
      "application/vnd.jupyter.widget-view+json": {
       "model_id": "9ef115c4e10b4ce79472ce135f23acee",
       "version_major": 2,
       "version_minor": 0
      },
      "text/plain": [
       "HBox(children=(IntProgress(value=0), HTML(value='')))"
      ]
     },
     "metadata": {},
     "output_type": "display_data"
    },
    {
     "data": {
      "application/vnd.jupyter.widget-view+json": {
       "model_id": "b63dd0174ad24cc3af6bb36f460f16ba",
       "version_major": 2,
       "version_minor": 0
      },
      "text/plain": [
       "HBox(children=(IntProgress(value=0), HTML(value='')))"
      ]
     },
     "metadata": {},
     "output_type": "display_data"
    },
    {
     "data": {
      "application/vnd.jupyter.widget-view+json": {
       "model_id": "76f2ea35b6f64e8dac6ddb785df6e2a0",
       "version_major": 2,
       "version_minor": 0
      },
      "text/plain": [
       "HBox(children=(IntProgress(value=0), HTML(value='')))"
      ]
     },
     "metadata": {},
     "output_type": "display_data"
    },
    {
     "data": {
      "application/vnd.jupyter.widget-view+json": {
       "model_id": "03d8ce1a93b1417b92b57a3249d23350",
       "version_major": 2,
       "version_minor": 0
      },
      "text/plain": [
       "HBox(children=(IntProgress(value=0), HTML(value='')))"
      ]
     },
     "metadata": {},
     "output_type": "display_data"
    },
    {
     "data": {
      "application/vnd.jupyter.widget-view+json": {
       "model_id": "1b82555cd4704b9fb1b3cca4d80f15bd",
       "version_major": 2,
       "version_minor": 0
      },
      "text/plain": [
       "HBox(children=(IntProgress(value=0), HTML(value='')))"
      ]
     },
     "metadata": {},
     "output_type": "display_data"
    },
    {
     "data": {
      "application/vnd.jupyter.widget-view+json": {
       "model_id": "8495df5ddf1f4ee985e646e1b2a11f38",
       "version_major": 2,
       "version_minor": 0
      },
      "text/plain": [
       "HBox(children=(IntProgress(value=0), HTML(value='')))"
      ]
     },
     "metadata": {},
     "output_type": "display_data"
    },
    {
     "data": {
      "application/vnd.jupyter.widget-view+json": {
       "model_id": "07602e61b65849c1a76ad6302b212323",
       "version_major": 2,
       "version_minor": 0
      },
      "text/plain": [
       "HBox(children=(IntProgress(value=0), HTML(value='')))"
      ]
     },
     "metadata": {},
     "output_type": "display_data"
    },
    {
     "data": {
      "application/vnd.jupyter.widget-view+json": {
       "model_id": "46f034e4b6ea4e1eaf2a86acd3332795",
       "version_major": 2,
       "version_minor": 0
      },
      "text/plain": [
       "HBox(children=(IntProgress(value=0), HTML(value='')))"
      ]
     },
     "metadata": {},
     "output_type": "display_data"
    },
    {
     "data": {
      "application/vnd.jupyter.widget-view+json": {
       "model_id": "41cdf18aa43845db9c6142f46b9a6b87",
       "version_major": 2,
       "version_minor": 0
      },
      "text/plain": [
       "HBox(children=(IntProgress(value=0), HTML(value='')))"
      ]
     },
     "metadata": {},
     "output_type": "display_data"
    },
    {
     "data": {
      "application/vnd.jupyter.widget-view+json": {
       "model_id": "d62f628f9a604282b7357ff263f06bb3",
       "version_major": 2,
       "version_minor": 0
      },
      "text/plain": [
       "HBox(children=(IntProgress(value=0), HTML(value='')))"
      ]
     },
     "metadata": {},
     "output_type": "display_data"
    },
    {
     "data": {
      "application/vnd.jupyter.widget-view+json": {
       "model_id": "576b6c41e06b43f4a87cdab8948561a2",
       "version_major": 2,
       "version_minor": 0
      },
      "text/plain": [
       "HBox(children=(IntProgress(value=0), HTML(value='')))"
      ]
     },
     "metadata": {},
     "output_type": "display_data"
    },
    {
     "data": {
      "application/vnd.jupyter.widget-view+json": {
       "model_id": "3aea9277f9ef45dc9bde9831f5da60bb",
       "version_major": 2,
       "version_minor": 0
      },
      "text/plain": [
       "HBox(children=(IntProgress(value=0), HTML(value='')))"
      ]
     },
     "metadata": {},
     "output_type": "display_data"
    },
    {
     "data": {
      "application/vnd.jupyter.widget-view+json": {
       "model_id": "55e32c462dfa42f7bcc20760a0f90a87",
       "version_major": 2,
       "version_minor": 0
      },
      "text/plain": [
       "HBox(children=(IntProgress(value=0), HTML(value='')))"
      ]
     },
     "metadata": {},
     "output_type": "display_data"
    },
    {
     "data": {
      "application/vnd.jupyter.widget-view+json": {
       "model_id": "15b97c265dde4204bc389c2bf53ad389",
       "version_major": 2,
       "version_minor": 0
      },
      "text/plain": [
       "HBox(children=(IntProgress(value=0), HTML(value='')))"
      ]
     },
     "metadata": {},
     "output_type": "display_data"
    },
    {
     "data": {
      "application/vnd.jupyter.widget-view+json": {
       "model_id": "e51d5914181f44f09f03c1c9cc063f01",
       "version_major": 2,
       "version_minor": 0
      },
      "text/plain": [
       "HBox(children=(IntProgress(value=0), HTML(value='')))"
      ]
     },
     "metadata": {},
     "output_type": "display_data"
    },
    {
     "data": {
      "application/vnd.jupyter.widget-view+json": {
       "model_id": "58d3575ef89845a7ad4173608564713a",
       "version_major": 2,
       "version_minor": 0
      },
      "text/plain": [
       "HBox(children=(IntProgress(value=0), HTML(value='')))"
      ]
     },
     "metadata": {},
     "output_type": "display_data"
    },
    {
     "data": {
      "application/vnd.jupyter.widget-view+json": {
       "model_id": "84b772af12be482789fbc088e5ca84f8",
       "version_major": 2,
       "version_minor": 0
      },
      "text/plain": [
       "HBox(children=(IntProgress(value=0), HTML(value='')))"
      ]
     },
     "metadata": {},
     "output_type": "display_data"
    },
    {
     "data": {
      "application/vnd.jupyter.widget-view+json": {
       "model_id": "2327a17ecc574c1a89dc24aa8b80cf80",
       "version_major": 2,
       "version_minor": 0
      },
      "text/plain": [
       "HBox(children=(IntProgress(value=0), HTML(value='')))"
      ]
     },
     "metadata": {},
     "output_type": "display_data"
    },
    {
     "data": {
      "application/vnd.jupyter.widget-view+json": {
       "model_id": "5ae250a2cbf64fb3bb58667f6748a648",
       "version_major": 2,
       "version_minor": 0
      },
      "text/plain": [
       "HBox(children=(IntProgress(value=0), HTML(value='')))"
      ]
     },
     "metadata": {},
     "output_type": "display_data"
    },
    {
     "data": {
      "application/vnd.jupyter.widget-view+json": {
       "model_id": "9027c7eab88e463a83d94721289df6ed",
       "version_major": 2,
       "version_minor": 0
      },
      "text/plain": [
       "HBox(children=(IntProgress(value=0), HTML(value='')))"
      ]
     },
     "metadata": {},
     "output_type": "display_data"
    },
    {
     "data": {
      "application/vnd.jupyter.widget-view+json": {
       "model_id": "1369b129bb0044c3aaca0f0dbf644e06",
       "version_major": 2,
       "version_minor": 0
      },
      "text/plain": [
       "HBox(children=(IntProgress(value=0), HTML(value='')))"
      ]
     },
     "metadata": {},
     "output_type": "display_data"
    },
    {
     "data": {
      "application/vnd.jupyter.widget-view+json": {
       "model_id": "7c12faced3e84a588860570dff3f1c51",
       "version_major": 2,
       "version_minor": 0
      },
      "text/plain": [
       "HBox(children=(IntProgress(value=0), HTML(value='')))"
      ]
     },
     "metadata": {},
     "output_type": "display_data"
    },
    {
     "data": {
      "application/vnd.jupyter.widget-view+json": {
       "model_id": "481875e7f92147fe8a037d6b1f050d8b",
       "version_major": 2,
       "version_minor": 0
      },
      "text/plain": [
       "HBox(children=(IntProgress(value=0), HTML(value='')))"
      ]
     },
     "metadata": {},
     "output_type": "display_data"
    },
    {
     "data": {
      "application/vnd.jupyter.widget-view+json": {
       "model_id": "dc5ba3dfee364487bbf91e9d75ac1200",
       "version_major": 2,
       "version_minor": 0
      },
      "text/plain": [
       "HBox(children=(IntProgress(value=0), HTML(value='')))"
      ]
     },
     "metadata": {},
     "output_type": "display_data"
    },
    {
     "data": {
      "application/vnd.jupyter.widget-view+json": {
       "model_id": "d27d095830f54fc7ad86b9fb806df643",
       "version_major": 2,
       "version_minor": 0
      },
      "text/plain": [
       "HBox(children=(IntProgress(value=0), HTML(value='')))"
      ]
     },
     "metadata": {},
     "output_type": "display_data"
    },
    {
     "data": {
      "application/vnd.jupyter.widget-view+json": {
       "model_id": "49a936541f5345aab288e200768486a9",
       "version_major": 2,
       "version_minor": 0
      },
      "text/plain": [
       "HBox(children=(IntProgress(value=0), HTML(value='')))"
      ]
     },
     "metadata": {},
     "output_type": "display_data"
    },
    {
     "data": {
      "application/vnd.jupyter.widget-view+json": {
       "model_id": "ed9f61d2ce80401b84fecaf00eb2e921",
       "version_major": 2,
       "version_minor": 0
      },
      "text/plain": [
       "HBox(children=(IntProgress(value=0), HTML(value='')))"
      ]
     },
     "metadata": {},
     "output_type": "display_data"
    },
    {
     "data": {
      "application/vnd.jupyter.widget-view+json": {
       "model_id": "0c6ae6b40a224604a99e25c926e97862",
       "version_major": 2,
       "version_minor": 0
      },
      "text/plain": [
       "HBox(children=(IntProgress(value=0), HTML(value='')))"
      ]
     },
     "metadata": {},
     "output_type": "display_data"
    },
    {
     "data": {
      "application/vnd.jupyter.widget-view+json": {
       "model_id": "b99f3a79615c402484644b48ee826d30",
       "version_major": 2,
       "version_minor": 0
      },
      "text/plain": [
       "HBox(children=(IntProgress(value=0), HTML(value='')))"
      ]
     },
     "metadata": {},
     "output_type": "display_data"
    },
    {
     "data": {
      "application/vnd.jupyter.widget-view+json": {
       "model_id": "e85afffbbb0d4e1cafaee82cd81358ac",
       "version_major": 2,
       "version_minor": 0
      },
      "text/plain": [
       "HBox(children=(IntProgress(value=0), HTML(value='')))"
      ]
     },
     "metadata": {},
     "output_type": "display_data"
    },
    {
     "data": {
      "application/vnd.jupyter.widget-view+json": {
       "model_id": "83ddbc62dada4326b88e9d76195c79a2",
       "version_major": 2,
       "version_minor": 0
      },
      "text/plain": [
       "HBox(children=(IntProgress(value=0), HTML(value='')))"
      ]
     },
     "metadata": {},
     "output_type": "display_data"
    },
    {
     "data": {
      "application/vnd.jupyter.widget-view+json": {
       "model_id": "5e2a1ecd166a4bd5848f89a31f7a3d15",
       "version_major": 2,
       "version_minor": 0
      },
      "text/plain": [
       "HBox(children=(IntProgress(value=0), HTML(value='')))"
      ]
     },
     "metadata": {},
     "output_type": "display_data"
    },
    {
     "data": {
      "application/vnd.jupyter.widget-view+json": {
       "model_id": "50a12581e1e747d0bddd5971dbcb90cd",
       "version_major": 2,
       "version_minor": 0
      },
      "text/plain": [
       "HBox(children=(IntProgress(value=0), HTML(value='')))"
      ]
     },
     "metadata": {},
     "output_type": "display_data"
    },
    {
     "data": {
      "application/vnd.jupyter.widget-view+json": {
       "model_id": "9d1277d032cf4849abb4b468a4b99067",
       "version_major": 2,
       "version_minor": 0
      },
      "text/plain": [
       "HBox(children=(IntProgress(value=0), HTML(value='')))"
      ]
     },
     "metadata": {},
     "output_type": "display_data"
    },
    {
     "data": {
      "application/vnd.jupyter.widget-view+json": {
       "model_id": "15db0588da334f8fadda430bcb42e611",
       "version_major": 2,
       "version_minor": 0
      },
      "text/plain": [
       "HBox(children=(IntProgress(value=0), HTML(value='')))"
      ]
     },
     "metadata": {},
     "output_type": "display_data"
    },
    {
     "data": {
      "application/vnd.jupyter.widget-view+json": {
       "model_id": "f7e36d83281049eebcb3b22b7deb1036",
       "version_major": 2,
       "version_minor": 0
      },
      "text/plain": [
       "HBox(children=(IntProgress(value=0), HTML(value='')))"
      ]
     },
     "metadata": {},
     "output_type": "display_data"
    },
    {
     "data": {
      "application/vnd.jupyter.widget-view+json": {
       "model_id": "96ae2e3e54f749ec847259b0c18c0ba8",
       "version_major": 2,
       "version_minor": 0
      },
      "text/plain": [
       "HBox(children=(IntProgress(value=0), HTML(value='')))"
      ]
     },
     "metadata": {},
     "output_type": "display_data"
    },
    {
     "data": {
      "application/vnd.jupyter.widget-view+json": {
       "model_id": "c7f1ade8f18249369bd94bec06034553",
       "version_major": 2,
       "version_minor": 0
      },
      "text/plain": [
       "HBox(children=(IntProgress(value=0), HTML(value='')))"
      ]
     },
     "metadata": {},
     "output_type": "display_data"
    },
    {
     "data": {
      "application/vnd.jupyter.widget-view+json": {
       "model_id": "b50fa800993f4543b58459a6f501d4b8",
       "version_major": 2,
       "version_minor": 0
      },
      "text/plain": [
       "HBox(children=(IntProgress(value=0), HTML(value='')))"
      ]
     },
     "metadata": {},
     "output_type": "display_data"
    },
    {
     "data": {
      "application/vnd.jupyter.widget-view+json": {
       "model_id": "df457b8d6d1b49bb810a9c3131ff25a3",
       "version_major": 2,
       "version_minor": 0
      },
      "text/plain": [
       "HBox(children=(IntProgress(value=0), HTML(value='')))"
      ]
     },
     "metadata": {},
     "output_type": "display_data"
    },
    {
     "data": {
      "application/vnd.jupyter.widget-view+json": {
       "model_id": "b065ae276e3243e0b8e487149e4384f0",
       "version_major": 2,
       "version_minor": 0
      },
      "text/plain": [
       "HBox(children=(IntProgress(value=0), HTML(value='')))"
      ]
     },
     "metadata": {},
     "output_type": "display_data"
    },
    {
     "data": {
      "application/vnd.jupyter.widget-view+json": {
       "model_id": "db887b65d80648f38b656d8a1871f960",
       "version_major": 2,
       "version_minor": 0
      },
      "text/plain": [
       "HBox(children=(IntProgress(value=0), HTML(value='')))"
      ]
     },
     "metadata": {},
     "output_type": "display_data"
    },
    {
     "data": {
      "application/vnd.jupyter.widget-view+json": {
       "model_id": "40e1c6a64b4d4761b110f4d66b458659",
       "version_major": 2,
       "version_minor": 0
      },
      "text/plain": [
       "HBox(children=(IntProgress(value=0), HTML(value='')))"
      ]
     },
     "metadata": {},
     "output_type": "display_data"
    },
    {
     "data": {
      "application/vnd.jupyter.widget-view+json": {
       "model_id": "35cf68516ea64444b2a9766e4a9c806b",
       "version_major": 2,
       "version_minor": 0
      },
      "text/plain": [
       "HBox(children=(IntProgress(value=0), HTML(value='')))"
      ]
     },
     "metadata": {},
     "output_type": "display_data"
    },
    {
     "data": {
      "application/vnd.jupyter.widget-view+json": {
       "model_id": "45b1bd7462a54318b1af61f4d76e01ac",
       "version_major": 2,
       "version_minor": 0
      },
      "text/plain": [
       "HBox(children=(IntProgress(value=0), HTML(value='')))"
      ]
     },
     "metadata": {},
     "output_type": "display_data"
    },
    {
     "data": {
      "application/vnd.jupyter.widget-view+json": {
       "model_id": "98ba5df899e34433b6b314f56ec86a3c",
       "version_major": 2,
       "version_minor": 0
      },
      "text/plain": [
       "HBox(children=(IntProgress(value=0), HTML(value='')))"
      ]
     },
     "metadata": {},
     "output_type": "display_data"
    },
    {
     "data": {
      "application/vnd.jupyter.widget-view+json": {
       "model_id": "ffde3aa7b97e474ba683b96c066efbb5",
       "version_major": 2,
       "version_minor": 0
      },
      "text/plain": [
       "HBox(children=(IntProgress(value=0), HTML(value='')))"
      ]
     },
     "metadata": {},
     "output_type": "display_data"
    },
    {
     "data": {
      "application/vnd.jupyter.widget-view+json": {
       "model_id": "061f8bbf24254230be6f0deb53bafd8e",
       "version_major": 2,
       "version_minor": 0
      },
      "text/plain": [
       "HBox(children=(IntProgress(value=0), HTML(value='')))"
      ]
     },
     "metadata": {},
     "output_type": "display_data"
    },
    {
     "data": {
      "application/vnd.jupyter.widget-view+json": {
       "model_id": "372b4707db4d4cb1bee4c68c946c45cf",
       "version_major": 2,
       "version_minor": 0
      },
      "text/plain": [
       "HBox(children=(IntProgress(value=0), HTML(value='')))"
      ]
     },
     "metadata": {},
     "output_type": "display_data"
    },
    {
     "data": {
      "application/vnd.jupyter.widget-view+json": {
       "model_id": "eab508a5c70145b6813da0874bb1d1e1",
       "version_major": 2,
       "version_minor": 0
      },
      "text/plain": [
       "HBox(children=(IntProgress(value=0), HTML(value='')))"
      ]
     },
     "metadata": {},
     "output_type": "display_data"
    },
    {
     "data": {
      "application/vnd.jupyter.widget-view+json": {
       "model_id": "6477fcb1ce9e45c2b1416fad7351d7db",
       "version_major": 2,
       "version_minor": 0
      },
      "text/plain": [
       "HBox(children=(IntProgress(value=0), HTML(value='')))"
      ]
     },
     "metadata": {},
     "output_type": "display_data"
    },
    {
     "data": {
      "application/vnd.jupyter.widget-view+json": {
       "model_id": "5769038b2ee847c3be0259987c383f7d",
       "version_major": 2,
       "version_minor": 0
      },
      "text/plain": [
       "HBox(children=(IntProgress(value=0), HTML(value='')))"
      ]
     },
     "metadata": {},
     "output_type": "display_data"
    },
    {
     "data": {
      "application/vnd.jupyter.widget-view+json": {
       "model_id": "f217fd2d74c448848f3297d7f46d188e",
       "version_major": 2,
       "version_minor": 0
      },
      "text/plain": [
       "HBox(children=(IntProgress(value=0), HTML(value='')))"
      ]
     },
     "metadata": {},
     "output_type": "display_data"
    },
    {
     "data": {
      "application/vnd.jupyter.widget-view+json": {
       "model_id": "937a9a46472d46daa08652b848d71ed0",
       "version_major": 2,
       "version_minor": 0
      },
      "text/plain": [
       "HBox(children=(IntProgress(value=0), HTML(value='')))"
      ]
     },
     "metadata": {},
     "output_type": "display_data"
    },
    {
     "data": {
      "application/vnd.jupyter.widget-view+json": {
       "model_id": "2f65261b1d724fe4a15c74e89683137a",
       "version_major": 2,
       "version_minor": 0
      },
      "text/plain": [
       "HBox(children=(IntProgress(value=0), HTML(value='')))"
      ]
     },
     "metadata": {},
     "output_type": "display_data"
    },
    {
     "data": {
      "application/vnd.jupyter.widget-view+json": {
       "model_id": "be71ac93ce42483ea1525a6e9688d494",
       "version_major": 2,
       "version_minor": 0
      },
      "text/plain": [
       "HBox(children=(IntProgress(value=0), HTML(value='')))"
      ]
     },
     "metadata": {},
     "output_type": "display_data"
    },
    {
     "data": {
      "application/vnd.jupyter.widget-view+json": {
       "model_id": "b370f5af425f4233a11ffb0aca96fb6b",
       "version_major": 2,
       "version_minor": 0
      },
      "text/plain": [
       "HBox(children=(IntProgress(value=0), HTML(value='')))"
      ]
     },
     "metadata": {},
     "output_type": "display_data"
    },
    {
     "data": {
      "application/vnd.jupyter.widget-view+json": {
       "model_id": "f1c17b66d9754db8a49b9a97811282ce",
       "version_major": 2,
       "version_minor": 0
      },
      "text/plain": [
       "HBox(children=(IntProgress(value=0), HTML(value='')))"
      ]
     },
     "metadata": {},
     "output_type": "display_data"
    },
    {
     "data": {
      "application/vnd.jupyter.widget-view+json": {
       "model_id": "b94bb9a7260f434db41f1026c476f645",
       "version_major": 2,
       "version_minor": 0
      },
      "text/plain": [
       "HBox(children=(IntProgress(value=0), HTML(value='')))"
      ]
     },
     "metadata": {},
     "output_type": "display_data"
    },
    {
     "data": {
      "application/vnd.jupyter.widget-view+json": {
       "model_id": "bc833cfc6b83413f97ea5b7f6419ecb5",
       "version_major": 2,
       "version_minor": 0
      },
      "text/plain": [
       "HBox(children=(IntProgress(value=0), HTML(value='')))"
      ]
     },
     "metadata": {},
     "output_type": "display_data"
    },
    {
     "data": {
      "application/vnd.jupyter.widget-view+json": {
       "model_id": "debe2a40991845ecab25a449be03bdff",
       "version_major": 2,
       "version_minor": 0
      },
      "text/plain": [
       "HBox(children=(IntProgress(value=0), HTML(value='')))"
      ]
     },
     "metadata": {},
     "output_type": "display_data"
    },
    {
     "data": {
      "application/vnd.jupyter.widget-view+json": {
       "model_id": "fdac3e19662a4bdcaa0385ee58433500",
       "version_major": 2,
       "version_minor": 0
      },
      "text/plain": [
       "HBox(children=(IntProgress(value=0), HTML(value='')))"
      ]
     },
     "metadata": {},
     "output_type": "display_data"
    },
    {
     "data": {
      "application/vnd.jupyter.widget-view+json": {
       "model_id": "56326397e3d5445c9d015ee1a18c8be5",
       "version_major": 2,
       "version_minor": 0
      },
      "text/plain": [
       "HBox(children=(IntProgress(value=0), HTML(value='')))"
      ]
     },
     "metadata": {},
     "output_type": "display_data"
    },
    {
     "data": {
      "application/vnd.jupyter.widget-view+json": {
       "model_id": "f0c61d673c254b2eb55177f6c3f2df08",
       "version_major": 2,
       "version_minor": 0
      },
      "text/plain": [
       "HBox(children=(IntProgress(value=0), HTML(value='')))"
      ]
     },
     "metadata": {},
     "output_type": "display_data"
    },
    {
     "data": {
      "application/vnd.jupyter.widget-view+json": {
       "model_id": "7d1b4d21ece248eb9376a7bc0054e051",
       "version_major": 2,
       "version_minor": 0
      },
      "text/plain": [
       "HBox(children=(IntProgress(value=0), HTML(value='')))"
      ]
     },
     "metadata": {},
     "output_type": "display_data"
    },
    {
     "data": {
      "application/vnd.jupyter.widget-view+json": {
       "model_id": "b10f5629814f47719a7b6185dbebb9e5",
       "version_major": 2,
       "version_minor": 0
      },
      "text/plain": [
       "HBox(children=(IntProgress(value=0), HTML(value='')))"
      ]
     },
     "metadata": {},
     "output_type": "display_data"
    },
    {
     "data": {
      "application/vnd.jupyter.widget-view+json": {
       "model_id": "02c3e12a7fce440ba173daa3a82147e1",
       "version_major": 2,
       "version_minor": 0
      },
      "text/plain": [
       "HBox(children=(IntProgress(value=0), HTML(value='')))"
      ]
     },
     "metadata": {},
     "output_type": "display_data"
    },
    {
     "data": {
      "application/vnd.jupyter.widget-view+json": {
       "model_id": "656a6dea795f4192b818b6f960ddb2a4",
       "version_major": 2,
       "version_minor": 0
      },
      "text/plain": [
       "HBox(children=(IntProgress(value=0), HTML(value='')))"
      ]
     },
     "metadata": {},
     "output_type": "display_data"
    },
    {
     "data": {
      "application/vnd.jupyter.widget-view+json": {
       "model_id": "042eb54e5fd54499aacca5e71958de8b",
       "version_major": 2,
       "version_minor": 0
      },
      "text/plain": [
       "HBox(children=(IntProgress(value=0), HTML(value='')))"
      ]
     },
     "metadata": {},
     "output_type": "display_data"
    },
    {
     "data": {
      "application/vnd.jupyter.widget-view+json": {
       "model_id": "6e1bef0779ea415cb76ca91991f88851",
       "version_major": 2,
       "version_minor": 0
      },
      "text/plain": [
       "HBox(children=(IntProgress(value=0), HTML(value='')))"
      ]
     },
     "metadata": {},
     "output_type": "display_data"
    },
    {
     "data": {
      "application/vnd.jupyter.widget-view+json": {
       "model_id": "c0ca35a6dfac4ecd83902ee6098652f6",
       "version_major": 2,
       "version_minor": 0
      },
      "text/plain": [
       "HBox(children=(IntProgress(value=0), HTML(value='')))"
      ]
     },
     "metadata": {},
     "output_type": "display_data"
    },
    {
     "data": {
      "application/vnd.jupyter.widget-view+json": {
       "model_id": "36cc6443b1a445f0ae30856f4c056f8e",
       "version_major": 2,
       "version_minor": 0
      },
      "text/plain": [
       "HBox(children=(IntProgress(value=0), HTML(value='')))"
      ]
     },
     "metadata": {},
     "output_type": "display_data"
    },
    {
     "data": {
      "application/vnd.jupyter.widget-view+json": {
       "model_id": "cb8df19a9b62469dbdbdb68654d6f7e8",
       "version_major": 2,
       "version_minor": 0
      },
      "text/plain": [
       "HBox(children=(IntProgress(value=0), HTML(value='')))"
      ]
     },
     "metadata": {},
     "output_type": "display_data"
    },
    {
     "data": {
      "application/vnd.jupyter.widget-view+json": {
       "model_id": "74b2f55ea14045f984ec52f1cd0aedcc",
       "version_major": 2,
       "version_minor": 0
      },
      "text/plain": [
       "HBox(children=(IntProgress(value=0), HTML(value='')))"
      ]
     },
     "metadata": {},
     "output_type": "display_data"
    },
    {
     "data": {
      "application/vnd.jupyter.widget-view+json": {
       "model_id": "8e5070e716754a09bae0d7943cf573c2",
       "version_major": 2,
       "version_minor": 0
      },
      "text/plain": [
       "HBox(children=(IntProgress(value=0), HTML(value='')))"
      ]
     },
     "metadata": {},
     "output_type": "display_data"
    },
    {
     "data": {
      "application/vnd.jupyter.widget-view+json": {
       "model_id": "d558066c6b11430c982a545239e95a77",
       "version_major": 2,
       "version_minor": 0
      },
      "text/plain": [
       "HBox(children=(IntProgress(value=0), HTML(value='')))"
      ]
     },
     "metadata": {},
     "output_type": "display_data"
    },
    {
     "data": {
      "application/vnd.jupyter.widget-view+json": {
       "model_id": "937a88a7e1e841f5955a250360d1e09d",
       "version_major": 2,
       "version_minor": 0
      },
      "text/plain": [
       "HBox(children=(IntProgress(value=0), HTML(value='')))"
      ]
     },
     "metadata": {},
     "output_type": "display_data"
    },
    {
     "data": {
      "application/vnd.jupyter.widget-view+json": {
       "model_id": "de5776ba152a4f97b4a3e78da2614229",
       "version_major": 2,
       "version_minor": 0
      },
      "text/plain": [
       "HBox(children=(IntProgress(value=0), HTML(value='')))"
      ]
     },
     "metadata": {},
     "output_type": "display_data"
    },
    {
     "data": {
      "application/vnd.jupyter.widget-view+json": {
       "model_id": "47d167ea5e7449fb8dece3a61dc479c5",
       "version_major": 2,
       "version_minor": 0
      },
      "text/plain": [
       "HBox(children=(IntProgress(value=0), HTML(value='')))"
      ]
     },
     "metadata": {},
     "output_type": "display_data"
    },
    {
     "data": {
      "application/vnd.jupyter.widget-view+json": {
       "model_id": "631215f95e524cdeb3661a7ce3f61e2a",
       "version_major": 2,
       "version_minor": 0
      },
      "text/plain": [
       "HBox(children=(IntProgress(value=0), HTML(value='')))"
      ]
     },
     "metadata": {},
     "output_type": "display_data"
    },
    {
     "data": {
      "application/vnd.jupyter.widget-view+json": {
       "model_id": "e22f3e6132e74dc5b20522b93b841a28",
       "version_major": 2,
       "version_minor": 0
      },
      "text/plain": [
       "HBox(children=(IntProgress(value=0), HTML(value='')))"
      ]
     },
     "metadata": {},
     "output_type": "display_data"
    },
    {
     "data": {
      "application/vnd.jupyter.widget-view+json": {
       "model_id": "fb39a8e9d8a0461d88037396011004f4",
       "version_major": 2,
       "version_minor": 0
      },
      "text/plain": [
       "HBox(children=(IntProgress(value=0), HTML(value='')))"
      ]
     },
     "metadata": {},
     "output_type": "display_data"
    },
    {
     "data": {
      "application/vnd.jupyter.widget-view+json": {
       "model_id": "53dd2b4562594ea38a00ea4674c92391",
       "version_major": 2,
       "version_minor": 0
      },
      "text/plain": [
       "HBox(children=(IntProgress(value=0), HTML(value='')))"
      ]
     },
     "metadata": {},
     "output_type": "display_data"
    },
    {
     "name": "stdout",
     "output_type": "stream",
     "text": [
      "Fail for tour 5126, team 4237, question 32\n",
      "Fail for tour 5126, team 57813, question 24\n",
      "Fail for tour 5126, team 62883, question 31\n",
      "Fail for tour 5126, team 4237, question 27\n",
      "Fail for tour 5126, team 6730, question 31\n",
      "Fail for tour 5126, team 67788, question 19\n",
      "Fail for tour 5126, team 46655, question 19\n",
      "Fail for tour 5126, team 7579, question 19\n"
     ]
    },
    {
     "data": {
      "application/vnd.jupyter.widget-view+json": {
       "model_id": "66cfa72dc17d4b9bab83a54e696d376b",
       "version_major": 2,
       "version_minor": 0
      },
      "text/plain": [
       "HBox(children=(IntProgress(value=0), HTML(value='')))"
      ]
     },
     "metadata": {},
     "output_type": "display_data"
    },
    {
     "data": {
      "application/vnd.jupyter.widget-view+json": {
       "model_id": "5e5706b1e40c41cda36a645f7b6893a8",
       "version_major": 2,
       "version_minor": 0
      },
      "text/plain": [
       "HBox(children=(IntProgress(value=0), HTML(value='')))"
      ]
     },
     "metadata": {},
     "output_type": "display_data"
    },
    {
     "data": {
      "application/vnd.jupyter.widget-view+json": {
       "model_id": "69952d7515d94055aabb15ebba69b1db",
       "version_major": 2,
       "version_minor": 0
      },
      "text/plain": [
       "HBox(children=(IntProgress(value=0), HTML(value='')))"
      ]
     },
     "metadata": {},
     "output_type": "display_data"
    },
    {
     "data": {
      "application/vnd.jupyter.widget-view+json": {
       "model_id": "ec06e11948574de38f8cc72562b395fd",
       "version_major": 2,
       "version_minor": 0
      },
      "text/plain": [
       "HBox(children=(IntProgress(value=0), HTML(value='')))"
      ]
     },
     "metadata": {},
     "output_type": "display_data"
    },
    {
     "data": {
      "application/vnd.jupyter.widget-view+json": {
       "model_id": "96fcf50afe274066a78c78a0a3b599b3",
       "version_major": 2,
       "version_minor": 0
      },
      "text/plain": [
       "HBox(children=(IntProgress(value=0), HTML(value='')))"
      ]
     },
     "metadata": {},
     "output_type": "display_data"
    },
    {
     "data": {
      "application/vnd.jupyter.widget-view+json": {
       "model_id": "df807b519c2a4d058fa8c20c991d9e8a",
       "version_major": 2,
       "version_minor": 0
      },
      "text/plain": [
       "HBox(children=(IntProgress(value=0), HTML(value='')))"
      ]
     },
     "metadata": {},
     "output_type": "display_data"
    },
    {
     "data": {
      "application/vnd.jupyter.widget-view+json": {
       "model_id": "bb760e23a93a4d4ba5de8204733fd886",
       "version_major": 2,
       "version_minor": 0
      },
      "text/plain": [
       "HBox(children=(IntProgress(value=0), HTML(value='')))"
      ]
     },
     "metadata": {},
     "output_type": "display_data"
    },
    {
     "data": {
      "application/vnd.jupyter.widget-view+json": {
       "model_id": "9af26c5dd4cf49c5a2eb059775223f68",
       "version_major": 2,
       "version_minor": 0
      },
      "text/plain": [
       "HBox(children=(IntProgress(value=0), HTML(value='')))"
      ]
     },
     "metadata": {},
     "output_type": "display_data"
    },
    {
     "data": {
      "application/vnd.jupyter.widget-view+json": {
       "model_id": "e402a508da074589984efa980c0ce8cc",
       "version_major": 2,
       "version_minor": 0
      },
      "text/plain": [
       "HBox(children=(IntProgress(value=0), HTML(value='')))"
      ]
     },
     "metadata": {},
     "output_type": "display_data"
    },
    {
     "data": {
      "application/vnd.jupyter.widget-view+json": {
       "model_id": "c65452b56abc4268bd9fddf4d25a7656",
       "version_major": 2,
       "version_minor": 0
      },
      "text/plain": [
       "HBox(children=(IntProgress(value=0), HTML(value='')))"
      ]
     },
     "metadata": {},
     "output_type": "display_data"
    },
    {
     "data": {
      "application/vnd.jupyter.widget-view+json": {
       "model_id": "6181949f35104544951eed7348ac54de",
       "version_major": 2,
       "version_minor": 0
      },
      "text/plain": [
       "HBox(children=(IntProgress(value=0), HTML(value='')))"
      ]
     },
     "metadata": {},
     "output_type": "display_data"
    },
    {
     "data": {
      "application/vnd.jupyter.widget-view+json": {
       "model_id": "74c316f5f58b479db5ee7a4a3b9e8d48",
       "version_major": 2,
       "version_minor": 0
      },
      "text/plain": [
       "HBox(children=(IntProgress(value=0), HTML(value='')))"
      ]
     },
     "metadata": {},
     "output_type": "display_data"
    },
    {
     "data": {
      "application/vnd.jupyter.widget-view+json": {
       "model_id": "11156ce29670479b873a3dff99287022",
       "version_major": 2,
       "version_minor": 0
      },
      "text/plain": [
       "HBox(children=(IntProgress(value=0), HTML(value='')))"
      ]
     },
     "metadata": {},
     "output_type": "display_data"
    },
    {
     "data": {
      "application/vnd.jupyter.widget-view+json": {
       "model_id": "8d7dddec30804a91ba6b03f1e921b1fa",
       "version_major": 2,
       "version_minor": 0
      },
      "text/plain": [
       "HBox(children=(IntProgress(value=0), HTML(value='')))"
      ]
     },
     "metadata": {},
     "output_type": "display_data"
    },
    {
     "data": {
      "application/vnd.jupyter.widget-view+json": {
       "model_id": "ecba9436310b45b1af41f377856030f6",
       "version_major": 2,
       "version_minor": 0
      },
      "text/plain": [
       "HBox(children=(IntProgress(value=0), HTML(value='')))"
      ]
     },
     "metadata": {},
     "output_type": "display_data"
    },
    {
     "data": {
      "application/vnd.jupyter.widget-view+json": {
       "model_id": "f44dc1a375d740d29b06afcee78747f9",
       "version_major": 2,
       "version_minor": 0
      },
      "text/plain": [
       "HBox(children=(IntProgress(value=0), HTML(value='')))"
      ]
     },
     "metadata": {},
     "output_type": "display_data"
    },
    {
     "data": {
      "application/vnd.jupyter.widget-view+json": {
       "model_id": "c6576a5ae82548f18c342c3010112f6c",
       "version_major": 2,
       "version_minor": 0
      },
      "text/plain": [
       "HBox(children=(IntProgress(value=0), HTML(value='')))"
      ]
     },
     "metadata": {},
     "output_type": "display_data"
    },
    {
     "data": {
      "application/vnd.jupyter.widget-view+json": {
       "model_id": "fa25f93a27044896a46068ab6ab9b735",
       "version_major": 2,
       "version_minor": 0
      },
      "text/plain": [
       "HBox(children=(IntProgress(value=0), HTML(value='')))"
      ]
     },
     "metadata": {},
     "output_type": "display_data"
    },
    {
     "data": {
      "application/vnd.jupyter.widget-view+json": {
       "model_id": "23d942dea7c0405195b18cf02dc4638e",
       "version_major": 2,
       "version_minor": 0
      },
      "text/plain": [
       "HBox(children=(IntProgress(value=0), HTML(value='')))"
      ]
     },
     "metadata": {},
     "output_type": "display_data"
    },
    {
     "data": {
      "application/vnd.jupyter.widget-view+json": {
       "model_id": "8e71ef553450450ebaad95220307cdb1",
       "version_major": 2,
       "version_minor": 0
      },
      "text/plain": [
       "HBox(children=(IntProgress(value=0), HTML(value='')))"
      ]
     },
     "metadata": {},
     "output_type": "display_data"
    },
    {
     "data": {
      "application/vnd.jupyter.widget-view+json": {
       "model_id": "7d49beb167714808b429e904299bc92f",
       "version_major": 2,
       "version_minor": 0
      },
      "text/plain": [
       "HBox(children=(IntProgress(value=0), HTML(value='')))"
      ]
     },
     "metadata": {},
     "output_type": "display_data"
    },
    {
     "data": {
      "application/vnd.jupyter.widget-view+json": {
       "model_id": "2244655d619d43a1b03dad9b5a55652a",
       "version_major": 2,
       "version_minor": 0
      },
      "text/plain": [
       "HBox(children=(IntProgress(value=0), HTML(value='')))"
      ]
     },
     "metadata": {},
     "output_type": "display_data"
    },
    {
     "data": {
      "application/vnd.jupyter.widget-view+json": {
       "model_id": "56adf77ac0244a55a109aad825c2d009",
       "version_major": 2,
       "version_minor": 0
      },
      "text/plain": [
       "HBox(children=(IntProgress(value=0), HTML(value='')))"
      ]
     },
     "metadata": {},
     "output_type": "display_data"
    },
    {
     "data": {
      "application/vnd.jupyter.widget-view+json": {
       "model_id": "6b33c0955e204ad984c1ddcd867c28de",
       "version_major": 2,
       "version_minor": 0
      },
      "text/plain": [
       "HBox(children=(IntProgress(value=0), HTML(value='')))"
      ]
     },
     "metadata": {},
     "output_type": "display_data"
    },
    {
     "data": {
      "application/vnd.jupyter.widget-view+json": {
       "model_id": "004d0e8bf39d4efb8ec37cded588a8b8",
       "version_major": 2,
       "version_minor": 0
      },
      "text/plain": [
       "HBox(children=(IntProgress(value=0), HTML(value='')))"
      ]
     },
     "metadata": {},
     "output_type": "display_data"
    },
    {
     "data": {
      "application/vnd.jupyter.widget-view+json": {
       "model_id": "284918839a424bc5956d297dacd5112b",
       "version_major": 2,
       "version_minor": 0
      },
      "text/plain": [
       "HBox(children=(IntProgress(value=0), HTML(value='')))"
      ]
     },
     "metadata": {},
     "output_type": "display_data"
    },
    {
     "data": {
      "application/vnd.jupyter.widget-view+json": {
       "model_id": "ba29e2a3ca564484abf2aeb99f60782e",
       "version_major": 2,
       "version_minor": 0
      },
      "text/plain": [
       "HBox(children=(IntProgress(value=0), HTML(value='')))"
      ]
     },
     "metadata": {},
     "output_type": "display_data"
    },
    {
     "data": {
      "application/vnd.jupyter.widget-view+json": {
       "model_id": "8f6d5c755c45436e9dca5193ba1c9a27",
       "version_major": 2,
       "version_minor": 0
      },
      "text/plain": [
       "HBox(children=(IntProgress(value=0), HTML(value='')))"
      ]
     },
     "metadata": {},
     "output_type": "display_data"
    },
    {
     "data": {
      "application/vnd.jupyter.widget-view+json": {
       "model_id": "d66881f6090041869107c700e43fa3a4",
       "version_major": 2,
       "version_minor": 0
      },
      "text/plain": [
       "HBox(children=(IntProgress(value=0), HTML(value='')))"
      ]
     },
     "metadata": {},
     "output_type": "display_data"
    },
    {
     "data": {
      "application/vnd.jupyter.widget-view+json": {
       "model_id": "2ecd8d6f55694777bb63b1d70a010749",
       "version_major": 2,
       "version_minor": 0
      },
      "text/plain": [
       "HBox(children=(IntProgress(value=0), HTML(value='')))"
      ]
     },
     "metadata": {},
     "output_type": "display_data"
    },
    {
     "data": {
      "application/vnd.jupyter.widget-view+json": {
       "model_id": "146e9904d9b54e5fad1cefef31940589",
       "version_major": 2,
       "version_minor": 0
      },
      "text/plain": [
       "HBox(children=(IntProgress(value=0), HTML(value='')))"
      ]
     },
     "metadata": {},
     "output_type": "display_data"
    },
    {
     "data": {
      "application/vnd.jupyter.widget-view+json": {
       "model_id": "98db5f0931614bc38db27933ec8c7398",
       "version_major": 2,
       "version_minor": 0
      },
      "text/plain": [
       "HBox(children=(IntProgress(value=0), HTML(value='')))"
      ]
     },
     "metadata": {},
     "output_type": "display_data"
    },
    {
     "data": {
      "application/vnd.jupyter.widget-view+json": {
       "model_id": "0db701cd49d343db87a9bd8c9b76ad1a",
       "version_major": 2,
       "version_minor": 0
      },
      "text/plain": [
       "HBox(children=(IntProgress(value=0), HTML(value='')))"
      ]
     },
     "metadata": {},
     "output_type": "display_data"
    },
    {
     "data": {
      "application/vnd.jupyter.widget-view+json": {
       "model_id": "b3d63c38e59446309d6c7feddf44a89c",
       "version_major": 2,
       "version_minor": 0
      },
      "text/plain": [
       "HBox(children=(IntProgress(value=0), HTML(value='')))"
      ]
     },
     "metadata": {},
     "output_type": "display_data"
    },
    {
     "data": {
      "application/vnd.jupyter.widget-view+json": {
       "model_id": "be430904a74248e38872b6c69aeceac5",
       "version_major": 2,
       "version_minor": 0
      },
      "text/plain": [
       "HBox(children=(IntProgress(value=0), HTML(value='')))"
      ]
     },
     "metadata": {},
     "output_type": "display_data"
    },
    {
     "data": {
      "application/vnd.jupyter.widget-view+json": {
       "model_id": "347700b4451649eb97247736579f8e43",
       "version_major": 2,
       "version_minor": 0
      },
      "text/plain": [
       "HBox(children=(IntProgress(value=0), HTML(value='')))"
      ]
     },
     "metadata": {},
     "output_type": "display_data"
    },
    {
     "data": {
      "application/vnd.jupyter.widget-view+json": {
       "model_id": "d338009b10e1428ea48268dd8c3ebda4",
       "version_major": 2,
       "version_minor": 0
      },
      "text/plain": [
       "HBox(children=(IntProgress(value=0), HTML(value='')))"
      ]
     },
     "metadata": {},
     "output_type": "display_data"
    },
    {
     "data": {
      "application/vnd.jupyter.widget-view+json": {
       "model_id": "253d177d89574b309229617607c55ba5",
       "version_major": 2,
       "version_minor": 0
      },
      "text/plain": [
       "HBox(children=(IntProgress(value=0), HTML(value='')))"
      ]
     },
     "metadata": {},
     "output_type": "display_data"
    },
    {
     "data": {
      "application/vnd.jupyter.widget-view+json": {
       "model_id": "70fd75ffcea84c9b93584a61f9dec2cd",
       "version_major": 2,
       "version_minor": 0
      },
      "text/plain": [
       "HBox(children=(IntProgress(value=0), HTML(value='')))"
      ]
     },
     "metadata": {},
     "output_type": "display_data"
    },
    {
     "data": {
      "application/vnd.jupyter.widget-view+json": {
       "model_id": "526abd9d1f6043a3ad87b5ed102f9a75",
       "version_major": 2,
       "version_minor": 0
      },
      "text/plain": [
       "HBox(children=(IntProgress(value=0), HTML(value='')))"
      ]
     },
     "metadata": {},
     "output_type": "display_data"
    },
    {
     "data": {
      "application/vnd.jupyter.widget-view+json": {
       "model_id": "e01d1fbda2b8456bad27f67864125d4d",
       "version_major": 2,
       "version_minor": 0
      },
      "text/plain": [
       "HBox(children=(IntProgress(value=0), HTML(value='')))"
      ]
     },
     "metadata": {},
     "output_type": "display_data"
    },
    {
     "data": {
      "application/vnd.jupyter.widget-view+json": {
       "model_id": "f5900ed7ad9748f4af80fa13f35004cd",
       "version_major": 2,
       "version_minor": 0
      },
      "text/plain": [
       "HBox(children=(IntProgress(value=0), HTML(value='')))"
      ]
     },
     "metadata": {},
     "output_type": "display_data"
    },
    {
     "data": {
      "application/vnd.jupyter.widget-view+json": {
       "model_id": "5a936d2c3d0441fba12dabbb0b7de1d4",
       "version_major": 2,
       "version_minor": 0
      },
      "text/plain": [
       "HBox(children=(IntProgress(value=0), HTML(value='')))"
      ]
     },
     "metadata": {},
     "output_type": "display_data"
    },
    {
     "data": {
      "application/vnd.jupyter.widget-view+json": {
       "model_id": "06c6ea91fb9b4a94a2ebad59669d6f04",
       "version_major": 2,
       "version_minor": 0
      },
      "text/plain": [
       "HBox(children=(IntProgress(value=0), HTML(value='')))"
      ]
     },
     "metadata": {},
     "output_type": "display_data"
    },
    {
     "data": {
      "application/vnd.jupyter.widget-view+json": {
       "model_id": "966fd26401f14f429aee28b1b9f880a2",
       "version_major": 2,
       "version_minor": 0
      },
      "text/plain": [
       "HBox(children=(IntProgress(value=0), HTML(value='')))"
      ]
     },
     "metadata": {},
     "output_type": "display_data"
    },
    {
     "data": {
      "application/vnd.jupyter.widget-view+json": {
       "model_id": "8077a1f8a2e84d308d676d039722f332",
       "version_major": 2,
       "version_minor": 0
      },
      "text/plain": [
       "HBox(children=(IntProgress(value=0), HTML(value='')))"
      ]
     },
     "metadata": {},
     "output_type": "display_data"
    },
    {
     "data": {
      "application/vnd.jupyter.widget-view+json": {
       "model_id": "87092f5faa3444daa068302ab8805c3e",
       "version_major": 2,
       "version_minor": 0
      },
      "text/plain": [
       "HBox(children=(IntProgress(value=0), HTML(value='')))"
      ]
     },
     "metadata": {},
     "output_type": "display_data"
    },
    {
     "data": {
      "application/vnd.jupyter.widget-view+json": {
       "model_id": "4eaedaa2d1cd42ba930fe7a943a7f1aa",
       "version_major": 2,
       "version_minor": 0
      },
      "text/plain": [
       "HBox(children=(IntProgress(value=0), HTML(value='')))"
      ]
     },
     "metadata": {},
     "output_type": "display_data"
    },
    {
     "data": {
      "application/vnd.jupyter.widget-view+json": {
       "model_id": "adb9ea0e7b5349e5b06bb20afdf838ee",
       "version_major": 2,
       "version_minor": 0
      },
      "text/plain": [
       "HBox(children=(IntProgress(value=0), HTML(value='')))"
      ]
     },
     "metadata": {},
     "output_type": "display_data"
    },
    {
     "data": {
      "application/vnd.jupyter.widget-view+json": {
       "model_id": "be548f54a84c4b9ab901d38d762acc5c",
       "version_major": 2,
       "version_minor": 0
      },
      "text/plain": [
       "HBox(children=(IntProgress(value=0), HTML(value='')))"
      ]
     },
     "metadata": {},
     "output_type": "display_data"
    },
    {
     "data": {
      "application/vnd.jupyter.widget-view+json": {
       "model_id": "af529c34b6d645d4b655066621b34985",
       "version_major": 2,
       "version_minor": 0
      },
      "text/plain": [
       "HBox(children=(IntProgress(value=0), HTML(value='')))"
      ]
     },
     "metadata": {},
     "output_type": "display_data"
    },
    {
     "data": {
      "application/vnd.jupyter.widget-view+json": {
       "model_id": "03fed365cb544e2c9a2e5156681f3729",
       "version_major": 2,
       "version_minor": 0
      },
      "text/plain": [
       "HBox(children=(IntProgress(value=0), HTML(value='')))"
      ]
     },
     "metadata": {},
     "output_type": "display_data"
    },
    {
     "data": {
      "application/vnd.jupyter.widget-view+json": {
       "model_id": "40387a8c91a849019441a15890caa9bc",
       "version_major": 2,
       "version_minor": 0
      },
      "text/plain": [
       "HBox(children=(IntProgress(value=0), HTML(value='')))"
      ]
     },
     "metadata": {},
     "output_type": "display_data"
    },
    {
     "data": {
      "application/vnd.jupyter.widget-view+json": {
       "model_id": "c920fc6dc7194466aebf290222541dd0",
       "version_major": 2,
       "version_minor": 0
      },
      "text/plain": [
       "HBox(children=(IntProgress(value=0), HTML(value='')))"
      ]
     },
     "metadata": {},
     "output_type": "display_data"
    },
    {
     "data": {
      "application/vnd.jupyter.widget-view+json": {
       "model_id": "3c926573bacc4ded9dbf33f6c10c10b2",
       "version_major": 2,
       "version_minor": 0
      },
      "text/plain": [
       "HBox(children=(IntProgress(value=0), HTML(value='')))"
      ]
     },
     "metadata": {},
     "output_type": "display_data"
    },
    {
     "data": {
      "application/vnd.jupyter.widget-view+json": {
       "model_id": "c695279d0db0472d99aca27672da5b33",
       "version_major": 2,
       "version_minor": 0
      },
      "text/plain": [
       "HBox(children=(IntProgress(value=0), HTML(value='')))"
      ]
     },
     "metadata": {},
     "output_type": "display_data"
    },
    {
     "data": {
      "application/vnd.jupyter.widget-view+json": {
       "model_id": "6958c544f0a04648b38514c76882624a",
       "version_major": 2,
       "version_minor": 0
      },
      "text/plain": [
       "HBox(children=(IntProgress(value=0), HTML(value='')))"
      ]
     },
     "metadata": {},
     "output_type": "display_data"
    },
    {
     "data": {
      "application/vnd.jupyter.widget-view+json": {
       "model_id": "aa255dafda2d4fc79e001e084c254f51",
       "version_major": 2,
       "version_minor": 0
      },
      "text/plain": [
       "HBox(children=(IntProgress(value=0), HTML(value='')))"
      ]
     },
     "metadata": {},
     "output_type": "display_data"
    },
    {
     "data": {
      "application/vnd.jupyter.widget-view+json": {
       "model_id": "b7cc743f95ec4c41a44a12ee685bdc26",
       "version_major": 2,
       "version_minor": 0
      },
      "text/plain": [
       "HBox(children=(IntProgress(value=0), HTML(value='')))"
      ]
     },
     "metadata": {},
     "output_type": "display_data"
    },
    {
     "data": {
      "application/vnd.jupyter.widget-view+json": {
       "model_id": "62cf01ea58fc4ec595e0113a68589612",
       "version_major": 2,
       "version_minor": 0
      },
      "text/plain": [
       "HBox(children=(IntProgress(value=0), HTML(value='')))"
      ]
     },
     "metadata": {},
     "output_type": "display_data"
    },
    {
     "data": {
      "application/vnd.jupyter.widget-view+json": {
       "model_id": "896c396f449d4d1c883167df0cc704bb",
       "version_major": 2,
       "version_minor": 0
      },
      "text/plain": [
       "HBox(children=(IntProgress(value=0), HTML(value='')))"
      ]
     },
     "metadata": {},
     "output_type": "display_data"
    },
    {
     "data": {
      "application/vnd.jupyter.widget-view+json": {
       "model_id": "5d0bb142a0ab4097b91e9943e9be4d22",
       "version_major": 2,
       "version_minor": 0
      },
      "text/plain": [
       "HBox(children=(IntProgress(value=0), HTML(value='')))"
      ]
     },
     "metadata": {},
     "output_type": "display_data"
    },
    {
     "data": {
      "application/vnd.jupyter.widget-view+json": {
       "model_id": "13635b510828426db636196041df92a0",
       "version_major": 2,
       "version_minor": 0
      },
      "text/plain": [
       "HBox(children=(IntProgress(value=0), HTML(value='')))"
      ]
     },
     "metadata": {},
     "output_type": "display_data"
    },
    {
     "data": {
      "application/vnd.jupyter.widget-view+json": {
       "model_id": "e513eb3344c04ea8ae32c2622637ad4c",
       "version_major": 2,
       "version_minor": 0
      },
      "text/plain": [
       "HBox(children=(IntProgress(value=0), HTML(value='')))"
      ]
     },
     "metadata": {},
     "output_type": "display_data"
    },
    {
     "name": "stdout",
     "output_type": "stream",
     "text": [
      "Fail for tour 2521, team 2539, question 75\n",
      "Fail for tour 2521, team 27054, question 84\n",
      "Fail for tour 2521, team 3168, question 81\n",
      "Fail for tour 2521, team 43726, question 76\n",
      "Fail for tour 2521, team 4967, question 89\n",
      "Fail for tour 2521, team 420, question 85\n",
      "Fail for tour 2521, team 3168, question 83\n",
      "Fail for tour 2521, team 2539, question 83\n",
      "Fail for tour 2521, team 4967, question 89\n",
      "Fail for tour 2521, team 45320, question 89\n",
      "Fail for tour 2521, team 4851, question 85\n",
      "Fail for tour 2521, team 37949, question 88\n",
      "Fail for tour 2521, team 4967, question 86\n",
      "Fail for tour 2521, team 239, question 87\n",
      "Fail for tour 2521, team 3154, question 84\n"
     ]
    },
    {
     "data": {
      "application/vnd.jupyter.widget-view+json": {
       "model_id": "8601aabc8cb34a3eaf3f389987d436d8",
       "version_major": 2,
       "version_minor": 0
      },
      "text/plain": [
       "HBox(children=(IntProgress(value=0), HTML(value='')))"
      ]
     },
     "metadata": {},
     "output_type": "display_data"
    },
    {
     "data": {
      "application/vnd.jupyter.widget-view+json": {
       "model_id": "afb9d630e3d949faa0a458d093db5025",
       "version_major": 2,
       "version_minor": 0
      },
      "text/plain": [
       "HBox(children=(IntProgress(value=0), HTML(value='')))"
      ]
     },
     "metadata": {},
     "output_type": "display_data"
    },
    {
     "data": {
      "application/vnd.jupyter.widget-view+json": {
       "model_id": "e272dc2d803c4cd893b703bbd62d74b4",
       "version_major": 2,
       "version_minor": 0
      },
      "text/plain": [
       "HBox(children=(IntProgress(value=0), HTML(value='')))"
      ]
     },
     "metadata": {},
     "output_type": "display_data"
    },
    {
     "data": {
      "application/vnd.jupyter.widget-view+json": {
       "model_id": "ee68c121d1af45f28eb503555297f6db",
       "version_major": 2,
       "version_minor": 0
      },
      "text/plain": [
       "HBox(children=(IntProgress(value=0), HTML(value='')))"
      ]
     },
     "metadata": {},
     "output_type": "display_data"
    },
    {
     "data": {
      "application/vnd.jupyter.widget-view+json": {
       "model_id": "94392c6554f14319abd119444aacb689",
       "version_major": 2,
       "version_minor": 0
      },
      "text/plain": [
       "HBox(children=(IntProgress(value=0), HTML(value='')))"
      ]
     },
     "metadata": {},
     "output_type": "display_data"
    },
    {
     "data": {
      "application/vnd.jupyter.widget-view+json": {
       "model_id": "0da580e103ac4df88e6fae248c271850",
       "version_major": 2,
       "version_minor": 0
      },
      "text/plain": [
       "HBox(children=(IntProgress(value=0), HTML(value='')))"
      ]
     },
     "metadata": {},
     "output_type": "display_data"
    },
    {
     "data": {
      "application/vnd.jupyter.widget-view+json": {
       "model_id": "7bdfa63daf874522a5ec758a1189e969",
       "version_major": 2,
       "version_minor": 0
      },
      "text/plain": [
       "HBox(children=(IntProgress(value=0), HTML(value='')))"
      ]
     },
     "metadata": {},
     "output_type": "display_data"
    },
    {
     "data": {
      "application/vnd.jupyter.widget-view+json": {
       "model_id": "a1110743057b4635a7c157074fa8a886",
       "version_major": 2,
       "version_minor": 0
      },
      "text/plain": [
       "HBox(children=(IntProgress(value=0), HTML(value='')))"
      ]
     },
     "metadata": {},
     "output_type": "display_data"
    },
    {
     "data": {
      "application/vnd.jupyter.widget-view+json": {
       "model_id": "c107b52671a84a87b2503b3b683744e9",
       "version_major": 2,
       "version_minor": 0
      },
      "text/plain": [
       "HBox(children=(IntProgress(value=0), HTML(value='')))"
      ]
     },
     "metadata": {},
     "output_type": "display_data"
    },
    {
     "name": "stdout",
     "output_type": "stream",
     "text": [
      "Fail for tour 5210, team 66726, question 23\n"
     ]
    },
    {
     "data": {
      "application/vnd.jupyter.widget-view+json": {
       "model_id": "3ec4dfa15f294d9f9e86cbcdfe145bf9",
       "version_major": 2,
       "version_minor": 0
      },
      "text/plain": [
       "HBox(children=(IntProgress(value=0), HTML(value='')))"
      ]
     },
     "metadata": {},
     "output_type": "display_data"
    },
    {
     "data": {
      "application/vnd.jupyter.widget-view+json": {
       "model_id": "e5599058b9f3418f8ed071e1c46f7990",
       "version_major": 2,
       "version_minor": 0
      },
      "text/plain": [
       "HBox(children=(IntProgress(value=0), HTML(value='')))"
      ]
     },
     "metadata": {},
     "output_type": "display_data"
    },
    {
     "data": {
      "application/vnd.jupyter.widget-view+json": {
       "model_id": "ad2f472adbd64beca713311cab09d6fe",
       "version_major": 2,
       "version_minor": 0
      },
      "text/plain": [
       "HBox(children=(IntProgress(value=0), HTML(value='')))"
      ]
     },
     "metadata": {},
     "output_type": "display_data"
    },
    {
     "data": {
      "application/vnd.jupyter.widget-view+json": {
       "model_id": "cdd34f16786c4dc588b7e2340c0c58fb",
       "version_major": 2,
       "version_minor": 0
      },
      "text/plain": [
       "HBox(children=(IntProgress(value=0), HTML(value='')))"
      ]
     },
     "metadata": {},
     "output_type": "display_data"
    },
    {
     "data": {
      "application/vnd.jupyter.widget-view+json": {
       "model_id": "00ffd5a92e12467b803fa9661c0dce57",
       "version_major": 2,
       "version_minor": 0
      },
      "text/plain": [
       "HBox(children=(IntProgress(value=0), HTML(value='')))"
      ]
     },
     "metadata": {},
     "output_type": "display_data"
    },
    {
     "data": {
      "application/vnd.jupyter.widget-view+json": {
       "model_id": "cca8b8f1bee34399bcc31f656c885895",
       "version_major": 2,
       "version_minor": 0
      },
      "text/plain": [
       "HBox(children=(IntProgress(value=0), HTML(value='')))"
      ]
     },
     "metadata": {},
     "output_type": "display_data"
    },
    {
     "data": {
      "application/vnd.jupyter.widget-view+json": {
       "model_id": "e123d50951b94291b9d406466c2b8533",
       "version_major": 2,
       "version_minor": 0
      },
      "text/plain": [
       "HBox(children=(IntProgress(value=0), HTML(value='')))"
      ]
     },
     "metadata": {},
     "output_type": "display_data"
    },
    {
     "data": {
      "application/vnd.jupyter.widget-view+json": {
       "model_id": "2d629ca731304f1eb961fd4209d9b8fd",
       "version_major": 2,
       "version_minor": 0
      },
      "text/plain": [
       "HBox(children=(IntProgress(value=0), HTML(value='')))"
      ]
     },
     "metadata": {},
     "output_type": "display_data"
    },
    {
     "data": {
      "application/vnd.jupyter.widget-view+json": {
       "model_id": "4114f4f726764f6b891a083440914816",
       "version_major": 2,
       "version_minor": 0
      },
      "text/plain": [
       "HBox(children=(IntProgress(value=0), HTML(value='')))"
      ]
     },
     "metadata": {},
     "output_type": "display_data"
    },
    {
     "data": {
      "application/vnd.jupyter.widget-view+json": {
       "model_id": "9b888adc754d4b2cb702ccb165701c8c",
       "version_major": 2,
       "version_minor": 0
      },
      "text/plain": [
       "HBox(children=(IntProgress(value=0), HTML(value='')))"
      ]
     },
     "metadata": {},
     "output_type": "display_data"
    },
    {
     "data": {
      "application/vnd.jupyter.widget-view+json": {
       "model_id": "98aa2ede1b354242bf1b97bd389fc75d",
       "version_major": 2,
       "version_minor": 0
      },
      "text/plain": [
       "HBox(children=(IntProgress(value=0), HTML(value='')))"
      ]
     },
     "metadata": {},
     "output_type": "display_data"
    },
    {
     "data": {
      "application/vnd.jupyter.widget-view+json": {
       "model_id": "815fee16396c47d08d443cde8b6130ac",
       "version_major": 2,
       "version_minor": 0
      },
      "text/plain": [
       "HBox(children=(IntProgress(value=0), HTML(value='')))"
      ]
     },
     "metadata": {},
     "output_type": "display_data"
    },
    {
     "data": {
      "application/vnd.jupyter.widget-view+json": {
       "model_id": "5e56f23c5a404d3089c3c0e5b4ca51f0",
       "version_major": 2,
       "version_minor": 0
      },
      "text/plain": [
       "HBox(children=(IntProgress(value=0), HTML(value='')))"
      ]
     },
     "metadata": {},
     "output_type": "display_data"
    },
    {
     "data": {
      "application/vnd.jupyter.widget-view+json": {
       "model_id": "30c4697736384c5f842b1e70793daf35",
       "version_major": 2,
       "version_minor": 0
      },
      "text/plain": [
       "HBox(children=(IntProgress(value=0), HTML(value='')))"
      ]
     },
     "metadata": {},
     "output_type": "display_data"
    },
    {
     "name": "stdout",
     "output_type": "stream",
     "text": [
      "Fail for tour 4860, team 63741, question 20\n",
      "Fail for tour 4860, team 64932, question 27\n",
      "Fail for tour 4860, team 51996, question 35\n",
      "Fail for tour 4860, team 63863, question 23\n",
      "Fail for tour 4860, team 63741, question 18\n",
      "Fail for tour 4860, team 64932, question 33\n"
     ]
    },
    {
     "data": {
      "application/vnd.jupyter.widget-view+json": {
       "model_id": "5913ba98544c45b1be5528ea910cc361",
       "version_major": 2,
       "version_minor": 0
      },
      "text/plain": [
       "HBox(children=(IntProgress(value=0), HTML(value='')))"
      ]
     },
     "metadata": {},
     "output_type": "display_data"
    },
    {
     "data": {
      "application/vnd.jupyter.widget-view+json": {
       "model_id": "513b63d0b97346669ec6b30c8040be7b",
       "version_major": 2,
       "version_minor": 0
      },
      "text/plain": [
       "HBox(children=(IntProgress(value=0), HTML(value='')))"
      ]
     },
     "metadata": {},
     "output_type": "display_data"
    },
    {
     "data": {
      "application/vnd.jupyter.widget-view+json": {
       "model_id": "a2fc03d2414b47c4bba5194abd177244",
       "version_major": 2,
       "version_minor": 0
      },
      "text/plain": [
       "HBox(children=(IntProgress(value=0), HTML(value='')))"
      ]
     },
     "metadata": {},
     "output_type": "display_data"
    },
    {
     "data": {
      "application/vnd.jupyter.widget-view+json": {
       "model_id": "b75f310d936646878a76a57b8bbf7a68",
       "version_major": 2,
       "version_minor": 0
      },
      "text/plain": [
       "HBox(children=(IntProgress(value=0), HTML(value='')))"
      ]
     },
     "metadata": {},
     "output_type": "display_data"
    },
    {
     "data": {
      "application/vnd.jupyter.widget-view+json": {
       "model_id": "1b9863bb262e4574af884c83db2bf994",
       "version_major": 2,
       "version_minor": 0
      },
      "text/plain": [
       "HBox(children=(IntProgress(value=0), HTML(value='')))"
      ]
     },
     "metadata": {},
     "output_type": "display_data"
    },
    {
     "data": {
      "application/vnd.jupyter.widget-view+json": {
       "model_id": "5e0dd8a7685c44ed913891c969fd3a69",
       "version_major": 2,
       "version_minor": 0
      },
      "text/plain": [
       "HBox(children=(IntProgress(value=0), HTML(value='')))"
      ]
     },
     "metadata": {},
     "output_type": "display_data"
    },
    {
     "data": {
      "application/vnd.jupyter.widget-view+json": {
       "model_id": "f56346d13bbc4d738eb88a8052842f26",
       "version_major": 2,
       "version_minor": 0
      },
      "text/plain": [
       "HBox(children=(IntProgress(value=0), HTML(value='')))"
      ]
     },
     "metadata": {},
     "output_type": "display_data"
    },
    {
     "data": {
      "application/vnd.jupyter.widget-view+json": {
       "model_id": "527bd950ba2c4ddaa2cec8c5c652c156",
       "version_major": 2,
       "version_minor": 0
      },
      "text/plain": [
       "HBox(children=(IntProgress(value=0), HTML(value='')))"
      ]
     },
     "metadata": {},
     "output_type": "display_data"
    },
    {
     "data": {
      "application/vnd.jupyter.widget-view+json": {
       "model_id": "a63215e0f39c4183b5ad3de3ababecdf",
       "version_major": 2,
       "version_minor": 0
      },
      "text/plain": [
       "HBox(children=(IntProgress(value=0), HTML(value='')))"
      ]
     },
     "metadata": {},
     "output_type": "display_data"
    },
    {
     "data": {
      "application/vnd.jupyter.widget-view+json": {
       "model_id": "7c40ec8b7ee1421b8354aa4b1f63e27f",
       "version_major": 2,
       "version_minor": 0
      },
      "text/plain": [
       "HBox(children=(IntProgress(value=0), HTML(value='')))"
      ]
     },
     "metadata": {},
     "output_type": "display_data"
    },
    {
     "data": {
      "application/vnd.jupyter.widget-view+json": {
       "model_id": "a8c273b6dc524d4289ab2f8f7fd6f390",
       "version_major": 2,
       "version_minor": 0
      },
      "text/plain": [
       "HBox(children=(IntProgress(value=0), HTML(value='')))"
      ]
     },
     "metadata": {},
     "output_type": "display_data"
    },
    {
     "data": {
      "application/vnd.jupyter.widget-view+json": {
       "model_id": "83d52949a522449ca31a4bdde4dac18a",
       "version_major": 2,
       "version_minor": 0
      },
      "text/plain": [
       "HBox(children=(IntProgress(value=0), HTML(value='')))"
      ]
     },
     "metadata": {},
     "output_type": "display_data"
    },
    {
     "data": {
      "application/vnd.jupyter.widget-view+json": {
       "model_id": "1dca8df9fc0c407997b8980549477d40",
       "version_major": 2,
       "version_minor": 0
      },
      "text/plain": [
       "HBox(children=(IntProgress(value=0), HTML(value='')))"
      ]
     },
     "metadata": {},
     "output_type": "display_data"
    },
    {
     "data": {
      "application/vnd.jupyter.widget-view+json": {
       "model_id": "bef446903dee40f29ad49b87cff557ef",
       "version_major": 2,
       "version_minor": 0
      },
      "text/plain": [
       "HBox(children=(IntProgress(value=0), HTML(value='')))"
      ]
     },
     "metadata": {},
     "output_type": "display_data"
    },
    {
     "data": {
      "application/vnd.jupyter.widget-view+json": {
       "model_id": "21dfc486326e41949f982936ca3f7aa0",
       "version_major": 2,
       "version_minor": 0
      },
      "text/plain": [
       "HBox(children=(IntProgress(value=0), HTML(value='')))"
      ]
     },
     "metadata": {},
     "output_type": "display_data"
    },
    {
     "data": {
      "application/vnd.jupyter.widget-view+json": {
       "model_id": "d8bdccdfacba4af4a6c55e97d139be10",
       "version_major": 2,
       "version_minor": 0
      },
      "text/plain": [
       "HBox(children=(IntProgress(value=0), HTML(value='')))"
      ]
     },
     "metadata": {},
     "output_type": "display_data"
    },
    {
     "data": {
      "application/vnd.jupyter.widget-view+json": {
       "model_id": "6af23a130389413dbab525e4f925d679",
       "version_major": 2,
       "version_minor": 0
      },
      "text/plain": [
       "HBox(children=(IntProgress(value=0), HTML(value='')))"
      ]
     },
     "metadata": {},
     "output_type": "display_data"
    },
    {
     "data": {
      "application/vnd.jupyter.widget-view+json": {
       "model_id": "64aef93c27a341f596dd5cde95aec61a",
       "version_major": 2,
       "version_minor": 0
      },
      "text/plain": [
       "HBox(children=(IntProgress(value=0), HTML(value='')))"
      ]
     },
     "metadata": {},
     "output_type": "display_data"
    },
    {
     "data": {
      "application/vnd.jupyter.widget-view+json": {
       "model_id": "0961aba83c204b07972ad5246888fa39",
       "version_major": 2,
       "version_minor": 0
      },
      "text/plain": [
       "HBox(children=(IntProgress(value=0), HTML(value='')))"
      ]
     },
     "metadata": {},
     "output_type": "display_data"
    },
    {
     "data": {
      "application/vnd.jupyter.widget-view+json": {
       "model_id": "f0e6b6d953514184897c88ecc3230a38",
       "version_major": 2,
       "version_minor": 0
      },
      "text/plain": [
       "HBox(children=(IntProgress(value=0), HTML(value='')))"
      ]
     },
     "metadata": {},
     "output_type": "display_data"
    },
    {
     "data": {
      "application/vnd.jupyter.widget-view+json": {
       "model_id": "9fd306d6186b422eb50953d359adec06",
       "version_major": 2,
       "version_minor": 0
      },
      "text/plain": [
       "HBox(children=(IntProgress(value=0), HTML(value='')))"
      ]
     },
     "metadata": {},
     "output_type": "display_data"
    },
    {
     "data": {
      "application/vnd.jupyter.widget-view+json": {
       "model_id": "33de57752a9d447b9e8883835db7ad1b",
       "version_major": 2,
       "version_minor": 0
      },
      "text/plain": [
       "HBox(children=(IntProgress(value=0), HTML(value='')))"
      ]
     },
     "metadata": {},
     "output_type": "display_data"
    },
    {
     "data": {
      "application/vnd.jupyter.widget-view+json": {
       "model_id": "4897ce4c2fd04c3691d3c462af245468",
       "version_major": 2,
       "version_minor": 0
      },
      "text/plain": [
       "HBox(children=(IntProgress(value=0), HTML(value='')))"
      ]
     },
     "metadata": {},
     "output_type": "display_data"
    },
    {
     "data": {
      "application/vnd.jupyter.widget-view+json": {
       "model_id": "9ec611ec24a9437f816c083b4ca2909e",
       "version_major": 2,
       "version_minor": 0
      },
      "text/plain": [
       "HBox(children=(IntProgress(value=0), HTML(value='')))"
      ]
     },
     "metadata": {},
     "output_type": "display_data"
    },
    {
     "data": {
      "application/vnd.jupyter.widget-view+json": {
       "model_id": "904c4f17f9864ef3bf89b5373af75a17",
       "version_major": 2,
       "version_minor": 0
      },
      "text/plain": [
       "HBox(children=(IntProgress(value=0), HTML(value='')))"
      ]
     },
     "metadata": {},
     "output_type": "display_data"
    },
    {
     "data": {
      "application/vnd.jupyter.widget-view+json": {
       "model_id": "81d3fa9d630c420e93171ac9baa94fb4",
       "version_major": 2,
       "version_minor": 0
      },
      "text/plain": [
       "HBox(children=(IntProgress(value=0), HTML(value='')))"
      ]
     },
     "metadata": {},
     "output_type": "display_data"
    },
    {
     "data": {
      "application/vnd.jupyter.widget-view+json": {
       "model_id": "0ce4881227b241aba74fda1085107d3f",
       "version_major": 2,
       "version_minor": 0
      },
      "text/plain": [
       "HBox(children=(IntProgress(value=0), HTML(value='')))"
      ]
     },
     "metadata": {},
     "output_type": "display_data"
    },
    {
     "data": {
      "application/vnd.jupyter.widget-view+json": {
       "model_id": "dd65536d79da4ca5acb8b8bc6cba83bc",
       "version_major": 2,
       "version_minor": 0
      },
      "text/plain": [
       "HBox(children=(IntProgress(value=0), HTML(value='')))"
      ]
     },
     "metadata": {},
     "output_type": "display_data"
    },
    {
     "data": {
      "application/vnd.jupyter.widget-view+json": {
       "model_id": "cc338510d47d4d5daf2a25632dc06ec0",
       "version_major": 2,
       "version_minor": 0
      },
      "text/plain": [
       "HBox(children=(IntProgress(value=0), HTML(value='')))"
      ]
     },
     "metadata": {},
     "output_type": "display_data"
    },
    {
     "data": {
      "application/vnd.jupyter.widget-view+json": {
       "model_id": "acd71420490345449b3df8fd50cb3c68",
       "version_major": 2,
       "version_minor": 0
      },
      "text/plain": [
       "HBox(children=(IntProgress(value=0), HTML(value='')))"
      ]
     },
     "metadata": {},
     "output_type": "display_data"
    },
    {
     "data": {
      "application/vnd.jupyter.widget-view+json": {
       "model_id": "ab6cb3267a524ce2a651573d4e23d8db",
       "version_major": 2,
       "version_minor": 0
      },
      "text/plain": [
       "HBox(children=(IntProgress(value=0), HTML(value='')))"
      ]
     },
     "metadata": {},
     "output_type": "display_data"
    },
    {
     "data": {
      "application/vnd.jupyter.widget-view+json": {
       "model_id": "f4be489ee68641c08c565eac48106ec5",
       "version_major": 2,
       "version_minor": 0
      },
      "text/plain": [
       "HBox(children=(IntProgress(value=0), HTML(value='')))"
      ]
     },
     "metadata": {},
     "output_type": "display_data"
    },
    {
     "data": {
      "application/vnd.jupyter.widget-view+json": {
       "model_id": "202d8ea8c1b245aabf6f3d4472dc8b05",
       "version_major": 2,
       "version_minor": 0
      },
      "text/plain": [
       "HBox(children=(IntProgress(value=0), HTML(value='')))"
      ]
     },
     "metadata": {},
     "output_type": "display_data"
    },
    {
     "data": {
      "application/vnd.jupyter.widget-view+json": {
       "model_id": "08401ffe047d4d2ca200feeee7295e50",
       "version_major": 2,
       "version_minor": 0
      },
      "text/plain": [
       "HBox(children=(IntProgress(value=0), HTML(value='')))"
      ]
     },
     "metadata": {},
     "output_type": "display_data"
    },
    {
     "data": {
      "application/vnd.jupyter.widget-view+json": {
       "model_id": "707037655a0a45528cf005fa1e2be845",
       "version_major": 2,
       "version_minor": 0
      },
      "text/plain": [
       "HBox(children=(IntProgress(value=0), HTML(value='')))"
      ]
     },
     "metadata": {},
     "output_type": "display_data"
    },
    {
     "data": {
      "application/vnd.jupyter.widget-view+json": {
       "model_id": "36d9b6e14eb04f76ac990a8844437cbc",
       "version_major": 2,
       "version_minor": 0
      },
      "text/plain": [
       "HBox(children=(IntProgress(value=0), HTML(value='')))"
      ]
     },
     "metadata": {},
     "output_type": "display_data"
    },
    {
     "data": {
      "application/vnd.jupyter.widget-view+json": {
       "model_id": "e7497971fa4a4eee833376352c43f6db",
       "version_major": 2,
       "version_minor": 0
      },
      "text/plain": [
       "HBox(children=(IntProgress(value=0), HTML(value='')))"
      ]
     },
     "metadata": {},
     "output_type": "display_data"
    },
    {
     "data": {
      "application/vnd.jupyter.widget-view+json": {
       "model_id": "60e346691c38466f9b41d225564312e9",
       "version_major": 2,
       "version_minor": 0
      },
      "text/plain": [
       "HBox(children=(IntProgress(value=0), HTML(value='')))"
      ]
     },
     "metadata": {},
     "output_type": "display_data"
    },
    {
     "data": {
      "application/vnd.jupyter.widget-view+json": {
       "model_id": "0c16826b80cf4612877126d1b221dfb0",
       "version_major": 2,
       "version_minor": 0
      },
      "text/plain": [
       "HBox(children=(IntProgress(value=0), HTML(value='')))"
      ]
     },
     "metadata": {},
     "output_type": "display_data"
    },
    {
     "data": {
      "application/vnd.jupyter.widget-view+json": {
       "model_id": "6d9f4e598a0f47cb860b4581dbfaf172",
       "version_major": 2,
       "version_minor": 0
      },
      "text/plain": [
       "HBox(children=(IntProgress(value=0), HTML(value='')))"
      ]
     },
     "metadata": {},
     "output_type": "display_data"
    },
    {
     "data": {
      "application/vnd.jupyter.widget-view+json": {
       "model_id": "cb6e40c997db4574b38e09c55cf62dcf",
       "version_major": 2,
       "version_minor": 0
      },
      "text/plain": [
       "HBox(children=(IntProgress(value=0), HTML(value='')))"
      ]
     },
     "metadata": {},
     "output_type": "display_data"
    },
    {
     "data": {
      "application/vnd.jupyter.widget-view+json": {
       "model_id": "cc3acec0c7a647d58f252ea4e0218b80",
       "version_major": 2,
       "version_minor": 0
      },
      "text/plain": [
       "HBox(children=(IntProgress(value=0), HTML(value='')))"
      ]
     },
     "metadata": {},
     "output_type": "display_data"
    },
    {
     "data": {
      "application/vnd.jupyter.widget-view+json": {
       "model_id": "9bdcf9c7199b4cdab4e6a05822bd05d3",
       "version_major": 2,
       "version_minor": 0
      },
      "text/plain": [
       "HBox(children=(IntProgress(value=0), HTML(value='')))"
      ]
     },
     "metadata": {},
     "output_type": "display_data"
    },
    {
     "data": {
      "application/vnd.jupyter.widget-view+json": {
       "model_id": "c3c84c70c1fe4f67876f3a38dda1b062",
       "version_major": 2,
       "version_minor": 0
      },
      "text/plain": [
       "HBox(children=(IntProgress(value=0), HTML(value='')))"
      ]
     },
     "metadata": {},
     "output_type": "display_data"
    },
    {
     "data": {
      "application/vnd.jupyter.widget-view+json": {
       "model_id": "4a13b1024b9648638e4230d393d46aea",
       "version_major": 2,
       "version_minor": 0
      },
      "text/plain": [
       "HBox(children=(IntProgress(value=0), HTML(value='')))"
      ]
     },
     "metadata": {},
     "output_type": "display_data"
    },
    {
     "data": {
      "application/vnd.jupyter.widget-view+json": {
       "model_id": "5916800823ef4d65a75cfa1179fa3b9b",
       "version_major": 2,
       "version_minor": 0
      },
      "text/plain": [
       "HBox(children=(IntProgress(value=0), HTML(value='')))"
      ]
     },
     "metadata": {},
     "output_type": "display_data"
    },
    {
     "data": {
      "application/vnd.jupyter.widget-view+json": {
       "model_id": "921e526f4be6461080f7c5ebdcbc2427",
       "version_major": 2,
       "version_minor": 0
      },
      "text/plain": [
       "HBox(children=(IntProgress(value=0), HTML(value='')))"
      ]
     },
     "metadata": {},
     "output_type": "display_data"
    },
    {
     "data": {
      "application/vnd.jupyter.widget-view+json": {
       "model_id": "d430a2d7b4014e4fbcaf45084d1cbccf",
       "version_major": 2,
       "version_minor": 0
      },
      "text/plain": [
       "HBox(children=(IntProgress(value=0), HTML(value='')))"
      ]
     },
     "metadata": {},
     "output_type": "display_data"
    },
    {
     "data": {
      "application/vnd.jupyter.widget-view+json": {
       "model_id": "542466f7fe3c409e8caf419e5132eec0",
       "version_major": 2,
       "version_minor": 0
      },
      "text/plain": [
       "HBox(children=(IntProgress(value=0), HTML(value='')))"
      ]
     },
     "metadata": {},
     "output_type": "display_data"
    },
    {
     "data": {
      "application/vnd.jupyter.widget-view+json": {
       "model_id": "72151fec0b1b40a7b89dfa180fa1b8d8",
       "version_major": 2,
       "version_minor": 0
      },
      "text/plain": [
       "HBox(children=(IntProgress(value=0), HTML(value='')))"
      ]
     },
     "metadata": {},
     "output_type": "display_data"
    },
    {
     "data": {
      "application/vnd.jupyter.widget-view+json": {
       "model_id": "f3961d5c4dff4392a3d5074db1d4385c",
       "version_major": 2,
       "version_minor": 0
      },
      "text/plain": [
       "HBox(children=(IntProgress(value=0), HTML(value='')))"
      ]
     },
     "metadata": {},
     "output_type": "display_data"
    },
    {
     "data": {
      "application/vnd.jupyter.widget-view+json": {
       "model_id": "7b95360e89a148f89d695196676d769f",
       "version_major": 2,
       "version_minor": 0
      },
      "text/plain": [
       "HBox(children=(IntProgress(value=0), HTML(value='')))"
      ]
     },
     "metadata": {},
     "output_type": "display_data"
    },
    {
     "data": {
      "application/vnd.jupyter.widget-view+json": {
       "model_id": "ed013ab83d8e4fbd9ca0660dae406b8c",
       "version_major": 2,
       "version_minor": 0
      },
      "text/plain": [
       "HBox(children=(IntProgress(value=0), HTML(value='')))"
      ]
     },
     "metadata": {},
     "output_type": "display_data"
    },
    {
     "data": {
      "application/vnd.jupyter.widget-view+json": {
       "model_id": "2dec2f12ddb2427da8e889827a6d2a48",
       "version_major": 2,
       "version_minor": 0
      },
      "text/plain": [
       "HBox(children=(IntProgress(value=0), HTML(value='')))"
      ]
     },
     "metadata": {},
     "output_type": "display_data"
    },
    {
     "data": {
      "application/vnd.jupyter.widget-view+json": {
       "model_id": "692e273730f74ac581701a114ee9d8bc",
       "version_major": 2,
       "version_minor": 0
      },
      "text/plain": [
       "HBox(children=(IntProgress(value=0), HTML(value='')))"
      ]
     },
     "metadata": {},
     "output_type": "display_data"
    },
    {
     "data": {
      "application/vnd.jupyter.widget-view+json": {
       "model_id": "9aba9b8d217d452085c2e45c7d41c0c6",
       "version_major": 2,
       "version_minor": 0
      },
      "text/plain": [
       "HBox(children=(IntProgress(value=0), HTML(value='')))"
      ]
     },
     "metadata": {},
     "output_type": "display_data"
    },
    {
     "name": "stdout",
     "output_type": "stream",
     "text": [
      "Fail for tour 3130, team 48357, question 45\n",
      "Fail for tour 3130, team 48357, question 60\n",
      "Fail for tour 3130, team 48357, question 48\n",
      "Fail for tour 3130, team 48357, question 41\n",
      "Fail for tour 3130, team 48358, question 45\n",
      "Fail for tour 3130, team 48358, question 36\n",
      "Fail for tour 3130, team 48358, question 57\n"
     ]
    },
    {
     "data": {
      "application/vnd.jupyter.widget-view+json": {
       "model_id": "fa8fa9817d784560868dfd927b3df2b7",
       "version_major": 2,
       "version_minor": 0
      },
      "text/plain": [
       "HBox(children=(IntProgress(value=0), HTML(value='')))"
      ]
     },
     "metadata": {},
     "output_type": "display_data"
    },
    {
     "data": {
      "application/vnd.jupyter.widget-view+json": {
       "model_id": "3adbe75250a9434dafe11c4b36755e86",
       "version_major": 2,
       "version_minor": 0
      },
      "text/plain": [
       "HBox(children=(IntProgress(value=0), HTML(value='')))"
      ]
     },
     "metadata": {},
     "output_type": "display_data"
    },
    {
     "data": {
      "application/vnd.jupyter.widget-view+json": {
       "model_id": "6088103c22924070bd07c18183220afd",
       "version_major": 2,
       "version_minor": 0
      },
      "text/plain": [
       "HBox(children=(IntProgress(value=0), HTML(value='')))"
      ]
     },
     "metadata": {},
     "output_type": "display_data"
    },
    {
     "data": {
      "application/vnd.jupyter.widget-view+json": {
       "model_id": "1206de24569d4e4fb02e48d1ac42c8ef",
       "version_major": 2,
       "version_minor": 0
      },
      "text/plain": [
       "HBox(children=(IntProgress(value=0), HTML(value='')))"
      ]
     },
     "metadata": {},
     "output_type": "display_data"
    },
    {
     "data": {
      "application/vnd.jupyter.widget-view+json": {
       "model_id": "67912b77ef1b4695a1036a2a81013f76",
       "version_major": 2,
       "version_minor": 0
      },
      "text/plain": [
       "HBox(children=(IntProgress(value=0), HTML(value='')))"
      ]
     },
     "metadata": {},
     "output_type": "display_data"
    },
    {
     "data": {
      "application/vnd.jupyter.widget-view+json": {
       "model_id": "389a74ff132b4ab189babf5b3033f384",
       "version_major": 2,
       "version_minor": 0
      },
      "text/plain": [
       "HBox(children=(IntProgress(value=0), HTML(value='')))"
      ]
     },
     "metadata": {},
     "output_type": "display_data"
    },
    {
     "data": {
      "application/vnd.jupyter.widget-view+json": {
       "model_id": "6fcca056549a4c8d9f68c2be4f3f5817",
       "version_major": 2,
       "version_minor": 0
      },
      "text/plain": [
       "HBox(children=(IntProgress(value=0), HTML(value='')))"
      ]
     },
     "metadata": {},
     "output_type": "display_data"
    },
    {
     "data": {
      "application/vnd.jupyter.widget-view+json": {
       "model_id": "66eaa9d293e645fd95fce8c2cedd9aca",
       "version_major": 2,
       "version_minor": 0
      },
      "text/plain": [
       "HBox(children=(IntProgress(value=0), HTML(value='')))"
      ]
     },
     "metadata": {},
     "output_type": "display_data"
    },
    {
     "data": {
      "application/vnd.jupyter.widget-view+json": {
       "model_id": "280a9339deed47e08ef28decc6afbe9f",
       "version_major": 2,
       "version_minor": 0
      },
      "text/plain": [
       "HBox(children=(IntProgress(value=0), HTML(value='')))"
      ]
     },
     "metadata": {},
     "output_type": "display_data"
    },
    {
     "data": {
      "application/vnd.jupyter.widget-view+json": {
       "model_id": "c037aab8c75c4fb2aa7b822a36b54b92",
       "version_major": 2,
       "version_minor": 0
      },
      "text/plain": [
       "HBox(children=(IntProgress(value=0), HTML(value='')))"
      ]
     },
     "metadata": {},
     "output_type": "display_data"
    },
    {
     "data": {
      "application/vnd.jupyter.widget-view+json": {
       "model_id": "905055925318421882da46abdb6dd059",
       "version_major": 2,
       "version_minor": 0
      },
      "text/plain": [
       "HBox(children=(IntProgress(value=0), HTML(value='')))"
      ]
     },
     "metadata": {},
     "output_type": "display_data"
    },
    {
     "data": {
      "application/vnd.jupyter.widget-view+json": {
       "model_id": "cedd68139a8e4678815e5b8432f680f9",
       "version_major": 2,
       "version_minor": 0
      },
      "text/plain": [
       "HBox(children=(IntProgress(value=0), HTML(value='')))"
      ]
     },
     "metadata": {},
     "output_type": "display_data"
    },
    {
     "data": {
      "application/vnd.jupyter.widget-view+json": {
       "model_id": "97b1fd9ef53b40789c2914b79aa99a79",
       "version_major": 2,
       "version_minor": 0
      },
      "text/plain": [
       "HBox(children=(IntProgress(value=0), HTML(value='')))"
      ]
     },
     "metadata": {},
     "output_type": "display_data"
    },
    {
     "data": {
      "application/vnd.jupyter.widget-view+json": {
       "model_id": "6f5d008447464eb3b828e5fd43c296d4",
       "version_major": 2,
       "version_minor": 0
      },
      "text/plain": [
       "HBox(children=(IntProgress(value=0), HTML(value='')))"
      ]
     },
     "metadata": {},
     "output_type": "display_data"
    },
    {
     "data": {
      "application/vnd.jupyter.widget-view+json": {
       "model_id": "cc6cc4fa70484ec0808a3875cd1873a7",
       "version_major": 2,
       "version_minor": 0
      },
      "text/plain": [
       "HBox(children=(IntProgress(value=0), HTML(value='')))"
      ]
     },
     "metadata": {},
     "output_type": "display_data"
    },
    {
     "data": {
      "application/vnd.jupyter.widget-view+json": {
       "model_id": "b59e40e75cd846b2a05b23820c8b45f7",
       "version_major": 2,
       "version_minor": 0
      },
      "text/plain": [
       "HBox(children=(IntProgress(value=0), HTML(value='')))"
      ]
     },
     "metadata": {},
     "output_type": "display_data"
    },
    {
     "name": "stdout",
     "output_type": "stream",
     "text": [
      "Fail for tour 2040, team 3912, question 52\n"
     ]
    },
    {
     "data": {
      "application/vnd.jupyter.widget-view+json": {
       "model_id": "a3e859305594483ab26f381fc3acf617",
       "version_major": 2,
       "version_minor": 0
      },
      "text/plain": [
       "HBox(children=(IntProgress(value=0), HTML(value='')))"
      ]
     },
     "metadata": {},
     "output_type": "display_data"
    },
    {
     "data": {
      "application/vnd.jupyter.widget-view+json": {
       "model_id": "f76ee6d1c3ed40d3b345f79c1c7b495c",
       "version_major": 2,
       "version_minor": 0
      },
      "text/plain": [
       "HBox(children=(IntProgress(value=0), HTML(value='')))"
      ]
     },
     "metadata": {},
     "output_type": "display_data"
    },
    {
     "data": {
      "application/vnd.jupyter.widget-view+json": {
       "model_id": "b3dee18b1f7c40fe8f0d9cb781e5f73a",
       "version_major": 2,
       "version_minor": 0
      },
      "text/plain": [
       "HBox(children=(IntProgress(value=0), HTML(value='')))"
      ]
     },
     "metadata": {},
     "output_type": "display_data"
    },
    {
     "data": {
      "application/vnd.jupyter.widget-view+json": {
       "model_id": "1f60cb0298f34c448841f3b4f983c811",
       "version_major": 2,
       "version_minor": 0
      },
      "text/plain": [
       "HBox(children=(IntProgress(value=0), HTML(value='')))"
      ]
     },
     "metadata": {},
     "output_type": "display_data"
    },
    {
     "data": {
      "application/vnd.jupyter.widget-view+json": {
       "model_id": "a5d65142fe324609b00c85e2bb17660b",
       "version_major": 2,
       "version_minor": 0
      },
      "text/plain": [
       "HBox(children=(IntProgress(value=0), HTML(value='')))"
      ]
     },
     "metadata": {},
     "output_type": "display_data"
    },
    {
     "data": {
      "application/vnd.jupyter.widget-view+json": {
       "model_id": "a8f9a8d475764759ad0bdd1d2f479c7b",
       "version_major": 2,
       "version_minor": 0
      },
      "text/plain": [
       "HBox(children=(IntProgress(value=0), HTML(value='')))"
      ]
     },
     "metadata": {},
     "output_type": "display_data"
    },
    {
     "data": {
      "application/vnd.jupyter.widget-view+json": {
       "model_id": "9e5de33fcaa54d7996a74b22125c9433",
       "version_major": 2,
       "version_minor": 0
      },
      "text/plain": [
       "HBox(children=(IntProgress(value=0), HTML(value='')))"
      ]
     },
     "metadata": {},
     "output_type": "display_data"
    },
    {
     "data": {
      "application/vnd.jupyter.widget-view+json": {
       "model_id": "acdbce5053ad47cfbea7ef074b9af50e",
       "version_major": 2,
       "version_minor": 0
      },
      "text/plain": [
       "HBox(children=(IntProgress(value=0), HTML(value='')))"
      ]
     },
     "metadata": {},
     "output_type": "display_data"
    },
    {
     "data": {
      "application/vnd.jupyter.widget-view+json": {
       "model_id": "b9f6f516524a44b488751400015b7ab1",
       "version_major": 2,
       "version_minor": 0
      },
      "text/plain": [
       "HBox(children=(IntProgress(value=0), HTML(value='')))"
      ]
     },
     "metadata": {},
     "output_type": "display_data"
    },
    {
     "data": {
      "application/vnd.jupyter.widget-view+json": {
       "model_id": "45770a7cbc8c417ba1e500b94cb4b022",
       "version_major": 2,
       "version_minor": 0
      },
      "text/plain": [
       "HBox(children=(IntProgress(value=0), HTML(value='')))"
      ]
     },
     "metadata": {},
     "output_type": "display_data"
    },
    {
     "data": {
      "application/vnd.jupyter.widget-view+json": {
       "model_id": "92f6f81942da48b4aae3d458df10d958",
       "version_major": 2,
       "version_minor": 0
      },
      "text/plain": [
       "HBox(children=(IntProgress(value=0), HTML(value='')))"
      ]
     },
     "metadata": {},
     "output_type": "display_data"
    },
    {
     "data": {
      "application/vnd.jupyter.widget-view+json": {
       "model_id": "cb26c3bec1e04713873317809bed4684",
       "version_major": 2,
       "version_minor": 0
      },
      "text/plain": [
       "HBox(children=(IntProgress(value=0), HTML(value='')))"
      ]
     },
     "metadata": {},
     "output_type": "display_data"
    },
    {
     "data": {
      "application/vnd.jupyter.widget-view+json": {
       "model_id": "ef31c5b918f64ef49eb504d56152bc79",
       "version_major": 2,
       "version_minor": 0
      },
      "text/plain": [
       "HBox(children=(IntProgress(value=0), HTML(value='')))"
      ]
     },
     "metadata": {},
     "output_type": "display_data"
    },
    {
     "data": {
      "application/vnd.jupyter.widget-view+json": {
       "model_id": "9b2253ed3f7d4ed19cb7c0ec7479e648",
       "version_major": 2,
       "version_minor": 0
      },
      "text/plain": [
       "HBox(children=(IntProgress(value=0), HTML(value='')))"
      ]
     },
     "metadata": {},
     "output_type": "display_data"
    },
    {
     "data": {
      "application/vnd.jupyter.widget-view+json": {
       "model_id": "de4defd143af4d9eb5fc9aac44bc1dbf",
       "version_major": 2,
       "version_minor": 0
      },
      "text/plain": [
       "HBox(children=(IntProgress(value=0), HTML(value='')))"
      ]
     },
     "metadata": {},
     "output_type": "display_data"
    },
    {
     "data": {
      "application/vnd.jupyter.widget-view+json": {
       "model_id": "5ec07fc823ef42d2aa9764996d658241",
       "version_major": 2,
       "version_minor": 0
      },
      "text/plain": [
       "HBox(children=(IntProgress(value=0), HTML(value='')))"
      ]
     },
     "metadata": {},
     "output_type": "display_data"
    },
    {
     "data": {
      "application/vnd.jupyter.widget-view+json": {
       "model_id": "2edb6cc01db042549b15483523665b36",
       "version_major": 2,
       "version_minor": 0
      },
      "text/plain": [
       "HBox(children=(IntProgress(value=0), HTML(value='')))"
      ]
     },
     "metadata": {},
     "output_type": "display_data"
    },
    {
     "data": {
      "application/vnd.jupyter.widget-view+json": {
       "model_id": "a85cd94e0ce44ea8a382395ae0e76999",
       "version_major": 2,
       "version_minor": 0
      },
      "text/plain": [
       "HBox(children=(IntProgress(value=0), HTML(value='')))"
      ]
     },
     "metadata": {},
     "output_type": "display_data"
    },
    {
     "data": {
      "application/vnd.jupyter.widget-view+json": {
       "model_id": "f17c1177e2d5439b8d7a29b3d40cd6cc",
       "version_major": 2,
       "version_minor": 0
      },
      "text/plain": [
       "HBox(children=(IntProgress(value=0), HTML(value='')))"
      ]
     },
     "metadata": {},
     "output_type": "display_data"
    },
    {
     "data": {
      "application/vnd.jupyter.widget-view+json": {
       "model_id": "ed137295eaaa42158238f988d569b70b",
       "version_major": 2,
       "version_minor": 0
      },
      "text/plain": [
       "HBox(children=(IntProgress(value=0), HTML(value='')))"
      ]
     },
     "metadata": {},
     "output_type": "display_data"
    },
    {
     "data": {
      "application/vnd.jupyter.widget-view+json": {
       "model_id": "c650e571c5b7474482147fda2479c1d3",
       "version_major": 2,
       "version_minor": 0
      },
      "text/plain": [
       "HBox(children=(IntProgress(value=0), HTML(value='')))"
      ]
     },
     "metadata": {},
     "output_type": "display_data"
    },
    {
     "data": {
      "application/vnd.jupyter.widget-view+json": {
       "model_id": "e2a4306b1f3f4c2ab3b5c853eaa7931c",
       "version_major": 2,
       "version_minor": 0
      },
      "text/plain": [
       "HBox(children=(IntProgress(value=0), HTML(value='')))"
      ]
     },
     "metadata": {},
     "output_type": "display_data"
    },
    {
     "data": {
      "application/vnd.jupyter.widget-view+json": {
       "model_id": "7c00f1c4c2664155a256b3b668edb0fb",
       "version_major": 2,
       "version_minor": 0
      },
      "text/plain": [
       "HBox(children=(IntProgress(value=0), HTML(value='')))"
      ]
     },
     "metadata": {},
     "output_type": "display_data"
    },
    {
     "data": {
      "application/vnd.jupyter.widget-view+json": {
       "model_id": "9b595c3c96334ab5b0c6f4acddccdf3d",
       "version_major": 2,
       "version_minor": 0
      },
      "text/plain": [
       "HBox(children=(IntProgress(value=0), HTML(value='')))"
      ]
     },
     "metadata": {},
     "output_type": "display_data"
    },
    {
     "data": {
      "application/vnd.jupyter.widget-view+json": {
       "model_id": "e358410f407144d4bfe2cd415348f606",
       "version_major": 2,
       "version_minor": 0
      },
      "text/plain": [
       "HBox(children=(IntProgress(value=0), HTML(value='')))"
      ]
     },
     "metadata": {},
     "output_type": "display_data"
    },
    {
     "data": {
      "application/vnd.jupyter.widget-view+json": {
       "model_id": "1b32d303dd03400fb7bc6f4250b19da4",
       "version_major": 2,
       "version_minor": 0
      },
      "text/plain": [
       "HBox(children=(IntProgress(value=0), HTML(value='')))"
      ]
     },
     "metadata": {},
     "output_type": "display_data"
    },
    {
     "data": {
      "application/vnd.jupyter.widget-view+json": {
       "model_id": "c3eb70633bed41fd8a5b303581af0ce2",
       "version_major": 2,
       "version_minor": 0
      },
      "text/plain": [
       "HBox(children=(IntProgress(value=0), HTML(value='')))"
      ]
     },
     "metadata": {},
     "output_type": "display_data"
    },
    {
     "data": {
      "application/vnd.jupyter.widget-view+json": {
       "model_id": "dc7c082130cb4c5894a098d42ec76626",
       "version_major": 2,
       "version_minor": 0
      },
      "text/plain": [
       "HBox(children=(IntProgress(value=0), HTML(value='')))"
      ]
     },
     "metadata": {},
     "output_type": "display_data"
    },
    {
     "data": {
      "application/vnd.jupyter.widget-view+json": {
       "model_id": "88e58a514b9141ca92e19b920bc7d25f",
       "version_major": 2,
       "version_minor": 0
      },
      "text/plain": [
       "HBox(children=(IntProgress(value=0), HTML(value='')))"
      ]
     },
     "metadata": {},
     "output_type": "display_data"
    },
    {
     "data": {
      "application/vnd.jupyter.widget-view+json": {
       "model_id": "8b6771d8d6544af0aaf105ad7f416550",
       "version_major": 2,
       "version_minor": 0
      },
      "text/plain": [
       "HBox(children=(IntProgress(value=0), HTML(value='')))"
      ]
     },
     "metadata": {},
     "output_type": "display_data"
    },
    {
     "data": {
      "application/vnd.jupyter.widget-view+json": {
       "model_id": "0958b4d3a82549aba490046c6e2a61ee",
       "version_major": 2,
       "version_minor": 0
      },
      "text/plain": [
       "HBox(children=(IntProgress(value=0), HTML(value='')))"
      ]
     },
     "metadata": {},
     "output_type": "display_data"
    },
    {
     "data": {
      "application/vnd.jupyter.widget-view+json": {
       "model_id": "2cf7a347806d4a3abee20f975f9e3862",
       "version_major": 2,
       "version_minor": 0
      },
      "text/plain": [
       "HBox(children=(IntProgress(value=0), HTML(value='')))"
      ]
     },
     "metadata": {},
     "output_type": "display_data"
    },
    {
     "data": {
      "application/vnd.jupyter.widget-view+json": {
       "model_id": "a886b173218941ee91c1330558c5c42f",
       "version_major": 2,
       "version_minor": 0
      },
      "text/plain": [
       "HBox(children=(IntProgress(value=0), HTML(value='')))"
      ]
     },
     "metadata": {},
     "output_type": "display_data"
    },
    {
     "data": {
      "application/vnd.jupyter.widget-view+json": {
       "model_id": "7d62590ab7bf4d49a032c8b6ece86a87",
       "version_major": 2,
       "version_minor": 0
      },
      "text/plain": [
       "HBox(children=(IntProgress(value=0), HTML(value='')))"
      ]
     },
     "metadata": {},
     "output_type": "display_data"
    },
    {
     "data": {
      "application/vnd.jupyter.widget-view+json": {
       "model_id": "051a44363da34cc7a7441ca445a86372",
       "version_major": 2,
       "version_minor": 0
      },
      "text/plain": [
       "HBox(children=(IntProgress(value=0), HTML(value='')))"
      ]
     },
     "metadata": {},
     "output_type": "display_data"
    },
    {
     "data": {
      "application/vnd.jupyter.widget-view+json": {
       "model_id": "3073e327fb6947308955ef2f77b88552",
       "version_major": 2,
       "version_minor": 0
      },
      "text/plain": [
       "HBox(children=(IntProgress(value=0), HTML(value='')))"
      ]
     },
     "metadata": {},
     "output_type": "display_data"
    },
    {
     "data": {
      "application/vnd.jupyter.widget-view+json": {
       "model_id": "8725a29715774eaf88bc24a333248bf1",
       "version_major": 2,
       "version_minor": 0
      },
      "text/plain": [
       "HBox(children=(IntProgress(value=0), HTML(value='')))"
      ]
     },
     "metadata": {},
     "output_type": "display_data"
    },
    {
     "data": {
      "application/vnd.jupyter.widget-view+json": {
       "model_id": "4fc3a72d103a464195999788d0ebddd1",
       "version_major": 2,
       "version_minor": 0
      },
      "text/plain": [
       "HBox(children=(IntProgress(value=0), HTML(value='')))"
      ]
     },
     "metadata": {},
     "output_type": "display_data"
    },
    {
     "data": {
      "application/vnd.jupyter.widget-view+json": {
       "model_id": "747aa36b767d4fedb5acfa082188ef9a",
       "version_major": 2,
       "version_minor": 0
      },
      "text/plain": [
       "HBox(children=(IntProgress(value=0), HTML(value='')))"
      ]
     },
     "metadata": {},
     "output_type": "display_data"
    },
    {
     "data": {
      "application/vnd.jupyter.widget-view+json": {
       "model_id": "5d83210437384ab2bf0b9005f91a38d7",
       "version_major": 2,
       "version_minor": 0
      },
      "text/plain": [
       "HBox(children=(IntProgress(value=0), HTML(value='')))"
      ]
     },
     "metadata": {},
     "output_type": "display_data"
    },
    {
     "data": {
      "application/vnd.jupyter.widget-view+json": {
       "model_id": "26f6ffaf7def4d20a4eae2ca267b6512",
       "version_major": 2,
       "version_minor": 0
      },
      "text/plain": [
       "HBox(children=(IntProgress(value=0), HTML(value='')))"
      ]
     },
     "metadata": {},
     "output_type": "display_data"
    },
    {
     "data": {
      "application/vnd.jupyter.widget-view+json": {
       "model_id": "174befc3aa5c49698cc4adcf78621f7a",
       "version_major": 2,
       "version_minor": 0
      },
      "text/plain": [
       "HBox(children=(IntProgress(value=0), HTML(value='')))"
      ]
     },
     "metadata": {},
     "output_type": "display_data"
    },
    {
     "data": {
      "application/vnd.jupyter.widget-view+json": {
       "model_id": "8ab338130a374c409f0c8626d1d1ed54",
       "version_major": 2,
       "version_minor": 0
      },
      "text/plain": [
       "HBox(children=(IntProgress(value=0), HTML(value='')))"
      ]
     },
     "metadata": {},
     "output_type": "display_data"
    },
    {
     "data": {
      "application/vnd.jupyter.widget-view+json": {
       "model_id": "e6aacb358f0e4a9992f9da2b99275253",
       "version_major": 2,
       "version_minor": 0
      },
      "text/plain": [
       "HBox(children=(IntProgress(value=0), HTML(value='')))"
      ]
     },
     "metadata": {},
     "output_type": "display_data"
    },
    {
     "data": {
      "application/vnd.jupyter.widget-view+json": {
       "model_id": "d9b1f93cf7914c409a3e4a98814cfc8f",
       "version_major": 2,
       "version_minor": 0
      },
      "text/plain": [
       "HBox(children=(IntProgress(value=0), HTML(value='')))"
      ]
     },
     "metadata": {},
     "output_type": "display_data"
    },
    {
     "data": {
      "application/vnd.jupyter.widget-view+json": {
       "model_id": "458bf382b90145838ec379c6ec01cc34",
       "version_major": 2,
       "version_minor": 0
      },
      "text/plain": [
       "HBox(children=(IntProgress(value=0), HTML(value='')))"
      ]
     },
     "metadata": {},
     "output_type": "display_data"
    },
    {
     "name": "stdout",
     "output_type": "stream",
     "text": [
      "Fail for tour 1858, team 5970, question 43\n"
     ]
    },
    {
     "data": {
      "application/vnd.jupyter.widget-view+json": {
       "model_id": "0b5622bc64ea4cfa88bad0434788038c",
       "version_major": 2,
       "version_minor": 0
      },
      "text/plain": [
       "HBox(children=(IntProgress(value=0), HTML(value='')))"
      ]
     },
     "metadata": {},
     "output_type": "display_data"
    },
    {
     "name": "stdout",
     "output_type": "stream",
     "text": [
      "Fail for tour 1931, team 3880, question 38\n",
      "Fail for tour 1931, team 8423, question 49\n",
      "Fail for tour 1931, team 40999, question 71\n",
      "Fail for tour 1931, team 40369, question 69\n",
      "Fail for tour 1931, team 39247, question 58\n"
     ]
    },
    {
     "data": {
      "application/vnd.jupyter.widget-view+json": {
       "model_id": "18b33f093f844373ba5930627421851b",
       "version_major": 2,
       "version_minor": 0
      },
      "text/plain": [
       "HBox(children=(IntProgress(value=0), HTML(value='')))"
      ]
     },
     "metadata": {},
     "output_type": "display_data"
    },
    {
     "data": {
      "application/vnd.jupyter.widget-view+json": {
       "model_id": "705ce4239dce4fbcb2e4663bf2da6e9b",
       "version_major": 2,
       "version_minor": 0
      },
      "text/plain": [
       "HBox(children=(IntProgress(value=0), HTML(value='')))"
      ]
     },
     "metadata": {},
     "output_type": "display_data"
    },
    {
     "data": {
      "application/vnd.jupyter.widget-view+json": {
       "model_id": "8d9bfbf31a1a438d89977225f170d96c",
       "version_major": 2,
       "version_minor": 0
      },
      "text/plain": [
       "HBox(children=(IntProgress(value=0), HTML(value='')))"
      ]
     },
     "metadata": {},
     "output_type": "display_data"
    },
    {
     "data": {
      "application/vnd.jupyter.widget-view+json": {
       "model_id": "f60d2baccb1543df8d228091a3d38846",
       "version_major": 2,
       "version_minor": 0
      },
      "text/plain": [
       "HBox(children=(IntProgress(value=0), HTML(value='')))"
      ]
     },
     "metadata": {},
     "output_type": "display_data"
    },
    {
     "data": {
      "application/vnd.jupyter.widget-view+json": {
       "model_id": "659a0d86c396410eb88f9a7ba1940a04",
       "version_major": 2,
       "version_minor": 0
      },
      "text/plain": [
       "HBox(children=(IntProgress(value=0), HTML(value='')))"
      ]
     },
     "metadata": {},
     "output_type": "display_data"
    },
    {
     "data": {
      "application/vnd.jupyter.widget-view+json": {
       "model_id": "f484a687c45e48f591e12a17823d216d",
       "version_major": 2,
       "version_minor": 0
      },
      "text/plain": [
       "HBox(children=(IntProgress(value=0), HTML(value='')))"
      ]
     },
     "metadata": {},
     "output_type": "display_data"
    },
    {
     "data": {
      "application/vnd.jupyter.widget-view+json": {
       "model_id": "9b51708e77a14ad2b6a8238ced7b2f95",
       "version_major": 2,
       "version_minor": 0
      },
      "text/plain": [
       "HBox(children=(IntProgress(value=0), HTML(value='')))"
      ]
     },
     "metadata": {},
     "output_type": "display_data"
    },
    {
     "data": {
      "application/vnd.jupyter.widget-view+json": {
       "model_id": "251678dc4bb54e1281b582337394fdcb",
       "version_major": 2,
       "version_minor": 0
      },
      "text/plain": [
       "HBox(children=(IntProgress(value=0), HTML(value='')))"
      ]
     },
     "metadata": {},
     "output_type": "display_data"
    },
    {
     "data": {
      "application/vnd.jupyter.widget-view+json": {
       "model_id": "3522501ba9d146adbdc36b744d61bb54",
       "version_major": 2,
       "version_minor": 0
      },
      "text/plain": [
       "HBox(children=(IntProgress(value=0), HTML(value='')))"
      ]
     },
     "metadata": {},
     "output_type": "display_data"
    },
    {
     "data": {
      "application/vnd.jupyter.widget-view+json": {
       "model_id": "c410df9e5b484fbcbbfd424fb66e45bd",
       "version_major": 2,
       "version_minor": 0
      },
      "text/plain": [
       "HBox(children=(IntProgress(value=0), HTML(value='')))"
      ]
     },
     "metadata": {},
     "output_type": "display_data"
    },
    {
     "data": {
      "application/vnd.jupyter.widget-view+json": {
       "model_id": "e9649a98dab240a4804e1aa3c6799f1a",
       "version_major": 2,
       "version_minor": 0
      },
      "text/plain": [
       "HBox(children=(IntProgress(value=0), HTML(value='')))"
      ]
     },
     "metadata": {},
     "output_type": "display_data"
    },
    {
     "data": {
      "application/vnd.jupyter.widget-view+json": {
       "model_id": "a9b8f90060f943aaa876bb88d4472638",
       "version_major": 2,
       "version_minor": 0
      },
      "text/plain": [
       "HBox(children=(IntProgress(value=0), HTML(value='')))"
      ]
     },
     "metadata": {},
     "output_type": "display_data"
    },
    {
     "data": {
      "application/vnd.jupyter.widget-view+json": {
       "model_id": "51926ae4cf02444c85d80a4c2e4d0a6f",
       "version_major": 2,
       "version_minor": 0
      },
      "text/plain": [
       "HBox(children=(IntProgress(value=0), HTML(value='')))"
      ]
     },
     "metadata": {},
     "output_type": "display_data"
    },
    {
     "data": {
      "application/vnd.jupyter.widget-view+json": {
       "model_id": "c3a05a99e868459d9556dfb2dd8b5625",
       "version_major": 2,
       "version_minor": 0
      },
      "text/plain": [
       "HBox(children=(IntProgress(value=0), HTML(value='')))"
      ]
     },
     "metadata": {},
     "output_type": "display_data"
    },
    {
     "data": {
      "application/vnd.jupyter.widget-view+json": {
       "model_id": "6571927120264a6dbd43565f228b7507",
       "version_major": 2,
       "version_minor": 0
      },
      "text/plain": [
       "HBox(children=(IntProgress(value=0), HTML(value='')))"
      ]
     },
     "metadata": {},
     "output_type": "display_data"
    },
    {
     "data": {
      "application/vnd.jupyter.widget-view+json": {
       "model_id": "18a6b2437a3240f6a400660bec443ca8",
       "version_major": 2,
       "version_minor": 0
      },
      "text/plain": [
       "HBox(children=(IntProgress(value=0), HTML(value='')))"
      ]
     },
     "metadata": {},
     "output_type": "display_data"
    },
    {
     "data": {
      "application/vnd.jupyter.widget-view+json": {
       "model_id": "fadca5246707404d89c281383184c24d",
       "version_major": 2,
       "version_minor": 0
      },
      "text/plain": [
       "HBox(children=(IntProgress(value=0), HTML(value='')))"
      ]
     },
     "metadata": {},
     "output_type": "display_data"
    },
    {
     "data": {
      "application/vnd.jupyter.widget-view+json": {
       "model_id": "762523f3619b471bbc674ecd1ac314df",
       "version_major": 2,
       "version_minor": 0
      },
      "text/plain": [
       "HBox(children=(IntProgress(value=0), HTML(value='')))"
      ]
     },
     "metadata": {},
     "output_type": "display_data"
    },
    {
     "data": {
      "application/vnd.jupyter.widget-view+json": {
       "model_id": "d0a1f182f3654398bebca520dc6b45c2",
       "version_major": 2,
       "version_minor": 0
      },
      "text/plain": [
       "HBox(children=(IntProgress(value=0), HTML(value='')))"
      ]
     },
     "metadata": {},
     "output_type": "display_data"
    },
    {
     "data": {
      "application/vnd.jupyter.widget-view+json": {
       "model_id": "4561641b50404245909d38836d9332e8",
       "version_major": 2,
       "version_minor": 0
      },
      "text/plain": [
       "HBox(children=(IntProgress(value=0), HTML(value='')))"
      ]
     },
     "metadata": {},
     "output_type": "display_data"
    },
    {
     "data": {
      "application/vnd.jupyter.widget-view+json": {
       "model_id": "67b019a5b9944ce29d74f657ec5b6805",
       "version_major": 2,
       "version_minor": 0
      },
      "text/plain": [
       "HBox(children=(IntProgress(value=0), HTML(value='')))"
      ]
     },
     "metadata": {},
     "output_type": "display_data"
    },
    {
     "data": {
      "application/vnd.jupyter.widget-view+json": {
       "model_id": "473203311ff64d4b9481466215500ec5",
       "version_major": 2,
       "version_minor": 0
      },
      "text/plain": [
       "HBox(children=(IntProgress(value=0), HTML(value='')))"
      ]
     },
     "metadata": {},
     "output_type": "display_data"
    },
    {
     "data": {
      "application/vnd.jupyter.widget-view+json": {
       "model_id": "9caf7616b77d476186f79458693a1826",
       "version_major": 2,
       "version_minor": 0
      },
      "text/plain": [
       "HBox(children=(IntProgress(value=0), HTML(value='')))"
      ]
     },
     "metadata": {},
     "output_type": "display_data"
    },
    {
     "data": {
      "application/vnd.jupyter.widget-view+json": {
       "model_id": "7582e845063c4039bca92c462376a24f",
       "version_major": 2,
       "version_minor": 0
      },
      "text/plain": [
       "HBox(children=(IntProgress(value=0), HTML(value='')))"
      ]
     },
     "metadata": {},
     "output_type": "display_data"
    },
    {
     "data": {
      "application/vnd.jupyter.widget-view+json": {
       "model_id": "64159ac96395460aaa5f82ec5a13eacd",
       "version_major": 2,
       "version_minor": 0
      },
      "text/plain": [
       "HBox(children=(IntProgress(value=0), HTML(value='')))"
      ]
     },
     "metadata": {},
     "output_type": "display_data"
    },
    {
     "data": {
      "application/vnd.jupyter.widget-view+json": {
       "model_id": "46ea21b4784846e7912a75068dc027ae",
       "version_major": 2,
       "version_minor": 0
      },
      "text/plain": [
       "HBox(children=(IntProgress(value=0), HTML(value='')))"
      ]
     },
     "metadata": {},
     "output_type": "display_data"
    },
    {
     "data": {
      "application/vnd.jupyter.widget-view+json": {
       "model_id": "371b9d32d4f149c299d72444aad50e91",
       "version_major": 2,
       "version_minor": 0
      },
      "text/plain": [
       "HBox(children=(IntProgress(value=0), HTML(value='')))"
      ]
     },
     "metadata": {},
     "output_type": "display_data"
    },
    {
     "data": {
      "application/vnd.jupyter.widget-view+json": {
       "model_id": "f1d4aba50b8c4ae0af3765790558b9d5",
       "version_major": 2,
       "version_minor": 0
      },
      "text/plain": [
       "HBox(children=(IntProgress(value=0), HTML(value='')))"
      ]
     },
     "metadata": {},
     "output_type": "display_data"
    },
    {
     "name": "stdout",
     "output_type": "stream",
     "text": [
      "Fail for tour 2345, team 2542, question 41\n",
      "Fail for tour 2345, team 43995, question 38\n",
      "Fail for tour 2345, team 38808, question 36\n",
      "Fail for tour 2345, team 44285, question 37\n",
      "Fail for tour 2345, team 44510, question 36\n",
      "Fail for tour 2345, team 40452, question 36\n",
      "Fail for tour 2345, team 44363, question 40\n",
      "Fail for tour 2345, team 44510, question 41\n",
      "Fail for tour 2345, team 39775, question 37\n",
      "Fail for tour 2345, team 44404, question 38\n",
      "Fail for tour 2345, team 44365, question 40\n"
     ]
    },
    {
     "data": {
      "application/vnd.jupyter.widget-view+json": {
       "model_id": "3c404f254c1341c98c1f33f41a8672d0",
       "version_major": 2,
       "version_minor": 0
      },
      "text/plain": [
       "HBox(children=(IntProgress(value=0), HTML(value='')))"
      ]
     },
     "metadata": {},
     "output_type": "display_data"
    },
    {
     "data": {
      "application/vnd.jupyter.widget-view+json": {
       "model_id": "00864e0250814c398046b5aae4388276",
       "version_major": 2,
       "version_minor": 0
      },
      "text/plain": [
       "HBox(children=(IntProgress(value=0), HTML(value='')))"
      ]
     },
     "metadata": {},
     "output_type": "display_data"
    },
    {
     "data": {
      "application/vnd.jupyter.widget-view+json": {
       "model_id": "8797f961574147b6a5caa244074397da",
       "version_major": 2,
       "version_minor": 0
      },
      "text/plain": [
       "HBox(children=(IntProgress(value=0), HTML(value='')))"
      ]
     },
     "metadata": {},
     "output_type": "display_data"
    },
    {
     "data": {
      "application/vnd.jupyter.widget-view+json": {
       "model_id": "8eace833985044b4b11938c9fa0d86c4",
       "version_major": 2,
       "version_minor": 0
      },
      "text/plain": [
       "HBox(children=(IntProgress(value=0), HTML(value='')))"
      ]
     },
     "metadata": {},
     "output_type": "display_data"
    },
    {
     "data": {
      "application/vnd.jupyter.widget-view+json": {
       "model_id": "d401f8c9e32e406989c7f69019c25b6d",
       "version_major": 2,
       "version_minor": 0
      },
      "text/plain": [
       "HBox(children=(IntProgress(value=0), HTML(value='')))"
      ]
     },
     "metadata": {},
     "output_type": "display_data"
    },
    {
     "data": {
      "application/vnd.jupyter.widget-view+json": {
       "model_id": "e7bfd1c903aa46ee877988b0056067eb",
       "version_major": 2,
       "version_minor": 0
      },
      "text/plain": [
       "HBox(children=(IntProgress(value=0), HTML(value='')))"
      ]
     },
     "metadata": {},
     "output_type": "display_data"
    },
    {
     "data": {
      "application/vnd.jupyter.widget-view+json": {
       "model_id": "5450cc61ec1041b2b0a25eb372b86fff",
       "version_major": 2,
       "version_minor": 0
      },
      "text/plain": [
       "HBox(children=(IntProgress(value=0), HTML(value='')))"
      ]
     },
     "metadata": {},
     "output_type": "display_data"
    },
    {
     "data": {
      "application/vnd.jupyter.widget-view+json": {
       "model_id": "48c93c8010c34b5fb2d771c7e356412e",
       "version_major": 2,
       "version_minor": 0
      },
      "text/plain": [
       "HBox(children=(IntProgress(value=0), HTML(value='')))"
      ]
     },
     "metadata": {},
     "output_type": "display_data"
    },
    {
     "data": {
      "application/vnd.jupyter.widget-view+json": {
       "model_id": "f24cc52281a448878f4a4ee6822c70cf",
       "version_major": 2,
       "version_minor": 0
      },
      "text/plain": [
       "HBox(children=(IntProgress(value=0), HTML(value='')))"
      ]
     },
     "metadata": {},
     "output_type": "display_data"
    },
    {
     "data": {
      "application/vnd.jupyter.widget-view+json": {
       "model_id": "510da8ea223e486cbbce955de9432de8",
       "version_major": 2,
       "version_minor": 0
      },
      "text/plain": [
       "HBox(children=(IntProgress(value=0), HTML(value='')))"
      ]
     },
     "metadata": {},
     "output_type": "display_data"
    },
    {
     "data": {
      "application/vnd.jupyter.widget-view+json": {
       "model_id": "e1831397300f4276aec7eb70354a42bc",
       "version_major": 2,
       "version_minor": 0
      },
      "text/plain": [
       "HBox(children=(IntProgress(value=0), HTML(value='')))"
      ]
     },
     "metadata": {},
     "output_type": "display_data"
    },
    {
     "data": {
      "application/vnd.jupyter.widget-view+json": {
       "model_id": "60b8f4148548465ebed690a72d84e0ce",
       "version_major": 2,
       "version_minor": 0
      },
      "text/plain": [
       "HBox(children=(IntProgress(value=0), HTML(value='')))"
      ]
     },
     "metadata": {},
     "output_type": "display_data"
    },
    {
     "data": {
      "application/vnd.jupyter.widget-view+json": {
       "model_id": "fbe7f35e858349d08ab1a7ce630790b6",
       "version_major": 2,
       "version_minor": 0
      },
      "text/plain": [
       "HBox(children=(IntProgress(value=0), HTML(value='')))"
      ]
     },
     "metadata": {},
     "output_type": "display_data"
    },
    {
     "data": {
      "application/vnd.jupyter.widget-view+json": {
       "model_id": "191e81b77cd44e98b73d24277aed6572",
       "version_major": 2,
       "version_minor": 0
      },
      "text/plain": [
       "HBox(children=(IntProgress(value=0), HTML(value='')))"
      ]
     },
     "metadata": {},
     "output_type": "display_data"
    },
    {
     "data": {
      "application/vnd.jupyter.widget-view+json": {
       "model_id": "4833b8f5e1194f5b9679dae154ba1812",
       "version_major": 2,
       "version_minor": 0
      },
      "text/plain": [
       "HBox(children=(IntProgress(value=0), HTML(value='')))"
      ]
     },
     "metadata": {},
     "output_type": "display_data"
    },
    {
     "data": {
      "application/vnd.jupyter.widget-view+json": {
       "model_id": "9a4848d7648b43ed95778167a40cbd5e",
       "version_major": 2,
       "version_minor": 0
      },
      "text/plain": [
       "HBox(children=(IntProgress(value=0), HTML(value='')))"
      ]
     },
     "metadata": {},
     "output_type": "display_data"
    },
    {
     "data": {
      "application/vnd.jupyter.widget-view+json": {
       "model_id": "3d7246e727be4b5eae66e6e6cb546c3f",
       "version_major": 2,
       "version_minor": 0
      },
      "text/plain": [
       "HBox(children=(IntProgress(value=0), HTML(value='')))"
      ]
     },
     "metadata": {},
     "output_type": "display_data"
    },
    {
     "data": {
      "application/vnd.jupyter.widget-view+json": {
       "model_id": "1e436c32916d4097a79e32730aa6756a",
       "version_major": 2,
       "version_minor": 0
      },
      "text/plain": [
       "HBox(children=(IntProgress(value=0), HTML(value='')))"
      ]
     },
     "metadata": {},
     "output_type": "display_data"
    },
    {
     "data": {
      "application/vnd.jupyter.widget-view+json": {
       "model_id": "a455ae4917d44cb9aa1886a8e1b5fd10",
       "version_major": 2,
       "version_minor": 0
      },
      "text/plain": [
       "HBox(children=(IntProgress(value=0), HTML(value='')))"
      ]
     },
     "metadata": {},
     "output_type": "display_data"
    },
    {
     "data": {
      "application/vnd.jupyter.widget-view+json": {
       "model_id": "8ca6cf59dc3447dcb4de7c964d877f35",
       "version_major": 2,
       "version_minor": 0
      },
      "text/plain": [
       "HBox(children=(IntProgress(value=0), HTML(value='')))"
      ]
     },
     "metadata": {},
     "output_type": "display_data"
    },
    {
     "data": {
      "application/vnd.jupyter.widget-view+json": {
       "model_id": "962b7edbc51542818fc2387141cb57fd",
       "version_major": 2,
       "version_minor": 0
      },
      "text/plain": [
       "HBox(children=(IntProgress(value=0), HTML(value='')))"
      ]
     },
     "metadata": {},
     "output_type": "display_data"
    },
    {
     "data": {
      "application/vnd.jupyter.widget-view+json": {
       "model_id": "79bbf964cd4d47ec9a41f37b204abee2",
       "version_major": 2,
       "version_minor": 0
      },
      "text/plain": [
       "HBox(children=(IntProgress(value=0), HTML(value='')))"
      ]
     },
     "metadata": {},
     "output_type": "display_data"
    },
    {
     "data": {
      "application/vnd.jupyter.widget-view+json": {
       "model_id": "16be85a9db5e4d8a9b3286e4cf35f022",
       "version_major": 2,
       "version_minor": 0
      },
      "text/plain": [
       "HBox(children=(IntProgress(value=0), HTML(value='')))"
      ]
     },
     "metadata": {},
     "output_type": "display_data"
    },
    {
     "data": {
      "application/vnd.jupyter.widget-view+json": {
       "model_id": "8fba128bf29746e69ed54277943a5954",
       "version_major": 2,
       "version_minor": 0
      },
      "text/plain": [
       "HBox(children=(IntProgress(value=0), HTML(value='')))"
      ]
     },
     "metadata": {},
     "output_type": "display_data"
    },
    {
     "data": {
      "application/vnd.jupyter.widget-view+json": {
       "model_id": "31dcf646b019472c80cbe84328fe9dd6",
       "version_major": 2,
       "version_minor": 0
      },
      "text/plain": [
       "HBox(children=(IntProgress(value=0), HTML(value='')))"
      ]
     },
     "metadata": {},
     "output_type": "display_data"
    },
    {
     "data": {
      "application/vnd.jupyter.widget-view+json": {
       "model_id": "1119c060c8df4eceb0f53eac4ed2615b",
       "version_major": 2,
       "version_minor": 0
      },
      "text/plain": [
       "HBox(children=(IntProgress(value=0), HTML(value='')))"
      ]
     },
     "metadata": {},
     "output_type": "display_data"
    },
    {
     "data": {
      "application/vnd.jupyter.widget-view+json": {
       "model_id": "fc7cf58f56754f63a50abd11d844a473",
       "version_major": 2,
       "version_minor": 0
      },
      "text/plain": [
       "HBox(children=(IntProgress(value=0), HTML(value='')))"
      ]
     },
     "metadata": {},
     "output_type": "display_data"
    },
    {
     "data": {
      "application/vnd.jupyter.widget-view+json": {
       "model_id": "c8143ee9422e4d5888f450de66c5046a",
       "version_major": 2,
       "version_minor": 0
      },
      "text/plain": [
       "HBox(children=(IntProgress(value=0), HTML(value='')))"
      ]
     },
     "metadata": {},
     "output_type": "display_data"
    },
    {
     "data": {
      "application/vnd.jupyter.widget-view+json": {
       "model_id": "8107550278714d629410004a86599883",
       "version_major": 2,
       "version_minor": 0
      },
      "text/plain": [
       "HBox(children=(IntProgress(value=0), HTML(value='')))"
      ]
     },
     "metadata": {},
     "output_type": "display_data"
    },
    {
     "data": {
      "application/vnd.jupyter.widget-view+json": {
       "model_id": "ac3277ee3b0341c9a873c4fd7dd1808b",
       "version_major": 2,
       "version_minor": 0
      },
      "text/plain": [
       "HBox(children=(IntProgress(value=0), HTML(value='')))"
      ]
     },
     "metadata": {},
     "output_type": "display_data"
    },
    {
     "data": {
      "application/vnd.jupyter.widget-view+json": {
       "model_id": "49d3a6f9826648878794a5ef92c11645",
       "version_major": 2,
       "version_minor": 0
      },
      "text/plain": [
       "HBox(children=(IntProgress(value=0), HTML(value='')))"
      ]
     },
     "metadata": {},
     "output_type": "display_data"
    },
    {
     "data": {
      "application/vnd.jupyter.widget-view+json": {
       "model_id": "28cb51071581441aae8bc69b8982491f",
       "version_major": 2,
       "version_minor": 0
      },
      "text/plain": [
       "HBox(children=(IntProgress(value=0), HTML(value='')))"
      ]
     },
     "metadata": {},
     "output_type": "display_data"
    },
    {
     "data": {
      "application/vnd.jupyter.widget-view+json": {
       "model_id": "e976ee9177274fa2b5b133c352aeee12",
       "version_major": 2,
       "version_minor": 0
      },
      "text/plain": [
       "HBox(children=(IntProgress(value=0), HTML(value='')))"
      ]
     },
     "metadata": {},
     "output_type": "display_data"
    },
    {
     "name": "stdout",
     "output_type": "stream",
     "text": [
      "Fails: 0\n"
     ]
    }
   ],
   "source": [
    "fl = gd(lr=0.1, epochs=500, steps_per_tour = 100, certain_tour=None)\n",
    "pd.DataFrame(question_difficulty, index=[0]).T.to_csv('qus_dif.csv')\n",
    "roster.to_csv('skills.csv')"
   ]
  },
  {
   "cell_type": "raw",
   "metadata": {},
   "source": [
    "results.loc[(results.idtournament==4497) & (results.idteam == 46655), 'mask'].str.len()"
   ]
  },
  {
   "cell_type": "markdown",
   "metadata": {},
   "source": [
    "## Total Loss"
   ]
  },
  {
   "cell_type": "code",
   "execution_count": 16,
   "metadata": {},
   "outputs": [
    {
     "data": {
      "text/html": [
       "<div>\n",
       "<style scoped>\n",
       "    .dataframe tbody tr th:only-of-type {\n",
       "        vertical-align: middle;\n",
       "    }\n",
       "\n",
       "    .dataframe tbody tr th {\n",
       "        vertical-align: top;\n",
       "    }\n",
       "\n",
       "    .dataframe thead th {\n",
       "        text-align: right;\n",
       "    }\n",
       "</style>\n",
       "<table border=\"1\" class=\"dataframe\">\n",
       "  <thead>\n",
       "    <tr style=\"text-align: right;\">\n",
       "      <th></th>\n",
       "      <th>idteam</th>\n",
       "      <th>current_name</th>\n",
       "      <th>base_name</th>\n",
       "      <th>position</th>\n",
       "      <th>questions_total</th>\n",
       "      <th>mask</th>\n",
       "      <th>bonus_a</th>\n",
       "      <th>bonus_b</th>\n",
       "      <th>tech_rating</th>\n",
       "      <th>predicted_position</th>\n",
       "      <th>d_bonus_a</th>\n",
       "      <th>d_bonus_b</th>\n",
       "      <th>d_diff_bonus</th>\n",
       "      <th>included_in_rating</th>\n",
       "      <th>idtournament</th>\n",
       "      <th>diff_bonus</th>\n",
       "    </tr>\n",
       "  </thead>\n",
       "  <tbody>\n",
       "    <tr>\n",
       "      <th>0</th>\n",
       "      <td>209</td>\n",
       "      <td>Команда Коваленко</td>\n",
       "      <td>Команда Коваленко</td>\n",
       "      <td>11.0</td>\n",
       "      <td>34</td>\n",
       "      <td>1111101000101111001100011000111101001111001110...</td>\n",
       "      <td>2230.0</td>\n",
       "      <td>-87.0</td>\n",
       "      <td>4509.0</td>\n",
       "      <td>7.0</td>\n",
       "      <td>2230</td>\n",
       "      <td>663</td>\n",
       "      <td>-87.0</td>\n",
       "      <td>1.0</td>\n",
       "      <td>3236</td>\n",
       "      <td>NaN</td>\n",
       "    </tr>\n",
       "    <tr>\n",
       "      <th>1</th>\n",
       "      <td>270</td>\n",
       "      <td>Синоп</td>\n",
       "      <td>Синоп</td>\n",
       "      <td>14.5</td>\n",
       "      <td>31</td>\n",
       "      <td>1110110000101100001100101101101101010011010000...</td>\n",
       "      <td>2189.0</td>\n",
       "      <td>119.0</td>\n",
       "      <td>2567.0</td>\n",
       "      <td>20.0</td>\n",
       "      <td>2189</td>\n",
       "      <td>618</td>\n",
       "      <td>119.0</td>\n",
       "      <td>1.0</td>\n",
       "      <td>3236</td>\n",
       "      <td>NaN</td>\n",
       "    </tr>\n",
       "  </tbody>\n",
       "</table>\n",
       "</div>"
      ],
      "text/plain": [
       "   idteam       current_name          base_name  position  questions_total  \\\n",
       "0     209  Команда Коваленко  Команда Коваленко      11.0               34   \n",
       "1     270              Синоп              Синоп      14.5               31   \n",
       "\n",
       "                                                mask  bonus_a  bonus_b  \\\n",
       "0  1111101000101111001100011000111101001111001110...   2230.0    -87.0   \n",
       "1  1110110000101100001100101101101101010011010000...   2189.0    119.0   \n",
       "\n",
       "   tech_rating  predicted_position  d_bonus_a  d_bonus_b  d_diff_bonus  \\\n",
       "0       4509.0                 7.0       2230        663         -87.0   \n",
       "1       2567.0                20.0       2189        618         119.0   \n",
       "\n",
       "   included_in_rating  idtournament  diff_bonus  \n",
       "0                 1.0          3236         NaN  \n",
       "1                 1.0          3236         NaN  "
      ]
     },
     "execution_count": 16,
     "metadata": {},
     "output_type": "execute_result"
    }
   ],
   "source": [
    "results.head(2)"
   ]
  },
  {
   "cell_type": "code",
   "execution_count": 29,
   "metadata": {},
   "outputs": [],
   "source": [
    "res = results.copy(deep=True)\n",
    "res = res.iloc[:1000]"
   ]
  },
  {
   "cell_type": "code",
   "execution_count": 18,
   "metadata": {},
   "outputs": [
    {
     "data": {
      "text/html": [
       "<div>\n",
       "<style scoped>\n",
       "    .dataframe tbody tr th:only-of-type {\n",
       "        vertical-align: middle;\n",
       "    }\n",
       "\n",
       "    .dataframe tbody tr th {\n",
       "        vertical-align: top;\n",
       "    }\n",
       "\n",
       "    .dataframe thead th {\n",
       "        text-align: right;\n",
       "    }\n",
       "</style>\n",
       "<table border=\"1\" class=\"dataframe\">\n",
       "  <thead>\n",
       "    <tr style=\"text-align: right;\">\n",
       "      <th></th>\n",
       "      <th>idplayer</th>\n",
       "      <th>is_captain</th>\n",
       "      <th>is_base</th>\n",
       "      <th>is_foreign</th>\n",
       "      <th>idteam</th>\n",
       "      <th>idtournament</th>\n",
       "      <th>skill</th>\n",
       "    </tr>\n",
       "  </thead>\n",
       "  <tbody>\n",
       "    <tr>\n",
       "      <th>0</th>\n",
       "      <td>19298</td>\n",
       "      <td>1</td>\n",
       "      <td>1</td>\n",
       "      <td>0</td>\n",
       "      <td>209</td>\n",
       "      <td>3236</td>\n",
       "      <td>-0.600313</td>\n",
       "    </tr>\n",
       "  </tbody>\n",
       "</table>\n",
       "</div>"
      ],
      "text/plain": [
       "   idplayer  is_captain  is_base  is_foreign  idteam  idtournament     skill\n",
       "0     19298           1        1           0     209          3236 -0.600313"
      ]
     },
     "execution_count": 18,
     "metadata": {},
     "output_type": "execute_result"
    }
   ],
   "source": [
    "roster.head(1)"
   ]
  },
  {
   "cell_type": "code",
   "execution_count": 30,
   "metadata": {},
   "outputs": [
    {
     "name": "stderr",
     "output_type": "stream",
     "text": [
      "\n",
      "  0%|                                                                                                                                                                | 0/1000 [00:00<?, ?it/s]\n",
      "  1%|█▋                                                                                                                                                    | 11/1000 [00:00<00:09, 101.87it/s]\n",
      "  2%|███▎                                                                                                                                                  | 22/1000 [00:00<00:09, 101.30it/s]\n",
      "  3%|████▊                                                                                                                                                 | 32/1000 [00:00<00:09, 100.60it/s]\n",
      "  4%|██████▎                                                                                                                                                | 42/1000 [00:00<00:09, 99.52it/s]\n",
      "  5%|███████▊                                                                                                                                               | 52/1000 [00:00<00:09, 98.78it/s]\n",
      "  6%|█████████▎                                                                                                                                             | 62/1000 [00:00<00:09, 98.27it/s]\n",
      "  7%|██████████▊                                                                                                                                            | 72/1000 [00:00<00:09, 97.91it/s]\n",
      "  8%|████████████▍                                                                                                                                          | 82/1000 [00:00<00:09, 97.95it/s]\n",
      "  9%|█████████████▉                                                                                                                                         | 92/1000 [00:00<00:09, 97.69it/s]\n",
      " 10%|███████████████▎                                                                                                                                      | 102/1000 [00:01<00:09, 97.79it/s]\n",
      " 11%|████████████████▊                                                                                                                                     | 112/1000 [00:01<00:09, 95.08it/s]\n",
      " 12%|██████████████████▎                                                                                                                                   | 122/1000 [00:01<00:09, 93.53it/s]\n",
      " 13%|███████████████████▊                                                                                                                                  | 132/1000 [00:01<00:09, 94.83it/s]\n",
      " 14%|█████████████████████▎                                                                                                                                | 142/1000 [00:01<00:09, 93.89it/s]\n",
      " 15%|██████████████████████▊                                                                                                                               | 152/1000 [00:01<00:08, 94.83it/s]\n",
      " 16%|████████████████████████▎                                                                                                                             | 162/1000 [00:01<00:08, 95.22it/s]\n",
      " 17%|█████████████████████████▊                                                                                                                            | 172/1000 [00:01<00:08, 96.05it/s]\n",
      " 18%|███████████████████████████▎                                                                                                                          | 182/1000 [00:01<00:08, 96.36it/s]\n",
      " 19%|████████████████████████████▊                                                                                                                         | 192/1000 [00:01<00:08, 96.58it/s]\n",
      " 20%|██████████████████████████████▎                                                                                                                       | 202/1000 [00:02<00:08, 97.01it/s]\n",
      " 21%|███████████████████████████████▊                                                                                                                      | 212/1000 [00:02<00:08, 97.04it/s]\n",
      " 22%|█████████████████████████████████▎                                                                                                                    | 222/1000 [00:02<00:07, 97.33it/s]\n",
      " 23%|██████████████████████████████████▊                                                                                                                   | 232/1000 [00:02<00:08, 93.44it/s]\n",
      " 24%|████████████████████████████████████▎                                                                                                                 | 242/1000 [00:02<00:08, 89.44it/s]\n",
      " 25%|█████████████████████████████████████▊                                                                                                                | 252/1000 [00:02<00:08, 87.28it/s]\n",
      " 26%|███████████████████████████████████████▏                                                                                                              | 261/1000 [00:02<00:08, 85.57it/s]\n",
      " 27%|████████████████████████████████████████▌                                                                                                             | 270/1000 [00:02<00:08, 83.47it/s]\n",
      " 28%|█████████████████████████████████████████▊                                                                                                            | 279/1000 [00:02<00:08, 83.20it/s]\n",
      " 29%|███████████████████████████████████████████▏                                                                                                          | 288/1000 [00:03<00:08, 84.41it/s]\n",
      " 30%|████████████████████████████████████████████▌                                                                                                         | 297/1000 [00:03<00:08, 85.52it/s]\n",
      " 31%|█████████████████████████████████████████████▉                                                                                                        | 306/1000 [00:03<00:08, 82.98it/s]\n",
      " 32%|███████████████████████████████████████████████▎                                                                                                      | 315/1000 [00:03<00:08, 82.86it/s]\n",
      " 32%|████████████████████████████████████████████████▌                                                                                                     | 324/1000 [00:03<00:08, 83.93it/s]\n",
      " 33%|██████████████████████████████████████████████████                                                                                                    | 334/1000 [00:03<00:07, 86.35it/s]\n",
      " 34%|███████████████████████████████████████████████████▌                                                                                                  | 344/1000 [00:03<00:07, 87.90it/s]\n",
      " 35%|████████████████████████████████████████████████████▉                                                                                                 | 353/1000 [00:03<00:07, 86.73it/s]\n",
      " 36%|██████████████████████████████████████████████████████▎                                                                                               | 362/1000 [00:03<00:07, 84.24it/s]\n",
      " 37%|███████████████████████████████████████████████████████▋                                                                                              | 371/1000 [00:04<00:07, 83.50it/s]\n",
      " 38%|█████████████████████████████████████████████████████████▏                                                                                            | 381/1000 [00:04<00:07, 85.81it/s]\n",
      " 39%|██████████████████████████████████████████████████████████▌                                                                                           | 390/1000 [00:04<00:07, 86.77it/s]\n",
      " 40%|███████████████████████████████████████████████████████████▊                                                                                          | 399/1000 [00:04<00:06, 86.46it/s]\n"
     ]
    },
    {
     "name": "stderr",
     "output_type": "stream",
     "text": [
      " 41%|█████████████████████████████████████████████████████████████▏                                                                                        | 408/1000 [00:04<00:07, 83.59it/s]\n",
      " 42%|██████████████████████████████████████████████████████████████▌                                                                                       | 417/1000 [00:04<00:07, 82.37it/s]\n",
      " 43%|███████████████████████████████████████████████████████████████▉                                                                                      | 426/1000 [00:04<00:07, 81.98it/s]\n",
      " 44%|█████████████████████████████████████████████████████████████████▎                                                                                    | 435/1000 [00:04<00:06, 80.83it/s]\n",
      " 44%|██████████████████████████████████████████████████████████████████▌                                                                                   | 444/1000 [00:04<00:06, 82.46it/s]\n",
      " 45%|████████████████████████████████████████████████████████████████████                                                                                  | 454/1000 [00:05<00:06, 85.04it/s]\n",
      " 46%|█████████████████████████████████████████████████████████████████████▌                                                                                | 464/1000 [00:05<00:06, 87.18it/s]\n",
      " 47%|██████████████████████████████████████████████████████████████████████▉                                                                               | 473/1000 [00:05<00:05, 88.00it/s]\n",
      " 48%|████████████████████████████████████████████████████████████████████████▍                                                                             | 483/1000 [00:05<00:05, 89.33it/s]\n",
      " 49%|█████████████████████████████████████████████████████████████████████████▉                                                                            | 493/1000 [00:05<00:05, 90.04it/s]\n",
      " 50%|███████████████████████████████████████████████████████████████████████████▍                                                                          | 503/1000 [00:05<00:05, 90.80it/s]\n",
      " 51%|█████████████████████████████████████████████████████████████████████████████                                                                         | 514/1000 [00:05<00:05, 94.09it/s]\n",
      " 52%|██████████████████████████████████████████████████████████████████████████████▌                                                                       | 524/1000 [00:05<00:04, 95.51it/s]\n",
      " 53%|████████████████████████████████████████████████████████████████████████████████                                                                      | 534/1000 [00:05<00:04, 96.81it/s]\n",
      " 55%|█████████████████████████████████████████████████████████████████████████████████▊                                                                    | 545/1000 [00:06<00:04, 98.28it/s]\n",
      " 56%|███████████████████████████████████████████████████████████████████████████████████▍                                                                  | 556/1000 [00:06<00:04, 99.32it/s]\n",
      " 57%|████████████████████████████████████████████████████████████████████████████████████▉                                                                 | 566/1000 [00:06<00:04, 98.35it/s]\n",
      " 58%|██████████████████████████████████████████████████████████████████████████████████████▍                                                               | 576/1000 [00:06<00:04, 97.12it/s]\n",
      " 59%|███████████████████████████████████████████████████████████████████████████████████████▉                                                              | 586/1000 [00:06<00:04, 90.51it/s]\n",
      " 60%|█████████████████████████████████████████████████████████████████████████████████████████▍                                                            | 596/1000 [00:06<00:04, 88.47it/s]\n",
      " 60%|██████████████████████████████████████████████████████████████████████████████████████████▊                                                           | 605/1000 [00:06<00:04, 88.40it/s]\n",
      " 61%|████████████████████████████████████████████████████████████████████████████████████████████                                                          | 614/1000 [00:06<00:04, 87.07it/s]\n",
      " 62%|█████████████████████████████████████████████████████████████████████████████████████████████▌                                                        | 624/1000 [00:06<00:04, 90.09it/s]\n",
      " 63%|███████████████████████████████████████████████████████████████████████████████████████████████                                                       | 634/1000 [00:06<00:03, 92.34it/s]\n",
      " 64%|████████████████████████████████████████████████████████████████████████████████████████████████▌                                                     | 644/1000 [00:07<00:03, 90.17it/s]\n",
      " 65%|██████████████████████████████████████████████████████████████████████████████████████████████████                                                    | 654/1000 [00:07<00:03, 88.70it/s]\n",
      " 66%|███████████████████████████████████████████████████████████████████████████████████████████████████▍                                                  | 663/1000 [00:07<00:03, 87.28it/s]\n",
      " 67%|████████████████████████████████████████████████████████████████████████████████████████████████████▉                                                 | 673/1000 [00:07<00:03, 89.28it/s]\n",
      " 68%|██████████████████████████████████████████████████████████████████████████████████████████████████████▍                                               | 683/1000 [00:07<00:03, 91.99it/s]\n",
      " 69%|███████████████████████████████████████████████████████████████████████████████████████████████████████▉                                              | 693/1000 [00:07<00:03, 93.20it/s]\n",
      " 70%|█████████████████████████████████████████████████████████████████████████████████████████████████████████▍                                            | 703/1000 [00:07<00:03, 94.60it/s]\n",
      " 71%|██████████████████████████████████████████████████████████████████████████████████████████████████████████▉                                           | 713/1000 [00:07<00:03, 95.34it/s]\n",
      " 72%|████████████████████████████████████████████████████████████████████████████████████████████████████████████▍                                         | 723/1000 [00:07<00:02, 95.31it/s]\n",
      " 73%|█████████████████████████████████████████████████████████████████████████████████████████████████████████████▉                                        | 733/1000 [00:08<00:02, 94.21it/s]\n",
      " 74%|███████████████████████████████████████████████████████████████████████████████████████████████████████████████▍                                      | 743/1000 [00:08<00:02, 92.16it/s]\n",
      " 75%|████████████████████████████████████████████████████████████████████████████████████████████████████████████████▉                                     | 753/1000 [00:08<00:02, 90.29it/s]\n",
      " 76%|██████████████████████████████████████████████████████████████████████████████████████████████████████████████████▍                                   | 763/1000 [00:08<00:02, 89.99it/s]\n",
      " 77%|███████████████████████████████████████████████████████████████████████████████████████████████████████████████████▉                                  | 773/1000 [00:08<00:02, 88.12it/s]\n",
      " 78%|█████████████████████████████████████████████████████████████████████████████████████████████████████████████████████▎                                | 782/1000 [00:08<00:02, 87.13it/s]\n",
      " 79%|██████████████████████████████████████████████████████████████████████████████████████████████████████████████████████▊                               | 792/1000 [00:08<00:02, 89.17it/s]\n",
      " 80%|████████████████████████████████████████████████████████████████████████████████████████████████████████████████████████▏                             | 801/1000 [00:08<00:02, 88.62it/s]\n",
      " 81%|█████████████████████████████████████████████████████████████████████████████████████████████████████████████████████████▌                            | 810/1000 [00:08<00:02, 87.23it/s]\n"
     ]
    },
    {
     "name": "stderr",
     "output_type": "stream",
     "text": [
      " 82%|██████████████████████████████████████████████████████████████████████████████████████████████████████████████████████████▊                           | 819/1000 [00:09<00:02, 87.01it/s]\n",
      " 83%|████████████████████████████████████████████████████████████████████████████████████████████████████████████████████████████▎                         | 829/1000 [00:09<00:01, 87.46it/s]\n",
      " 84%|█████████████████████████████████████████████████████████████████████████████████████████████████████████████████████████████▋                        | 838/1000 [00:09<00:01, 86.68it/s]\n",
      " 85%|███████████████████████████████████████████████████████████████████████████████████████████████████████████████████████████████                       | 847/1000 [00:09<00:01, 87.14it/s]\n",
      " 86%|████████████████████████████████████████████████████████████████████████████████████████████████████████████████████████████████▌                     | 857/1000 [00:09<00:01, 88.94it/s]\n",
      " 87%|█████████████████████████████████████████████████████████████████████████████████████████████████████████████████████████████████▉                    | 866/1000 [00:09<00:01, 88.99it/s]\n",
      " 88%|███████████████████████████████████████████████████████████████████████████████████████████████████████████████████████████████████▎                  | 875/1000 [00:09<00:01, 89.02it/s]\n",
      " 88%|████████████████████████████████████████████████████████████████████████████████████████████████████████████████████████████████████▊                 | 885/1000 [00:09<00:01, 91.30it/s]\n",
      " 90%|██████████████████████████████████████████████████████████████████████████████████████████████████████████████████████████████████████▍               | 896/1000 [00:09<00:01, 93.99it/s]\n",
      " 91%|████████████████████████████████████████████████████████████████████████████████████████████████████████████████████████████████████████              | 907/1000 [00:09<00:00, 95.97it/s]\n",
      " 92%|█████████████████████████████████████████████████████████████████████████████████████████████████████████████████████████████████████████▌            | 917/1000 [00:10<00:00, 94.13it/s]\n",
      " 93%|███████████████████████████████████████████████████████████████████████████████████████████████████████████████████████████████████████████           | 927/1000 [00:10<00:00, 93.40it/s]\n",
      " 94%|████████████████████████████████████████████████████████████████████████████████████████████████████████████████████████████████████████████▌         | 937/1000 [00:10<00:00, 92.64it/s]\n",
      " 95%|██████████████████████████████████████████████████████████████████████████████████████████████████████████████████████████████████████████████        | 947/1000 [00:10<00:00, 92.37it/s]\n",
      " 96%|███████████████████████████████████████████████████████████████████████████████████████████████████████████████████████████████████████████████▌      | 957/1000 [00:10<00:00, 92.69it/s]\n",
      " 97%|█████████████████████████████████████████████████████████████████████████████████████████████████████████████████████████████████████████████████     | 967/1000 [00:10<00:00, 92.15it/s]\n",
      " 98%|██████████████████████████████████████████████████████████████████████████████████████████████████████████████████████████████████████████████████▌   | 977/1000 [00:10<00:00, 91.02it/s]\n",
      " 99%|████████████████████████████████████████████████████████████████████████████████████████████████████████████████████████████████████████████████████  | 987/1000 [00:10<00:00, 91.49it/s]\n",
      "100%|█████████████████████████████████████████████████████████████████████████████████████████████████████████████████████████████████████████████████████▌| 997/1000 [00:10<00:00, 91.31it/s]\n",
      "100%|█████████████████████████████████████████████████████████████████████████████████████████████████████████████████████████████████████████████████████| 1000/1000 [00:11<00:00, 90.67it/s]"
     ]
    }
   ],
   "source": [
    "# res.loc[:, 't_skill'] = \n",
    "# res.loc[:, 't_skill']\n",
    "# res.loc[:, 't_skill'].apply(lambda x: )\n",
    "\n",
    "res.loc[:, 't_skill'] = res.progress_apply(lambda row: roster.loc[(roster.idteam == row['idteam']) & \n",
    "                                 (roster.idtournament == row['idtournament']), 'skill'].sum(), axis=1)"
   ]
  },
  {
   "cell_type": "code",
   "execution_count": 33,
   "metadata": {},
   "outputs": [
    {
     "data": {
      "text/plain": [
       "{'2_0': 1.4901700017603288,\n",
       " '2_1': 0.383639555706725,\n",
       " '2_2': 0.22276746410583295,\n",
       " '2_3': 0.9087809504371764,\n",
       " '2_4': 1.4361031167883578,\n",
       " '2_5': 1.3412277349691264,\n",
       " '2_6': 0.9305425837032798,\n",
       " '2_7': 1.0896437968619572,\n",
       " '2_8': 0.8415313207966179,\n",
       " '2_9': 1.323303574177055,\n",
       " '2_10': 0.6182058740326459,\n",
       " '2_11': 0.9617339911888964,\n",
       " '2_12': 1.1244069982938023,\n",
       " '2_13': 1.0614127606508237,\n",
       " '2_14': 0.8697426681444864,\n",
       " '3_0': 0.1419957878021869,\n",
       " '3_1': 0.1430597719381509,\n",
       " '3_2': 0.009674613043364144,\n",
       " '3_3': 0.5461078306959808,\n",
       " '3_4': 0.9667904668088679,\n",
       " '3_5': 0.4550745815802663,\n",
       " '3_6': 0.6591320607366308,\n",
       " '3_7': 0.7302398412541337,\n",
       " '3_8': 0.06695010030006665,\n",
       " '3_9': 0.7494145362893171,\n",
       " '3_10': 0.8469071825473344,\n",
       " '3_11': 0.022034374165478376,\n",
       " '3_12': 0.971900215887067,\n",
       " '3_13': 0.012029307182046313,\n",
       " '3_14': 0.4092547150617944,\n",
       " '6_0': 0.9537505378482204,\n",
       " '6_1': 0.7491330707433701,\n",
       " '6_2': 0.9198237508318076,\n",
       " '6_3': 0.4225947066317307,\n",
       " '6_4': 0.5522679314755586,\n",
       " '6_5': 0.9117495773245662,\n",
       " '6_6': 0.09538441614725557,\n",
       " '6_7': 0.13824247807159884,\n",
       " '6_8': 0.3669904165838497,\n",
       " '6_9': 0.6790705333119653,\n",
       " '6_10': 0.7220844923138171,\n",
       " '6_11': 0.4229531982130942,\n",
       " '6_12': 0.15051662827939827,\n",
       " '6_13': 0.8430201789179304,\n",
       " '6_14': 0.3792243697384805,\n",
       " '8_0': 0.7150082805519908,\n",
       " '8_1': 0.9804550970371184,\n",
       " '8_2': 1.1239776437419478,\n",
       " '8_3': 1.0057886837135237,\n",
       " '8_4': 1.3411758220557606,\n",
       " '8_5': 1.0650815145554535,\n",
       " '8_6': 0.91660402237576,\n",
       " '8_7': 1.2711043567188032,\n",
       " '8_8': 1.110865730383038,\n",
       " '8_9': 0.7356258956840807,\n",
       " '8_10': 1.2966808054406465,\n",
       " '8_11': 1.5921358002528598,\n",
       " '8_12': 1.2946671638199392,\n",
       " '8_13': 1.107286573268665,\n",
       " '8_14': 0.8417176028710023,\n",
       " '9_0': 0.9851832098577864,\n",
       " '9_1': 0.5405045614641262,\n",
       " '9_2': 0.5427200052922222,\n",
       " '9_3': 0.6486398972393264,\n",
       " '9_4': 0.9843229244398604,\n",
       " '9_5': 1.0867524687008578,\n",
       " '9_6': 1.0180462134331714,\n",
       " '9_7': 0.8623324488747107,\n",
       " '9_8': 0.4086069432102082,\n",
       " '9_9': 1.1745739411860965,\n",
       " '9_10': 0.288847459056685,\n",
       " '9_11': 0.9397813291918184,\n",
       " '9_12': 0.2893959961466496,\n",
       " '9_13': 0.6286449001536134,\n",
       " '9_14': 0.4237377674325532,\n",
       " '11_0': 0.2792852099411832,\n",
       " '11_1': 0.8835339364976253,\n",
       " '11_2': 0.18958130475878232,\n",
       " '11_3': 0.8111644060363616,\n",
       " '11_4': 0.2701587377040108,\n",
       " '11_5': 0.7451227552529464,\n",
       " '11_6': 0.6157883324094596,\n",
       " '11_7': 0.04323473129591249,\n",
       " '11_8': 0.8219203807305691,\n",
       " '11_9': 0.5234749550195084,\n",
       " '11_10': 0.3914093688373856,\n",
       " '11_11': 0.09941556771943848,\n",
       " '11_12': 0.6756112178712984,\n",
       " '11_13': 0.8987520439804509,\n",
       " '11_14': 0.7128599616215259,\n",
       " '12_0': 0.3625943631463443,\n",
       " '12_1': 0.19837634984154,\n",
       " '12_2': 0.3133974904694952,\n",
       " '12_3': 0.1265069645170762,\n",
       " '12_4': 0.5930182915628349,\n",
       " '12_5': 0.7870046334873121,\n",
       " '12_6': 0.4358046239849476,\n",
       " '12_7': 0.6701756499281344,\n",
       " '12_8': 0.8206139753644667,\n",
       " '12_9': 0.3485574570583612,\n",
       " '12_10': 0.4904095427010692,\n",
       " '12_11': 0.07406770369501547,\n",
       " '12_12': 0.00029439523931806816,\n",
       " '12_13': 0.7402150345284385,\n",
       " '12_14': 0.5237616559016325,\n",
       " '15_0': 1.1498675292865044,\n",
       " '15_1': 1.5424842826316332,\n",
       " '15_2': 1.3134569693460931,\n",
       " '15_3': 1.1400085535120386,\n",
       " '15_4': 1.4288165399328887,\n",
       " '15_5': 1.4092691218432571,\n",
       " '15_6': 1.3846721936188842,\n",
       " '15_7': 1.5965133291993958,\n",
       " '15_8': 1.323057713288074,\n",
       " '15_9': 0.8715649977480435,\n",
       " '15_10': 1.087066836945513,\n",
       " '15_11': 1.1766194588101175,\n",
       " '15_12': 1.2229655914190547,\n",
       " '15_13': 1.4778247575097108,\n",
       " '15_14': 1.0898154743330992,\n",
       " '16_0': 1.0048668831560448,\n",
       " '16_1': 0.6897440691610126,\n",
       " '16_2': 0.9205666578124568,\n",
       " '16_3': 1.0626999481539663,\n",
       " '16_4': 0.4565583267767729,\n",
       " '16_5': 1.1606339259269134,\n",
       " '16_6': 0.5268802365819987,\n",
       " '16_7': 0.8726628666337696,\n",
       " '16_8': 0.57552432535476,\n",
       " '16_9': 1.3550267596579268,\n",
       " '16_10': 1.1633230079603152,\n",
       " '16_11': 0.8958269482360016,\n",
       " '16_12': 1.0994591463404555,\n",
       " '16_13': 1.4921733618551392,\n",
       " '16_14': 0.9000622532535761,\n",
       " '22_0': 0.4054816929379668,\n",
       " '22_1': 0.8942938233812268,\n",
       " '22_2': 0.5517367555821113,\n",
       " '22_3': 0.8276552218645373,\n",
       " '22_4': 0.921052689480076,\n",
       " '22_5': 0.9093993806404698,\n",
       " '22_6': 0.8429400474391313,\n",
       " '22_7': 0.8005446059905521,\n",
       " '22_8': 0.7527295194440391,\n",
       " '22_9': 0.007263323430180545,\n",
       " '22_10': 0.8948330207241328,\n",
       " '22_11': 0.3576941419341234,\n",
       " '22_12': 0.2615970631084875,\n",
       " '22_13': 0.28424851702206755,\n",
       " '22_14': 0.9393284786514488,\n",
       " '22_15': 0.7873102916200112,\n",
       " '22_16': 0.2567752997122963,\n",
       " '22_17': 0.8999798871937437,\n",
       " '22_18': 0.032533214546445643,\n",
       " '22_19': 0.8175027239944397,\n",
       " '22_20': 0.8582302845916682,\n",
       " '22_21': 0.9578774842543104,\n",
       " '22_22': 0.4777291143595146,\n",
       " '22_23': 0.9422392870053238,\n",
       " '22_24': 0.7224444991586716,\n",
       " '22_25': 0.4222851348825247,\n",
       " '22_26': 0.1602467284063529,\n",
       " '22_27': 0.7472195420566968,\n",
       " '22_28': 0.6967659312193044,\n",
       " '22_29': 0.02777078161110436,\n",
       " '22_30': 0.6586580672384839,\n",
       " '22_31': 0.7437776600227783,\n",
       " '22_32': 0.9266796432172348,\n",
       " '22_33': 0.4041872409353029,\n",
       " '22_34': 0.2488331868874928,\n",
       " '22_35': 0.4627916825309994,\n",
       " '22_36': 0.8982791543866019,\n",
       " '22_37': 0.8268888762611453,\n",
       " '22_38': 0.7003324473324649,\n",
       " '22_39': 0.11535394575200465,\n",
       " '22_40': 0.8869272139930721,\n",
       " '22_41': 0.17362124888771602,\n",
       " '22_42': 0.4535090771157277,\n",
       " '22_43': 0.03865577504668893,\n",
       " '22_44': 0.8608239415097848,\n",
       " '22_45': 0.9553499173053124,\n",
       " '22_46': 0.4428687618203385,\n",
       " '22_47': 0.6679363952669,\n",
       " '22_48': 0.25483803859047405,\n",
       " '22_49': 0.7961489822456809,\n",
       " '22_50': 0.23092687218110786,\n",
       " '22_51': 0.24705342102649294,\n",
       " '22_52': 0.039168564991715504,\n",
       " '22_53': 0.4786010143427885,\n",
       " '22_54': 0.5223227434073223,\n",
       " '22_55': 0.10255978217204098,\n",
       " '22_56': 0.4404100237543492,\n",
       " '22_57': 0.8881904259992379,\n",
       " '22_58': 0.9884106465100734,\n",
       " '22_59': 0.6981388119431512,\n",
       " '22_60': 0.7214281741027747,\n",
       " '22_61': 0.5006120143749636,\n",
       " '22_62': 0.694728404734834,\n",
       " '22_63': 0.4034720836514904,\n",
       " '22_64': 0.8991317935141204,\n",
       " '22_65': 0.8401815051905955,\n",
       " '22_66': 0.051867026614090816,\n",
       " '22_67': 0.872284070517118,\n",
       " '22_68': 0.4270271469994752,\n",
       " '22_69': 0.8794937658915374,\n",
       " '22_70': 0.9102280228275264,\n",
       " '22_71': 0.4040041001775704,\n",
       " '22_72': 0.3429066979895261,\n",
       " '22_73': 0.8332378968296924,\n",
       " '22_74': 0.3283349464523965,\n",
       " '22_75': 0.10333986446282506,\n",
       " '22_76': 0.878786388373973,\n",
       " '22_77': 0.32985576625632074,\n",
       " '22_78': 0.20069405082863434,\n",
       " '22_79': 0.3931337758077851,\n",
       " '22_80': 0.7189549787625094,\n",
       " '22_81': 0.5350429119973009,\n",
       " '22_82': 0.3997723614069427,\n",
       " '22_83': 0.5099319652127197,\n",
       " '22_84': 0.8527538692287053,\n",
       " '22_85': 0.2244493515578765,\n",
       " '22_86': 0.4540358593690056,\n",
       " '22_87': 0.021005290868106208,\n",
       " '22_88': 0.14808900804088898,\n",
       " '22_89': 0.26676225657633656,\n",
       " '25_0': 0.7307818626624436,\n",
       " '25_1': 0.6381034800970821,\n",
       " '25_2': 0.6699117228580884,\n",
       " '25_3': 0.8591522201551695,\n",
       " '25_4': 0.5691461613266977,\n",
       " '25_5': 0.007789819066702951,\n",
       " '25_6': 0.035235490903785534,\n",
       " '25_7': 0.22484117680405305,\n",
       " '25_8': 0.5866606462603573,\n",
       " '25_9': 0.4863350941788218,\n",
       " '25_10': 0.18487020047597305,\n",
       " '25_11': 0.8826846617868317,\n",
       " '25_12': 0.15856421626188455,\n",
       " '25_13': 0.3395507340309405,\n",
       " '25_14': 0.41894925333997496,\n",
       " '26_0': 0.18734327807846096,\n",
       " '26_1': 0.5323706709371077,\n",
       " '26_2': 0.5527541045383659,\n",
       " '26_3': 0.22387279393149995,\n",
       " '26_4': 0.476624816695649,\n",
       " '26_5': 0.963847045845898,\n",
       " '26_6': 0.06382773004561715,\n",
       " '26_7': 0.3450848390556511,\n",
       " '26_8': 0.9894906134960244,\n",
       " '26_9': 0.5238303961660379,\n",
       " '26_10': 0.8610923853255135,\n",
       " '26_11': 0.5430527378713154,\n",
       " '26_12': 0.25854702865372514,\n",
       " '26_13': 0.21658620021809527,\n",
       " '26_14': 0.8590146949076999,\n",
       " '30_0': 0.5084318717894412,\n",
       " '30_1': 0.21274804423876487,\n",
       " '30_2': 1.0650504710012645,\n",
       " '30_3': 0.5794505174003886,\n",
       " '30_4': 0.8910972981276841,\n",
       " '30_5': 0.6132331257396444,\n",
       " '30_6': 1.0009526466807015,\n",
       " '30_7': 0.5207402901584786,\n",
       " '30_8': 0.3792102016290608,\n",
       " '30_9': 0.8260034522918162,\n",
       " '30_10': 0.6980275858432918,\n",
       " '30_11': 1.081125684947989,\n",
       " '30_12': 0.7136469666387779,\n",
       " '30_13': 0.8494261378545754,\n",
       " '30_14': 0.8897720964397738,\n",
       " '38_0': 0.4917643561731538,\n",
       " '38_1': 0.9570000261846372,\n",
       " '38_2': 1.0419588450400945,\n",
       " '38_3': 0.243546312590655,\n",
       " '38_4': 0.9789214036145548,\n",
       " '38_5': 0.7879231937018983,\n",
       " '38_6': 0.9080797523057288,\n",
       " '38_7': 0.99479520347134,\n",
       " '38_8': 0.7408489711649732,\n",
       " '38_9': 0.5428005745709396,\n",
       " '38_10': 0.7325964789855807,\n",
       " '38_11': 1.1382865822296355,\n",
       " '38_12': 0.582186359325134,\n",
       " '38_13': 0.6794923760099657,\n",
       " '38_14': 0.8778081486712744,\n",
       " '41_0': 0.8109751099923257,\n",
       " '41_1': 1.017998337352261,\n",
       " '41_2': 0.6978767551543421,\n",
       " '41_3': 1.2684574758357874,\n",
       " '41_4': 0.7752765232004025,\n",
       " '41_5': 0.5179054856826902,\n",
       " '41_6': 0.9157865279383504,\n",
       " '41_7': 0.7560507500505316,\n",
       " '41_8': 0.4982664847007471,\n",
       " '41_9': 0.6786199058674873,\n",
       " '41_10': 1.2006852962860266,\n",
       " '41_11': 0.8113604518677728,\n",
       " '41_12': 1.3306952377761263,\n",
       " '41_13': 0.7625577698073349,\n",
       " '41_14': 0.6128090898640949,\n",
       " '45_0': 2.5982065408354234,\n",
       " '45_1': 2.513167625243352,\n",
       " '45_2': 2.885832068910104,\n",
       " '45_3': 2.445275839547561,\n",
       " '45_4': 2.6257993137160183,\n",
       " '45_5': 2.6969746371816554,\n",
       " '45_6': 2.540381273905448,\n",
       " '45_7': 2.8031731729508325,\n",
       " '45_8': 2.554109647128464,\n",
       " '45_9': 2.601365980850118,\n",
       " '45_10': 2.4600151322319967,\n",
       " '45_11': 2.3994489971350306,\n",
       " '45_12': 2.592251102674749,\n",
       " '45_13': 2.600157098602567,\n",
       " '45_14': 2.3422799513918577,\n",
       " '48_0': 0.9848527673681834,\n",
       " '48_1': 0.7145112597729232,\n",
       " '48_2': 0.2173155904046753,\n",
       " '48_3': 0.4266806539686069,\n",
       " '48_4': 0.09369849810267106,\n",
       " '48_5': 0.6500119530059703,\n",
       " '48_6': 0.9716021863154038,\n",
       " '48_7': 0.05325994801754175,\n",
       " '48_8': 0.30527711346068503,\n",
       " '48_9': 0.04639466288897332,\n",
       " '48_10': 0.7861152193250712,\n",
       " '48_11': 0.6727551052955321,\n",
       " '48_12': 0.8197356891312121,\n",
       " '48_13': 0.26482743694405186,\n",
       " '48_14': 0.6259824998584367,\n",
       " '49_0': 0.6300954058789597,\n",
       " '49_1': 0.5053130037021528,\n",
       " '49_2': 0.3372206612208092,\n",
       " '49_3': 0.5846321713231352,\n",
       " '49_4': 0.47363465310690395,\n",
       " '49_5': 0.3707749471543879,\n",
       " '49_6': 0.8194286665483931,\n",
       " '49_7': 0.4372634814283972,\n",
       " '49_8': 0.9658779352550844,\n",
       " '49_9': 0.8608445927964714,\n",
       " '49_10': 0.9912074111803006,\n",
       " '49_11': 0.3450306787769165,\n",
       " '49_12': 0.9616615068489691,\n",
       " '49_13': 0.9806461090891876,\n",
       " '49_14': 0.4573858657440997,\n",
       " '54_0': 1.594033739319889,\n",
       " '54_1': 0.8937824295854919,\n",
       " '54_2': 0.9157151467907578,\n",
       " '54_3': 0.961603818678944,\n",
       " '54_4': 1.2583829344554889,\n",
       " '54_5': 1.31215079896134,\n",
       " '54_6': 1.0067602294880098,\n",
       " '54_7': 0.6110486230996842,\n",
       " '54_8': 0.9791791013641136,\n",
       " '54_9': 1.3768404941692085,\n",
       " '54_10': 0.8896597476670063,\n",
       " '54_11': 1.3420429484435,\n",
       " '54_12': 1.147876883547896,\n",
       " '54_13': 0.9601842121636076,\n",
       " '54_14': 0.7083484679610835,\n",
       " '57_0': 0.8793210299186454,\n",
       " '57_1': 1.135548735823405,\n",
       " '57_2': 0.8089662654389713,\n",
       " '57_3': 0.9310459881411746,\n",
       " '57_4': 1.010382973461153,\n",
       " '57_5': 1.086832885383081,\n",
       " '57_6': 1.1072142426266975,\n",
       " '57_7': 0.8282624093510303,\n",
       " '57_8': 1.1289141707181272,\n",
       " '57_9': 1.2062306740854176,\n",
       " '57_10': 1.1499868468056398,\n",
       " '57_11': 0.6453574521210511,\n",
       " '57_12': 0.4802084170535339,\n",
       " '57_13': 1.2486719096625505,\n",
       " '57_14': 0.8558890630119789,\n",
       " '62_0': 1.1513475468794336,\n",
       " '62_1': 1.6777383031479174,\n",
       " '62_2': 2.167270173068992,\n",
       " '62_3': 1.424042819921116,\n",
       " '62_4': 0.9070789612578442,\n",
       " '62_5': 1.221799167885043,\n",
       " '62_6': 1.6538857806701122,\n",
       " '62_7': 1.3378130827399528,\n",
       " '62_8': 1.3567427665429057,\n",
       " '62_9': 1.9871845147644418,\n",
       " '62_10': 1.969337593541935,\n",
       " '62_11': 1.7891281764886888,\n",
       " '62_12': 1.6210174717445571,\n",
       " '62_13': 1.5768636053175102,\n",
       " '62_14': 1.0428720893776,\n",
       " '63_0': 1.7209992080090568,\n",
       " '63_1': 0.3777962775267727,\n",
       " '63_2': 1.392861781443077,\n",
       " '63_3': 0.41776867901641496,\n",
       " '63_4': 1.1862967351564475,\n",
       " '63_5': 0.8569355449166851,\n",
       " '63_6': 0.9070732817703382,\n",
       " '63_7': 0.2524918457894494,\n",
       " '63_8': 0.2973801935898125,\n",
       " '63_9': 0.5740768927566846,\n",
       " '63_10': 0.8598738433267832,\n",
       " '63_11': 0.9873228482937698,\n",
       " '63_12': 1.0010797589055782,\n",
       " '63_13': 0.9922629212543912,\n",
       " '63_14': 1.2915075483221494,\n",
       " '66_0': 0.9125247238401321,\n",
       " '66_1': 1.2364619505018382,\n",
       " '66_2': 1.4487433327707808,\n",
       " '66_3': 1.0906063949259486,\n",
       " '66_4': 1.1424672133657956,\n",
       " '66_5': 0.7074076300009228,\n",
       " '66_6': 1.3687373248791888,\n",
       " '66_7': 1.3389784351538037,\n",
       " '66_8': 0.9970881716579566,\n",
       " '66_9': 1.295094345630828,\n",
       " '66_10': 1.3564893190834546,\n",
       " '66_11': 1.2111807011588154,\n",
       " '66_12': 1.4397511947392465,\n",
       " '66_13': 1.287029511687675,\n",
       " '66_14': 0.7243148559195761,\n",
       " '67_0': 0.3170906320313187,\n",
       " '67_1': 0.7380102968482981,\n",
       " '67_2': 0.7734070601664803,\n",
       " '67_3': 1.2051120413879102,\n",
       " '67_4': 1.1985801337468305,\n",
       " '67_5': 0.4121751755301579,\n",
       " '67_6': 1.0928538989943792,\n",
       " '67_7': 0.7199513149401173,\n",
       " '67_8': 0.594512572336761,\n",
       " '67_9': 0.8143724179706193,\n",
       " '67_10': 1.0026004167346374,\n",
       " '67_11': 1.1669614905027976,\n",
       " '67_12': 1.0199702714060608,\n",
       " '67_13': 1.0598300195759158,\n",
       " '67_14': 0.7985315899657905,\n",
       " '70_0': 0.5186789524279272,\n",
       " '70_1': 0.9746316697360424,\n",
       " '70_2': 0.2715505613373567,\n",
       " '70_3': 0.22215382098729874,\n",
       " '70_4': 0.3737148363685365,\n",
       " '70_5': 0.7633721611828372,\n",
       " '70_6': 0.007271429517612615,\n",
       " '70_7': 0.6314097738553237,\n",
       " '70_8': 0.4027386083598025,\n",
       " '70_9': 0.6936481413967301,\n",
       " '70_10': 0.6186950291467123,\n",
       " '70_11': 0.030244788239123355,\n",
       " '70_12': 0.39720372833282597,\n",
       " '70_13': 0.6774889384442819,\n",
       " '70_14': 0.8591697456798272,\n",
       " '76_0': 0.005405685756934564,\n",
       " '76_1': 0.097703857474278,\n",
       " '76_2': 0.6612110705919806,\n",
       " '76_3': 0.7405709922161413,\n",
       " '76_4': 0.5518011088749033,\n",
       " '76_5': 0.21406078634350698,\n",
       " '76_6': 0.6558330606721784,\n",
       " '76_7': 0.25463112006202737,\n",
       " '76_8': 0.2455683035023909,\n",
       " '76_9': 0.5925749165985719,\n",
       " '76_10': 0.6621816329869628,\n",
       " '76_11': 0.7032550552247401,\n",
       " '76_12': 0.2293847594461641,\n",
       " '76_13': 0.3202396102785643,\n",
       " '76_14': 0.9737078322296262,\n",
       " '76_15': 0.5282029704556441,\n",
       " '76_16': 0.09776963287692064,\n",
       " '76_17': 0.02202638817564173,\n",
       " '76_18': 0.19120714233207947,\n",
       " '76_19': 0.3166513783953355,\n",
       " '76_20': 0.1590083322761756,\n",
       " '76_21': 0.34939293670272065,\n",
       " '76_22': 0.7853621488800087,\n",
       " '76_23': 0.19730235514943184,\n",
       " '76_24': 0.4636523041000765,\n",
       " '76_25': 0.054830978145084634,\n",
       " '76_26': 0.5151799748208079,\n",
       " '76_27': 0.6911440826543923,\n",
       " '76_28': 0.3148889503416602,\n",
       " '76_29': 0.3975886762907552,\n",
       " '76_30': 0.4818132260827007,\n",
       " '76_31': 0.3322325784520593,\n",
       " '76_32': 0.6395033004360918,\n",
       " '76_33': 0.91039793355178,\n",
       " '76_34': 0.5187533801693954,\n",
       " '76_35': 0.6468140986025362,\n",
       " '76_36': 0.7266947275362394,\n",
       " '76_37': 0.7187269773664309,\n",
       " '76_38': 0.5722829150016102,\n",
       " '76_39': 0.4044664282116127,\n",
       " '76_40': 0.9530883404871304,\n",
       " '76_41': 0.443372338851856,\n",
       " '76_42': 0.7612974616074751,\n",
       " '76_43': 0.7550702014330121,\n",
       " '76_44': 0.7625605606655568,\n",
       " '76_45': 0.19332178727670246,\n",
       " '76_46': 0.679002804349107,\n",
       " '76_47': 0.4463101259347838,\n",
       " '76_48': 0.3489612564020496,\n",
       " '76_49': 0.3997567961892121,\n",
       " '76_50': 0.3675965741933289,\n",
       " '76_51': 0.8925204737510486,\n",
       " '76_52': 0.3315372977397535,\n",
       " '76_53': 0.3678625925197177,\n",
       " '76_54': 0.31400246366150897,\n",
       " '76_55': 0.0283661399641022,\n",
       " '76_56': 0.876544286328797,\n",
       " '76_57': 0.637137528211582,\n",
       " '76_58': 0.9030854022131092,\n",
       " '76_59': 0.5953060620939619,\n",
       " '76_60': 0.729018944534529,\n",
       " '76_61': 0.17684121235634187,\n",
       " '76_62': 0.4705128439580956,\n",
       " '76_63': 0.7375912328294338,\n",
       " '76_64': 0.2996634248830409,\n",
       " '76_65': 0.4800377993626966,\n",
       " '76_66': 0.5987604693765496,\n",
       " '76_67': 0.11675047854683562,\n",
       " '76_68': 0.725410890598073,\n",
       " '76_69': 0.583485296495212,\n",
       " '76_70': 0.1699934771364202,\n",
       " '76_71': 0.9202865653100756,\n",
       " '76_72': 0.2773322830603274,\n",
       " '76_73': 0.12506441187499384,\n",
       " '76_74': 0.5005259737663534,\n",
       " '76_75': 0.015941142944338238,\n",
       " '76_76': 0.08531213632548207,\n",
       " '76_77': 0.39564207390202394,\n",
       " '76_78': 0.8461568515958471,\n",
       " '76_79': 0.44828557734922814,\n",
       " '76_80': 0.26884924129576604,\n",
       " '76_81': 0.0016540173586911955,\n",
       " '76_82': 0.7186946007828261,\n",
       " '76_83': 0.8083811738720289,\n",
       " '76_84': 0.046773342558934505,\n",
       " '76_85': 0.8294233982825165,\n",
       " '76_86': 0.13878783340253653,\n",
       " '76_87': 0.5248586607487264,\n",
       " '76_88': 0.3133508240825603,\n",
       " '76_89': 0.2313452890094335,\n",
       " '81_0': 0.12523031351665093,\n",
       " '81_1': 0.8775153946667682,\n",
       " '81_2': 0.6460465030063068,\n",
       " '81_3': 0.9072218947255902,\n",
       " '81_4': 0.017256170880034505,\n",
       " '81_5': 0.9384418748716796,\n",
       " '81_6': 0.8602956232625997,\n",
       " '81_7': 0.22198980050940756,\n",
       " '81_8': 0.8801454689493248,\n",
       " '81_9': 0.08794534853708236,\n",
       " '81_10': 0.9017709488505544,\n",
       " '81_11': 0.8505045220683299,\n",
       " '81_12': 0.7401763615899604,\n",
       " '81_13': 0.4646214066864077,\n",
       " '81_14': 0.09882815509052999,\n",
       " '84_0': 0.5287844074841366,\n",
       " '84_1': 0.7193094468548022,\n",
       " '84_2': 0.4331668475138177,\n",
       " '84_3': 0.6730526565732301,\n",
       " '84_4': 0.02967587556946238,\n",
       " '84_5': 0.5285679652467677,\n",
       " '84_6': 0.973290898737356,\n",
       " '84_7': 0.43507508678033896,\n",
       " '84_8': 0.16202168297126618,\n",
       " '84_9': 0.6600883338205565,\n",
       " '84_10': 0.4981579312831682,\n",
       " '84_11': 0.25607387848075336,\n",
       " '84_12': 0.7802340553916588,\n",
       " '84_13': 0.6064112747751023,\n",
       " '84_14': 0.6641399359031213,\n",
       " '86_0': 1.340031080174406,\n",
       " '86_1': 0.979799942101144,\n",
       " '86_2': 1.018173549430105,\n",
       " '86_3': 1.1330453429390428,\n",
       " '86_4': 1.318482802517516,\n",
       " '86_5': 0.8946574717053848,\n",
       " '86_6': 0.9612046013276121,\n",
       " '86_7': 1.1022112721129032,\n",
       " '86_8': 1.292928069701517,\n",
       " '86_9': 1.2837514903792948,\n",
       " '86_10': 1.3292443841680537,\n",
       " '86_11': 1.4475118749026683,\n",
       " '86_12': 1.1707952589782675,\n",
       " '86_13': 1.3128370139501662,\n",
       " '86_14': 0.8409654262213349,\n",
       " '89_0': 1.322827038856309,\n",
       " '89_1': 0.7070763584809072,\n",
       " '89_2': 1.2501045004165734,\n",
       " '89_3': 1.2156809977892598,\n",
       " '89_4': 2.356243042827877,\n",
       " '89_5': 1.3032759435336698,\n",
       " '89_6': 1.524524443191137,\n",
       " '89_7': 1.0115571756982398,\n",
       " '89_8': 1.6913730805105471,\n",
       " '89_9': 1.9274266036467536,\n",
       " '89_10': 1.0929263800509723,\n",
       " '89_11': 1.018432914436957,\n",
       " '89_12': 1.2423830971936876,\n",
       " '89_13': 1.5767998085569244,\n",
       " '89_14': 1.138468507589363,\n",
       " '90_0': 1.660383147729299,\n",
       " '90_1': 1.7877666981764495,\n",
       " '90_2': 2.1598637929192464,\n",
       " '90_3': 1.6213869186882406,\n",
       " '90_4': 1.7459755379985655,\n",
       " '90_5': 1.9265285654480253,\n",
       " '90_6': 1.1937616835584446,\n",
       " '90_7': 1.7791223546342807,\n",
       " '90_8': 1.8636982476265167,\n",
       " '90_9': 1.8127458674488042,\n",
       " '90_10': 2.313921854607489,\n",
       " '90_11': 2.0747425836902766,\n",
       " '90_12': 1.5747473304326864,\n",
       " '90_13': 1.5662411249527266,\n",
       " '90_14': 2.186944971313636,\n",
       " '91_0': 1.1878143316466785,\n",
       " '91_1': 0.7011421884385188,\n",
       " '91_2': 1.0666289286646504,\n",
       " '91_3': 1.7558825548278607,\n",
       " '91_4': 1.8759731664368506,\n",
       " '91_5': 1.232626581103643,\n",
       " '91_6': 1.0943767481508944,\n",
       " '91_7': 1.1621133149186087,\n",
       " '91_8': 0.8615479863680822,\n",
       " '91_9': 1.3087751634155378,\n",
       " '91_10': 0.9471946681400892,\n",
       " '91_11': 1.539339271614412,\n",
       " '91_12': 0.7645196219914923,\n",
       " '91_13': 0.8598769936253545,\n",
       " '91_14': 0.9377061115068478,\n",
       " '98_0': 0.7125668483122811,\n",
       " '98_1': 1.2817903597949736,\n",
       " '98_2': 0.7212956943575393,\n",
       " '98_3': 1.1493928154191029,\n",
       " '98_4': 0.6739073615205083,\n",
       " '98_5': 1.3703796890640845,\n",
       " '98_6': 0.7304027279038207,\n",
       " '98_7': 1.0527454647624257,\n",
       " '98_8': 1.0312430605078424,\n",
       " '98_9': 1.4341821522219365,\n",
       " '98_10': 0.8911072076087121,\n",
       " '98_11': 0.7800395780338746,\n",
       " '98_12': 1.2637713395481125,\n",
       " '98_13': 1.2152575320773855,\n",
       " '98_14': 0.9905363833075272,\n",
       " '99_0': 0.9287102411440712,\n",
       " '99_1': 0.7505000499561897,\n",
       " '99_2': 0.5696447956257543,\n",
       " '99_3': 0.023650140928592408,\n",
       " '99_4': 0.1615273523666756,\n",
       " '99_5': 0.23185477440174,\n",
       " '99_6': 0.6125645527625236,\n",
       " '99_7': 0.4842374874394182,\n",
       " '99_8': 0.8550157968082791,\n",
       " '99_9': 0.7211090011700918,\n",
       " '99_10': 0.2149486155578626,\n",
       " '99_11': 0.5045320145274803,\n",
       " '99_12': 0.9734874058617484,\n",
       " '99_13': 0.01254554606066427,\n",
       " '99_14': 0.7128838312824503,\n",
       " '100_0': 1.4184941040821124,\n",
       " '100_1': 0.7832226175922814,\n",
       " '100_2': 0.9871154881986742,\n",
       " '100_3': 1.570259001627944,\n",
       " '100_4': 1.591819622292851,\n",
       " '100_5': 1.5467069804721305,\n",
       " '100_6': 0.8379779989981756,\n",
       " '100_7': 1.2878251296868648,\n",
       " '100_8': 1.8914089210358231,\n",
       " '100_9': 0.9129942314234292,\n",
       " '100_10': 1.3885323082972592,\n",
       " '100_11': 1.1983895787297711,\n",
       " '100_12': 0.8509700082045241,\n",
       " '100_13': 1.0178508824057433,\n",
       " '100_14': 1.5654730980437253,\n",
       " '106_0': 0.2623482616426899,\n",
       " '106_1': 0.4111923700378231,\n",
       " '106_2': 0.8086208785667303,\n",
       " '106_3': 0.4598694845947804,\n",
       " '106_4': 0.8688554251630886,\n",
       " '106_5': 0.4927140034936596,\n",
       " '106_6': 0.4529583156418343,\n",
       " '106_7': 0.8976966325030588,\n",
       " '106_8': 0.6226878754737837,\n",
       " '106_9': 1.171883999444439,\n",
       " '106_10': 1.0421444949020908,\n",
       " '106_11': 0.6840362785481195,\n",
       " '106_12': 0.7438509955815636,\n",
       " '106_13': 0.4171474341911437,\n",
       " '106_14': 0.2313293935536719,\n",
       " '110_0': 0.4632360623609508,\n",
       " '110_1': 0.2529109718069885,\n",
       " '110_2': 0.5836991512050443,\n",
       " '110_3': 0.8532189327477325,\n",
       " '110_4': 0.5236825652498309,\n",
       " '110_5': 0.7177115931782972,\n",
       " '110_6': 0.4819530096051705,\n",
       " '110_7': 0.8074540028978671,\n",
       " '110_8': 0.980334485368102,\n",
       " '110_9': 0.2661795646852457,\n",
       " '110_10': 0.8308696299916135,\n",
       " '110_11': 0.3207854343935749,\n",
       " '110_12': 0.5169797892406842,\n",
       " '110_13': 0.6347358816902837,\n",
       " '110_14': 0.8136217806006697,\n",
       " '111_0': 0.978090590994202,\n",
       " '111_1': 0.9258387988131808,\n",
       " '111_2': 0.4837608652253178,\n",
       " '111_3': 1.035388309967752,\n",
       " '111_4': 0.5464897005860407,\n",
       " '111_5': 1.2464771287088252,\n",
       " '111_6': 0.424587274584502,\n",
       " '111_7': 1.069910174838177,\n",
       " '111_8': 0.2078533092019892,\n",
       " '111_9': 0.785888495496705,\n",
       " '111_10': 0.5806465160056551,\n",
       " '111_11': 1.0319419231987648,\n",
       " '111_12': 0.4648395998018984,\n",
       " '111_13': 1.1597657702107174,\n",
       " '111_14': 0.6874850440470227,\n",
       " '112_0': 1.7537333828431412,\n",
       " '112_1': 2.085288500410242,\n",
       " '112_2': 1.3575894278733984,\n",
       " '112_3': 1.2346304479173988,\n",
       " '112_4': 1.8983150223615104,\n",
       " '112_5': 1.3480854245188791,\n",
       " '112_6': 1.57951384450782,\n",
       " '112_7': 0.967025418956308,\n",
       " '112_8': 1.370872275444735,\n",
       " '112_9': 1.4536967349235863,\n",
       " '112_10': 1.449957336341095,\n",
       " '112_11': 1.6698383374336452,\n",
       " '112_12': 1.1060374817135126,\n",
       " '112_13': 1.1155683803575025,\n",
       " '112_14': 2.09829392246993,\n",
       " '113_0': 0.37875530057764906,\n",
       " '113_1': 0.1009913201328232,\n",
       " '113_2': 0.8157916215486178,\n",
       " '113_3': 0.33276968228482595,\n",
       " '113_4': 0.06855885694409569,\n",
       " '113_5': 0.92810468627577,\n",
       " '113_6': 0.08284774978101228,\n",
       " '113_7': 0.810723188912521,\n",
       " '113_8': 0.8472631531819917,\n",
       " '113_9': 0.10905798652954224,\n",
       " '113_10': 0.4221243257983972,\n",
       " '113_11': 0.6949090702312363,\n",
       " '113_12': 0.9032987368412394,\n",
       " '113_13': 0.6301306270132748,\n",
       " '113_14': 0.6370375417265832,\n",
       " '114_0': 0.5924672447010653,\n",
       " '114_1': 0.8188120977061738,\n",
       " '114_2': 0.6015153976388301,\n",
       " '114_3': 0.4633623803164596,\n",
       " '114_4': 0.25529687119780164,\n",
       " '114_5': 0.9189746739570912,\n",
       " '114_6': 0.26558685339960586,\n",
       " '114_7': 0.7857670709346366,\n",
       " '114_8': 0.06064633530624775,\n",
       " '114_9': 0.9655196476446036,\n",
       " '114_10': 0.09741240396824492,\n",
       " '114_11': 0.5574105103211181,\n",
       " '114_12': 0.6490800177245456,\n",
       " '114_13': 0.35115110176600794,\n",
       " '114_14': 0.6976357962361223,\n",
       " '115_0': 1.2309877339527842,\n",
       " '115_1': 0.7287615622167583,\n",
       " '115_2': 0.2964641621296833,\n",
       " '115_3': 0.9554215786331538,\n",
       " '115_4': 0.8851968036829341,\n",
       " '115_5': 1.0366477362771138,\n",
       " '115_6': 0.6355177311099531,\n",
       " '115_7': 1.3170002056265318,\n",
       " '115_8': 1.2142616320492177,\n",
       " '115_9': 0.9642660609953572,\n",
       " '115_10': 0.6909039988245173,\n",
       " '115_11': 0.6117089236993458,\n",
       " '115_12': 0.6330159634919017,\n",
       " '115_13': 1.1083029152042827,\n",
       " '115_14': 0.9518697872369496,\n",
       " '116_0': 1.5120486376802558,\n",
       " '116_1': 1.5747491272248384,\n",
       " '116_2': 1.545649303896221,\n",
       " '116_3': 1.1940357963943804,\n",
       " '116_4': 1.3953101092767648,\n",
       " '116_5': 0.5109696299737126,\n",
       " '116_6': 1.5063342745423836,\n",
       " '116_7': 1.0226358595007987,\n",
       " '116_8': 1.1750630768547654,\n",
       " '116_9': 1.2001719226109904,\n",
       " '116_10': 1.2917459236990136,\n",
       " '116_11': 1.1674125480328224,\n",
       " '116_12': 0.8004117834843915,\n",
       " '116_13': 1.3139632698272674,\n",
       " '116_14': 0.6121365410138669,\n",
       " '117_0': 0.9692250042808692,\n",
       " '117_1': 1.0354943198817044,\n",
       " '117_2': 0.6201138428644365,\n",
       " '117_3': 0.8050626211886224,\n",
       " '117_4': 0.7749576151547932,\n",
       " '117_5': 0.9149619756727558,\n",
       " '117_6': 0.8165971771694922,\n",
       " '117_7': 0.598121314669981,\n",
       " '117_8': 0.6730295279727149,\n",
       " '117_9': 0.7328761456516137,\n",
       " '117_10': 0.7626374730707838,\n",
       " '117_11': 0.4885528787942771,\n",
       " '117_12': 0.9055748087523432,\n",
       " '117_13': 0.5176334608564781,\n",
       " '117_14': 0.6828138180035543,\n",
       " '118_0': 0.8556291719695415,\n",
       " '118_1': 0.6824531325749507,\n",
       " '118_2': 0.24782600158312595,\n",
       " '118_3': 0.007470081385845041,\n",
       " '118_4': 0.7054211964199938,\n",
       " '118_5': 0.21167892576106292,\n",
       " '118_6': 0.5224013092888478,\n",
       " '118_7': 0.014966973397935956,\n",
       " '118_8': 0.2749623077635813,\n",
       " '118_9': 0.027871915408686162,\n",
       " '118_10': 0.6775402958813821,\n",
       " '118_11': 0.5208705603440054,\n",
       " '118_12': 0.7364637870876832,\n",
       " '118_13': 0.4513216770486831,\n",
       " '118_14': 0.740067285631704,\n",
       " '120_0': 1.6455347510818994,\n",
       " '120_1': 1.706057405934077,\n",
       " '120_2': 1.9114351681922552,\n",
       " '120_3': 2.5306855269317015,\n",
       " '120_4': 1.5874840555485883,\n",
       " '120_5': 1.7124347513836953,\n",
       " '120_6': 1.8906861167482236,\n",
       " '120_7': 1.4464637578726085,\n",
       " '120_8': 2.0086753207025296,\n",
       " '120_9': 1.9704067030285848,\n",
       " '120_10': 1.2155103912015892,\n",
       " '120_11': 1.8151318865837531,\n",
       " '120_12': 2.1202401214069715,\n",
       " '120_13': 1.4562843047354286,\n",
       " '120_14': 1.3628118561482785,\n",
       " '121_0': 0.8774034262927465,\n",
       " '121_1': 0.5941540499670829,\n",
       " '121_2': 0.6743775492433502,\n",
       " '121_3': 0.2256359771427329,\n",
       " '121_4': 0.6353200788940374,\n",
       " '121_5': 0.6218059554113345,\n",
       " '121_6': 0.22073351065787186,\n",
       " '121_7': 0.009113415407264071,\n",
       " '121_8': 0.6206160679324121,\n",
       " '121_9': 0.9351811006198096,\n",
       " '121_10': 0.3599184588096701,\n",
       " '121_11': 0.4130691048626207,\n",
       " '121_12': 0.9161837895631944,\n",
       " '121_13': 0.6792822679205821,\n",
       " '121_14': 0.5789388022229739,\n",
       " '123_0': 0.1389592695704438,\n",
       " '123_1': 0.6470617753546053,\n",
       " '123_2': 0.2800801441302121,\n",
       " '123_3': 0.2395934208110113,\n",
       " '123_4': 0.5676700048255916,\n",
       " '123_5': 0.9482546139260076,\n",
       " '123_6': 0.5712631539761355,\n",
       " '123_7': 0.681726993933838,\n",
       " '123_8': 0.9627468726888118,\n",
       " '123_9': 0.8997513101834139,\n",
       " '123_10': 0.3869344911635212,\n",
       " '123_11': 0.6053407430092036,\n",
       " '123_12': 0.18541697866066886,\n",
       " '123_13': 0.3610521850927241,\n",
       " '123_14': 0.8268718894944644,\n",
       " '124_0': 1.078539070319267,\n",
       " '124_1': 1.7052958505124434,\n",
       " '124_2': 1.6222831927251369,\n",
       " '124_3': 1.5775847715897116,\n",
       " '124_4': 2.194338359467841,\n",
       " '124_5': 2.41359185572392,\n",
       " '124_6': 1.2274295140648697,\n",
       " '124_7': 1.1910606674729456,\n",
       " '124_8': 1.864462981667232,\n",
       " '124_9': 1.7309974586290624,\n",
       " '124_10': 2.136907549977884,\n",
       " '124_11': 1.488034975699949,\n",
       " '124_12': 2.2018115438614667,\n",
       " '124_13': 1.5160228816305048,\n",
       " '124_14': 1.0866209732589605,\n",
       " '126_0': 1.8360669915504242,\n",
       " '126_1': 2.147466324698839,\n",
       " '126_2': 1.843653146716626,\n",
       " '126_3': 2.084975653411057,\n",
       " '126_4': 2.3746493774410387,\n",
       " '126_5': 1.2362324366492314,\n",
       " '126_6': 2.2446534103320976,\n",
       " '126_7': 2.1284050204015834,\n",
       " '126_8': 1.8416594423456896,\n",
       " '126_9': 3.03514479786514,\n",
       " '126_10': 1.6902776813648308,\n",
       " '126_11': 2.3053498454725214,\n",
       " '126_12': 2.257922480838852,\n",
       " '126_13': 1.6395703354242166,\n",
       " '126_14': 1.81650125470279,\n",
       " '130_0': 0.7177617679799112,\n",
       " '130_1': 0.6113133241524761,\n",
       " '130_2': 0.1550366015458048,\n",
       " '130_3': 0.04691007297354954,\n",
       " '130_4': 0.137872415070614,\n",
       " '130_5': 0.4798554810709452,\n",
       " '130_6': 0.8434327538462812,\n",
       " '130_7': 0.9191425555098208,\n",
       " '130_8': 0.4030217568073651,\n",
       " '130_9': 0.9665873878167072,\n",
       " '130_10': 0.5906173822618941,\n",
       " '130_11': 0.015595472674398425,\n",
       " '130_12': 0.4873766034840814,\n",
       " '130_13': 0.25133924516805184,\n",
       " '130_14': 0.4019346835661687,\n",
       " '132_0': 0.8292659667684028,\n",
       " '132_1': 1.2180478671147132,\n",
       " '132_2': 1.908474035307439,\n",
       " '132_3': 1.242574897309908,\n",
       " '132_4': 1.8042979449865943,\n",
       " '132_5': 1.3552754800094533,\n",
       " '132_6': 0.9072144496233228,\n",
       " '132_7': 1.0328156738111247,\n",
       " '132_8': 1.6377840907887116,\n",
       " '132_9': 1.022284029519875,\n",
       " '132_10': 1.6435595613884442,\n",
       " '132_11': 1.3713953974362436,\n",
       " '132_12': 1.2580956525306008,\n",
       " '132_13': 1.1369164987245284,\n",
       " '132_14': 1.4312741598455625,\n",
       " '133_0': 1.14704898838129,\n",
       " '133_1': 0.7116666255248749,\n",
       " '133_2': 1.308388560392326,\n",
       " '133_3': 1.1186942209143982,\n",
       " '133_4': 1.5713824930989584,\n",
       " '133_5': 1.1201376191992918,\n",
       " '133_6': 1.825855193572284,\n",
       " '133_7': 1.9427618646097808,\n",
       " '133_8': 0.8606434861488884,\n",
       " '133_9': 1.3972463861601832,\n",
       " '133_10': 1.6035133721581785,\n",
       " '133_11': 1.9599368597492923,\n",
       " '133_12': 1.3833473777080392,\n",
       " '133_13': 0.9217789645170086,\n",
       " '133_14': 0.7149040863011372,\n",
       " '135_0': 0.881907675831943,\n",
       " '135_1': 0.8667706147356895,\n",
       " '135_2': 0.5692155628005605,\n",
       " '135_3': 0.22363725309664484,\n",
       " '135_4': 0.157992426806975,\n",
       " '135_5': 0.01313428340309275,\n",
       " '135_6': 0.2804116644910333,\n",
       " '135_7': 0.4093325498443575,\n",
       " '135_8': 0.8986907757254508,\n",
       " '135_9': 0.6028847392403796,\n",
       " '135_10': 0.3284809401648918,\n",
       " '135_11': 0.7971929403719039,\n",
       " '135_12': 0.1733830890751442,\n",
       " '135_13': 0.7908782509015241,\n",
       " '135_14': 0.3090950298328651,\n",
       " '136_0': 0.3308802137724024,\n",
       " '136_1': 0.4776669418192285,\n",
       " '136_2': 0.9240022888758016,\n",
       " '136_3': 0.8511065158226195,\n",
       " '136_4': 0.11447045623979125,\n",
       " '136_5': 0.22457785298750044,\n",
       " '136_6': 0.2956345580671617,\n",
       " '136_7': 0.6971184144503201,\n",
       " '136_8': 0.9421167350981462,\n",
       " '136_9': 0.9405008732285746,\n",
       " '136_10': 0.209940969596778,\n",
       " '136_11': 0.5331029278284786,\n",
       " '136_12': 0.9378529541740016,\n",
       " '136_13': 0.559443911793375,\n",
       " '136_14': 0.2292181000378243,\n",
       " '139_0': 1.487293459742545,\n",
       " '139_1': 0.9089551565547755,\n",
       " '139_2': 1.315505142932007,\n",
       " '139_3': 0.9474020588272292,\n",
       " '139_4': 1.014348113205264,\n",
       " '139_5': 1.3435957591658259,\n",
       " '139_6': 1.2095869229842329,\n",
       " '139_7': 1.0159283403740378,\n",
       " '139_8': 1.3953303610400762,\n",
       " '139_9': 1.0282525828879985,\n",
       " '139_10': 0.7165465474507353,\n",
       " '139_11': 0.6816270124587055,\n",
       " '139_12': 1.1013317076994742,\n",
       " '139_13': 1.4343861106181242,\n",
       " '139_14': 1.3513276173777575,\n",
       " '140_0': 2.4633165929442464,\n",
       " '140_1': 1.910125521424548,\n",
       " '140_2': 2.059249930858962,\n",
       " '140_3': 1.6866430238894203,\n",
       " '140_4': 1.89468657914962,\n",
       " '140_5': 1.558118065290983,\n",
       " '140_6': 1.7566039699664573,\n",
       " '140_7': 1.3108605492773184,\n",
       " '140_8': 1.4852291912228457,\n",
       " '140_9': 1.8340014917015468,\n",
       " ...}"
      ]
     },
     "execution_count": 33,
     "metadata": {},
     "output_type": "execute_result"
    }
   ],
   "source": [
    "question_difficulty"
   ]
  },
  {
   "cell_type": "code",
   "execution_count": 32,
   "metadata": {},
   "outputs": [
    {
     "data": {
      "text/plain": [
       "0      1111101000101111001100011000111101001111001110...\n",
       "1      1110110000101100001100101101101101010011010000...\n",
       "2      1111110000011100000010011111100001000111001000...\n",
       "3      1101100000001110001011011101111111101111100100...\n",
       "4      1111010010110110001000011001101100101001000000...\n",
       "5      1100000010000100000100011101101001101101000000...\n",
       "6      1110111011111111011110111101111111001111011000...\n",
       "7      1110101000100000001110000101100111001001000000...\n",
       "8      1110110111100111101010011111101110101101101010...\n",
       "9      1100001100001000000100000101000101101111010000...\n",
       "10     1110100010111000001100001001101101001011011000...\n",
       "11     1110000110101010011100101111111101101000001010...\n",
       "12     1110000000100110011110011001101001000101000000...\n",
       "13     0010000001110101100100001001001101000100100000...\n",
       "14     1100010111110111001011001001111111101111110110...\n",
       "15     1110110111110011100110001101111111001111011000...\n",
       "16     1100000100000000000100010101100001000001001000...\n",
       "17     1110000100100100001110011001111101101111001000...\n",
       "18     1111110010110110101111011111111111101111100110...\n",
       "19     1110000000110100001100011101111001001111011000...\n",
       "20     1110110111001101001110001101111111101111011000...\n",
       "21     1001100000001010000010100000101001001111001000...\n",
       "22     1100100000011010000100001100101000001011100000...\n",
       "23     1110110001001010010111101111001111000001101000...\n",
       "24     1111110111110110111111111101111110101111101110...\n",
       "25     1010000000010110000011001101100111001111101000...\n",
       "26     1111110101011100001110011101111111001011001000...\n",
       "27     0000000100000000000000000000000000000000100000...\n",
       "28     1010000100001000000100000010001001001101010000...\n",
       "29     0110110100000111001110011001101110000111001000...\n",
       "                             ...                        \n",
       "970     011111000100100100100000001010000001100000100111\n",
       "971     111101100001100010010000100000100011000100100100\n",
       "972     010100010000100000010000000000000001110000110100\n",
       "973     001101100001100011000000111000000001000100110110\n",
       "974     000000000000100000010000000000000000000000000000\n",
       "975     000001000000000010000000101000100010000000101001\n",
       "976     010111001100100000101100110100000101101010001011\n",
       "977     011000100100100000010100000100001001000010000010\n",
       "978     000000000000000000010000000010000000000000000000\n",
       "979     001110100101000000000110101010000011100100100110\n",
       "980     001001000000110100000010001000000011111000100100\n",
       "981     001010000110000010010000011000000001000000000010\n",
       "982     010010000010000000110011100000100001110100011011\n",
       "983     001001001101000000000000001000000000000000100110\n",
       "984     011110000011100010011111111000100011101000100100\n",
       "985     000110000000100000100011101010010000100000000110\n",
       "986     001000000111000000010010011000000001000000110001\n",
       "987     111100101110100011010011101000000011000100110111\n",
       "988     001101010100100011010111111001001011001101101110\n",
       "989     010000000000000010000001001010000010000100000100\n",
       "990     000000000000100000010000001000000000100000000000\n",
       "991     000001000000001000000010000000000001000000000000\n",
       "992     001000000000100010001010101000000000000000100000\n",
       "993     010100000000000000000000001001000011000000000000\n",
       "994     000000000000100000000000001000000010000000000000\n",
       "995     001000000000000000000000000000000000000000100000\n",
       "996     000010000001100000010010000000000010000000000000\n",
       "997     000000000000000000000010100000000000000000000000\n",
       "998     010000000000100001000000100000000001000100000101\n",
       "999     001000000100010001000000001000100011000000000000\n",
       "Name: mask, Length: 1000, dtype: object"
      ]
     },
     "execution_count": 32,
     "metadata": {},
     "output_type": "execute_result"
    }
   ],
   "source": [
    "res['mask']"
   ]
  },
  {
   "cell_type": "code",
   "execution_count": 81,
   "metadata": {},
   "outputs": [
    {
     "name": "stdout",
     "output_type": "stream",
     "text": [
      "Y: 1\n",
      "Sigmoid: 0.7789489497169478\n"
     ]
    }
   ],
   "source": [
    "score_one_answer(3236, 209, 0)"
   ]
  },
  {
   "cell_type": "code",
   "execution_count": 82,
   "metadata": {},
   "outputs": [
    {
     "name": "stdout",
     "output_type": "stream",
     "text": [
      "Y: 1\n",
      "Sigmoid: 0.2740432939074542\n"
     ]
    }
   ],
   "source": [
    "score_one_answer(3236, 209, 10)"
   ]
  },
  {
   "cell_type": "code",
   "execution_count": 15,
   "metadata": {},
   "outputs": [
    {
     "data": {
      "text/html": [
       "<div>\n",
       "<style scoped>\n",
       "    .dataframe tbody tr th:only-of-type {\n",
       "        vertical-align: middle;\n",
       "    }\n",
       "\n",
       "    .dataframe tbody tr th {\n",
       "        vertical-align: top;\n",
       "    }\n",
       "\n",
       "    .dataframe thead th {\n",
       "        text-align: right;\n",
       "    }\n",
       "</style>\n",
       "<table border=\"1\" class=\"dataframe\">\n",
       "  <thead>\n",
       "    <tr style=\"text-align: right;\">\n",
       "      <th></th>\n",
       "      <th>idteam</th>\n",
       "      <th>current_name</th>\n",
       "      <th>base_name</th>\n",
       "      <th>position</th>\n",
       "      <th>questions_total</th>\n",
       "      <th>mask</th>\n",
       "      <th>bonus_a</th>\n",
       "      <th>bonus_b</th>\n",
       "      <th>tech_rating</th>\n",
       "      <th>predicted_position</th>\n",
       "      <th>d_bonus_a</th>\n",
       "      <th>d_bonus_b</th>\n",
       "      <th>d_diff_bonus</th>\n",
       "      <th>included_in_rating</th>\n",
       "      <th>idtournament</th>\n",
       "      <th>diff_bonus</th>\n",
       "    </tr>\n",
       "  </thead>\n",
       "  <tbody>\n",
       "    <tr>\n",
       "      <th>0</th>\n",
       "      <td>209</td>\n",
       "      <td>Команда Коваленко</td>\n",
       "      <td>Команда Коваленко</td>\n",
       "      <td>11.0</td>\n",
       "      <td>34</td>\n",
       "      <td>1111101000101111001100011000111101001111001110...</td>\n",
       "      <td>2230.0</td>\n",
       "      <td>-87.0</td>\n",
       "      <td>4509.0</td>\n",
       "      <td>7.0</td>\n",
       "      <td>2230</td>\n",
       "      <td>663</td>\n",
       "      <td>-87.0</td>\n",
       "      <td>1.0</td>\n",
       "      <td>3236</td>\n",
       "      <td>NaN</td>\n",
       "    </tr>\n",
       "    <tr>\n",
       "      <th>1</th>\n",
       "      <td>270</td>\n",
       "      <td>Синоп</td>\n",
       "      <td>Синоп</td>\n",
       "      <td>14.5</td>\n",
       "      <td>31</td>\n",
       "      <td>1110110000101100001100101101101101010011010000...</td>\n",
       "      <td>2189.0</td>\n",
       "      <td>119.0</td>\n",
       "      <td>2567.0</td>\n",
       "      <td>20.0</td>\n",
       "      <td>2189</td>\n",
       "      <td>618</td>\n",
       "      <td>119.0</td>\n",
       "      <td>1.0</td>\n",
       "      <td>3236</td>\n",
       "      <td>NaN</td>\n",
       "    </tr>\n",
       "    <tr>\n",
       "      <th>2</th>\n",
       "      <td>358</td>\n",
       "      <td>43</td>\n",
       "      <td>43</td>\n",
       "      <td>20.0</td>\n",
       "      <td>26</td>\n",
       "      <td>1111110000011100000010011111100001000111001000...</td>\n",
       "      <td>2074.0</td>\n",
       "      <td>-100.0</td>\n",
       "      <td>3532.0</td>\n",
       "      <td>9.0</td>\n",
       "      <td>2074</td>\n",
       "      <td>501</td>\n",
       "      <td>-100.0</td>\n",
       "      <td>1.0</td>\n",
       "      <td>3236</td>\n",
       "      <td>NaN</td>\n",
       "    </tr>\n",
       "    <tr>\n",
       "      <th>3</th>\n",
       "      <td>482</td>\n",
       "      <td>Нимлот</td>\n",
       "      <td>Нимлот</td>\n",
       "      <td>14.5</td>\n",
       "      <td>31</td>\n",
       "      <td>1101100000001110001011011101111111101111100100...</td>\n",
       "      <td>2189.0</td>\n",
       "      <td>-29.0</td>\n",
       "      <td>3376.0</td>\n",
       "      <td>10.0</td>\n",
       "      <td>2189</td>\n",
       "      <td>618</td>\n",
       "      <td>-29.0</td>\n",
       "      <td>1.0</td>\n",
       "      <td>3236</td>\n",
       "      <td>NaN</td>\n",
       "    </tr>\n",
       "    <tr>\n",
       "      <th>4</th>\n",
       "      <td>1948</td>\n",
       "      <td>Doom-Doom</td>\n",
       "      <td>Doom-Doom</td>\n",
       "      <td>17.5</td>\n",
       "      <td>29</td>\n",
       "      <td>1111010010110110001000011001101100101001000000...</td>\n",
       "      <td>2145.0</td>\n",
       "      <td>38.0</td>\n",
       "      <td>2629.0</td>\n",
       "      <td>19.0</td>\n",
       "      <td>2145</td>\n",
       "      <td>557</td>\n",
       "      <td>38.0</td>\n",
       "      <td>1.0</td>\n",
       "      <td>3236</td>\n",
       "      <td>NaN</td>\n",
       "    </tr>\n",
       "    <tr>\n",
       "      <th>5</th>\n",
       "      <td>2298</td>\n",
       "      <td>Макароны под плинтусом</td>\n",
       "      <td>Макароны под плинтусом</td>\n",
       "      <td>24.0</td>\n",
       "      <td>21</td>\n",
       "      <td>1100000010000100000100011101101001101101000000...</td>\n",
       "      <td>1721.0</td>\n",
       "      <td>-29.0</td>\n",
       "      <td>2086.0</td>\n",
       "      <td>23.0</td>\n",
       "      <td>1721</td>\n",
       "      <td>311</td>\n",
       "      <td>-29.0</td>\n",
       "      <td>1.0</td>\n",
       "      <td>3236</td>\n",
       "      <td>NaN</td>\n",
       "    </tr>\n",
       "    <tr>\n",
       "      <th>6</th>\n",
       "      <td>3213</td>\n",
       "      <td>Дикие бозоны Хиггса</td>\n",
       "      <td>Дикие бозоны Хиггса</td>\n",
       "      <td>3.0</td>\n",
       "      <td>49</td>\n",
       "      <td>1110111011111111011110111101111111001111011000...</td>\n",
       "      <td>0.0</td>\n",
       "      <td>8.0</td>\n",
       "      <td>6161.0</td>\n",
       "      <td>3.0</td>\n",
       "      <td>2290</td>\n",
       "      <td>1197</td>\n",
       "      <td>8.0</td>\n",
       "      <td>1.0</td>\n",
       "      <td>3236</td>\n",
       "      <td>NaN</td>\n",
       "    </tr>\n",
       "    <tr>\n",
       "      <th>7</th>\n",
       "      <td>3930</td>\n",
       "      <td>Версий.net</td>\n",
       "      <td>Версий.net</td>\n",
       "      <td>24.0</td>\n",
       "      <td>21</td>\n",
       "      <td>1110101000100000001110000101100111001001000000...</td>\n",
       "      <td>1721.0</td>\n",
       "      <td>20.0</td>\n",
       "      <td>1562.0</td>\n",
       "      <td>25.0</td>\n",
       "      <td>1721</td>\n",
       "      <td>311</td>\n",
       "      <td>20.0</td>\n",
       "      <td>1.0</td>\n",
       "      <td>3236</td>\n",
       "      <td>NaN</td>\n",
       "    </tr>\n",
       "    <tr>\n",
       "      <th>8</th>\n",
       "      <td>3951</td>\n",
       "      <td>Eclipse</td>\n",
       "      <td>Eclipse</td>\n",
       "      <td>5.0</td>\n",
       "      <td>44</td>\n",
       "      <td>1110110111100111101010011111101110101101101010...</td>\n",
       "      <td>2280.0</td>\n",
       "      <td>-50.0</td>\n",
       "      <td>6019.0</td>\n",
       "      <td>4.0</td>\n",
       "      <td>2280</td>\n",
       "      <td>1012</td>\n",
       "      <td>-50.0</td>\n",
       "      <td>1.0</td>\n",
       "      <td>3236</td>\n",
       "      <td>NaN</td>\n",
       "    </tr>\n",
       "    <tr>\n",
       "      <th>9</th>\n",
       "      <td>4822</td>\n",
       "      <td>Беспредел</td>\n",
       "      <td>Беспредел</td>\n",
       "      <td>26.5</td>\n",
       "      <td>20</td>\n",
       "      <td>1100001100001000000100000101000101101111010000...</td>\n",
       "      <td>1399.0</td>\n",
       "      <td>69.0</td>\n",
       "      <td>1105.0</td>\n",
       "      <td>28.0</td>\n",
       "      <td>1399</td>\n",
       "      <td>247</td>\n",
       "      <td>69.0</td>\n",
       "      <td>1.0</td>\n",
       "      <td>3236</td>\n",
       "      <td>NaN</td>\n",
       "    </tr>\n",
       "    <tr>\n",
       "      <th>10</th>\n",
       "      <td>4952</td>\n",
       "      <td>Бес капитанов</td>\n",
       "      <td>Бес капитанов</td>\n",
       "      <td>21.0</td>\n",
       "      <td>24</td>\n",
       "      <td>1110100010111000001100001001101101001011011000...</td>\n",
       "      <td>2006.0</td>\n",
       "      <td>51.0</td>\n",
       "      <td>2319.0</td>\n",
       "      <td>22.0</td>\n",
       "      <td>2006</td>\n",
       "      <td>474</td>\n",
       "      <td>51.0</td>\n",
       "      <td>1.0</td>\n",
       "      <td>3236</td>\n",
       "      <td>NaN</td>\n",
       "    </tr>\n",
       "    <tr>\n",
       "      <th>11</th>\n",
       "      <td>5170</td>\n",
       "      <td>Бриз-88</td>\n",
       "      <td>Бриз-88</td>\n",
       "      <td>9.5</td>\n",
       "      <td>38</td>\n",
       "      <td>1110000110101010011100101111111101101000001010...</td>\n",
       "      <td>2245.0</td>\n",
       "      <td>-28.0</td>\n",
       "      <td>3896.0</td>\n",
       "      <td>8.0</td>\n",
       "      <td>2245</td>\n",
       "      <td>691</td>\n",
       "      <td>-28.0</td>\n",
       "      <td>1.0</td>\n",
       "      <td>3236</td>\n",
       "      <td>NaN</td>\n",
       "    </tr>\n",
       "    <tr>\n",
       "      <th>12</th>\n",
       "      <td>5708</td>\n",
       "      <td>Второй фронт</td>\n",
       "      <td>Второй фронт</td>\n",
       "      <td>22.0</td>\n",
       "      <td>22</td>\n",
       "      <td>1110000000100110011110011001101001000101000000...</td>\n",
       "      <td>1904.0</td>\n",
       "      <td>162.0</td>\n",
       "      <td>1436.0</td>\n",
       "      <td>26.0</td>\n",
       "      <td>1904</td>\n",
       "      <td>424</td>\n",
       "      <td>162.0</td>\n",
       "      <td>1.0</td>\n",
       "      <td>3236</td>\n",
       "      <td>NaN</td>\n",
       "    </tr>\n",
       "    <tr>\n",
       "      <th>13</th>\n",
       "      <td>27171</td>\n",
       "      <td>Белый шум</td>\n",
       "      <td>Белый шум</td>\n",
       "      <td>24.0</td>\n",
       "      <td>21</td>\n",
       "      <td>0010000001110101100100001001001101000100100000...</td>\n",
       "      <td>1721.0</td>\n",
       "      <td>-142.0</td>\n",
       "      <td>2993.0</td>\n",
       "      <td>16.0</td>\n",
       "      <td>1721</td>\n",
       "      <td>311</td>\n",
       "      <td>-142.0</td>\n",
       "      <td>1.0</td>\n",
       "      <td>3236</td>\n",
       "      <td>NaN</td>\n",
       "    </tr>\n",
       "    <tr>\n",
       "      <th>14</th>\n",
       "      <td>27177</td>\n",
       "      <td>Призраки Коши</td>\n",
       "      <td>Призраки Коши</td>\n",
       "      <td>4.0</td>\n",
       "      <td>47</td>\n",
       "      <td>1100010111110111001011001001111111101111110110...</td>\n",
       "      <td>2286.0</td>\n",
       "      <td>123.0</td>\n",
       "      <td>5508.0</td>\n",
       "      <td>5.0</td>\n",
       "      <td>2286</td>\n",
       "      <td>1125</td>\n",
       "      <td>123.0</td>\n",
       "      <td>1.0</td>\n",
       "      <td>3236</td>\n",
       "      <td>NaN</td>\n",
       "    </tr>\n",
       "    <tr>\n",
       "      <th>15</th>\n",
       "      <td>27568</td>\n",
       "      <td>Ergo bibamus</td>\n",
       "      <td>Ergo bibamus</td>\n",
       "      <td>6.5</td>\n",
       "      <td>40</td>\n",
       "      <td>1110110111110011100110001101111111001111011000...</td>\n",
       "      <td>2269.0</td>\n",
       "      <td>207.0</td>\n",
       "      <td>3295.0</td>\n",
       "      <td>11.0</td>\n",
       "      <td>2269</td>\n",
       "      <td>866</td>\n",
       "      <td>207.0</td>\n",
       "      <td>1.0</td>\n",
       "      <td>3236</td>\n",
       "      <td>NaN</td>\n",
       "    </tr>\n",
       "    <tr>\n",
       "      <th>16</th>\n",
       "      <td>28136</td>\n",
       "      <td>Кошкин Ёт</td>\n",
       "      <td>Кошкин Ёт</td>\n",
       "      <td>30.0</td>\n",
       "      <td>13</td>\n",
       "      <td>1100000100000000000100010101100001000001001000...</td>\n",
       "      <td>552.0</td>\n",
       "      <td>39.0</td>\n",
       "      <td>91.0</td>\n",
       "      <td>31.0</td>\n",
       "      <td>552</td>\n",
       "      <td>48</td>\n",
       "      <td>39.0</td>\n",
       "      <td>1.0</td>\n",
       "      <td>3236</td>\n",
       "      <td>NaN</td>\n",
       "    </tr>\n",
       "    <tr>\n",
       "      <th>17</th>\n",
       "      <td>38429</td>\n",
       "      <td>Команда пьёт</td>\n",
       "      <td>Команда пьёт</td>\n",
       "      <td>13.0</td>\n",
       "      <td>32</td>\n",
       "      <td>1110000100100100001110011001111101101111001000...</td>\n",
       "      <td>2205.0</td>\n",
       "      <td>65.0</td>\n",
       "      <td>2989.0</td>\n",
       "      <td>17.0</td>\n",
       "      <td>2205</td>\n",
       "      <td>639</td>\n",
       "      <td>65.0</td>\n",
       "      <td>1.0</td>\n",
       "      <td>3236</td>\n",
       "      <td>NaN</td>\n",
       "    </tr>\n",
       "    <tr>\n",
       "      <th>18</th>\n",
       "      <td>38438</td>\n",
       "      <td>Негодный буцентавр</td>\n",
       "      <td>Негодный буцентавр</td>\n",
       "      <td>2.0</td>\n",
       "      <td>53</td>\n",
       "      <td>1111110010110110101111011111111111101111100110...</td>\n",
       "      <td>0.0</td>\n",
       "      <td>15.0</td>\n",
       "      <td>6393.0</td>\n",
       "      <td>2.0</td>\n",
       "      <td>2292</td>\n",
       "      <td>1256</td>\n",
       "      <td>15.0</td>\n",
       "      <td>0.0</td>\n",
       "      <td>3236</td>\n",
       "      <td>NaN</td>\n",
       "    </tr>\n",
       "    <tr>\n",
       "      <th>19</th>\n",
       "      <td>39307</td>\n",
       "      <td>Сборная ЮВП</td>\n",
       "      <td>Сборная ЮВП</td>\n",
       "      <td>17.5</td>\n",
       "      <td>29</td>\n",
       "      <td>1110000000110100001100011101111001001111011000...</td>\n",
       "      <td>0.0</td>\n",
       "      <td>22.0</td>\n",
       "      <td>2688.0</td>\n",
       "      <td>18.0</td>\n",
       "      <td>2145</td>\n",
       "      <td>557</td>\n",
       "      <td>22.0</td>\n",
       "      <td>0.0</td>\n",
       "      <td>3236</td>\n",
       "      <td>NaN</td>\n",
       "    </tr>\n",
       "    <tr>\n",
       "      <th>20</th>\n",
       "      <td>39899</td>\n",
       "      <td>Чудо-пластелин</td>\n",
       "      <td>Чорный пластелин</td>\n",
       "      <td>6.5</td>\n",
       "      <td>40</td>\n",
       "      <td>1110110111001101001110001101111111101111011000...</td>\n",
       "      <td>2269.0</td>\n",
       "      <td>261.0</td>\n",
       "      <td>3020.0</td>\n",
       "      <td>15.0</td>\n",
       "      <td>2269</td>\n",
       "      <td>866</td>\n",
       "      <td>261.0</td>\n",
       "      <td>1.0</td>\n",
       "      <td>3236</td>\n",
       "      <td>NaN</td>\n",
       "    </tr>\n",
       "    <tr>\n",
       "      <th>21</th>\n",
       "      <td>44693</td>\n",
       "      <td>Неопытный образец</td>\n",
       "      <td>Неопытный образец</td>\n",
       "      <td>26.5</td>\n",
       "      <td>20</td>\n",
       "      <td>1001100000001010000010100000101001001111001000...</td>\n",
       "      <td>1399.0</td>\n",
       "      <td>-32.0</td>\n",
       "      <td>1605.0</td>\n",
       "      <td>24.0</td>\n",
       "      <td>1399</td>\n",
       "      <td>247</td>\n",
       "      <td>-32.0</td>\n",
       "      <td>1.0</td>\n",
       "      <td>3236</td>\n",
       "      <td>NaN</td>\n",
       "    </tr>\n",
       "    <tr>\n",
       "      <th>22</th>\n",
       "      <td>44841</td>\n",
       "      <td>Наш парень - псих</td>\n",
       "      <td>Наш парень - псих</td>\n",
       "      <td>28.0</td>\n",
       "      <td>19</td>\n",
       "      <td>1100100000011010000100001100101000001011100000...</td>\n",
       "      <td>1079.0</td>\n",
       "      <td>48.0</td>\n",
       "      <td>1024.0</td>\n",
       "      <td>29.0</td>\n",
       "      <td>1079</td>\n",
       "      <td>178</td>\n",
       "      <td>48.0</td>\n",
       "      <td>1.0</td>\n",
       "      <td>3236</td>\n",
       "      <td>NaN</td>\n",
       "    </tr>\n",
       "    <tr>\n",
       "      <th>23</th>\n",
       "      <td>45551</td>\n",
       "      <td>Станочницы</td>\n",
       "      <td>Станочницы</td>\n",
       "      <td>12.0</td>\n",
       "      <td>33</td>\n",
       "      <td>1110110001001010010111101111001111000001101000...</td>\n",
       "      <td>2217.0</td>\n",
       "      <td>176.0</td>\n",
       "      <td>2550.0</td>\n",
       "      <td>21.0</td>\n",
       "      <td>2217</td>\n",
       "      <td>648</td>\n",
       "      <td>176.0</td>\n",
       "      <td>1.0</td>\n",
       "      <td>3236</td>\n",
       "      <td>NaN</td>\n",
       "    </tr>\n",
       "    <tr>\n",
       "      <th>24</th>\n",
       "      <td>45556</td>\n",
       "      <td>Рабочее название</td>\n",
       "      <td>Рабочее название</td>\n",
       "      <td>1.0</td>\n",
       "      <td>58</td>\n",
       "      <td>1111110111110110111111111101111110101111101110...</td>\n",
       "      <td>2296.0</td>\n",
       "      <td>50.0</td>\n",
       "      <td>10186.0</td>\n",
       "      <td>1.0</td>\n",
       "      <td>2296</td>\n",
       "      <td>1676</td>\n",
       "      <td>50.0</td>\n",
       "      <td>1.0</td>\n",
       "      <td>3236</td>\n",
       "      <td>NaN</td>\n",
       "    </tr>\n",
       "    <tr>\n",
       "      <th>25</th>\n",
       "      <td>45585</td>\n",
       "      <td>Кровлю Кромвеля снесло</td>\n",
       "      <td>Кровлю Кромвеля снесло</td>\n",
       "      <td>16.0</td>\n",
       "      <td>30</td>\n",
       "      <td>1010000000010110000011001101100111001111101000...</td>\n",
       "      <td>0.0</td>\n",
       "      <td>-24.0</td>\n",
       "      <td>3194.0</td>\n",
       "      <td>12.0</td>\n",
       "      <td>2168</td>\n",
       "      <td>596</td>\n",
       "      <td>-24.0</td>\n",
       "      <td>0.0</td>\n",
       "      <td>3236</td>\n",
       "      <td>NaN</td>\n",
       "    </tr>\n",
       "    <tr>\n",
       "      <th>26</th>\n",
       "      <td>46252</td>\n",
       "      <td>Почта России</td>\n",
       "      <td>Почта России</td>\n",
       "      <td>9.5</td>\n",
       "      <td>38</td>\n",
       "      <td>1111110101011100001110011101111111001011001000...</td>\n",
       "      <td>0.0</td>\n",
       "      <td>45.0</td>\n",
       "      <td>3132.0</td>\n",
       "      <td>14.0</td>\n",
       "      <td>2245</td>\n",
       "      <td>691</td>\n",
       "      <td>45.0</td>\n",
       "      <td>1.0</td>\n",
       "      <td>3236</td>\n",
       "      <td>NaN</td>\n",
       "    </tr>\n",
       "    <tr>\n",
       "      <th>27</th>\n",
       "      <td>48382</td>\n",
       "      <td>Целофанопатия</td>\n",
       "      <td>Целофанопатия</td>\n",
       "      <td>31.0</td>\n",
       "      <td>3</td>\n",
       "      <td>0000000100000000000000000000000000000000100000...</td>\n",
       "      <td>87.0</td>\n",
       "      <td>-20.0</td>\n",
       "      <td>424.0</td>\n",
       "      <td>30.0</td>\n",
       "      <td>87</td>\n",
       "      <td>9</td>\n",
       "      <td>-20.0</td>\n",
       "      <td>1.0</td>\n",
       "      <td>3236</td>\n",
       "      <td>NaN</td>\n",
       "    </tr>\n",
       "    <tr>\n",
       "      <th>28</th>\n",
       "      <td>49636</td>\n",
       "      <td>Художественный университет</td>\n",
       "      <td>Художественный университет</td>\n",
       "      <td>29.0</td>\n",
       "      <td>18</td>\n",
       "      <td>1010000100001000000100000010001001001101010000...</td>\n",
       "      <td>893.0</td>\n",
       "      <td>-51.0</td>\n",
       "      <td>1375.0</td>\n",
       "      <td>27.0</td>\n",
       "      <td>893</td>\n",
       "      <td>130</td>\n",
       "      <td>-51.0</td>\n",
       "      <td>1.0</td>\n",
       "      <td>3236</td>\n",
       "      <td>NaN</td>\n",
       "    </tr>\n",
       "    <tr>\n",
       "      <th>29</th>\n",
       "      <td>51107</td>\n",
       "      <td>TrueSkill</td>\n",
       "      <td>TrueSkill</td>\n",
       "      <td>19.0</td>\n",
       "      <td>27</td>\n",
       "      <td>0110110100000111001110011001101110000111001000...</td>\n",
       "      <td>0.0</td>\n",
       "      <td>-58.0</td>\n",
       "      <td>3167.0</td>\n",
       "      <td>13.0</td>\n",
       "      <td>2113</td>\n",
       "      <td>521</td>\n",
       "      <td>-58.0</td>\n",
       "      <td>0.0</td>\n",
       "      <td>3236</td>\n",
       "      <td>NaN</td>\n",
       "    </tr>\n",
       "    <tr>\n",
       "      <th>...</th>\n",
       "      <td>...</td>\n",
       "      <td>...</td>\n",
       "      <td>...</td>\n",
       "      <td>...</td>\n",
       "      <td>...</td>\n",
       "      <td>...</td>\n",
       "      <td>...</td>\n",
       "      <td>...</td>\n",
       "      <td>...</td>\n",
       "      <td>...</td>\n",
       "      <td>...</td>\n",
       "      <td>...</td>\n",
       "      <td>...</td>\n",
       "      <td>...</td>\n",
       "      <td>...</td>\n",
       "      <td>...</td>\n",
       "    </tr>\n",
       "    <tr>\n",
       "      <th>337805</th>\n",
       "      <td>65764</td>\n",
       "      <td>Крепкий орешек</td>\n",
       "      <td>Крепкий орешек</td>\n",
       "      <td>86.5</td>\n",
       "      <td>5</td>\n",
       "      <td>101000000000100000001000000000001000</td>\n",
       "      <td>0.0</td>\n",
       "      <td>50.0</td>\n",
       "      <td>349.0</td>\n",
       "      <td>80.0</td>\n",
       "      <td>0</td>\n",
       "      <td>50</td>\n",
       "      <td>-8.0</td>\n",
       "      <td>1.0</td>\n",
       "      <td>5362</td>\n",
       "      <td>-8.0</td>\n",
       "    </tr>\n",
       "    <tr>\n",
       "      <th>337806</th>\n",
       "      <td>65971</td>\n",
       "      <td>Сборная Луганска</td>\n",
       "      <td>Сборная Луганска</td>\n",
       "      <td>69.0</td>\n",
       "      <td>7</td>\n",
       "      <td>101000000010000010000000100100001000</td>\n",
       "      <td>0.0</td>\n",
       "      <td>201.0</td>\n",
       "      <td>1360.0</td>\n",
       "      <td>54.0</td>\n",
       "      <td>0</td>\n",
       "      <td>201</td>\n",
       "      <td>-32.0</td>\n",
       "      <td>1.0</td>\n",
       "      <td>5362</td>\n",
       "      <td>-32.0</td>\n",
       "    </tr>\n",
       "    <tr>\n",
       "      <th>337807</th>\n",
       "      <td>66188</td>\n",
       "      <td>Дай 4</td>\n",
       "      <td>Дай 4</td>\n",
       "      <td>14.5</td>\n",
       "      <td>13</td>\n",
       "      <td>111010000111000110000000010001101000</td>\n",
       "      <td>0.0</td>\n",
       "      <td>951.0</td>\n",
       "      <td>4620.0</td>\n",
       "      <td>6.0</td>\n",
       "      <td>1822</td>\n",
       "      <td>951</td>\n",
       "      <td>-42.0</td>\n",
       "      <td>0.0</td>\n",
       "      <td>5362</td>\n",
       "      <td>-42.0</td>\n",
       "    </tr>\n",
       "    <tr>\n",
       "      <th>337808</th>\n",
       "      <td>66459</td>\n",
       "      <td>Она не стоит того</td>\n",
       "      <td>Она не стоит того</td>\n",
       "      <td>49.5</td>\n",
       "      <td>9</td>\n",
       "      <td>011000000001001010000000000001101001</td>\n",
       "      <td>0.0</td>\n",
       "      <td>384.0</td>\n",
       "      <td>3961.0</td>\n",
       "      <td>15.0</td>\n",
       "      <td>0</td>\n",
       "      <td>384</td>\n",
       "      <td>-141.0</td>\n",
       "      <td>0.0</td>\n",
       "      <td>5362</td>\n",
       "      <td>-141.0</td>\n",
       "    </tr>\n",
       "    <tr>\n",
       "      <th>337809</th>\n",
       "      <td>66462</td>\n",
       "      <td>Горбачевского 32</td>\n",
       "      <td>Железный буй</td>\n",
       "      <td>86.5</td>\n",
       "      <td>5</td>\n",
       "      <td>001000000001000010000000100000001000</td>\n",
       "      <td>0.0</td>\n",
       "      <td>50.0</td>\n",
       "      <td>2359.0</td>\n",
       "      <td>37.0</td>\n",
       "      <td>0</td>\n",
       "      <td>50</td>\n",
       "      <td>-133.0</td>\n",
       "      <td>0.0</td>\n",
       "      <td>5362</td>\n",
       "      <td>-133.0</td>\n",
       "    </tr>\n",
       "    <tr>\n",
       "      <th>337810</th>\n",
       "      <td>66710</td>\n",
       "      <td>All inclusive</td>\n",
       "      <td>All inclusive</td>\n",
       "      <td>14.5</td>\n",
       "      <td>13</td>\n",
       "      <td>111000000010010010000000101000111011</td>\n",
       "      <td>1822.0</td>\n",
       "      <td>951.0</td>\n",
       "      <td>432.0</td>\n",
       "      <td>78.0</td>\n",
       "      <td>1822</td>\n",
       "      <td>951</td>\n",
       "      <td>430.0</td>\n",
       "      <td>1.0</td>\n",
       "      <td>5362</td>\n",
       "      <td>430.0</td>\n",
       "    </tr>\n",
       "    <tr>\n",
       "      <th>337811</th>\n",
       "      <td>66711</td>\n",
       "      <td>КГБ Ноябрьская Городская Больница</td>\n",
       "      <td>КГБ Ноябрьская Городская Больница</td>\n",
       "      <td>10.0</td>\n",
       "      <td>14</td>\n",
       "      <td>110011000010110010000001001000111010</td>\n",
       "      <td>2025.0</td>\n",
       "      <td>1063.0</td>\n",
       "      <td>764.0</td>\n",
       "      <td>72.0</td>\n",
       "      <td>2025</td>\n",
       "      <td>1063</td>\n",
       "      <td>454.0</td>\n",
       "      <td>1.0</td>\n",
       "      <td>5362</td>\n",
       "      <td>454.0</td>\n",
       "    </tr>\n",
       "    <tr>\n",
       "      <th>337812</th>\n",
       "      <td>66712</td>\n",
       "      <td>All exclusive</td>\n",
       "      <td>All exclusive</td>\n",
       "      <td>86.5</td>\n",
       "      <td>5</td>\n",
       "      <td>101000000000000000000000101000001000</td>\n",
       "      <td>0.0</td>\n",
       "      <td>50.0</td>\n",
       "      <td>194.0</td>\n",
       "      <td>88.0</td>\n",
       "      <td>0</td>\n",
       "      <td>50</td>\n",
       "      <td>4.0</td>\n",
       "      <td>1.0</td>\n",
       "      <td>5362</td>\n",
       "      <td>4.0</td>\n",
       "    </tr>\n",
       "    <tr>\n",
       "      <th>337813</th>\n",
       "      <td>66744</td>\n",
       "      <td>Ну и ну...</td>\n",
       "      <td>НИИ им. Е. Берковой</td>\n",
       "      <td>49.5</td>\n",
       "      <td>9</td>\n",
       "      <td>101100000001110010000000100000001000</td>\n",
       "      <td>0.0</td>\n",
       "      <td>384.0</td>\n",
       "      <td>1582.0</td>\n",
       "      <td>50.0</td>\n",
       "      <td>0</td>\n",
       "      <td>384</td>\n",
       "      <td>2.0</td>\n",
       "      <td>0.0</td>\n",
       "      <td>5362</td>\n",
       "      <td>2.0</td>\n",
       "    </tr>\n",
       "    <tr>\n",
       "      <th>337814</th>\n",
       "      <td>67079</td>\n",
       "      <td>Pont Адольфа</td>\n",
       "      <td>Pont Адольфа</td>\n",
       "      <td>22.0</td>\n",
       "      <td>12</td>\n",
       "      <td>101011010010100010000001000001001100</td>\n",
       "      <td>0.0</td>\n",
       "      <td>810.0</td>\n",
       "      <td>276.0</td>\n",
       "      <td>84.0</td>\n",
       "      <td>1373</td>\n",
       "      <td>810</td>\n",
       "      <td>375.0</td>\n",
       "      <td>0.0</td>\n",
       "      <td>5362</td>\n",
       "      <td>375.0</td>\n",
       "    </tr>\n",
       "    <tr>\n",
       "      <th>337815</th>\n",
       "      <td>67088</td>\n",
       "      <td>ФрендZона</td>\n",
       "      <td>ФрендZона</td>\n",
       "      <td>104.5</td>\n",
       "      <td>1</td>\n",
       "      <td>001000000000000000000000000000000000</td>\n",
       "      <td>0.0</td>\n",
       "      <td>0.0</td>\n",
       "      <td>4.0</td>\n",
       "      <td>100.0</td>\n",
       "      <td>0</td>\n",
       "      <td>0</td>\n",
       "      <td>-1.0</td>\n",
       "      <td>0.0</td>\n",
       "      <td>5362</td>\n",
       "      <td>-1.0</td>\n",
       "    </tr>\n",
       "    <tr>\n",
       "      <th>337816</th>\n",
       "      <td>68216</td>\n",
       "      <td>Усишки Друзя</td>\n",
       "      <td>Усишки Друзя</td>\n",
       "      <td>49.5</td>\n",
       "      <td>9</td>\n",
       "      <td>101010000001000010000000110000001001</td>\n",
       "      <td>0.0</td>\n",
       "      <td>384.0</td>\n",
       "      <td>0.0</td>\n",
       "      <td>103.5</td>\n",
       "      <td>0</td>\n",
       "      <td>384</td>\n",
       "      <td>193.0</td>\n",
       "      <td>0.0</td>\n",
       "      <td>5362</td>\n",
       "      <td>193.0</td>\n",
       "    </tr>\n",
       "    <tr>\n",
       "      <th>337817</th>\n",
       "      <td>68268</td>\n",
       "      <td>Слабоумие и отвага</td>\n",
       "      <td>Слабоумие и отвага</td>\n",
       "      <td>78.0</td>\n",
       "      <td>6</td>\n",
       "      <td>100001000000000001000000100000001001</td>\n",
       "      <td>0.0</td>\n",
       "      <td>97.0</td>\n",
       "      <td>89.0</td>\n",
       "      <td>93.0</td>\n",
       "      <td>0</td>\n",
       "      <td>97</td>\n",
       "      <td>40.0</td>\n",
       "      <td>1.0</td>\n",
       "      <td>5362</td>\n",
       "      <td>40.0</td>\n",
       "    </tr>\n",
       "    <tr>\n",
       "      <th>337818</th>\n",
       "      <td>68271</td>\n",
       "      <td>Ума палата</td>\n",
       "      <td>Ума палата</td>\n",
       "      <td>32.5</td>\n",
       "      <td>11</td>\n",
       "      <td>110100000011000010000001001000101001</td>\n",
       "      <td>0.0</td>\n",
       "      <td>656.0</td>\n",
       "      <td>66.0</td>\n",
       "      <td>94.0</td>\n",
       "      <td>598</td>\n",
       "      <td>656</td>\n",
       "      <td>215.0</td>\n",
       "      <td>1.0</td>\n",
       "      <td>5362</td>\n",
       "      <td>215.0</td>\n",
       "    </tr>\n",
       "    <tr>\n",
       "      <th>337819</th>\n",
       "      <td>68274</td>\n",
       "      <td>Подземляне</td>\n",
       "      <td>Подземляне</td>\n",
       "      <td>58.5</td>\n",
       "      <td>8</td>\n",
       "      <td>001100000010110000000000001000001001</td>\n",
       "      <td>0.0</td>\n",
       "      <td>290.0</td>\n",
       "      <td>9.0</td>\n",
       "      <td>99.0</td>\n",
       "      <td>0</td>\n",
       "      <td>290</td>\n",
       "      <td>145.0</td>\n",
       "      <td>1.0</td>\n",
       "      <td>5362</td>\n",
       "      <td>145.0</td>\n",
       "    </tr>\n",
       "    <tr>\n",
       "      <th>337820</th>\n",
       "      <td>68280</td>\n",
       "      <td>Дилетанты</td>\n",
       "      <td>Дилетанты</td>\n",
       "      <td>95.5</td>\n",
       "      <td>4</td>\n",
       "      <td>001000000000000010000000000000001010</td>\n",
       "      <td>0.0</td>\n",
       "      <td>10.0</td>\n",
       "      <td>0.0</td>\n",
       "      <td>103.5</td>\n",
       "      <td>0</td>\n",
       "      <td>10</td>\n",
       "      <td>5.0</td>\n",
       "      <td>1.0</td>\n",
       "      <td>5362</td>\n",
       "      <td>5.0</td>\n",
       "    </tr>\n",
       "    <tr>\n",
       "      <th>337821</th>\n",
       "      <td>68769</td>\n",
       "      <td>Квинтет имени Наташи Ростовой</td>\n",
       "      <td>Секстет имени Наташи Ростовой</td>\n",
       "      <td>78.0</td>\n",
       "      <td>6</td>\n",
       "      <td>001110000000000010001000000000001000</td>\n",
       "      <td>0.0</td>\n",
       "      <td>97.0</td>\n",
       "      <td>953.0</td>\n",
       "      <td>67.0</td>\n",
       "      <td>0</td>\n",
       "      <td>97</td>\n",
       "      <td>-32.0</td>\n",
       "      <td>1.0</td>\n",
       "      <td>5362</td>\n",
       "      <td>-32.0</td>\n",
       "    </tr>\n",
       "    <tr>\n",
       "      <th>337822</th>\n",
       "      <td>68884</td>\n",
       "      <td>Инкогнито</td>\n",
       "      <td>Инкогнито</td>\n",
       "      <td>104.5</td>\n",
       "      <td>1</td>\n",
       "      <td>000000000000000000000000000000001000</td>\n",
       "      <td>0.0</td>\n",
       "      <td>0.0</td>\n",
       "      <td>3.0</td>\n",
       "      <td>101.0</td>\n",
       "      <td>0</td>\n",
       "      <td>0</td>\n",
       "      <td>0.0</td>\n",
       "      <td>0.0</td>\n",
       "      <td>5362</td>\n",
       "      <td>0.0</td>\n",
       "    </tr>\n",
       "    <tr>\n",
       "      <th>337823</th>\n",
       "      <td>68885</td>\n",
       "      <td>Борис Ельцин</td>\n",
       "      <td>Борис Ельцин</td>\n",
       "      <td>95.5</td>\n",
       "      <td>4</td>\n",
       "      <td>000100000000000000000000000000101001</td>\n",
       "      <td>0.0</td>\n",
       "      <td>10.0</td>\n",
       "      <td>32.0</td>\n",
       "      <td>97.0</td>\n",
       "      <td>0</td>\n",
       "      <td>10</td>\n",
       "      <td>2.0</td>\n",
       "      <td>0.0</td>\n",
       "      <td>5362</td>\n",
       "      <td>2.0</td>\n",
       "    </tr>\n",
       "    <tr>\n",
       "      <th>337824</th>\n",
       "      <td>68888</td>\n",
       "      <td>Молодёжное мракобесие</td>\n",
       "      <td>Молодёжное мракобесие</td>\n",
       "      <td>69.0</td>\n",
       "      <td>7</td>\n",
       "      <td>011000000001000010000000100000101000</td>\n",
       "      <td>0.0</td>\n",
       "      <td>201.0</td>\n",
       "      <td>3256.0</td>\n",
       "      <td>23.0</td>\n",
       "      <td>0</td>\n",
       "      <td>201</td>\n",
       "      <td>-151.0</td>\n",
       "      <td>0.0</td>\n",
       "      <td>5362</td>\n",
       "      <td>-151.0</td>\n",
       "    </tr>\n",
       "    <tr>\n",
       "      <th>337825</th>\n",
       "      <td>68892</td>\n",
       "      <td>Carpe diem</td>\n",
       "      <td>Carpe diem</td>\n",
       "      <td>86.5</td>\n",
       "      <td>5</td>\n",
       "      <td>001100000001000010000000000000001000</td>\n",
       "      <td>0.0</td>\n",
       "      <td>50.0</td>\n",
       "      <td>0.0</td>\n",
       "      <td>103.5</td>\n",
       "      <td>0</td>\n",
       "      <td>50</td>\n",
       "      <td>17.0</td>\n",
       "      <td>1.0</td>\n",
       "      <td>5362</td>\n",
       "      <td>17.0</td>\n",
       "    </tr>\n",
       "    <tr>\n",
       "      <th>337826</th>\n",
       "      <td>68899</td>\n",
       "      <td>Студенческая сборная Серпухова</td>\n",
       "      <td>Студенческая сборная Серпухова</td>\n",
       "      <td>42.0</td>\n",
       "      <td>10</td>\n",
       "      <td>101010000101000010000000101000101000</td>\n",
       "      <td>0.0</td>\n",
       "      <td>481.0</td>\n",
       "      <td>1276.0</td>\n",
       "      <td>57.0</td>\n",
       "      <td>48</td>\n",
       "      <td>481</td>\n",
       "      <td>88.0</td>\n",
       "      <td>0.0</td>\n",
       "      <td>5362</td>\n",
       "      <td>88.0</td>\n",
       "    </tr>\n",
       "    <tr>\n",
       "      <th>337827</th>\n",
       "      <td>68931</td>\n",
       "      <td>Грустные устрицы</td>\n",
       "      <td>Грустные устрицы</td>\n",
       "      <td>32.5</td>\n",
       "      <td>11</td>\n",
       "      <td>011010000100100010000000101000101001</td>\n",
       "      <td>0.0</td>\n",
       "      <td>656.0</td>\n",
       "      <td>1577.0</td>\n",
       "      <td>51.0</td>\n",
       "      <td>598</td>\n",
       "      <td>656</td>\n",
       "      <td>145.0</td>\n",
       "      <td>0.0</td>\n",
       "      <td>5362</td>\n",
       "      <td>145.0</td>\n",
       "    </tr>\n",
       "    <tr>\n",
       "      <th>337828</th>\n",
       "      <td>1223</td>\n",
       "      <td>Ва-банк</td>\n",
       "      <td>Ва-банк</td>\n",
       "      <td>3.5</td>\n",
       "      <td>18</td>\n",
       "      <td>010100111000101101010011100101010011</td>\n",
       "      <td>1215.0</td>\n",
       "      <td>505.0</td>\n",
       "      <td>2311.0</td>\n",
       "      <td>4.0</td>\n",
       "      <td>1215</td>\n",
       "      <td>505</td>\n",
       "      <td>65.0</td>\n",
       "      <td>1.0</td>\n",
       "      <td>5378</td>\n",
       "      <td>65.0</td>\n",
       "    </tr>\n",
       "    <tr>\n",
       "      <th>337829</th>\n",
       "      <td>2065</td>\n",
       "      <td>Сирин</td>\n",
       "      <td>Сирин</td>\n",
       "      <td>2.0</td>\n",
       "      <td>19</td>\n",
       "      <td>110100110100101001010111110011000011</td>\n",
       "      <td>1787.0</td>\n",
       "      <td>751.0</td>\n",
       "      <td>3743.0</td>\n",
       "      <td>2.0</td>\n",
       "      <td>1787</td>\n",
       "      <td>751</td>\n",
       "      <td>3.0</td>\n",
       "      <td>1.0</td>\n",
       "      <td>5378</td>\n",
       "      <td>3.0</td>\n",
       "    </tr>\n",
       "    <tr>\n",
       "      <th>337830</th>\n",
       "      <td>2318</td>\n",
       "      <td>Алтын Асыр</td>\n",
       "      <td>Алтын Асыр</td>\n",
       "      <td>3.5</td>\n",
       "      <td>18</td>\n",
       "      <td>100100101100101100110110100011001011</td>\n",
       "      <td>1215.0</td>\n",
       "      <td>505.0</td>\n",
       "      <td>1781.0</td>\n",
       "      <td>5.0</td>\n",
       "      <td>1215</td>\n",
       "      <td>505</td>\n",
       "      <td>200.0</td>\n",
       "      <td>1.0</td>\n",
       "      <td>5378</td>\n",
       "      <td>200.0</td>\n",
       "    </tr>\n",
       "    <tr>\n",
       "      <th>337831</th>\n",
       "      <td>42045</td>\n",
       "      <td>Папирус</td>\n",
       "      <td>Папирус</td>\n",
       "      <td>6.0</td>\n",
       "      <td>10</td>\n",
       "      <td>100000101100001000000011001001000001</td>\n",
       "      <td>0.0</td>\n",
       "      <td>167.0</td>\n",
       "      <td>1203.0</td>\n",
       "      <td>6.0</td>\n",
       "      <td>0</td>\n",
       "      <td>167</td>\n",
       "      <td>0.0</td>\n",
       "      <td>1.0</td>\n",
       "      <td>5378</td>\n",
       "      <td>0.0</td>\n",
       "    </tr>\n",
       "    <tr>\n",
       "      <th>337832</th>\n",
       "      <td>53485</td>\n",
       "      <td>МТС</td>\n",
       "      <td>МТС</td>\n",
       "      <td>1.0</td>\n",
       "      <td>21</td>\n",
       "      <td>111100111100101101001011101001011001</td>\n",
       "      <td>2009.0</td>\n",
       "      <td>1010.0</td>\n",
       "      <td>2786.0</td>\n",
       "      <td>3.0</td>\n",
       "      <td>2009</td>\n",
       "      <td>1010</td>\n",
       "      <td>449.0</td>\n",
       "      <td>1.0</td>\n",
       "      <td>5378</td>\n",
       "      <td>449.0</td>\n",
       "    </tr>\n",
       "    <tr>\n",
       "      <th>337833</th>\n",
       "      <td>59495</td>\n",
       "      <td>Ооо мая абарона</td>\n",
       "      <td>ООО Моя оборона</td>\n",
       "      <td>7.0</td>\n",
       "      <td>9</td>\n",
       "      <td>100000001000000000010011110001000001</td>\n",
       "      <td>0.0</td>\n",
       "      <td>34.0</td>\n",
       "      <td>5087.0</td>\n",
       "      <td>1.0</td>\n",
       "      <td>0</td>\n",
       "      <td>34</td>\n",
       "      <td>-488.0</td>\n",
       "      <td>0.0</td>\n",
       "      <td>5378</td>\n",
       "      <td>-488.0</td>\n",
       "    </tr>\n",
       "    <tr>\n",
       "      <th>337834</th>\n",
       "      <td>67079</td>\n",
       "      <td>Pont Адольфа</td>\n",
       "      <td>Pont Адольфа</td>\n",
       "      <td>5.0</td>\n",
       "      <td>11</td>\n",
       "      <td>110000001100000000000100110010000111</td>\n",
       "      <td>0.0</td>\n",
       "      <td>306.0</td>\n",
       "      <td>276.0</td>\n",
       "      <td>7.0</td>\n",
       "      <td>11</td>\n",
       "      <td>306</td>\n",
       "      <td>273.0</td>\n",
       "      <td>0.0</td>\n",
       "      <td>5378</td>\n",
       "      <td>273.0</td>\n",
       "    </tr>\n",
       "  </tbody>\n",
       "</table>\n",
       "<p>334153 rows × 16 columns</p>\n",
       "</div>"
      ],
      "text/plain": [
       "        idteam                       current_name  \\\n",
       "0          209                  Команда Коваленко   \n",
       "1          270                              Синоп   \n",
       "2          358                                 43   \n",
       "3          482                             Нимлот   \n",
       "4         1948                          Doom-Doom   \n",
       "5         2298             Макароны под плинтусом   \n",
       "6         3213                Дикие бозоны Хиггса   \n",
       "7         3930                         Версий.net   \n",
       "8         3951                            Eclipse   \n",
       "9         4822                          Беспредел   \n",
       "10        4952                      Бес капитанов   \n",
       "11        5170                            Бриз-88   \n",
       "12        5708                       Второй фронт   \n",
       "13       27171                          Белый шум   \n",
       "14       27177                      Призраки Коши   \n",
       "15       27568                       Ergo bibamus   \n",
       "16       28136                          Кошкин Ёт   \n",
       "17       38429                       Команда пьёт   \n",
       "18       38438                 Негодный буцентавр   \n",
       "19       39307                        Сборная ЮВП   \n",
       "20       39899                     Чудо-пластелин   \n",
       "21       44693                  Неопытный образец   \n",
       "22       44841                  Наш парень - псих   \n",
       "23       45551                         Станочницы   \n",
       "24       45556                   Рабочее название   \n",
       "25       45585             Кровлю Кромвеля снесло   \n",
       "26       46252                       Почта России   \n",
       "27       48382                      Целофанопатия   \n",
       "28       49636         Художественный университет   \n",
       "29       51107                          TrueSkill   \n",
       "...        ...                                ...   \n",
       "337805   65764                     Крепкий орешек   \n",
       "337806   65971                   Сборная Луганска   \n",
       "337807   66188                              Дай 4   \n",
       "337808   66459                  Она не стоит того   \n",
       "337809   66462                   Горбачевского 32   \n",
       "337810   66710                      All inclusive   \n",
       "337811   66711  КГБ Ноябрьская Городская Больница   \n",
       "337812   66712                      All exclusive   \n",
       "337813   66744                         Ну и ну...   \n",
       "337814   67079                       Pont Адольфа   \n",
       "337815   67088                          ФрендZона   \n",
       "337816   68216                       Усишки Друзя   \n",
       "337817   68268                 Слабоумие и отвага   \n",
       "337818   68271                         Ума палата   \n",
       "337819   68274                         Подземляне   \n",
       "337820   68280                          Дилетанты   \n",
       "337821   68769      Квинтет имени Наташи Ростовой   \n",
       "337822   68884                          Инкогнито   \n",
       "337823   68885                       Борис Ельцин   \n",
       "337824   68888              Молодёжное мракобесие   \n",
       "337825   68892                         Carpe diem   \n",
       "337826   68899     Студенческая сборная Серпухова   \n",
       "337827   68931                   Грустные устрицы   \n",
       "337828    1223                            Ва-банк   \n",
       "337829    2065                              Сирин   \n",
       "337830    2318                         Алтын Асыр   \n",
       "337831   42045                            Папирус   \n",
       "337832   53485                                МТС   \n",
       "337833   59495                    Ооо мая абарона   \n",
       "337834   67079                       Pont Адольфа   \n",
       "\n",
       "                                base_name  position  questions_total  \\\n",
       "0                       Команда Коваленко      11.0               34   \n",
       "1                                   Синоп      14.5               31   \n",
       "2                                      43      20.0               26   \n",
       "3                                  Нимлот      14.5               31   \n",
       "4                               Doom-Doom      17.5               29   \n",
       "5                  Макароны под плинтусом      24.0               21   \n",
       "6                     Дикие бозоны Хиггса       3.0               49   \n",
       "7                              Версий.net      24.0               21   \n",
       "8                                 Eclipse       5.0               44   \n",
       "9                               Беспредел      26.5               20   \n",
       "10                          Бес капитанов      21.0               24   \n",
       "11                                Бриз-88       9.5               38   \n",
       "12                           Второй фронт      22.0               22   \n",
       "13                              Белый шум      24.0               21   \n",
       "14                          Призраки Коши       4.0               47   \n",
       "15                           Ergo bibamus       6.5               40   \n",
       "16                              Кошкин Ёт      30.0               13   \n",
       "17                           Команда пьёт      13.0               32   \n",
       "18                     Негодный буцентавр       2.0               53   \n",
       "19                            Сборная ЮВП      17.5               29   \n",
       "20                       Чорный пластелин       6.5               40   \n",
       "21                      Неопытный образец      26.5               20   \n",
       "22                      Наш парень - псих      28.0               19   \n",
       "23                             Станочницы      12.0               33   \n",
       "24                       Рабочее название       1.0               58   \n",
       "25                 Кровлю Кромвеля снесло      16.0               30   \n",
       "26                           Почта России       9.5               38   \n",
       "27                          Целофанопатия      31.0                3   \n",
       "28             Художественный университет      29.0               18   \n",
       "29                              TrueSkill      19.0               27   \n",
       "...                                   ...       ...              ...   \n",
       "337805                     Крепкий орешек      86.5                5   \n",
       "337806                   Сборная Луганска      69.0                7   \n",
       "337807                              Дай 4      14.5               13   \n",
       "337808                  Она не стоит того      49.5                9   \n",
       "337809                       Железный буй      86.5                5   \n",
       "337810                      All inclusive      14.5               13   \n",
       "337811  КГБ Ноябрьская Городская Больница      10.0               14   \n",
       "337812                      All exclusive      86.5                5   \n",
       "337813                НИИ им. Е. Берковой      49.5                9   \n",
       "337814                       Pont Адольфа      22.0               12   \n",
       "337815                          ФрендZона     104.5                1   \n",
       "337816                       Усишки Друзя      49.5                9   \n",
       "337817                 Слабоумие и отвага      78.0                6   \n",
       "337818                         Ума палата      32.5               11   \n",
       "337819                         Подземляне      58.5                8   \n",
       "337820                          Дилетанты      95.5                4   \n",
       "337821      Секстет имени Наташи Ростовой      78.0                6   \n",
       "337822                          Инкогнито     104.5                1   \n",
       "337823                       Борис Ельцин      95.5                4   \n",
       "337824              Молодёжное мракобесие      69.0                7   \n",
       "337825                         Carpe diem      86.5                5   \n",
       "337826     Студенческая сборная Серпухова      42.0               10   \n",
       "337827                   Грустные устрицы      32.5               11   \n",
       "337828                            Ва-банк       3.5               18   \n",
       "337829                              Сирин       2.0               19   \n",
       "337830                         Алтын Асыр       3.5               18   \n",
       "337831                            Папирус       6.0               10   \n",
       "337832                                МТС       1.0               21   \n",
       "337833                    ООО Моя оборона       7.0                9   \n",
       "337834                       Pont Адольфа       5.0               11   \n",
       "\n",
       "                                                     mask  bonus_a  bonus_b  \\\n",
       "0       1111101000101111001100011000111101001111001110...   2230.0    -87.0   \n",
       "1       1110110000101100001100101101101101010011010000...   2189.0    119.0   \n",
       "2       1111110000011100000010011111100001000111001000...   2074.0   -100.0   \n",
       "3       1101100000001110001011011101111111101111100100...   2189.0    -29.0   \n",
       "4       1111010010110110001000011001101100101001000000...   2145.0     38.0   \n",
       "5       1100000010000100000100011101101001101101000000...   1721.0    -29.0   \n",
       "6       1110111011111111011110111101111111001111011000...      0.0      8.0   \n",
       "7       1110101000100000001110000101100111001001000000...   1721.0     20.0   \n",
       "8       1110110111100111101010011111101110101101101010...   2280.0    -50.0   \n",
       "9       1100001100001000000100000101000101101111010000...   1399.0     69.0   \n",
       "10      1110100010111000001100001001101101001011011000...   2006.0     51.0   \n",
       "11      1110000110101010011100101111111101101000001010...   2245.0    -28.0   \n",
       "12      1110000000100110011110011001101001000101000000...   1904.0    162.0   \n",
       "13      0010000001110101100100001001001101000100100000...   1721.0   -142.0   \n",
       "14      1100010111110111001011001001111111101111110110...   2286.0    123.0   \n",
       "15      1110110111110011100110001101111111001111011000...   2269.0    207.0   \n",
       "16      1100000100000000000100010101100001000001001000...    552.0     39.0   \n",
       "17      1110000100100100001110011001111101101111001000...   2205.0     65.0   \n",
       "18      1111110010110110101111011111111111101111100110...      0.0     15.0   \n",
       "19      1110000000110100001100011101111001001111011000...      0.0     22.0   \n",
       "20      1110110111001101001110001101111111101111011000...   2269.0    261.0   \n",
       "21      1001100000001010000010100000101001001111001000...   1399.0    -32.0   \n",
       "22      1100100000011010000100001100101000001011100000...   1079.0     48.0   \n",
       "23      1110110001001010010111101111001111000001101000...   2217.0    176.0   \n",
       "24      1111110111110110111111111101111110101111101110...   2296.0     50.0   \n",
       "25      1010000000010110000011001101100111001111101000...      0.0    -24.0   \n",
       "26      1111110101011100001110011101111111001011001000...      0.0     45.0   \n",
       "27      0000000100000000000000000000000000000000100000...     87.0    -20.0   \n",
       "28      1010000100001000000100000010001001001101010000...    893.0    -51.0   \n",
       "29      0110110100000111001110011001101110000111001000...      0.0    -58.0   \n",
       "...                                                   ...      ...      ...   \n",
       "337805               101000000000100000001000000000001000      0.0     50.0   \n",
       "337806               101000000010000010000000100100001000      0.0    201.0   \n",
       "337807               111010000111000110000000010001101000      0.0    951.0   \n",
       "337808               011000000001001010000000000001101001      0.0    384.0   \n",
       "337809               001000000001000010000000100000001000      0.0     50.0   \n",
       "337810               111000000010010010000000101000111011   1822.0    951.0   \n",
       "337811               110011000010110010000001001000111010   2025.0   1063.0   \n",
       "337812               101000000000000000000000101000001000      0.0     50.0   \n",
       "337813               101100000001110010000000100000001000      0.0    384.0   \n",
       "337814               101011010010100010000001000001001100      0.0    810.0   \n",
       "337815               001000000000000000000000000000000000      0.0      0.0   \n",
       "337816               101010000001000010000000110000001001      0.0    384.0   \n",
       "337817               100001000000000001000000100000001001      0.0     97.0   \n",
       "337818               110100000011000010000001001000101001      0.0    656.0   \n",
       "337819               001100000010110000000000001000001001      0.0    290.0   \n",
       "337820               001000000000000010000000000000001010      0.0     10.0   \n",
       "337821               001110000000000010001000000000001000      0.0     97.0   \n",
       "337822               000000000000000000000000000000001000      0.0      0.0   \n",
       "337823               000100000000000000000000000000101001      0.0     10.0   \n",
       "337824               011000000001000010000000100000101000      0.0    201.0   \n",
       "337825               001100000001000010000000000000001000      0.0     50.0   \n",
       "337826               101010000101000010000000101000101000      0.0    481.0   \n",
       "337827               011010000100100010000000101000101001      0.0    656.0   \n",
       "337828               010100111000101101010011100101010011   1215.0    505.0   \n",
       "337829               110100110100101001010111110011000011   1787.0    751.0   \n",
       "337830               100100101100101100110110100011001011   1215.0    505.0   \n",
       "337831               100000101100001000000011001001000001      0.0    167.0   \n",
       "337832               111100111100101101001011101001011001   2009.0   1010.0   \n",
       "337833               100000001000000000010011110001000001      0.0     34.0   \n",
       "337834               110000001100000000000100110010000111      0.0    306.0   \n",
       "\n",
       "        tech_rating  predicted_position  d_bonus_a  d_bonus_b  d_diff_bonus  \\\n",
       "0            4509.0                 7.0       2230        663         -87.0   \n",
       "1            2567.0                20.0       2189        618         119.0   \n",
       "2            3532.0                 9.0       2074        501        -100.0   \n",
       "3            3376.0                10.0       2189        618         -29.0   \n",
       "4            2629.0                19.0       2145        557          38.0   \n",
       "5            2086.0                23.0       1721        311         -29.0   \n",
       "6            6161.0                 3.0       2290       1197           8.0   \n",
       "7            1562.0                25.0       1721        311          20.0   \n",
       "8            6019.0                 4.0       2280       1012         -50.0   \n",
       "9            1105.0                28.0       1399        247          69.0   \n",
       "10           2319.0                22.0       2006        474          51.0   \n",
       "11           3896.0                 8.0       2245        691         -28.0   \n",
       "12           1436.0                26.0       1904        424         162.0   \n",
       "13           2993.0                16.0       1721        311        -142.0   \n",
       "14           5508.0                 5.0       2286       1125         123.0   \n",
       "15           3295.0                11.0       2269        866         207.0   \n",
       "16             91.0                31.0        552         48          39.0   \n",
       "17           2989.0                17.0       2205        639          65.0   \n",
       "18           6393.0                 2.0       2292       1256          15.0   \n",
       "19           2688.0                18.0       2145        557          22.0   \n",
       "20           3020.0                15.0       2269        866         261.0   \n",
       "21           1605.0                24.0       1399        247         -32.0   \n",
       "22           1024.0                29.0       1079        178          48.0   \n",
       "23           2550.0                21.0       2217        648         176.0   \n",
       "24          10186.0                 1.0       2296       1676          50.0   \n",
       "25           3194.0                12.0       2168        596         -24.0   \n",
       "26           3132.0                14.0       2245        691          45.0   \n",
       "27            424.0                30.0         87          9         -20.0   \n",
       "28           1375.0                27.0        893        130         -51.0   \n",
       "29           3167.0                13.0       2113        521         -58.0   \n",
       "...             ...                 ...        ...        ...           ...   \n",
       "337805        349.0                80.0          0         50          -8.0   \n",
       "337806       1360.0                54.0          0        201         -32.0   \n",
       "337807       4620.0                 6.0       1822        951         -42.0   \n",
       "337808       3961.0                15.0          0        384        -141.0   \n",
       "337809       2359.0                37.0          0         50        -133.0   \n",
       "337810        432.0                78.0       1822        951         430.0   \n",
       "337811        764.0                72.0       2025       1063         454.0   \n",
       "337812        194.0                88.0          0         50           4.0   \n",
       "337813       1582.0                50.0          0        384           2.0   \n",
       "337814        276.0                84.0       1373        810         375.0   \n",
       "337815          4.0               100.0          0          0          -1.0   \n",
       "337816          0.0               103.5          0        384         193.0   \n",
       "337817         89.0                93.0          0         97          40.0   \n",
       "337818         66.0                94.0        598        656         215.0   \n",
       "337819          9.0                99.0          0        290         145.0   \n",
       "337820          0.0               103.5          0         10           5.0   \n",
       "337821        953.0                67.0          0         97         -32.0   \n",
       "337822          3.0               101.0          0          0           0.0   \n",
       "337823         32.0                97.0          0         10           2.0   \n",
       "337824       3256.0                23.0          0        201        -151.0   \n",
       "337825          0.0               103.5          0         50          17.0   \n",
       "337826       1276.0                57.0         48        481          88.0   \n",
       "337827       1577.0                51.0        598        656         145.0   \n",
       "337828       2311.0                 4.0       1215        505          65.0   \n",
       "337829       3743.0                 2.0       1787        751           3.0   \n",
       "337830       1781.0                 5.0       1215        505         200.0   \n",
       "337831       1203.0                 6.0          0        167           0.0   \n",
       "337832       2786.0                 3.0       2009       1010         449.0   \n",
       "337833       5087.0                 1.0          0         34        -488.0   \n",
       "337834        276.0                 7.0         11        306         273.0   \n",
       "\n",
       "        included_in_rating  idtournament  diff_bonus  \n",
       "0                      1.0          3236         NaN  \n",
       "1                      1.0          3236         NaN  \n",
       "2                      1.0          3236         NaN  \n",
       "3                      1.0          3236         NaN  \n",
       "4                      1.0          3236         NaN  \n",
       "5                      1.0          3236         NaN  \n",
       "6                      1.0          3236         NaN  \n",
       "7                      1.0          3236         NaN  \n",
       "8                      1.0          3236         NaN  \n",
       "9                      1.0          3236         NaN  \n",
       "10                     1.0          3236         NaN  \n",
       "11                     1.0          3236         NaN  \n",
       "12                     1.0          3236         NaN  \n",
       "13                     1.0          3236         NaN  \n",
       "14                     1.0          3236         NaN  \n",
       "15                     1.0          3236         NaN  \n",
       "16                     1.0          3236         NaN  \n",
       "17                     1.0          3236         NaN  \n",
       "18                     0.0          3236         NaN  \n",
       "19                     0.0          3236         NaN  \n",
       "20                     1.0          3236         NaN  \n",
       "21                     1.0          3236         NaN  \n",
       "22                     1.0          3236         NaN  \n",
       "23                     1.0          3236         NaN  \n",
       "24                     1.0          3236         NaN  \n",
       "25                     0.0          3236         NaN  \n",
       "26                     1.0          3236         NaN  \n",
       "27                     1.0          3236         NaN  \n",
       "28                     1.0          3236         NaN  \n",
       "29                     0.0          3236         NaN  \n",
       "...                    ...           ...         ...  \n",
       "337805                 1.0          5362        -8.0  \n",
       "337806                 1.0          5362       -32.0  \n",
       "337807                 0.0          5362       -42.0  \n",
       "337808                 0.0          5362      -141.0  \n",
       "337809                 0.0          5362      -133.0  \n",
       "337810                 1.0          5362       430.0  \n",
       "337811                 1.0          5362       454.0  \n",
       "337812                 1.0          5362         4.0  \n",
       "337813                 0.0          5362         2.0  \n",
       "337814                 0.0          5362       375.0  \n",
       "337815                 0.0          5362        -1.0  \n",
       "337816                 0.0          5362       193.0  \n",
       "337817                 1.0          5362        40.0  \n",
       "337818                 1.0          5362       215.0  \n",
       "337819                 1.0          5362       145.0  \n",
       "337820                 1.0          5362         5.0  \n",
       "337821                 1.0          5362       -32.0  \n",
       "337822                 0.0          5362         0.0  \n",
       "337823                 0.0          5362         2.0  \n",
       "337824                 0.0          5362      -151.0  \n",
       "337825                 1.0          5362        17.0  \n",
       "337826                 0.0          5362        88.0  \n",
       "337827                 0.0          5362       145.0  \n",
       "337828                 1.0          5378        65.0  \n",
       "337829                 1.0          5378         3.0  \n",
       "337830                 1.0          5378       200.0  \n",
       "337831                 1.0          5378         0.0  \n",
       "337832                 1.0          5378       449.0  \n",
       "337833                 0.0          5378      -488.0  \n",
       "337834                 0.0          5378       273.0  \n",
       "\n",
       "[334153 rows x 16 columns]"
      ]
     },
     "execution_count": 15,
     "metadata": {},
     "output_type": "execute_result"
    }
   ],
   "source": [
    "def sgd(lr=0.01, epochs=10, steps_per_tour = 10, batch=10, certain_tour=None):\n",
    "    fails=0\n",
    "    fail_list = []\n",
    "    for _ in tqdm_notebook(range(epochs)):\n",
    "#     for _ in range(epochs):\n",
    "        # get random tournament, team and question\n",
    "\n",
    "        if certain_tour:\n",
    "            tour = certain_tour\n",
    "        else:\n",
    "            tour = random.sample(tournaments.index.tolist(), 1)[0]\n",
    "\n",
    "        t_subset = results.loc[results.idtournament == tour, ['idteam', 'mask']]\n",
    "        for _ in tqdm_notebook(range(steps_per_tour)):\n",
    "#         for _ in range(steps_per_tour):\n",
    "            team = random.sample(t_subset.idteam.tolist(), 1)[0]\n",
    "            players = roster.loc[(roster.idteam == team) & (roster.idtournament == tour), :].index.tolist()\n",
    "            quest = random.randint(0, int(tournaments.loc[tour, 'questions_total'])-1)\n",
    "\n",
    "            # get question difficulty\n",
    "            quest_dif_key = f\"{str(tour)}_{str(quest)}\"\n",
    "            try:\n",
    "                difficulty = question_difficulty[quest_dif_key]\n",
    "            except:\n",
    "                print('!', end='')\n",
    "                fails+=1\n",
    "                fail_list.append(quest_dif_key)\n",
    "                continue\n",
    "\n",
    "            skills = roster.loc[(roster.index.isin(players)) &\n",
    "                                (roster.idteam == team) &\n",
    "                                (roster.idtournament == tour), 'skill'].tolist()\n",
    "            team_skill = sum(skills)\n",
    "            team_sigmoid = sigmoid(team_skill - difficulty)\n",
    "\n",
    "            # get y (1 for correct answer, 0 for incorrect)\n",
    "            y_true = int(t_subset.loc[t_subset.idteam == team, 'mask'].values[0][quest])\n",
    "\n",
    "            # weights update\n",
    "            question_difficulty[quest_dif_key] -= lr * (y_true * (1-team_sigmoid) - (1-y_true)*team_sigmoid)\n",
    "            roster.loc[players, 'skill'] -= lr * (-y_true * (1-team_sigmoid) + (1-y_true)*team_sigmoid) / 6\n",
    "    print(f\"Fails: {fails}\")\n",
    "    return fail_list"
   ]
  },
  {
   "cell_type": "code",
   "execution_count": 16,
   "metadata": {},
   "outputs": [
    {
     "data": {
      "text/plain": [
       "[]"
      ]
     },
     "execution_count": 16,
     "metadata": {},
     "output_type": "execute_result"
    }
   ],
   "source": [
    "fl\n"
   ]
  },
  {
   "cell_type": "code",
   "execution_count": 17,
   "metadata": {},
   "outputs": [
    {
     "data": {
      "text/plain": [
       "0.3050268334131976"
      ]
     },
     "execution_count": 17,
     "metadata": {},
     "output_type": "execute_result"
    }
   ],
   "source": [
    "question_difficulty['450_13']"
   ]
  },
  {
   "cell_type": "code",
   "execution_count": 18,
   "metadata": {},
   "outputs": [
    {
     "data": {
      "text/plain": [
       "193447    0\n",
       "193448    0\n",
       "193449    0\n",
       "193450    0\n",
       "193451    0\n",
       "193452    0\n",
       "193453    0\n",
       "193454    0\n",
       "193455    0\n",
       "193456    0\n",
       "193457    0\n",
       "193458    0\n",
       "193459    0\n",
       "193460    0\n",
       "193461    0\n",
       "193462    0\n",
       "193463    0\n",
       "193464    0\n",
       "193465    0\n",
       "193466    0\n",
       "193467    0\n",
       "193468    0\n",
       "193469    0\n",
       "193470    0\n",
       "193471    0\n",
       "193472    0\n",
       "193473    0\n",
       "193474    0\n",
       "193475    0\n",
       "193476    0\n",
       "Name: mask, dtype: object"
      ]
     },
     "execution_count": 18,
     "metadata": {},
     "output_type": "execute_result"
    }
   ],
   "source": [
    "results.loc[results.idtournament==450, 'mask'].str[0]"
   ]
  }
 ],
 "metadata": {
  "kernelspec": {
   "display_name": "Python 3",
   "language": "python",
   "name": "python3"
  },
  "language_info": {
   "codemirror_mode": {
    "name": "ipython",
    "version": 3
   },
   "file_extension": ".py",
   "mimetype": "text/x-python",
   "name": "python",
   "nbconvert_exporter": "python",
   "pygments_lexer": "ipython3",
   "version": "3.7.1"
  }
 },
 "nbformat": 4,
 "nbformat_minor": 2
}
