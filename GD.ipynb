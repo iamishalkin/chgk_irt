{
 "cells": [
  {
   "cell_type": "code",
   "execution_count": 1,
   "metadata": {},
   "outputs": [],
   "source": [
    "import pandas as pd\n",
    "import random"
   ]
  },
  {
   "cell_type": "code",
   "execution_count": 2,
   "metadata": {},
   "outputs": [],
   "source": [
    "results = pd.read_csv('results.csv')\n",
    "results.loc[:, 'mask'] = results.loc[:, 'mask'].str.replace('X', '')\n",
    "roster = pd.read_csv('roster.csv').set_index('idplayer')\n",
    "tournaments = pd.read_csv('tournaments.csv').set_index('idtournament')\n",
    "tournaments = tournaments.loc[~tournaments.questions_total.isnull(), :]\n",
    "common_tours = list(set(tournaments.index).intersection(set(results.idtournament)))\n",
    "results = results.loc[results.idtournament.isin(common_tours), :]\n",
    "tournaments = tournaments.loc[common_tours, :]\n",
    "\n",
    "q_total = pd.DataFrame(results.groupby('idtournament').first()\\\n",
    "                       .loc[:, 'mask'].str.len()).dropna().rename(columns={'mask': 'questions_total'})\n",
    "tournaments = pd.merge(tournaments.drop(columns=['questions_total']), q_total, left_index=True, right_index=True)"
   ]
  },
  {
   "cell_type": "code",
   "execution_count": 3,
   "metadata": {},
   "outputs": [
    {
     "data": {
      "text/html": [
       "<div>\n",
       "<style scoped>\n",
       "    .dataframe tbody tr th:only-of-type {\n",
       "        vertical-align: middle;\n",
       "    }\n",
       "\n",
       "    .dataframe tbody tr th {\n",
       "        vertical-align: top;\n",
       "    }\n",
       "\n",
       "    .dataframe thead th {\n",
       "        text-align: right;\n",
       "    }\n",
       "</style>\n",
       "<table border=\"1\" class=\"dataframe\">\n",
       "  <thead>\n",
       "    <tr style=\"text-align: right;\">\n",
       "      <th></th>\n",
       "      <th>name</th>\n",
       "      <th>town</th>\n",
       "      <th>long_name</th>\n",
       "      <th>date_start</th>\n",
       "      <th>date_end</th>\n",
       "      <th>tour_count</th>\n",
       "      <th>tour_questions</th>\n",
       "      <th>tour_ques_per_tour</th>\n",
       "      <th>type_name</th>\n",
       "      <th>main_payment_value</th>\n",
       "      <th>discounted_payment_value</th>\n",
       "      <th>discounted_payment_reason</th>\n",
       "      <th>date_requests_allowed_to</th>\n",
       "      <th>comment</th>\n",
       "      <th>site_url</th>\n",
       "      <th>main_payment_currency</th>\n",
       "      <th>discounted_payment_currency</th>\n",
       "      <th>questions_total</th>\n",
       "    </tr>\n",
       "    <tr>\n",
       "      <th>idtournament</th>\n",
       "      <th></th>\n",
       "      <th></th>\n",
       "      <th></th>\n",
       "      <th></th>\n",
       "      <th></th>\n",
       "      <th></th>\n",
       "      <th></th>\n",
       "      <th></th>\n",
       "      <th></th>\n",
       "      <th></th>\n",
       "      <th></th>\n",
       "      <th></th>\n",
       "      <th></th>\n",
       "      <th></th>\n",
       "      <th></th>\n",
       "      <th></th>\n",
       "      <th></th>\n",
       "      <th></th>\n",
       "    </tr>\n",
       "  </thead>\n",
       "  <tbody>\n",
       "    <tr>\n",
       "      <th>2</th>\n",
       "      <td>Летние зори</td>\n",
       "      <td>Саранск</td>\n",
       "      <td>NaN</td>\n",
       "      <td>2003-08-09 00:00:00</td>\n",
       "      <td>2003-08-09 00:00:00</td>\n",
       "      <td>3.0</td>\n",
       "      <td>15.0</td>\n",
       "      <td>NaN</td>\n",
       "      <td>Обычный</td>\n",
       "      <td>NaN</td>\n",
       "      <td>NaN</td>\n",
       "      <td>NaN</td>\n",
       "      <td>NaN</td>\n",
       "      <td>NaN</td>\n",
       "      <td>NaN</td>\n",
       "      <td>NaN</td>\n",
       "      <td>NaN</td>\n",
       "      <td>15.0</td>\n",
       "    </tr>\n",
       "  </tbody>\n",
       "</table>\n",
       "</div>"
      ],
      "text/plain": [
       "                     name     town long_name           date_start  \\\n",
       "idtournament                                                        \n",
       "2             Летние зори  Саранск       NaN  2003-08-09 00:00:00   \n",
       "\n",
       "                         date_end  tour_count  tour_questions  \\\n",
       "idtournament                                                    \n",
       "2             2003-08-09 00:00:00         3.0            15.0   \n",
       "\n",
       "             tour_ques_per_tour type_name  main_payment_value  \\\n",
       "idtournament                                                    \n",
       "2                           NaN   Обычный                 NaN   \n",
       "\n",
       "              discounted_payment_value discounted_payment_reason  \\\n",
       "idtournament                                                       \n",
       "2                                  NaN                       NaN   \n",
       "\n",
       "             date_requests_allowed_to comment site_url main_payment_currency  \\\n",
       "idtournament                                                                   \n",
       "2                                 NaN     NaN      NaN                   NaN   \n",
       "\n",
       "             discounted_payment_currency  questions_total  \n",
       "idtournament                                               \n",
       "2                                    NaN             15.0  "
      ]
     },
     "execution_count": 3,
     "metadata": {},
     "output_type": "execute_result"
    }
   ],
   "source": [
    "tournaments.head(1)"
   ]
  },
  {
   "cell_type": "code",
   "execution_count": 4,
   "metadata": {},
   "outputs": [
    {
     "data": {
      "text/html": [
       "<div>\n",
       "<style scoped>\n",
       "    .dataframe tbody tr th:only-of-type {\n",
       "        vertical-align: middle;\n",
       "    }\n",
       "\n",
       "    .dataframe tbody tr th {\n",
       "        vertical-align: top;\n",
       "    }\n",
       "\n",
       "    .dataframe thead th {\n",
       "        text-align: right;\n",
       "    }\n",
       "</style>\n",
       "<table border=\"1\" class=\"dataframe\">\n",
       "  <thead>\n",
       "    <tr style=\"text-align: right;\">\n",
       "      <th></th>\n",
       "      <th>idteam</th>\n",
       "      <th>current_name</th>\n",
       "      <th>base_name</th>\n",
       "      <th>position</th>\n",
       "      <th>questions_total</th>\n",
       "      <th>mask</th>\n",
       "      <th>bonus_a</th>\n",
       "      <th>bonus_b</th>\n",
       "      <th>tech_rating</th>\n",
       "      <th>predicted_position</th>\n",
       "      <th>d_bonus_a</th>\n",
       "      <th>d_bonus_b</th>\n",
       "      <th>d_diff_bonus</th>\n",
       "      <th>included_in_rating</th>\n",
       "      <th>idtournament</th>\n",
       "      <th>diff_bonus</th>\n",
       "    </tr>\n",
       "  </thead>\n",
       "  <tbody>\n",
       "    <tr>\n",
       "      <th>0</th>\n",
       "      <td>209</td>\n",
       "      <td>Команда Коваленко</td>\n",
       "      <td>Команда Коваленко</td>\n",
       "      <td>11.0</td>\n",
       "      <td>34</td>\n",
       "      <td>1111101000101111001100011000111101001111001110...</td>\n",
       "      <td>2230.0</td>\n",
       "      <td>-87.0</td>\n",
       "      <td>4509.0</td>\n",
       "      <td>7.0</td>\n",
       "      <td>2230</td>\n",
       "      <td>663</td>\n",
       "      <td>-87.0</td>\n",
       "      <td>1.0</td>\n",
       "      <td>3236</td>\n",
       "      <td>NaN</td>\n",
       "    </tr>\n",
       "    <tr>\n",
       "      <th>1</th>\n",
       "      <td>270</td>\n",
       "      <td>Синоп</td>\n",
       "      <td>Синоп</td>\n",
       "      <td>14.5</td>\n",
       "      <td>31</td>\n",
       "      <td>1110110000101100001100101101101101010011010000...</td>\n",
       "      <td>2189.0</td>\n",
       "      <td>119.0</td>\n",
       "      <td>2567.0</td>\n",
       "      <td>20.0</td>\n",
       "      <td>2189</td>\n",
       "      <td>618</td>\n",
       "      <td>119.0</td>\n",
       "      <td>1.0</td>\n",
       "      <td>3236</td>\n",
       "      <td>NaN</td>\n",
       "    </tr>\n",
       "  </tbody>\n",
       "</table>\n",
       "</div>"
      ],
      "text/plain": [
       "   idteam       current_name          base_name  position  questions_total  \\\n",
       "0     209  Команда Коваленко  Команда Коваленко      11.0               34   \n",
       "1     270              Синоп              Синоп      14.5               31   \n",
       "\n",
       "                                                mask  bonus_a  bonus_b  \\\n",
       "0  1111101000101111001100011000111101001111001110...   2230.0    -87.0   \n",
       "1  1110110000101100001100101101101101010011010000...   2189.0    119.0   \n",
       "\n",
       "   tech_rating  predicted_position  d_bonus_a  d_bonus_b  d_diff_bonus  \\\n",
       "0       4509.0                 7.0       2230        663         -87.0   \n",
       "1       2567.0                20.0       2189        618         119.0   \n",
       "\n",
       "   included_in_rating  idtournament  diff_bonus  \n",
       "0                 1.0          3236         NaN  \n",
       "1                 1.0          3236         NaN  "
      ]
     },
     "execution_count": 4,
     "metadata": {},
     "output_type": "execute_result"
    }
   ],
   "source": [
    "results.head(2)"
   ]
  },
  {
   "cell_type": "code",
   "execution_count": 5,
   "metadata": {},
   "outputs": [
    {
     "data": {
      "text/html": [
       "<div>\n",
       "<style scoped>\n",
       "    .dataframe tbody tr th:only-of-type {\n",
       "        vertical-align: middle;\n",
       "    }\n",
       "\n",
       "    .dataframe tbody tr th {\n",
       "        vertical-align: top;\n",
       "    }\n",
       "\n",
       "    .dataframe thead th {\n",
       "        text-align: right;\n",
       "    }\n",
       "</style>\n",
       "<table border=\"1\" class=\"dataframe\">\n",
       "  <thead>\n",
       "    <tr style=\"text-align: right;\">\n",
       "      <th></th>\n",
       "      <th>is_captain</th>\n",
       "      <th>is_base</th>\n",
       "      <th>is_foreign</th>\n",
       "      <th>idteam</th>\n",
       "      <th>idtournament</th>\n",
       "    </tr>\n",
       "    <tr>\n",
       "      <th>idplayer</th>\n",
       "      <th></th>\n",
       "      <th></th>\n",
       "      <th></th>\n",
       "      <th></th>\n",
       "      <th></th>\n",
       "    </tr>\n",
       "  </thead>\n",
       "  <tbody>\n",
       "    <tr>\n",
       "      <th>19298</th>\n",
       "      <td>1</td>\n",
       "      <td>1</td>\n",
       "      <td>0</td>\n",
       "      <td>209</td>\n",
       "      <td>3236</td>\n",
       "    </tr>\n",
       "  </tbody>\n",
       "</table>\n",
       "</div>"
      ],
      "text/plain": [
       "          is_captain  is_base  is_foreign  idteam  idtournament\n",
       "idplayer                                                       \n",
       "19298              1        1           0     209          3236"
      ]
     },
     "execution_count": 5,
     "metadata": {},
     "output_type": "execute_result"
    }
   ],
   "source": [
    "roster.head(1)"
   ]
  },
  {
   "cell_type": "code",
   "execution_count": 6,
   "metadata": {},
   "outputs": [
    {
     "data": {
      "text/html": [
       "<div>\n",
       "<style scoped>\n",
       "    .dataframe tbody tr th:only-of-type {\n",
       "        vertical-align: middle;\n",
       "    }\n",
       "\n",
       "    .dataframe tbody tr th {\n",
       "        vertical-align: top;\n",
       "    }\n",
       "\n",
       "    .dataframe thead th {\n",
       "        text-align: right;\n",
       "    }\n",
       "</style>\n",
       "<table border=\"1\" class=\"dataframe\">\n",
       "  <thead>\n",
       "    <tr style=\"text-align: right;\">\n",
       "      <th></th>\n",
       "      <th>is_captain</th>\n",
       "      <th>is_base</th>\n",
       "      <th>is_foreign</th>\n",
       "      <th>idteam</th>\n",
       "      <th>idtournament</th>\n",
       "      <th>skill</th>\n",
       "    </tr>\n",
       "    <tr>\n",
       "      <th>idplayer</th>\n",
       "      <th></th>\n",
       "      <th></th>\n",
       "      <th></th>\n",
       "      <th></th>\n",
       "      <th></th>\n",
       "      <th></th>\n",
       "    </tr>\n",
       "  </thead>\n",
       "  <tbody>\n",
       "    <tr>\n",
       "      <th>19298</th>\n",
       "      <td>1</td>\n",
       "      <td>1</td>\n",
       "      <td>0</td>\n",
       "      <td>209</td>\n",
       "      <td>3236</td>\n",
       "      <td>0.981719</td>\n",
       "    </tr>\n",
       "  </tbody>\n",
       "</table>\n",
       "</div>"
      ],
      "text/plain": [
       "          is_captain  is_base  is_foreign  idteam  idtournament     skill\n",
       "idplayer                                                                 \n",
       "19298              1        1           0     209          3236  0.981719"
      ]
     },
     "execution_count": 6,
     "metadata": {},
     "output_type": "execute_result"
    }
   ],
   "source": [
    "def skill_init():\n",
    "    return random.uniform(0, 10)\n",
    "roster.loc[:, 'skill'] = None\n",
    "roster.loc[:, 'skill'] = roster.loc[:, 'skill'].apply(lambda x: skill_init())\n",
    "roster.head(1)\n",
    "# player_skills_dict = {id: skill_init() for id in roster.idplayer}\n",
    "# pd.DataFrame(player_skills_dict, index=[0]).T.head()"
   ]
  },
  {
   "cell_type": "code",
   "execution_count": 7,
   "metadata": {},
   "outputs": [
    {
     "data": {
      "text/html": [
       "<div>\n",
       "<style scoped>\n",
       "    .dataframe tbody tr th:only-of-type {\n",
       "        vertical-align: middle;\n",
       "    }\n",
       "\n",
       "    .dataframe tbody tr th {\n",
       "        vertical-align: top;\n",
       "    }\n",
       "\n",
       "    .dataframe thead th {\n",
       "        text-align: right;\n",
       "    }\n",
       "</style>\n",
       "<table border=\"1\" class=\"dataframe\">\n",
       "  <thead>\n",
       "    <tr style=\"text-align: right;\">\n",
       "      <th></th>\n",
       "      <th>0</th>\n",
       "    </tr>\n",
       "  </thead>\n",
       "  <tbody>\n",
       "    <tr>\n",
       "      <th>2_0</th>\n",
       "      <td>2.699001</td>\n",
       "    </tr>\n",
       "    <tr>\n",
       "      <th>2_1</th>\n",
       "      <td>1.127561</td>\n",
       "    </tr>\n",
       "    <tr>\n",
       "      <th>2_2</th>\n",
       "      <td>7.292661</td>\n",
       "    </tr>\n",
       "    <tr>\n",
       "      <th>2_3</th>\n",
       "      <td>5.025678</td>\n",
       "    </tr>\n",
       "    <tr>\n",
       "      <th>2_4</th>\n",
       "      <td>0.829616</td>\n",
       "    </tr>\n",
       "  </tbody>\n",
       "</table>\n",
       "</div>"
      ],
      "text/plain": [
       "            0\n",
       "2_0  2.699001\n",
       "2_1  1.127561\n",
       "2_2  7.292661\n",
       "2_3  5.025678\n",
       "2_4  0.829616"
      ]
     },
     "execution_count": 7,
     "metadata": {},
     "output_type": "execute_result"
    }
   ],
   "source": [
    "def difficulty_init():\n",
    "    return random.uniform(0, 10)\n",
    "question_difficulty = {f\"{str(tourn)}_{str(ques)}\": difficulty_init() for tourn in tournaments.index \n",
    "                       for ques in range(int(tournaments.loc[tourn, 'questions_total']))}\n",
    "pd.DataFrame(question_difficulty, index=[0]).T.head()"
   ]
  },
  {
   "cell_type": "code",
   "execution_count": 8,
   "metadata": {},
   "outputs": [],
   "source": [
    "def sigmoid(x):\n",
    "    return 1 / (1 + pd.np.exp(-x))    "
   ]
  },
  {
   "cell_type": "markdown",
   "metadata": {},
   "source": [
    "**Model**<br>\n",
    "$p(y=1| S_{team}, \\theta) = \\sigma(S_{team} - \\theta)$ <br>\n",
    "$S_{team}$ - team skill<br>\n",
    "$S_{team} = S_{player\\_1} + S_{player\\_2} + ... + S_{player\\_N}$<br>\n",
    "$\\theta_j$ - difficulty of question j<br>\n",
    "y - team answer, 1 for correct, 2 for incorrect<br>\n",
    "$p(y_{hat}=y_{real}| S_{team}, \\theta) = \\sigma(S_{team} - \\theta)^{y_{real}} * (1-\\sigma(S_{team} - \\theta))^{(1-y_{real})}$<br>\n",
    "<br>\n",
    "$LikelyHood = \\frac{1}{N}\\prod_{i=1}^{N} p(y_{hat\\_i}=y_{real\\_i}| S_{team}, \\theta)$<br>\n",
    "$log(LikelyHood) = LL = \\frac{1}{N}\\sum_{i=1}^{N} log(p(y_{hat\\_i}=y_{real\\_i}| S_{team}, \\theta))=\n",
    "y_{real}*log(\\sigma(S_{team} - \\theta)) + (1-y_{real})* log(1-\\sigma(S_{team} - \\theta))$<br>\n",
    "<br>\n",
    "$-log(LikelyHood) \\rightarrow min$ w.r.t. $S_{player\\_i}$ and $\\theta_j$"
   ]
  },
  {
   "cell_type": "markdown",
   "metadata": {},
   "source": [
    "**Derivatives:**\n",
    "\n",
    "$\\sigma'(x) = \\sigma(x)*(1-\\sigma(x))$\n",
    "\n",
    "$\\frac{\\partial LL}{\\partial \\theta} = \\frac{y_{real}}{\\sigma(S_{team} - \\theta)} * \\sigma'(S_{team} - \\theta) * (-1) +\n",
    "\\frac{1-y_{real}}{1-\\sigma(S_{team} - \\theta)} * (-\\sigma'(S_{team} - \\theta)) * (-1) = \n",
    "-y_{real}*(1-\\sigma(S_{team} - \\theta)) + (1-y_{real})*\\sigma(S_{team} - \\theta)\n",
    "$<br>\n",
    "\n",
    "$\\frac{\\partial LL}{\\partial S_i} = \\frac{y_{real}}{\\sigma(S_{team} - \\theta)} * \\sigma'(S_{team} - \\theta) +\n",
    "\\frac{1-y_{real}}{1-\\sigma(S_{team} - \\theta)} * (-\\sigma'(S_{team} - \\theta)) = \n",
    "y_{real}*(1-\\sigma(S_{team} - \\theta)) - (1-y_{real})*\\sigma(S_{team} - \\theta)$<br>\n"
   ]
  },
  {
   "cell_type": "markdown",
   "metadata": {},
   "source": [
    "**Short derivatives:**\n",
    "\n",
    "$\\frac{\\partial -LL}{\\partial \\theta} = +y_{real}*(1-\\sigma(S_{team} - \\theta)) - (1-y_{real})*\\sigma(S_{team} - \\theta)\n",
    "$<br>\n",
    "\n",
    "$\\frac{\\partial -LL}{\\partial S_i} = -y_{real}*(1-\\sigma(S_{team} - \\theta)) + (1-y_{real})*\\sigma(S_{team} - \\theta)$<br>\n"
   ]
  },
  {
   "cell_type": "markdown",
   "metadata": {},
   "source": [
    "**Gradient update**<br>\n",
    "$S_{i\\_new} = S_{i\\_old} - learning\\_rate * \\frac{\\partial LL}{\\partial S_i}$<br>\n",
    "$\\theta_{new} = \\theta_{old} - learning\\_rate * \\frac{\\partial LL}{\\partial \\theta}$<br>"
   ]
  },
  {
   "cell_type": "code",
   "execution_count": 9,
   "metadata": {},
   "outputs": [],
   "source": [
    "from tqdm import tqdm"
   ]
  },
  {
   "cell_type": "code",
   "execution_count": 14,
   "metadata": {},
   "outputs": [],
   "source": [
    "def gd(lr=0.01, epochs=10, steps_per_tour = 10):\n",
    "    fails=0\n",
    "    fail_list = []\n",
    "    for _ in tqdm(range(epochs)):\n",
    "        # get random tournament, team and question\n",
    "#         tour = random.sample(results.idtournament.unique().tolist(), 1)[0]\n",
    "        tour = random.sample(tournaments.index.tolist(), 1)[0]\n",
    "        t_subset = results.loc[results.idtournament == tour, ['idteam', 'mask']]\n",
    "#         for _ in tqdm(range(steps_per_tour)):\n",
    "        for _ in range(steps_per_tour):\n",
    "            team = random.sample(t_subset.idteam.tolist(), 1)[0]\n",
    "            players = roster.loc[(roster.idteam == team) & (roster.idtournament == tour), :].index.tolist()\n",
    "            quest = random.randint(0, int(tournaments.loc[tour, 'questions_total'])-1)\n",
    "\n",
    "            # get question difficulty\n",
    "            quest_dif_key = f\"{str(tour)}_{str(quest)}\"\n",
    "            try:\n",
    "                difficulty = question_difficulty[quest_dif_key]\n",
    "            except:\n",
    "                fails+=1\n",
    "                fail_list.append(quest_dif_key)\n",
    "                continue\n",
    "\n",
    "            # calculate team skill and sigmoid\n",
    "#             skills = [player_skills_dict[player] for player in players]\n",
    "            skills = roster.loc[(roster.index.isin(players)) &\n",
    "                                (roster.idteam == team) &\n",
    "                                (roster.idtournament == tour), 'skill'].tolist()\n",
    "            team_skill = sum(skills)\n",
    "            team_sigmoid = sigmoid(team_skill - difficulty)\n",
    "\n",
    "            # get y (1 for correct answer, 0 for incorrect)\n",
    "            y_true = int(t_subset.loc[t_subset.idteam == team, 'mask'].values[0][quest])\n",
    "\n",
    "            # weights update\n",
    "            question_difficulty[quest_dif_key] -= lr * (y_true * (1-team_sigmoid) - (1-y_true)*team_sigmoid)\n",
    "            roster.loc[players, ]\n",
    "#             for player in players:\n",
    "#                 player_skills_dict[player] -= lr * (-y_true * (1-team_sigmoid) + (1-y_true)*team_sigmoid)\n",
    "    print(f\"Fails: {fails}\")\n",
    "    return fail_list"
   ]
  },
  {
   "cell_type": "code",
   "execution_count": 15,
   "metadata": {},
   "outputs": [
    {
     "name": "stderr",
     "output_type": "stream",
     "text": [
      "  0%|          | 0/10000 [00:00<?, ?it/s]\n"
     ]
    },
    {
     "ename": "NameError",
     "evalue": "name 'player_skills_dict' is not defined",
     "output_type": "error",
     "traceback": [
      "\u001b[1;31m---------------------------------------------------------------------------\u001b[0m",
      "\u001b[1;31mNameError\u001b[0m                                 Traceback (most recent call last)",
      "\u001b[1;32m<ipython-input-15-0621bcd96838>\u001b[0m in \u001b[0;36m<module>\u001b[1;34m\u001b[0m\n\u001b[1;32m----> 1\u001b[1;33m \u001b[0mfl\u001b[0m \u001b[1;33m=\u001b[0m \u001b[0mgd\u001b[0m\u001b[1;33m(\u001b[0m\u001b[0mepochs\u001b[0m\u001b[1;33m=\u001b[0m\u001b[1;36m10000\u001b[0m\u001b[1;33m,\u001b[0m \u001b[0msteps_per_tour\u001b[0m \u001b[1;33m=\u001b[0m \u001b[1;36m100\u001b[0m\u001b[1;33m)\u001b[0m\u001b[1;33m\u001b[0m\u001b[1;33m\u001b[0m\u001b[0m\n\u001b[0m",
      "\u001b[1;32m<ipython-input-14-2f77b9d515b7>\u001b[0m in \u001b[0;36mgd\u001b[1;34m(lr, epochs, steps_per_tour)\u001b[0m\n\u001b[0;32m     36\u001b[0m             \u001b[0mquestion_difficulty\u001b[0m\u001b[1;33m[\u001b[0m\u001b[0mquest_dif_key\u001b[0m\u001b[1;33m]\u001b[0m \u001b[1;33m-=\u001b[0m \u001b[0mlr\u001b[0m \u001b[1;33m*\u001b[0m \u001b[1;33m(\u001b[0m\u001b[0my_true\u001b[0m \u001b[1;33m*\u001b[0m \u001b[1;33m(\u001b[0m\u001b[1;36m1\u001b[0m\u001b[1;33m-\u001b[0m\u001b[0mteam_sigmoid\u001b[0m\u001b[1;33m)\u001b[0m \u001b[1;33m-\u001b[0m \u001b[1;33m(\u001b[0m\u001b[1;36m1\u001b[0m\u001b[1;33m-\u001b[0m\u001b[0my_true\u001b[0m\u001b[1;33m)\u001b[0m\u001b[1;33m*\u001b[0m\u001b[0mteam_sigmoid\u001b[0m\u001b[1;33m)\u001b[0m\u001b[1;33m\u001b[0m\u001b[1;33m\u001b[0m\u001b[0m\n\u001b[0;32m     37\u001b[0m             \u001b[1;32mfor\u001b[0m \u001b[0mplayer\u001b[0m \u001b[1;32min\u001b[0m \u001b[0mplayers\u001b[0m\u001b[1;33m:\u001b[0m\u001b[1;33m\u001b[0m\u001b[1;33m\u001b[0m\u001b[0m\n\u001b[1;32m---> 38\u001b[1;33m                 \u001b[0mplayer_skills_dict\u001b[0m\u001b[1;33m[\u001b[0m\u001b[0mplayer\u001b[0m\u001b[1;33m]\u001b[0m \u001b[1;33m-=\u001b[0m \u001b[0mlr\u001b[0m \u001b[1;33m*\u001b[0m \u001b[1;33m(\u001b[0m\u001b[1;33m-\u001b[0m\u001b[0my_true\u001b[0m \u001b[1;33m*\u001b[0m \u001b[1;33m(\u001b[0m\u001b[1;36m1\u001b[0m\u001b[1;33m-\u001b[0m\u001b[0mteam_sigmoid\u001b[0m\u001b[1;33m)\u001b[0m \u001b[1;33m+\u001b[0m \u001b[1;33m(\u001b[0m\u001b[1;36m1\u001b[0m\u001b[1;33m-\u001b[0m\u001b[0my_true\u001b[0m\u001b[1;33m)\u001b[0m\u001b[1;33m*\u001b[0m\u001b[0mteam_sigmoid\u001b[0m\u001b[1;33m)\u001b[0m\u001b[1;33m\u001b[0m\u001b[1;33m\u001b[0m\u001b[0m\n\u001b[0m\u001b[0;32m     39\u001b[0m     \u001b[0mprint\u001b[0m\u001b[1;33m(\u001b[0m\u001b[1;34mf\"Fails: {fails}\"\u001b[0m\u001b[1;33m)\u001b[0m\u001b[1;33m\u001b[0m\u001b[1;33m\u001b[0m\u001b[0m\n\u001b[0;32m     40\u001b[0m     \u001b[1;32mreturn\u001b[0m \u001b[0mfail_list\u001b[0m\u001b[1;33m\u001b[0m\u001b[1;33m\u001b[0m\u001b[0m\n",
      "\u001b[1;31mNameError\u001b[0m: name 'player_skills_dict' is not defined"
     ]
    }
   ],
   "source": [
    "fl = gd(epochs=10000, steps_per_tour = 100)"
   ]
  },
  {
   "cell_type": "code",
   "execution_count": null,
   "metadata": {},
   "outputs": [],
   "source": [
    "fl\n"
   ]
  },
  {
   "cell_type": "code",
   "execution_count": null,
   "metadata": {},
   "outputs": [],
   "source": [
    "question_difficulty['450_13']"
   ]
  },
  {
   "cell_type": "code",
   "execution_count": null,
   "metadata": {},
   "outputs": [],
   "source": [
    "results.loc[results.idtournament==450, 'mask'].str[0]"
   ]
  }
 ],
 "metadata": {
  "kernelspec": {
   "display_name": "Python 3",
   "language": "python",
   "name": "python3"
  },
  "language_info": {
   "codemirror_mode": {
    "name": "ipython",
    "version": 3
   },
   "file_extension": ".py",
   "mimetype": "text/x-python",
   "name": "python",
   "nbconvert_exporter": "python",
   "pygments_lexer": "ipython3",
   "version": "3.7.3"
  }
 },
 "nbformat": 4,
 "nbformat_minor": 2
}
